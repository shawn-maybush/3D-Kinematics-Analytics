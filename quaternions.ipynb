{
  "cells": [
    {
      "cell_type": "markdown",
      "metadata": {
        "id": "view-in-github",
        "colab_type": "text"
      },
      "source": [
        "<a href=\"https://colab.research.google.com/github/shawn-maybush/3D-Kinematics-Analytics/blob/main/quaternions.ipynb\" target=\"_parent\"><img src=\"https://colab.research.google.com/assets/colab-badge.svg\" alt=\"Open In Colab\"/></a>"
      ]
    },
    {
      "cell_type": "markdown",
      "id": "NXiKzlCWYjvo",
      "metadata": {
        "id": "NXiKzlCWYjvo"
      },
      "source": [
        "#Inverse Kinematics with Dual Quaternions\n",
        "\n"
      ]
    },
    {
      "cell_type": "markdown",
      "id": "ZWOb4JJ1ZX9e",
      "metadata": {
        "id": "ZWOb4JJ1ZX9e"
      },
      "source": [
        "# Set Up"
      ]
    },
    {
      "cell_type": "markdown",
      "id": "YjVu9KKYrngv",
      "metadata": {
        "id": "YjVu9KKYrngv"
      },
      "source": [
        "##System Check"
      ]
    },
    {
      "cell_type": "code",
      "execution_count": null,
      "id": "TTnONek5m72o",
      "metadata": {
        "colab": {
          "base_uri": "https://localhost:8080/"
        },
        "id": "TTnONek5m72o",
        "outputId": "b8266f60-e96e-4c23-a663-1f9b504a5a5b"
      },
      "outputs": [
        {
          "output_type": "stream",
          "name": "stdout",
          "text": [
            "Number of CPU:  8\n",
            "==================== Memory Usage ====================\n",
            "total 54754004992\n",
            "available 53459963904\n",
            "percent 2.4\n",
            "used 703270912\n",
            "free 49761075200\n",
            "active 461058048\n",
            "inactive 4160331776\n",
            "buffers 253337600\n",
            "cached 4036321280\n",
            "shared 1536000\n",
            "slab 191172608\n",
            "==================== CPU Usage ====================\n",
            "CPU percent: 12.5%\n"
          ]
        }
      ],
      "source": [
        "from psutil import *\n",
        "# This code will return the number of CPU\n",
        "print(\"Number of CPU: \", cpu_count())\n",
        "# This code will return the CPU info\n",
        "import psutil\n",
        "split_bar = '='*20\n",
        "memory_info = psutil.virtual_memory()._asdict()\n",
        "print(f\"{split_bar} Memory Usage {split_bar}\")\n",
        "for k,v in memory_info.items():\n",
        "  print(k, v)\n",
        "print(f\"{split_bar} CPU Usage {split_bar}\")\n",
        "print(f\"CPU percent: {psutil.cpu_percent()}%\")"
      ]
    },
    {
      "cell_type": "markdown",
      "id": "Sf40eo3wY0is",
      "metadata": {
        "id": "Sf40eo3wY0is"
      },
      "source": [
        "##Define Forward Kinematics"
      ]
    },
    {
      "cell_type": "code",
      "execution_count": null,
      "id": "5a5edbb6-27b3-4467-bd70-a6f144c723f9",
      "metadata": {
        "id": "5a5edbb6-27b3-4467-bd70-a6f144c723f9"
      },
      "outputs": [],
      "source": [
        "import sympy\n",
        "from math import pi, sqrt, degrees, radians\n",
        "import numpy as np\n",
        "from IPython.display import display, Math\n",
        "import altair as alt\n",
        "import pandas as pd\n",
        "import ipyparallel as ipp\n",
        "from sympy.simplify.radsimp import collect_sqrt"
      ]
    },
    {
      "cell_type": "code",
      "source": [
        "cluster = ipp.Cluster(n=8)\n",
        "rc = cluster.start_and_connect_sync()\n",
        "dv = rc[:]\n",
        "lv = rc.load_balanced_view()"
      ],
      "metadata": {
        "colab": {
          "base_uri": "https://localhost:8080/",
          "height": 66,
          "referenced_widgets": [
            "6dd19f16e8094e959cbc446f82b577dc",
            "abb98d6f7ca94b999bb5000d74b5afde",
            "372328d6eedc499ea3bfa6548f40fa3a",
            "9001679ba208482ea362faa76a6466cc",
            "0e320817a73146fc81cd2588e9aebce3",
            "ff0b6f011de34242ae9eafcf2686ddf1",
            "b8d2759683134b50aefe422b09e878da",
            "541de5833e9f4dec830a992a95eda164",
            "08dc2e068f3249e388343fe6cc7f81ea",
            "c0fa7f94ef9143298024550b15a24de2",
            "365db6c8baa24f84903067dde3003d45"
          ]
        },
        "id": "cIT4yfQ6GZ_4",
        "outputId": "391c791c-a8b8-4a7b-a333-3e1519628f0b"
      },
      "id": "cIT4yfQ6GZ_4",
      "execution_count": null,
      "outputs": [
        {
          "output_type": "stream",
          "name": "stdout",
          "text": [
            "Starting 8 engines with <class 'ipyparallel.cluster.launcher.LocalEngineSetLauncher'>\n"
          ]
        },
        {
          "output_type": "display_data",
          "data": {
            "text/plain": [
              "  0%|          | 0/8 [00:00<?, ?engine/s]"
            ],
            "application/vnd.jupyter.widget-view+json": {
              "version_major": 2,
              "version_minor": 0,
              "model_id": "6dd19f16e8094e959cbc446f82b577dc"
            }
          },
          "metadata": {}
        }
      ]
    },
    {
      "cell_type": "code",
      "source": [
        "with rc[:].sync_imports():\n",
        "  import sympy\n",
        "  from math import pi, sqrt, degrees, radians\n",
        "  import numpy\n",
        "  from IPython.display import display, Math\n",
        "  import altair\n",
        "  import pandas\n",
        "  from sympy.simplify.radsimp import collect_sqrt"
      ],
      "metadata": {
        "colab": {
          "base_uri": "https://localhost:8080/"
        },
        "id": "uuZrCpUfIWht",
        "outputId": "fbd051ec-dca1-4548-e96d-f2eef2467c1a"
      },
      "id": "uuZrCpUfIWht",
      "execution_count": null,
      "outputs": [
        {
          "output_type": "stream",
          "name": "stdout",
          "text": [
            "importing sympy on engine(s)\n",
            "importing pi,sqrt,degrees,radians from math on engine(s)\n",
            "importing numpy on engine(s)\n",
            "importing display,Math from IPython.display on engine(s)\n",
            "importing altair on engine(s)\n",
            "importing pandas on engine(s)\n",
            "importing collect_sqrt from sympy.simplify.radsimp on engine(s)\n"
          ]
        }
      ]
    },
    {
      "cell_type": "code",
      "source": [
        "def q_piecewise_simplify(q):\n",
        "    q_scalar = q.scalar_part()\n",
        "    q_vector = q.to_Matrix(vector_only=True).T.tolist()\n",
        "    all = [q_scalar] + q_vector[0]\n",
        "    all = lv.map_sync(lambda x: sympy.simplify(x), all)\n",
        "    result = sympy.Quaternion(*all)\n",
        "    return result\n",
        "\n",
        "def q_piecewise_expand(q):\n",
        "    q_scalar = q.scalar_part()\n",
        "    q_vector = q.to_Matrix(vector_only=True).T.tolist()\n",
        "    all = [q_scalar] + q_vector[0]\n",
        "    all = lv.map_sync(lambda x: sympy.expand(x), all)\n",
        "    result = sympy.Quaternion(*all)\n",
        "    return result\n",
        "\n",
        "def q_piecewise_trigsimp(q):\n",
        "    q_scalar = q.scalar_part()\n",
        "    q_vector = q.to_Matrix(vector_only=True).T.tolist()\n",
        "    all = [q_scalar] + q_vector[0]\n",
        "    all = lv.map_sync(lambda x: sympy.trigsimp(x), all)\n",
        "    result = sympy.Quaternion(*all)\n",
        "    return result\n",
        "\n",
        "def q_piecewise_collect_sqrt(q):\n",
        "    q_scalar = q.scalar_part()\n",
        "    q_vector = q.to_Matrix(vector_only=True).T.tolist()\n",
        "    all = [q_scalar] + q_vector[0]\n",
        "    all = lv.map_sync(lambda x: collect_sqrt(x), all)\n",
        "    result = sympy.Quaternion(*all)\n",
        "    return result\n",
        "\n",
        "def q_piecewise_cancel(q):\n",
        "    q_scalar = q.scalar_part()\n",
        "    q_vector = q.to_Matrix(vector_only=True).T.tolist()\n",
        "    all = [q_scalar] + q_vector[0]\n",
        "    all = lv.map_sync(lambda x: sympy.cancel(x), all)\n",
        "    result = sympy.Quaternion(*all)\n",
        "    return result\n",
        "\n",
        "def q_piecewise_expand_log(q):\n",
        "    q_scalar = q.scalar_part()\n",
        "    q_vector = q.to_Matrix(vector_only=True).T.tolist()\n",
        "    all = [q_scalar] + q_vector[0]\n",
        "    all = lv.map_sync(lambda x: sympy.expand_log(x), all)\n",
        "    result = sympy.Quaternion(*all)\n",
        "    return result"
      ],
      "metadata": {
        "id": "2ypzLqBjmj1t"
      },
      "id": "2ypzLqBjmj1t",
      "execution_count": null,
      "outputs": []
    },
    {
      "cell_type": "code",
      "execution_count": null,
      "id": "2VtL7PiU83ls",
      "metadata": {
        "id": "2VtL7PiU83ls"
      },
      "outputs": [],
      "source": [
        "def dualq_piecewise_simplify(dq):\n",
        "\n",
        "  r = dq[0]\n",
        "  d = dq[1]\n",
        "  r_scalar = r.scalar_part()\n",
        "  r_vector = r.to_Matrix(vector_only=True).T.tolist()\n",
        "\n",
        "  r_list = [r_scalar] + r_vector[0]\n",
        "\n",
        "  d_scalar = d.scalar_part()\n",
        "  d_vector = d.to_Matrix(vector_only=True).T.tolist()\n",
        "  d_list = [d_scalar] + d_vector[0]\n",
        "\n",
        "  all = r_list + d_list\n",
        "\n",
        "  all = lv.map_sync(lambda x: sympy.simplify(x), all)\n",
        "\n",
        "  real_part = sympy.Quaternion(*all[:4])\n",
        "  dual_part = sympy.Quaternion(*all[4:])\n",
        "\n",
        "  result = sympy.Matrix([real_part, dual_part])\n",
        "\n",
        "  return result\n",
        "\n",
        "def dualq_piecewise_expand(dq):\n",
        "\n",
        "  r = dq[0]\n",
        "  d = dq[1]\n",
        "  r_scalar = r.scalar_part()\n",
        "  r_vector = r.to_Matrix(vector_only=True).T.tolist()\n",
        "\n",
        "  r_list = [r_scalar] + r_vector[0]\n",
        "\n",
        "  d_scalar = d.scalar_part()\n",
        "  d_vector = d.to_Matrix(vector_only=True).T.tolist()\n",
        "  d_list = [d_scalar] + d_vector[0]\n",
        "\n",
        "  all = r_list + d_list\n",
        "\n",
        "  all = lv.map_sync(lambda x: sympy.expand(x, basic=True), all)\n",
        "\n",
        "  real_part = sympy.Quaternion(*all[:4])\n",
        "  dual_part = sympy.Quaternion(*all[4:])\n",
        "\n",
        "  result = sympy.Matrix([real_part, dual_part])\n",
        "\n",
        "  return result\n",
        "\n",
        "def dualq_piecewise_expand_trig(dq):\n",
        "\n",
        "  r = dq[0]\n",
        "  d = dq[1]\n",
        "  r_scalar = r.scalar_part()\n",
        "  r_vector = r.to_Matrix(vector_only=True).T.tolist()\n",
        "\n",
        "  r_list = [r_scalar] + r_vector[0]\n",
        "\n",
        "  d_scalar = d.scalar_part()\n",
        "  d_vector = d.to_Matrix(vector_only=True).T.tolist()\n",
        "  d_list = [d_scalar] + d_vector[0]\n",
        "\n",
        "  all = r_list + d_list\n",
        "\n",
        "  all = lv.map_sync(lambda x: sympy.expand_trig(x), all)\n",
        "\n",
        "  real_part = sympy.Quaternion(*all[:4])\n",
        "  dual_part = sympy.Quaternion(*all[4:])\n",
        "\n",
        "  result = sympy.Matrix([real_part, dual_part])\n",
        "\n",
        "  return result\n",
        "\n",
        "def dualq_piecewise_factor(dq):\n",
        "\n",
        "  r = dq[0]\n",
        "  d = dq[1]\n",
        "  r_scalar = r.scalar_part()\n",
        "  r_vector = r.to_Matrix(vector_only=True).T.tolist()\n",
        "\n",
        "  r_list = [r_scalar] + r_vector[0]\n",
        "\n",
        "  d_scalar = d.scalar_part()\n",
        "  d_vector = d.to_Matrix(vector_only=True).T.tolist()\n",
        "  d_list = [d_scalar] + d_vector[0]\n",
        "\n",
        "  all = r_list + d_list\n",
        "\n",
        "  all = lv.map_sync(lambda x: sympy.factor(x, deep=False), all)\n",
        "\n",
        "  real_part = sympy.Quaternion(*all[:4])\n",
        "  dual_part = sympy.Quaternion(*all[4:])\n",
        "\n",
        "  result = sympy.Matrix([real_part, dual_part])\n",
        "\n",
        "  return result\n",
        "\n",
        "\n",
        "def dualq_piecewise_trigsimp(dq):\n",
        "\n",
        "  r = dq[0]\n",
        "  d = dq[1]\n",
        "  r_scalar = r.scalar_part()\n",
        "  r_vector = r.to_Matrix(vector_only=True).T.tolist()\n",
        "\n",
        "  r_list = [r_scalar] + r_vector[0]\n",
        "\n",
        "  d_scalar = d.scalar_part()\n",
        "  d_vector = d.to_Matrix(vector_only=True).T.tolist()\n",
        "  d_list = [d_scalar] + d_vector[0]\n",
        "\n",
        "  all = r_list + d_list\n",
        "\n",
        "\n",
        "  all = lv.map_sync(lambda x: sympy.trigsimp(x), all)\n",
        "\n",
        "  real_part = sympy.Quaternion(*all[:4])\n",
        "  dual_part = sympy.Quaternion(*all[4:])\n",
        "\n",
        "  result = sympy.Matrix([real_part, dual_part])\n",
        "\n",
        "  return result\n",
        "\n",
        "def dualq_piecewise_cancel(dq):\n",
        "\n",
        "  r = dq[0]\n",
        "  d = dq[1]\n",
        "  r_scalar = r.scalar_part()\n",
        "  r_vector = r.to_Matrix(vector_only=True).T.tolist()\n",
        "\n",
        "  r_list = [r_scalar] + r_vector[0]\n",
        "\n",
        "  d_scalar = d.scalar_part()\n",
        "  d_vector = d.to_Matrix(vector_only=True).T.tolist()\n",
        "  d_list = [d_scalar] + d_vector[0]\n",
        "\n",
        "  all = r_list + d_list\n",
        "\n",
        "\n",
        "  all = lv.map_sync(lambda x: sympy.cancel(x), all)\n",
        "\n",
        "  real_part = sympy.Quaternion(*all[:4])\n",
        "  dual_part = sympy.Quaternion(*all[4:])\n",
        "\n",
        "  result = sympy.Matrix([real_part, dual_part])\n",
        "\n",
        "  return result\n",
        "\n",
        "def dualq_piecewise_collect_sqrt(dq):\n",
        "\n",
        "  r = dq[0]\n",
        "  d = dq[1]\n",
        "  r_scalar = r.scalar_part()\n",
        "  r_vector = r.to_Matrix(vector_only=True).T.tolist()\n",
        "\n",
        "  r_list = [r_scalar] + r_vector[0]\n",
        "\n",
        "  d_scalar = d.scalar_part()\n",
        "  d_vector = d.to_Matrix(vector_only=True).T.tolist()\n",
        "  d_list = [d_scalar] + d_vector[0]\n",
        "\n",
        "  all = r_list + d_list\n",
        "\n",
        "\n",
        "  all = lv.map_sync(lambda x: collect_sqrt(x), all)\n",
        "\n",
        "  real_part = sympy.Quaternion(*all[:4])\n",
        "  dual_part = sympy.Quaternion(*all[4:])\n",
        "\n",
        "  result = sympy.Matrix([real_part, dual_part])\n",
        "\n",
        "  return result\n",
        "\n",
        "def dualq_piecewise_separatevars(dq):\n",
        "\n",
        "  r = dq[0]\n",
        "  d = dq[1]\n",
        "  r_scalar = r.scalar_part()\n",
        "  r_vector = r.to_Matrix(vector_only=True).T.tolist()\n",
        "\n",
        "  r_list = [r_scalar] + r_vector[0]\n",
        "\n",
        "  d_scalar = d.scalar_part()\n",
        "  d_vector = d.to_Matrix(vector_only=True).T.tolist()\n",
        "  d_list = [d_scalar] + d_vector[0]\n",
        "\n",
        "  all = r_list + d_list\n",
        "\n",
        "\n",
        "  all = lv.map_sync(lambda x: sympy.separatevars(x), all)\n",
        "\n",
        "  real_part = sympy.Quaternion(*all[:4])\n",
        "  dual_part = sympy.Quaternion(*all[4:])\n",
        "\n",
        "  result = sympy.Matrix([real_part, dual_part])\n",
        "\n",
        "  return result\n",
        "\n",
        "def dualq_piecewise_collect(dq, c):\n",
        "\n",
        "  r = dq[0]\n",
        "  d = dq[1]\n",
        "  r_scalar = r.scalar_part()\n",
        "  r_vector = r.to_Matrix(vector_only=True).T.tolist()\n",
        "\n",
        "  r_list = [r_scalar] + r_vector[0]\n",
        "\n",
        "  d_scalar = d.scalar_part()\n",
        "  d_vector = d.to_Matrix(vector_only=True).T.tolist()\n",
        "  d_list = [d_scalar] + d_vector[0]\n",
        "\n",
        "  all = r_list + d_list\n",
        "\n",
        "\n",
        "  all = lv.map_sync(lambda x: sympy.collect(x, c), all)\n",
        "\n",
        "  real_part = sympy.Quaternion(*all[:4])\n",
        "  dual_part = sympy.Quaternion(*all[4:])\n",
        "\n",
        "  result = sympy.Matrix([real_part, dual_part])\n",
        "\n",
        "  return result\n",
        "\n",
        "def dualq_piecewise_sqrtdenest(dq):\n",
        "\n",
        "  r = dq[0]\n",
        "  d = dq[1]\n",
        "  r_scalar = r.scalar_part()\n",
        "  r_vector = r.to_Matrix(vector_only=True).T.tolist()\n",
        "\n",
        "  r_list = [r_scalar] + r_vector[0]\n",
        "\n",
        "  d_scalar = d.scalar_part()\n",
        "  d_vector = d.to_Matrix(vector_only=True).T.tolist()\n",
        "  d_list = [d_scalar] + d_vector[0]\n",
        "\n",
        "  all = r_list + d_list\n",
        "\n",
        "\n",
        "  all = lv.map_sync(lambda x: sympy.sqrtdenest(x), all)\n",
        "\n",
        "  real_part = sympy.Quaternion(*all[:4])\n",
        "  dual_part = sympy.Quaternion(*all[4:])\n",
        "\n",
        "  result = sympy.Matrix([real_part, dual_part])\n",
        "\n",
        "  return result"
      ]
    },
    {
      "cell_type": "code",
      "execution_count": null,
      "id": "59d88037-9462-4516-93ce-56cae158b0c1",
      "metadata": {
        "id": "59d88037-9462-4516-93ce-56cae158b0c1"
      },
      "outputs": [],
      "source": [
        "def dualq_mul(*args):\n",
        "\n",
        "\n",
        "    if len(args) < 2:\n",
        "        raise Exception(\"Need at least 2 dual quaternions to multiply\")\n",
        "\n",
        "    result = args[0]\n",
        "    for i in range(1, len(args)):\n",
        "\n",
        "        dq_i = args[i]\n",
        "\n",
        "        r1 = result[0]\n",
        "        d1 = result[1]\n",
        "\n",
        "        r2 = dq_i[0]\n",
        "        d2 = dq_i[1]\n",
        "\n",
        "        real_part = r1.mul(r2)\n",
        "        dual_part = r1.mul(d2).add(d1.mul(r2))\n",
        "\n",
        "        result = sympy.Matrix([real_part, dual_part])\n",
        "        result = dualq_piecewise_expand(result)\n",
        "\n",
        "    return result\n",
        "\n",
        "\n",
        "def q_from_axis_angle(axis, angle):\n",
        "\n",
        "  kappa_r = (sympy.series(sympy.sin(angle/2), angle, 0, 5).removeO()/angle)/sympy.sqrt(axis.dot(axis))\n",
        "\n",
        "  return sympy.Quaternion(sympy.cos(angle/2), *(kappa_r * axis))\n",
        "\n",
        "\n",
        "\n",
        "def q_dot_product(q1, q2):\n",
        "    q1_scalar = q1.scalar_part()\n",
        "    q1_vector = q1.to_Matrix(vector_only=True)\n",
        "    q2_scalar = q2.scalar_part()\n",
        "    q2_vector = q2.to_Matrix(vector_only=True)\n",
        "\n",
        "    return q1_scalar * q2_scalar + q1_vector.dot(q2_vector)\n",
        "\n",
        "def q_log(q):\n",
        "\n",
        "    q = q.normalize()\n",
        "\n",
        "    qw, qv = q.scalar_part(), q.to_Matrix(vector_only=True)\n",
        "\n",
        "    qv_norm = qv.norm()\n",
        "\n",
        "    v = (2*sympy.acos(qw) / qv_norm) * qv\n",
        "\n",
        "    return sympy.Quaternion(0, *v)\n",
        "\n",
        "\n",
        "def dualq_diff(dq, wrt):\n",
        "\n",
        "    r = dq[0]\n",
        "    d = dq[1]\n",
        "\n",
        "    r_dot = r.diff(wrt)\n",
        "\n",
        "    d_dot = d.diff(wrt)\n",
        "\n",
        "    real_part = r_dot\n",
        "    dual_part_1 = d_dot.mul(r)\n",
        "    dual_part_2 = r_dot.mul(d)\n",
        "    dual_part = dual_part_1.add(dual_part_2)\n",
        "\n",
        "\n",
        "    result = sympy.Matrix([real_part, dual_part])\n",
        "    result = dualq_piecewise_expand(result)\n",
        "\n",
        "    return result\n",
        "\n",
        "\n",
        "def extract_linear_velocity(dq_diff):\n",
        "\n",
        "\n",
        "    r_dot = dq_diff[0]\n",
        "    d_dot = dq_diff[1]\n",
        "\n",
        "    v_t_1 = (2 * d_dot)\n",
        "\n",
        "    v = v_t_1.mul(r_dot.conjugate())\n",
        "    v = v.to_Matrix(vector_only=True)\n",
        "\n",
        "    return v\n",
        "\n",
        "def q_inverse(q):\n",
        "    q_scalar = q.scalar_part()\n",
        "    q_vector = q.to_Matrix(vector_only=True)\n",
        "\n",
        "    q_norm = sympy.sqrt(q_scalar**2 + q_vector.dot(q_vector))\n",
        "\n",
        "    result = q.conjugate()/q_norm**2\n",
        "\n",
        "    return result\n",
        "\n",
        "def q_subtract(q1, q2):\n",
        "    q3_scalar = q1.scalar_part() - q2.scalar_part()\n",
        "    q3_vector = q1.to_Matrix(vector_only=True) - q2.to_Matrix(vector_only=True)\n",
        "\n",
        "    result = sympy.Quaternion(q3_scalar, *q3_vector)\n",
        "\n",
        "    return result\n",
        "\n",
        "\n"
      ]
    },
    {
      "cell_type": "code",
      "execution_count": null,
      "id": "3MCfmOLWcboT",
      "metadata": {
        "id": "3MCfmOLWcboT"
      },
      "outputs": [],
      "source": [
        "L1 = 30.0\n",
        "L2 = 90.0\n",
        "L3 = 110.0\n",
        "theta_1, theta_2, theta_3 = sympy.symbols('theta_1 theta_2 theta_3', real=True)\n",
        "ax_1, ax_2, ax_3 = sympy.symbols('ax_1 ax_2 ax_3', real=True)\n",
        "ay_1, ay_2, ay_3 = sympy.symbols('ay_1 ay_2 ay_3', real=True)\n",
        "az_1, az_2, az_3 = sympy.symbols('az_1 az_2 az_3', real=True)"
      ]
    },
    {
      "cell_type": "code",
      "source": [
        "r_c = sympy.Quaternion.from_axis_angle([ax_1, ay_1, az_1],theta_1)\n",
        "t_c = sympy.Quaternion(0, 0, 0, 0)\n",
        "d_c = sympy.Rational(0.5) * t_c.mul(r_c)\n",
        "Q_c = sympy.Matrix([r_c, d_c])\n",
        "Q_c = dualq_piecewise_simplify(Q_c)\n",
        "Q_c"
      ],
      "metadata": {
        "colab": {
          "base_uri": "https://localhost:8080/",
          "height": 78
        },
        "id": "Zl8A94oQsBYV",
        "outputId": "be854883-8258-475f-e949-df2c81798f73"
      },
      "id": "Zl8A94oQsBYV",
      "execution_count": null,
      "outputs": [
        {
          "output_type": "execute_result",
          "data": {
            "text/plain": [
              "Matrix([\n",
              "[cos(theta_1/2) + ax_1*sin(theta_1/2)/sqrt(ax_1**2 + ay_1**2 + az_1**2)*i + ay_1*sin(theta_1/2)/sqrt(ax_1**2 + ay_1**2 + az_1**2)*j + az_1*sin(theta_1/2)/sqrt(ax_1**2 + ay_1**2 + az_1**2)*k],\n",
              "[                                                                                                                                                                         0 + 0*i + 0*j + 0*k]])"
            ],
            "text/latex": "$\\displaystyle \\left[\\begin{matrix}\\cos{\\left(\\frac{\\theta_{1}}{2} \\right)} + \\frac{ax_{1} \\sin{\\left(\\frac{\\theta_{1}}{2} \\right)}}{\\sqrt{ax_{1}^{2} + ay_{1}^{2} + az_{1}^{2}}} i + \\frac{ay_{1} \\sin{\\left(\\frac{\\theta_{1}}{2} \\right)}}{\\sqrt{ax_{1}^{2} + ay_{1}^{2} + az_{1}^{2}}} j + \\frac{az_{1} \\sin{\\left(\\frac{\\theta_{1}}{2} \\right)}}{\\sqrt{ax_{1}^{2} + ay_{1}^{2} + az_{1}^{2}}} k\\\\0 + 0 i + 0 j + 0 k\\end{matrix}\\right]$"
          },
          "metadata": {},
          "execution_count": 10
        }
      ]
    },
    {
      "cell_type": "code",
      "execution_count": null,
      "id": "1dpzgDp7ccuJ",
      "metadata": {
        "colab": {
          "base_uri": "https://localhost:8080/",
          "height": 78
        },
        "id": "1dpzgDp7ccuJ",
        "outputId": "a8660c48-9573-478f-f98d-6b1a68940871"
      },
      "outputs": [
        {
          "output_type": "execute_result",
          "data": {
            "text/plain": [
              "Matrix([\n",
              "[cos(theta_1/2) + ax_1*(24 - theta_1**2)/(48*sqrt(ax_1**2 + ay_1**2 + az_1**2))*i + ay_1*(24 - theta_1**2)/(48*sqrt(ax_1**2 + ay_1**2 + az_1**2))*j + az_1*(24 - theta_1**2)/(48*sqrt(ax_1**2 + ay_1**2 + az_1**2))*k],\n",
              "[                                                                                                                                                                                                 0 + 0*i + 0*j + 0*k]])"
            ],
            "text/latex": "$\\displaystyle \\left[\\begin{matrix}\\cos{\\left(\\frac{\\theta_{1}}{2} \\right)} + \\frac{ax_{1} \\left(24 - \\theta_{1}^{2}\\right)}{48 \\sqrt{ax_{1}^{2} + ay_{1}^{2} + az_{1}^{2}}} i + \\frac{ay_{1} \\left(24 - \\theta_{1}^{2}\\right)}{48 \\sqrt{ax_{1}^{2} + ay_{1}^{2} + az_{1}^{2}}} j + \\frac{az_{1} \\left(24 - \\theta_{1}^{2}\\right)}{48 \\sqrt{ax_{1}^{2} + ay_{1}^{2} + az_{1}^{2}}} k\\\\0 + 0 i + 0 j + 0 k\\end{matrix}\\right]$"
          },
          "metadata": {},
          "execution_count": 11
        }
      ],
      "source": [
        "r_ci = q_from_axis_angle(sympy.Matrix([ax_1, ay_1, az_1]),theta_1)\n",
        "t_ci = sympy.Quaternion(0, 0, 0, 0)\n",
        "d_ci = sympy.Rational(0.5) * t_ci.mul(r_ci)\n",
        "Q_ci = sympy.Matrix([r_ci, d_ci])\n",
        "Q_ci = dualq_piecewise_simplify(Q_ci)\n",
        "Q_ci"
      ]
    },
    {
      "cell_type": "code",
      "source": [
        "r_f = sympy.Quaternion.from_axis_angle([ax_2, ay_2, az_2],theta_2)\n",
        "t_f = sympy.Quaternion(0, L1, 0, 0)\n",
        "d_f = sympy.Rational(0.5) * t_f.mul(r_f)\n",
        "Q_f = sympy.Matrix([r_f,d_f])\n",
        "Q_f = dualq_piecewise_simplify(Q_f)\n",
        "Q_f"
      ],
      "metadata": {
        "colab": {
          "base_uri": "https://localhost:8080/",
          "height": 90
        },
        "id": "dMOpoKvgsvCL",
        "outputId": "82805681-d9a5-4508-8a8d-56b48875ef8f"
      },
      "id": "dMOpoKvgsvCL",
      "execution_count": null,
      "outputs": [
        {
          "output_type": "execute_result",
          "data": {
            "text/plain": [
              "Matrix([\n",
              "[                          cos(theta_2/2) + ax_2*sin(theta_2/2)/sqrt(ax_2**2 + ay_2**2 + az_2**2)*i + ay_2*sin(theta_2/2)/sqrt(ax_2**2 + ay_2**2 + az_2**2)*j + az_2*sin(theta_2/2)/sqrt(ax_2**2 + ay_2**2 + az_2**2)*k],\n",
              "[(-15.0*ax_2*sin(theta_2/2)/sqrt(ax_2**2 + ay_2**2 + az_2**2)) + 15.0*cos(theta_2/2)*i + (-15.0*az_2*sin(theta_2/2)/sqrt(ax_2**2 + ay_2**2 + az_2**2))*j + 15.0*ay_2*sin(theta_2/2)/sqrt(ax_2**2 + ay_2**2 + az_2**2)*k]])"
            ],
            "text/latex": "$\\displaystyle \\left[\\begin{matrix}\\cos{\\left(\\frac{\\theta_{2}}{2} \\right)} + \\frac{ax_{2} \\sin{\\left(\\frac{\\theta_{2}}{2} \\right)}}{\\sqrt{ax_{2}^{2} + ay_{2}^{2} + az_{2}^{2}}} i + \\frac{ay_{2} \\sin{\\left(\\frac{\\theta_{2}}{2} \\right)}}{\\sqrt{ax_{2}^{2} + ay_{2}^{2} + az_{2}^{2}}} j + \\frac{az_{2} \\sin{\\left(\\frac{\\theta_{2}}{2} \\right)}}{\\sqrt{ax_{2}^{2} + ay_{2}^{2} + az_{2}^{2}}} k\\\\- \\frac{15.0 ax_{2} \\sin{\\left(\\frac{\\theta_{2}}{2} \\right)}}{\\sqrt{ax_{2}^{2} + ay_{2}^{2} + az_{2}^{2}}} + 15.0 \\cos{\\left(\\frac{\\theta_{2}}{2} \\right)} i + - \\frac{15.0 az_{2} \\sin{\\left(\\frac{\\theta_{2}}{2} \\right)}}{\\sqrt{ax_{2}^{2} + ay_{2}^{2} + az_{2}^{2}}} j + \\frac{15.0 ay_{2} \\sin{\\left(\\frac{\\theta_{2}}{2} \\right)}}{\\sqrt{ax_{2}^{2} + ay_{2}^{2} + az_{2}^{2}}} k\\end{matrix}\\right]$"
          },
          "metadata": {},
          "execution_count": 12
        }
      ]
    },
    {
      "cell_type": "code",
      "execution_count": null,
      "id": "evSsx49Wct2e",
      "metadata": {
        "id": "evSsx49Wct2e",
        "colab": {
          "base_uri": "https://localhost:8080/",
          "height": 89
        },
        "outputId": "04b2bce4-cba2-4486-ab0f-e26cf8350246"
      },
      "outputs": [
        {
          "output_type": "execute_result",
          "data": {
            "text/plain": [
              "Matrix([\n",
              "[              cos(theta_2/2) + ax_2*(24 - theta_2**2)/(48*sqrt(ax_2**2 + ay_2**2 + az_2**2))*i + ay_2*(24 - theta_2**2)/(48*sqrt(ax_2**2 + ay_2**2 + az_2**2))*j + az_2*(24 - theta_2**2)/(48*sqrt(ax_2**2 + ay_2**2 + az_2**2))*k],\n",
              "[0.3125*ax_2*(theta_2**2 - 24)/sqrt(ax_2**2 + ay_2**2 + az_2**2) + 15.0*cos(theta_2/2)*i + 0.3125*az_2*(theta_2**2 - 24)/sqrt(ax_2**2 + ay_2**2 + az_2**2)*j + (-0.3125*ay_2*(theta_2**2 - 24)/sqrt(ax_2**2 + ay_2**2 + az_2**2))*k]])"
            ],
            "text/latex": "$\\displaystyle \\left[\\begin{matrix}\\cos{\\left(\\frac{\\theta_{2}}{2} \\right)} + \\frac{ax_{2} \\left(24 - \\theta_{2}^{2}\\right)}{48 \\sqrt{ax_{2}^{2} + ay_{2}^{2} + az_{2}^{2}}} i + \\frac{ay_{2} \\left(24 - \\theta_{2}^{2}\\right)}{48 \\sqrt{ax_{2}^{2} + ay_{2}^{2} + az_{2}^{2}}} j + \\frac{az_{2} \\left(24 - \\theta_{2}^{2}\\right)}{48 \\sqrt{ax_{2}^{2} + ay_{2}^{2} + az_{2}^{2}}} k\\\\\\frac{0.3125 ax_{2} \\left(\\theta_{2}^{2} - 24\\right)}{\\sqrt{ax_{2}^{2} + ay_{2}^{2} + az_{2}^{2}}} + 15.0 \\cos{\\left(\\frac{\\theta_{2}}{2} \\right)} i + \\frac{0.3125 az_{2} \\left(\\theta_{2}^{2} - 24\\right)}{\\sqrt{ax_{2}^{2} + ay_{2}^{2} + az_{2}^{2}}} j + - \\frac{0.3125 ay_{2} \\left(\\theta_{2}^{2} - 24\\right)}{\\sqrt{ax_{2}^{2} + ay_{2}^{2} + az_{2}^{2}}} k\\end{matrix}\\right]$"
          },
          "metadata": {},
          "execution_count": 13
        }
      ],
      "source": [
        "r_fi = q_from_axis_angle(sympy.Matrix([ax_2, ay_2, az_2]),theta_2)\n",
        "t_fi = sympy.Quaternion(0, L1, 0, 0)\n",
        "d_fi = sympy.Rational(0.5) * t_fi.mul(r_fi)\n",
        "Q_fi = sympy.Matrix([r_fi,d_fi])\n",
        "Q_fi = dualq_piecewise_simplify(Q_fi)\n",
        "Q_fi"
      ]
    },
    {
      "cell_type": "code",
      "source": [
        "r_t = sympy.Quaternion.from_axis_angle([ax_3, ay_3, az_3],theta_3)\n",
        "t_t = sympy.Quaternion(0, L2, 0, 0)\n",
        "d_t = sympy.Rational(0.5) * t_t.mul(r_t)\n",
        "Q_t = sympy.Matrix([r_t, d_t])\n",
        "Q_t = dualq_piecewise_simplify(Q_t)\n",
        "Q_t"
      ],
      "metadata": {
        "colab": {
          "base_uri": "https://localhost:8080/",
          "height": 90
        },
        "id": "94nvmCtPtObq",
        "outputId": "847124eb-fd24-4f8d-b6fa-67c03fde81b0"
      },
      "id": "94nvmCtPtObq",
      "execution_count": null,
      "outputs": [
        {
          "output_type": "execute_result",
          "data": {
            "text/plain": [
              "Matrix([\n",
              "[                          cos(theta_3/2) + ax_3*sin(theta_3/2)/sqrt(ax_3**2 + ay_3**2 + az_3**2)*i + ay_3*sin(theta_3/2)/sqrt(ax_3**2 + ay_3**2 + az_3**2)*j + az_3*sin(theta_3/2)/sqrt(ax_3**2 + ay_3**2 + az_3**2)*k],\n",
              "[(-45.0*ax_3*sin(theta_3/2)/sqrt(ax_3**2 + ay_3**2 + az_3**2)) + 45.0*cos(theta_3/2)*i + (-45.0*az_3*sin(theta_3/2)/sqrt(ax_3**2 + ay_3**2 + az_3**2))*j + 45.0*ay_3*sin(theta_3/2)/sqrt(ax_3**2 + ay_3**2 + az_3**2)*k]])"
            ],
            "text/latex": "$\\displaystyle \\left[\\begin{matrix}\\cos{\\left(\\frac{\\theta_{3}}{2} \\right)} + \\frac{ax_{3} \\sin{\\left(\\frac{\\theta_{3}}{2} \\right)}}{\\sqrt{ax_{3}^{2} + ay_{3}^{2} + az_{3}^{2}}} i + \\frac{ay_{3} \\sin{\\left(\\frac{\\theta_{3}}{2} \\right)}}{\\sqrt{ax_{3}^{2} + ay_{3}^{2} + az_{3}^{2}}} j + \\frac{az_{3} \\sin{\\left(\\frac{\\theta_{3}}{2} \\right)}}{\\sqrt{ax_{3}^{2} + ay_{3}^{2} + az_{3}^{2}}} k\\\\- \\frac{45.0 ax_{3} \\sin{\\left(\\frac{\\theta_{3}}{2} \\right)}}{\\sqrt{ax_{3}^{2} + ay_{3}^{2} + az_{3}^{2}}} + 45.0 \\cos{\\left(\\frac{\\theta_{3}}{2} \\right)} i + - \\frac{45.0 az_{3} \\sin{\\left(\\frac{\\theta_{3}}{2} \\right)}}{\\sqrt{ax_{3}^{2} + ay_{3}^{2} + az_{3}^{2}}} j + \\frac{45.0 ay_{3} \\sin{\\left(\\frac{\\theta_{3}}{2} \\right)}}{\\sqrt{ax_{3}^{2} + ay_{3}^{2} + az_{3}^{2}}} k\\end{matrix}\\right]$"
          },
          "metadata": {},
          "execution_count": 14
        }
      ]
    },
    {
      "cell_type": "code",
      "execution_count": null,
      "id": "Q8eSDje0c632",
      "metadata": {
        "id": "Q8eSDje0c632",
        "colab": {
          "base_uri": "https://localhost:8080/",
          "height": 89
        },
        "outputId": "ce10331f-3730-4ee7-cb15-951ddd42de3c"
      },
      "outputs": [
        {
          "output_type": "execute_result",
          "data": {
            "text/plain": [
              "Matrix([\n",
              "[              cos(theta_3/2) + ax_3*(24 - theta_3**2)/(48*sqrt(ax_3**2 + ay_3**2 + az_3**2))*i + ay_3*(24 - theta_3**2)/(48*sqrt(ax_3**2 + ay_3**2 + az_3**2))*j + az_3*(24 - theta_3**2)/(48*sqrt(ax_3**2 + ay_3**2 + az_3**2))*k],\n",
              "[0.9375*ax_3*(theta_3**2 - 24)/sqrt(ax_3**2 + ay_3**2 + az_3**2) + 45.0*cos(theta_3/2)*i + 0.9375*az_3*(theta_3**2 - 24)/sqrt(ax_3**2 + ay_3**2 + az_3**2)*j + (-0.9375*ay_3*(theta_3**2 - 24)/sqrt(ax_3**2 + ay_3**2 + az_3**2))*k]])"
            ],
            "text/latex": "$\\displaystyle \\left[\\begin{matrix}\\cos{\\left(\\frac{\\theta_{3}}{2} \\right)} + \\frac{ax_{3} \\left(24 - \\theta_{3}^{2}\\right)}{48 \\sqrt{ax_{3}^{2} + ay_{3}^{2} + az_{3}^{2}}} i + \\frac{ay_{3} \\left(24 - \\theta_{3}^{2}\\right)}{48 \\sqrt{ax_{3}^{2} + ay_{3}^{2} + az_{3}^{2}}} j + \\frac{az_{3} \\left(24 - \\theta_{3}^{2}\\right)}{48 \\sqrt{ax_{3}^{2} + ay_{3}^{2} + az_{3}^{2}}} k\\\\\\frac{0.9375 ax_{3} \\left(\\theta_{3}^{2} - 24\\right)}{\\sqrt{ax_{3}^{2} + ay_{3}^{2} + az_{3}^{2}}} + 45.0 \\cos{\\left(\\frac{\\theta_{3}}{2} \\right)} i + \\frac{0.9375 az_{3} \\left(\\theta_{3}^{2} - 24\\right)}{\\sqrt{ax_{3}^{2} + ay_{3}^{2} + az_{3}^{2}}} j + - \\frac{0.9375 ay_{3} \\left(\\theta_{3}^{2} - 24\\right)}{\\sqrt{ax_{3}^{2} + ay_{3}^{2} + az_{3}^{2}}} k\\end{matrix}\\right]$"
          },
          "metadata": {},
          "execution_count": 15
        }
      ],
      "source": [
        "r_ti = q_from_axis_angle(sympy.Matrix([ax_3, ay_3, az_3]),theta_3)\n",
        "t_ti = sympy.Quaternion(0, L2, 0, 0)\n",
        "d_ti = sympy.Rational(0.5) * t_ti.mul(r_ti)\n",
        "Q_ti = sympy.Matrix([r_ti, d_ti])\n",
        "Q_ti = dualq_piecewise_simplify(Q_ti)\n",
        "Q_ti"
      ]
    },
    {
      "cell_type": "code",
      "source": [
        "r_e = sympy.Quaternion.from_axis_angle([1, 0, 0], 0)\n",
        "t_e = sympy.Quaternion(0.0, L3, 0, 0.0)\n",
        "d_e = sympy.Rational(0.5) * t_e.mul(r_e)\n",
        "Q_e = sympy.Matrix([r_e, d_e])\n",
        "Q_e = dualq_piecewise_expand(Q_e)\n",
        "Q_e"
      ],
      "metadata": {
        "colab": {
          "base_uri": "https://localhost:8080/",
          "height": 58
        },
        "id": "U_RwPqDIuKCY",
        "outputId": "f279c106-1f75-49df-e848-83b5308b0872"
      },
      "id": "U_RwPqDIuKCY",
      "execution_count": null,
      "outputs": [
        {
          "output_type": "execute_result",
          "data": {
            "text/plain": [
              "Matrix([\n",
              "[   1 + 0*i + 0*j + 0*k],\n",
              "[0 + 55.0*i + 0*j + 0*k]])"
            ],
            "text/latex": "$\\displaystyle \\left[\\begin{matrix}1 + 0 i + 0 j + 0 k\\\\0 + 55.0 i + 0 j + 0 k\\end{matrix}\\right]$"
          },
          "metadata": {},
          "execution_count": 16
        }
      ]
    },
    {
      "cell_type": "code",
      "execution_count": null,
      "id": "NKjE1QIrdLox",
      "metadata": {
        "colab": {
          "base_uri": "https://localhost:8080/",
          "height": 58
        },
        "id": "NKjE1QIrdLox",
        "outputId": "efed5171-ba2b-4f5d-c84a-c20b9fbe96ea"
      },
      "outputs": [
        {
          "output_type": "execute_result",
          "data": {
            "text/plain": [
              "Matrix([\n",
              "[   1 + 0*i + 0*j + 0*k],\n",
              "[0 + 55.0*i + 0*j + 0*k]])"
            ],
            "text/latex": "$\\displaystyle \\left[\\begin{matrix}1 + 0 i + 0 j + 0 k\\\\0 + 55.0 i + 0 j + 0 k\\end{matrix}\\right]$"
          },
          "metadata": {},
          "execution_count": 17
        }
      ],
      "source": [
        "Q_ei = Q_e\n",
        "Q_ei"
      ]
    },
    {
      "cell_type": "code",
      "source": [
        "foot_pose_dqi = dualq_mul(Q_c, Q_f, Q_t, Q_e)\n",
        "foot_pose_dqi = dualq_piecewise_expand(foot_pose_dqi)\n",
        "foot_position_FK = (2 * foot_pose_dqi[1].mul(foot_pose_dqi[0].conjugate()))\n",
        "foot_position_FK = foot_position_FK.to_Matrix(vector_only=True)\n",
        "foot_orientation_FK = foot_pose_dqi[0].to_Matrix(vector_only=True)"
      ],
      "metadata": {
        "id": "VLmDjXr3u2sV"
      },
      "id": "VLmDjXr3u2sV",
      "execution_count": null,
      "outputs": []
    },
    {
      "cell_type": "code",
      "source": [
        "q_ew = dualq_mul(Q_ci, Q_fi, Q_ti, Q_ei)\n",
        "q_ew_r = q_ew[0]\n",
        "q_ew_t = q_ew[1].mul(q_ew_r.conjugate())"
      ],
      "metadata": {
        "id": "JjpgM70Pip8-"
      },
      "id": "JjpgM70Pip8-",
      "execution_count": null,
      "outputs": []
    },
    {
      "cell_type": "code",
      "source": [
        "o_w = q_log(q_ew[0])"
      ],
      "metadata": {
        "id": "uqLPHWWXebYh"
      },
      "id": "uqLPHWWXebYh",
      "execution_count": null,
      "outputs": []
    },
    {
      "cell_type": "code",
      "source": [
        "o_w.scalar_part()"
      ],
      "metadata": {
        "colab": {
          "base_uri": "https://localhost:8080/",
          "height": 37
        },
        "id": "ATiAVouYfO0v",
        "outputId": "d5673d4d-7c2f-4141-8fe3-b8e1293b5693"
      },
      "id": "ATiAVouYfO0v",
      "execution_count": null,
      "outputs": [
        {
          "output_type": "execute_result",
          "data": {
            "text/plain": [
              "0"
            ],
            "text/latex": "$\\displaystyle 0$"
          },
          "metadata": {},
          "execution_count": 21
        }
      ]
    },
    {
      "cell_type": "code",
      "source": [
        "q_ew"
      ],
      "metadata": {
        "colab": {
          "base_uri": "https://localhost:8080/",
          "height": 118
        },
        "id": "ROdTUBBQ7qVh",
        "outputId": "37f283f0-555e-4141-8338-87b572b0abc1"
      },
      "id": "ROdTUBBQ7qVh",
      "execution_count": null,
      "outputs": [
        {
          "output_type": "execute_result",
          "data": {
            "text/plain": [
              "Matrix([\n",
              "[                                                                                                                                                                                                                                                                                                                                                                                                                                                                                                                                                                                                                                                                                                                                                                                                                                                                                                                                                                                                                                                                                                                                                                                                                                                                                                                                                                                                                                                                                                                                                                                                                                                                                                                                                                                                                                                                                                                                                                                                                                                                                                                                                                                                                                                                                                                                                                                                                                                                                                                                                                                                                                                                                                                                                                                                                                                                                                                                                                                                                                                                                                                                                                                                                                                                                                                                                                                                                                                                                                                                                                                                                                                                                                                                                                                                                                                                                                                                                                                                                                                                                                                                                                                                                                                                                                                                                                                                                     (-ax_1*ax_2*theta_1**2*theta_2**2*cos(theta_3/2)/(2304*sqrt(ax_1**2 + ay_1**2 + az_1**2)*sqrt(ax_2**2 + ay_2**2 + az_2**2)) + ax_1*ax_2*theta_1**2*cos(theta_3/2)/(96*sqrt(ax_1**2 + ay_1**2 + az_1**2)*sqrt(ax_2**2 + ay_2**2 + az_2**2)) + ax_1*ax_2*theta_2**2*cos(theta_3/2)/(96*sqrt(ax_1**2 + ay_1**2 + az_1**2)*sqrt(ax_2**2 + ay_2**2 + az_2**2)) - ax_1*ax_2*cos(theta_3/2)/(4*sqrt(ax_1**2 + ay_1**2 + az_1**2)*sqrt(ax_2**2 + ay_2**2 + az_2**2)) - ax_1*ax_3*theta_1**2*theta_3**2*cos(theta_2/2)/(2304*sqrt(ax_1**2 + ay_1**2 + az_1**2)*sqrt(ax_3**2 + ay_3**2 + az_3**2)) + ax_1*ax_3*theta_1**2*cos(theta_2/2)/(96*sqrt(ax_1**2 + ay_1**2 + az_1**2)*sqrt(ax_3**2 + ay_3**2 + az_3**2)) + ax_1*ax_3*theta_3**2*cos(theta_2/2)/(96*sqrt(ax_1**2 + ay_1**2 + az_1**2)*sqrt(ax_3**2 + ay_3**2 + az_3**2)) - ax_1*ax_3*cos(theta_2/2)/(4*sqrt(ax_1**2 + ay_1**2 + az_1**2)*sqrt(ax_3**2 + ay_3**2 + az_3**2)) + ax_1*ay_2*az_3*theta_1**2*theta_2**2*theta_3**2/(110592*sqrt(ax_1**2 + ay_1**2 + az_1**2)*sqrt(ax_2**2 + ay_2**2 + az_2**2)*sqrt(ax_3**2 + ay_3**2 + az_3**2)) - ax_1*ay_2*az_3*theta_1**2*theta_2**2/(4608*sqrt(ax_1**2 + ay_1**2 + az_1**2)*sqrt(ax_2**2 + ay_2**2 + az_2**2)*sqrt(ax_3**2 + ay_3**2 + az_3**2)) - ax_1*ay_2*az_3*theta_1**2*theta_3**2/(4608*sqrt(ax_1**2 + ay_1**2 + az_1**2)*sqrt(ax_2**2 + ay_2**2 + az_2**2)*sqrt(ax_3**2 + ay_3**2 + az_3**2)) + ax_1*ay_2*az_3*theta_1**2/(192*sqrt(ax_1**2 + ay_1**2 + az_1**2)*sqrt(ax_2**2 + ay_2**2 + az_2**2)*sqrt(ax_3**2 + ay_3**2 + az_3**2)) - ax_1*ay_2*az_3*theta_2**2*theta_3**2/(4608*sqrt(ax_1**2 + ay_1**2 + az_1**2)*sqrt(ax_2**2 + ay_2**2 + az_2**2)*sqrt(ax_3**2 + ay_3**2 + az_3**2)) + ax_1*ay_2*az_3*theta_2**2/(192*sqrt(ax_1**2 + ay_1**2 + az_1**2)*sqrt(ax_2**2 + ay_2**2 + az_2**2)*sqrt(ax_3**2 + ay_3**2 + az_3**2)) + ax_1*ay_2*az_3*theta_3**2/(192*sqrt(ax_1**2 + ay_1**2 + az_1**2)*sqrt(ax_2**2 + ay_2**2 + az_2**2)*sqrt(ax_3**2 + ay_3**2 + az_3**2)) - ax_1*ay_2*az_3/(8*sqrt(ax_1**2 + ay_1**2 + az_1**2)*sqrt(ax_2**2 + ay_2**2 + az_2**2)*sqrt(ax_3**2 + ay_3**2 + az_3**2)) - ax_1*ay_3*az_2*theta_1**2*theta_2**2*theta_3**2/(110592*sqrt(ax_1**2 + ay_1**2 + az_1**2)*sqrt(ax_2**2 + ay_2**2 + az_2**2)*sqrt(ax_3**2 + ay_3**2 + az_3**2)) + ax_1*ay_3*az_2*theta_1**2*theta_2**2/(4608*sqrt(ax_1**2 + ay_1**2 + az_1**2)*sqrt(ax_2**2 + ay_2**2 + az_2**2)*sqrt(ax_3**2 + ay_3**2 + az_3**2)) + ax_1*ay_3*az_2*theta_1**2*theta_3**2/(4608*sqrt(ax_1**2 + ay_1**2 + az_1**2)*sqrt(ax_2**2 + ay_2**2 + az_2**2)*sqrt(ax_3**2 + ay_3**2 + az_3**2)) - ax_1*ay_3*az_2*theta_1**2/(192*sqrt(ax_1**2 + ay_1**2 + az_1**2)*sqrt(ax_2**2 + ay_2**2 + az_2**2)*sqrt(ax_3**2 + ay_3**2 + az_3**2)) + ax_1*ay_3*az_2*theta_2**2*theta_3**2/(4608*sqrt(ax_1**2 + ay_1**2 + az_1**2)*sqrt(ax_2**2 + ay_2**2 + az_2**2)*sqrt(ax_3**2 + ay_3**2 + az_3**2)) - ax_1*ay_3*az_2*theta_2**2/(192*sqrt(ax_1**2 + ay_1**2 + az_1**2)*sqrt(ax_2**2 + ay_2**2 + az_2**2)*sqrt(ax_3**2 + ay_3**2 + az_3**2)) - ax_1*ay_3*az_2*theta_3**2/(192*sqrt(ax_1**2 + ay_1**2 + az_1**2)*sqrt(ax_2**2 + ay_2**2 + az_2**2)*sqrt(ax_3**2 + ay_3**2 + az_3**2)) + ax_1*ay_3*az_2/(8*sqrt(ax_1**2 + ay_1**2 + az_1**2)*sqrt(ax_2**2 + ay_2**2 + az_2**2)*sqrt(ax_3**2 + ay_3**2 + az_3**2)) - ax_2*ax_3*theta_2**2*theta_3**2*cos(theta_1/2)/(2304*sqrt(ax_2**2 + ay_2**2 + az_2**2)*sqrt(ax_3**2 + ay_3**2 + az_3**2)) + ax_2*ax_3*theta_2**2*cos(theta_1/2)/(96*sqrt(ax_2**2 + ay_2**2 + az_2**2)*sqrt(ax_3**2 + ay_3**2 + az_3**2)) + ax_2*ax_3*theta_3**2*cos(theta_1/2)/(96*sqrt(ax_2**2 + ay_2**2 + az_2**2)*sqrt(ax_3**2 + ay_3**2 + az_3**2)) - ax_2*ax_3*cos(theta_1/2)/(4*sqrt(ax_2**2 + ay_2**2 + az_2**2)*sqrt(ax_3**2 + ay_3**2 + az_3**2)) - ax_2*ay_1*az_3*theta_1**2*theta_2**2*theta_3**2/(110592*sqrt(ax_1**2 + ay_1**2 + az_1**2)*sqrt(ax_2**2 + ay_2**2 + az_2**2)*sqrt(ax_3**2 + ay_3**2 + az_3**2)) + ax_2*ay_1*az_3*theta_1**2*theta_2**2/(4608*sqrt(ax_1**2 + ay_1**2 + az_1**2)*sqrt(ax_2**2 + ay_2**2 + az_2**2)*sqrt(ax_3**2 + ay_3**2 + az_3**2)) + ax_2*ay_1*az_3*theta_1**2*theta_3**2/(4608*sqrt(ax_1**2 + ay_1**2 + az_1**2)*sqrt(ax_2**2 + ay_2**2 + az_2**2)*sqrt(ax_3**2 + ay_3**2 + az_3**2)) - ax_2*ay_1*az_3*theta_1**2/(192*sqrt(ax_1**2 + ay_1**2 + az_1**2)*sqrt(ax_2**2 + ay_2**2 + az_2**2)*sqrt(ax_3**2 + ay_3**2 + az_3**2)) + ax_2*ay_1*az_3*theta_2**2*theta_3**2/(4608*sqrt(ax_1**2 + ay_1**2 + az_1**2)*sqrt(ax_2**2 + ay_2**2 + az_2**2)*sqrt(ax_3**2 + ay_3**2 + az_3**2)) - ax_2*ay_1*az_3*theta_2**2/(192*sqrt(ax_1**2 + ay_1**2 + az_1**2)*sqrt(ax_2**2 + ay_2**2 + az_2**2)*sqrt(ax_3**2 + ay_3**2 + az_3**2)) - ax_2*ay_1*az_3*theta_3**2/(192*sqrt(ax_1**2 + ay_1**2 + az_1**2)*sqrt(ax_2**2 + ay_2**2 + az_2**2)*sqrt(ax_3**2 + ay_3**2 + az_3**2)) + ax_2*ay_1*az_3/(8*sqrt(ax_1**2 + ay_1**2 + az_1**2)*sqrt(ax_2**2 + ay_2**2 + az_2**2)*sqrt(ax_3**2 + ay_3**2 + az_3**2)) + ax_2*ay_3*az_1*theta_1**2*theta_2**2*theta_3**2/(110592*sqrt(ax_1**2 + ay_1**2 + az_1**2)*sqrt(ax_2**2 + ay_2**2 + az_2**2)*sqrt(ax_3**2 + ay_3**2 + az_3**2)) - ax_2*ay_3*az_1*theta_1**2*theta_2**2/(4608*sqrt(ax_1**2 + ay_1**2 + az_1**2)*sqrt(ax_2**2 + ay_2**2 + az_2**2)*sqrt(ax_3**2 + ay_3**2 + az_3**2)) - ax_2*ay_3*az_1*theta_1**2*theta_3**2/(4608*sqrt(ax_1**2 + ay_1**2 + az_1**2)*sqrt(ax_2**2 + ay_2**2 + az_2**2)*sqrt(ax_3**2 + ay_3**2 + az_3**2)) + ax_2*ay_3*az_1*theta_1**2/(192*sqrt(ax_1**2 + ay_1**2 + az_1**2)*sqrt(ax_2**2 + ay_2**2 + az_2**2)*sqrt(ax_3**2 + ay_3**2 + az_3**2)) - ax_2*ay_3*az_1*theta_2**2*theta_3**2/(4608*sqrt(ax_1**2 + ay_1**2 + az_1**2)*sqrt(ax_2**2 + ay_2**2 + az_2**2)*sqrt(ax_3**2 + ay_3**2 + az_3**2)) + ax_2*ay_3*az_1*theta_2**2/(192*sqrt(ax_1**2 + ay_1**2 + az_1**2)*sqrt(ax_2**2 + ay_2**2 + az_2**2)*sqrt(ax_3**2 + ay_3**2 + az_3**2)) + ax_2*ay_3*az_1*theta_3**2/(192*sqrt(ax_1**2 + ay_1**2 + az_1**2)*sqrt(ax_2**2 + ay_2**2 + az_2**2)*sqrt(ax_3**2 + ay_3**2 + az_3**2)) - ax_2*ay_3*az_1/(8*sqrt(ax_1**2 + ay_1**2 + az_1**2)*sqrt(ax_2**2 + ay_2**2 + az_2**2)*sqrt(ax_3**2 + ay_3**2 + az_3**2)) + ax_3*ay_1*az_2*theta_1**2*theta_2**2*theta_3**2/(110592*sqrt(ax_1**2 + ay_1**2 + az_1**2)*sqrt(ax_2**2 + ay_2**2 + az_2**2)*sqrt(ax_3**2 + ay_3**2 + az_3**2)) - ax_3*ay_1*az_2*theta_1**2*theta_2**2/(4608*sqrt(ax_1**2 + ay_1**2 + az_1**2)*sqrt(ax_2**2 + ay_2**2 + az_2**2)*sqrt(ax_3**2 + ay_3**2 + az_3**2)) - ax_3*ay_1*az_2*theta_1**2*theta_3**2/(4608*sqrt(ax_1**2 + ay_1**2 + az_1**2)*sqrt(ax_2**2 + ay_2**2 + az_2**2)*sqrt(ax_3**2 + ay_3**2 + az_3**2)) + ax_3*ay_1*az_2*theta_1**2/(192*sqrt(ax_1**2 + ay_1**2 + az_1**2)*sqrt(ax_2**2 + ay_2**2 + az_2**2)*sqrt(ax_3**2 + ay_3**2 + az_3**2)) - ax_3*ay_1*az_2*theta_2**2*theta_3**2/(4608*sqrt(ax_1**2 + ay_1**2 + az_1**2)*sqrt(ax_2**2 + ay_2**2 + az_2**2)*sqrt(ax_3**2 + ay_3**2 + az_3**2)) + ax_3*ay_1*az_2*theta_2**2/(192*sqrt(ax_1**2 + ay_1**2 + az_1**2)*sqrt(ax_2**2 + ay_2**2 + az_2**2)*sqrt(ax_3**2 + ay_3**2 + az_3**2)) + ax_3*ay_1*az_2*theta_3**2/(192*sqrt(ax_1**2 + ay_1**2 + az_1**2)*sqrt(ax_2**2 + ay_2**2 + az_2**2)*sqrt(ax_3**2 + ay_3**2 + az_3**2)) - ax_3*ay_1*az_2/(8*sqrt(ax_1**2 + ay_1**2 + az_1**2)*sqrt(ax_2**2 + ay_2**2 + az_2**2)*sqrt(ax_3**2 + ay_3**2 + az_3**2)) - ax_3*ay_2*az_1*theta_1**2*theta_2**2*theta_3**2/(110592*sqrt(ax_1**2 + ay_1**2 + az_1**2)*sqrt(ax_2**2 + ay_2**2 + az_2**2)*sqrt(ax_3**2 + ay_3**2 + az_3**2)) + ax_3*ay_2*az_1*theta_1**2*theta_2**2/(4608*sqrt(ax_1**2 + ay_1**2 + az_1**2)*sqrt(ax_2**2 + ay_2**2 + az_2**2)*sqrt(ax_3**2 + ay_3**2 + az_3**2)) + ax_3*ay_2*az_1*theta_1**2*theta_3**2/(4608*sqrt(ax_1**2 + ay_1**2 + az_1**2)*sqrt(ax_2**2 + ay_2**2 + az_2**2)*sqrt(ax_3**2 + ay_3**2 + az_3**2)) - ax_3*ay_2*az_1*theta_1**2/(192*sqrt(ax_1**2 + ay_1**2 + az_1**2)*sqrt(ax_2**2 + ay_2**2 + az_2**2)*sqrt(ax_3**2 + ay_3**2 + az_3**2)) + ax_3*ay_2*az_1*theta_2**2*theta_3**2/(4608*sqrt(ax_1**2 + ay_1**2 + az_1**2)*sqrt(ax_2**2 + ay_2**2 + az_2**2)*sqrt(ax_3**2 + ay_3**2 + az_3**2)) - ax_3*ay_2*az_1*theta_2**2/(192*sqrt(ax_1**2 + ay_1**2 + az_1**2)*sqrt(ax_2**2 + ay_2**2 + az_2**2)*sqrt(ax_3**2 + ay_3**2 + az_3**2)) - ax_3*ay_2*az_1*theta_3**2/(192*sqrt(ax_1**2 + ay_1**2 + az_1**2)*sqrt(ax_2**2 + ay_2**2 + az_2**2)*sqrt(ax_3**2 + ay_3**2 + az_3**2)) + ax_3*ay_2*az_1/(8*sqrt(ax_1**2 + ay_1**2 + az_1**2)*sqrt(ax_2**2 + ay_2**2 + az_2**2)*sqrt(ax_3**2 + ay_3**2 + az_3**2)) - ay_1*ay_2*theta_1**2*theta_2**2*cos(theta_3/2)/(2304*sqrt(ax_1**2 + ay_1**2 + az_1**2)*sqrt(ax_2**2 + ay_2**2 + az_2**2)) + ay_1*ay_2*theta_1**2*cos(theta_3/2)/(96*sqrt(ax_1**2 + ay_1**2 + az_1**2)*sqrt(ax_2**2 + ay_2**2 + az_2**2)) + ay_1*ay_2*theta_2**2*cos(theta_3/2)/(96*sqrt(ax_1**2 + ay_1**2 + az_1**2)*sqrt(ax_2**2 + ay_2**2 + az_2**2)) - ay_1*ay_2*cos(theta_3/2)/(4*sqrt(ax_1**2 + ay_1**2 + az_1**2)*sqrt(ax_2**2 + ay_2**2 + az_2**2)) - ay_1*ay_3*theta_1**2*theta_3**2*cos(theta_2/2)/(2304*sqrt(ax_1**2 + ay_1**2 + az_1**2)*sqrt(ax_3**2 + ay_3**2 + az_3**2)) + ay_1*ay_3*theta_1**2*cos(theta_2/2)/(96*sqrt(ax_1**2 + ay_1**2 + az_1**2)*sqrt(ax_3**2 + ay_3**2 + az_3**2)) + ay_1*ay_3*theta_3**2*cos(theta_2/2)/(96*sqrt(ax_1**2 + ay_1**2 + az_1**2)*sqrt(ax_3**2 + ay_3**2 + az_3**2)) - ay_1*ay_3*cos(theta_2/2)/(4*sqrt(ax_1**2 + ay_1**2 + az_1**2)*sqrt(ax_3**2 + ay_3**2 + az_3**2)) - ay_2*ay_3*theta_2**2*theta_3**2*cos(theta_1/2)/(2304*sqrt(ax_2**2 + ay_2**2 + az_2**2)*sqrt(ax_3**2 + ay_3**2 + az_3**2)) + ay_2*ay_3*theta_2**2*cos(theta_1/2)/(96*sqrt(ax_2**2 + ay_2**2 + az_2**2)*sqrt(ax_3**2 + ay_3**2 + az_3**2)) + ay_2*ay_3*theta_3**2*cos(theta_1/2)/(96*sqrt(ax_2**2 + ay_2**2 + az_2**2)*sqrt(ax_3**2 + ay_3**2 + az_3**2)) - ay_2*ay_3*cos(theta_1/2)/(4*sqrt(ax_2**2 + ay_2**2 + az_2**2)*sqrt(ax_3**2 + ay_3**2 + az_3**2)) - az_1*az_2*theta_1**2*theta_2**2*cos(theta_3/2)/(2304*sqrt(ax_1**2 + ay_1**2 + az_1**2)*sqrt(ax_2**2 + ay_2**2 + az_2**2)) + az_1*az_2*theta_1**2*cos(theta_3/2)/(96*sqrt(ax_1**2 + ay_1**2 + az_1**2)*sqrt(ax_2**2 + ay_2**2 + az_2**2)) + az_1*az_2*theta_2**2*cos(theta_3/2)/(96*sqrt(ax_1**2 + ay_1**2 + az_1**2)*sqrt(ax_2**2 + ay_2**2 + az_2**2)) - az_1*az_2*cos(theta_3/2)/(4*sqrt(ax_1**2 + ay_1**2 + az_1**2)*sqrt(ax_2**2 + ay_2**2 + az_2**2)) - az_1*az_3*theta_1**2*theta_3**2*cos(theta_2/2)/(2304*sqrt(ax_1**2 + ay_1**2 + az_1**2)*sqrt(ax_3**2 + ay_3**2 + az_3**2)) + az_1*az_3*theta_1**2*cos(theta_2/2)/(96*sqrt(ax_1**2 + ay_1**2 + az_1**2)*sqrt(ax_3**2 + ay_3**2 + az_3**2)) + az_1*az_3*theta_3**2*cos(theta_2/2)/(96*sqrt(ax_1**2 + ay_1**2 + az_1**2)*sqrt(ax_3**2 + ay_3**2 + az_3**2)) - az_1*az_3*cos(theta_2/2)/(4*sqrt(ax_1**2 + ay_1**2 + az_1**2)*sqrt(ax_3**2 + ay_3**2 + az_3**2)) - az_2*az_3*theta_2**2*theta_3**2*cos(theta_1/2)/(2304*sqrt(ax_2**2 + ay_2**2 + az_2**2)*sqrt(ax_3**2 + ay_3**2 + az_3**2)) + az_2*az_3*theta_2**2*cos(theta_1/2)/(96*sqrt(ax_2**2 + ay_2**2 + az_2**2)*sqrt(ax_3**2 + ay_3**2 + az_3**2)) + az_2*az_3*theta_3**2*cos(theta_1/2)/(96*sqrt(ax_2**2 + ay_2**2 + az_2**2)*sqrt(ax_3**2 + ay_3**2 + az_3**2)) - az_2*az_3*cos(theta_1/2)/(4*sqrt(ax_2**2 + ay_2**2 + az_2**2)*sqrt(ax_3**2 + ay_3**2 + az_3**2)) + cos(theta_1/2)*cos(theta_2/2)*cos(theta_3/2)) + (ax_1*ax_2*ax_3*theta_1**2*theta_2**2*theta_3**2/(110592*sqrt(ax_1**2 + ay_1**2 + az_1**2)*sqrt(ax_2**2 + ay_2**2 + az_2**2)*sqrt(ax_3**2 + ay_3**2 + az_3**2)) - ax_1*ax_2*ax_3*theta_1**2*theta_2**2/(4608*sqrt(ax_1**2 + ay_1**2 + az_1**2)*sqrt(ax_2**2 + ay_2**2 + az_2**2)*sqrt(ax_3**2 + ay_3**2 + az_3**2)) - ax_1*ax_2*ax_3*theta_1**2*theta_3**2/(4608*sqrt(ax_1**2 + ay_1**2 + az_1**2)*sqrt(ax_2**2 + ay_2**2 + az_2**2)*sqrt(ax_3**2 + ay_3**2 + az_3**2)) + ax_1*ax_2*ax_3*theta_1**2/(192*sqrt(ax_1**2 + ay_1**2 + az_1**2)*sqrt(ax_2**2 + ay_2**2 + az_2**2)*sqrt(ax_3**2 + ay_3**2 + az_3**2)) - ax_1*ax_2*ax_3*theta_2**2*theta_3**2/(4608*sqrt(ax_1**2 + ay_1**2 + az_1**2)*sqrt(ax_2**2 + ay_2**2 + az_2**2)*sqrt(ax_3**2 + ay_3**2 + az_3**2)) + ax_1*ax_2*ax_3*theta_2**2/(192*sqrt(ax_1**2 + ay_1**2 + az_1**2)*sqrt(ax_2**2 + ay_2**2 + az_2**2)*sqrt(ax_3**2 + ay_3**2 + az_3**2)) + ax_1*ax_2*ax_3*theta_3**2/(192*sqrt(ax_1**2 + ay_1**2 + az_1**2)*sqrt(ax_2**2 + ay_2**2 + az_2**2)*sqrt(ax_3**2 + ay_3**2 + az_3**2)) - ax_1*ax_2*ax_3/(8*sqrt(ax_1**2 + ay_1**2 + az_1**2)*sqrt(ax_2**2 + ay_2**2 + az_2**2)*sqrt(ax_3**2 + ay_3**2 + az_3**2)) + ax_1*ay_2*ay_3*theta_1**2*theta_2**2*theta_3**2/(110592*sqrt(ax_1**2 + ay_1**2 + az_1**2)*sqrt(ax_2**2 + ay_2**2 + az_2**2)*sqrt(ax_3**2 + ay_3**2 + az_3**2)) - ax_1*ay_2*ay_3*theta_1**2*theta_2**2/(4608*sqrt(ax_1**2 + ay_1**2 + az_1**2)*sqrt(ax_2**2 + ay_2**2 + az_2**2)*sqrt(ax_3**2 + ay_3**2 + az_3**2)) - ax_1*ay_2*ay_3*theta_1**2*theta_3**2/(4608*sqrt(ax_1**2 + ay_1**2 + az_1**2)*sqrt(ax_2**2 + ay_2**2 + az_2**2)*sqrt(ax_3**2 + ay_3**2 + az_3**2)) + ax_1*ay_2*ay_3*theta_1**2/(192*sqrt(ax_1**2 + ay_1**2 + az_1**2)*sqrt(ax_2**2 + ay_2**2 + az_2**2)*sqrt(ax_3**2 + ay_3**2 + az_3**2)) - ax_1*ay_2*ay_3*theta_2**2*theta_3**2/(4608*sqrt(ax_1**2 + ay_1**2 + az_1**2)*sqrt(ax_2**2 + ay_2**2 + az_2**2)*sqrt(ax_3**2 + ay_3**2 + az_3**2)) + ax_1*ay_2*ay_3*theta_2**2/(192*sqrt(ax_1**2 + ay_1**2 + az_1**2)*sqrt(ax_2**2 + ay_2**2 + az_2**2)*sqrt(ax_3**2 + ay_3**2 + az_3**2)) + ax_1*ay_2*ay_3*theta_3**2/(192*sqrt(ax_1**2 + ay_1**2 + az_1**2)*sqrt(ax_2**2 + ay_2**2 + az_2**2)*sqrt(ax_3**2 + ay_3**2 + az_3**2)) - ax_1*ay_2*ay_3/(8*sqrt(ax_1**2 + ay_1**2 + az_1**2)*sqrt(ax_2**2 + ay_2**2 + az_2**2)*sqrt(ax_3**2 + ay_3**2 + az_3**2)) + ax_1*az_2*az_3*theta_1**2*theta_2**2*theta_3**2/(110592*sqrt(ax_1**2 + ay_1**2 + az_1**2)*sqrt(ax_2**2 + ay_2**2 + az_2**2)*sqrt(ax_3**2 + ay_3**2 + az_3**2)) - ax_1*az_2*az_3*theta_1**2*theta_2**2/(4608*sqrt(ax_1**2 + ay_1**2 + az_1**2)*sqrt(ax_2**2 + ay_2**2 + az_2**2)*sqrt(ax_3**2 + ay_3**2 + az_3**2)) - ax_1*az_2*az_3*theta_1**2*theta_3**2/(4608*sqrt(ax_1**2 + ay_1**2 + az_1**2)*sqrt(ax_2**2 + ay_2**2 + az_2**2)*sqrt(ax_3**2 + ay_3**2 + az_3**2)) + ax_1*az_2*az_3*theta_1**2/(192*sqrt(ax_1**2 + ay_1**2 + az_1**2)*sqrt(ax_2**2 + ay_2**2 + az_2**2)*sqrt(ax_3**2 + ay_3**2 + az_3**2)) - ax_1*az_2*az_3*theta_2**2*theta_3**2/(4608*sqrt(ax_1**2 + ay_1**2 + az_1**2)*sqrt(ax_2**2 + ay_2**2 + az_2**2)*sqrt(ax_3**2 + ay_3**2 + az_3**2)) + ax_1*az_2*az_3*theta_2**2/(192*sqrt(ax_1**2 + ay_1**2 + az_1**2)*sqrt(ax_2**2 + ay_2**2 + az_2**2)*sqrt(ax_3**2 + ay_3**2 + az_3**2)) + ax_1*az_2*az_3*theta_3**2/(192*sqrt(ax_1**2 + ay_1**2 + az_1**2)*sqrt(ax_2**2 + ay_2**2 + az_2**2)*sqrt(ax_3**2 + ay_3**2 + az_3**2)) - ax_1*az_2*az_3/(8*sqrt(ax_1**2 + ay_1**2 + az_1**2)*sqrt(ax_2**2 + ay_2**2 + az_2**2)*sqrt(ax_3**2 + ay_3**2 + az_3**2)) - ax_1*theta_1**2*cos(theta_2/2)*cos(theta_3/2)/(48*sqrt(ax_1**2 + ay_1**2 + az_1**2)) + ax_1*cos(theta_2/2)*cos(theta_3/2)/(2*sqrt(ax_1**2 + ay_1**2 + az_1**2)) - ax_2*ay_1*ay_3*theta_1**2*theta_2**2*theta_3**2/(110592*sqrt(ax_1**2 + ay_1**2 + az_1**2)*sqrt(ax_2**2 + ay_2**2 + az_2**2)*sqrt(ax_3**2 + ay_3**2 + az_3**2)) + ax_2*ay_1*ay_3*theta_1**2*theta_2**2/(4608*sqrt(ax_1**2 + ay_1**2 + az_1**2)*sqrt(ax_2**2 + ay_2**2 + az_2**2)*sqrt(ax_3**2 + ay_3**2 + az_3**2)) + ax_2*ay_1*ay_3*theta_1**2*theta_3**2/(4608*sqrt(ax_1**2 + ay_1**2 + az_1**2)*sqrt(ax_2**2 + ay_2**2 + az_2**2)*sqrt(ax_3**2 + ay_3**2 + az_3**2)) - ax_2*ay_1*ay_3*theta_1**2/(192*sqrt(ax_1**2 + ay_1**2 + az_1**2)*sqrt(ax_2**2 + ay_2**2 + az_2**2)*sqrt(ax_3**2 + ay_3**2 + az_3**2)) + ax_2*ay_1*ay_3*theta_2**2*theta_3**2/(4608*sqrt(ax_1**2 + ay_1**2 + az_1**2)*sqrt(ax_2**2 + ay_2**2 + az_2**2)*sqrt(ax_3**2 + ay_3**2 + az_3**2)) - ax_2*ay_1*ay_3*theta_2**2/(192*sqrt(ax_1**2 + ay_1**2 + az_1**2)*sqrt(ax_2**2 + ay_2**2 + az_2**2)*sqrt(ax_3**2 + ay_3**2 + az_3**2)) - ax_2*ay_1*ay_3*theta_3**2/(192*sqrt(ax_1**2 + ay_1**2 + az_1**2)*sqrt(ax_2**2 + ay_2**2 + az_2**2)*sqrt(ax_3**2 + ay_3**2 + az_3**2)) + ax_2*ay_1*ay_3/(8*sqrt(ax_1**2 + ay_1**2 + az_1**2)*sqrt(ax_2**2 + ay_2**2 + az_2**2)*sqrt(ax_3**2 + ay_3**2 + az_3**2)) - ax_2*az_1*az_3*theta_1**2*theta_2**2*theta_3**2/(110592*sqrt(ax_1**2 + ay_1**2 + az_1**2)*sqrt(ax_2**2 + ay_2**2 + az_2**2)*sqrt(ax_3**2 + ay_3**2 + az_3**2)) + ax_2*az_1*az_3*theta_1**2*theta_2**2/(4608*sqrt(ax_1**2 + ay_1**2 + az_1**2)*sqrt(ax_2**2 + ay_2**2 + az_2**2)*sqrt(ax_3**2 + ay_3**2 + az_3**2)) + ax_2*az_1*az_3*theta_1**2*theta_3**2/(4608*sqrt(ax_1**2 + ay_1**2 + az_1**2)*sqrt(ax_2**2 + ay_2**2 + az_2**2)*sqrt(ax_3**2 + ay_3**2 + az_3**2)) - ax_2*az_1*az_3*theta_1**2/(192*sqrt(ax_1**2 + ay_1**2 + az_1**2)*sqrt(ax_2**2 + ay_2**2 + az_2**2)*sqrt(ax_3**2 + ay_3**2 + az_3**2)) + ax_2*az_1*az_3*theta_2**2*theta_3**2/(4608*sqrt(ax_1**2 + ay_1**2 + az_1**2)*sqrt(ax_2**2 + ay_2**2 + az_2**2)*sqrt(ax_3**2 + ay_3**2 + az_3**2)) - ax_2*az_1*az_3*theta_2**2/(192*sqrt(ax_1**2 + ay_1**2 + az_1**2)*sqrt(ax_2**2 + ay_2**2 + az_2**2)*sqrt(ax_3**2 + ay_3**2 + az_3**2)) - ax_2*az_1*az_3*theta_3**2/(192*sqrt(ax_1**2 + ay_1**2 + az_1**2)*sqrt(ax_2**2 + ay_2**2 + az_2**2)*sqrt(ax_3**2 + ay_3**2 + az_3**2)) + ax_2*az_1*az_3/(8*sqrt(ax_1**2 + ay_1**2 + az_1**2)*sqrt(ax_2**2 + ay_2**2 + az_2**2)*sqrt(ax_3**2 + ay_3**2 + az_3**2)) - ax_2*theta_2**2*cos(theta_1/2)*cos(theta_3/2)/(48*sqrt(ax_2**2 + ay_2**2 + az_2**2)) + ax_2*cos(theta_1/2)*cos(theta_3/2)/(2*sqrt(ax_2**2 + ay_2**2 + az_2**2)) + ax_3*ay_1*ay_2*theta_1**2*theta_2**2*theta_3**2/(110592*sqrt(ax_1**2 + ay_1**2 + az_1**2)*sqrt(ax_2**2 + ay_2**2 + az_2**2)*sqrt(ax_3**2 + ay_3**2 + az_3**2)) - ax_3*ay_1*ay_2*theta_1**2*theta_2**2/(4608*sqrt(ax_1**2 + ay_1**2 + az_1**2)*sqrt(ax_2**2 + ay_2**2 + az_2**2)*sqrt(ax_3**2 + ay_3**2 + az_3**2)) - ax_3*ay_1*ay_2*theta_1**2*theta_3**2/(4608*sqrt(ax_1**2 + ay_1**2 + az_1**2)*sqrt(ax_2**2 + ay_2**2 + az_2**2)*sqrt(ax_3**2 + ay_3**2 + az_3**2)) + ax_3*ay_1*ay_2*theta_1**2/(192*sqrt(ax_1**2 + ay_1**2 + az_1**2)*sqrt(ax_2**2 + ay_2**2 + az_2**2)*sqrt(ax_3**2 + ay_3**2 + az_3**2)) - ax_3*ay_1*ay_2*theta_2**2*theta_3**2/(4608*sqrt(ax_1**2 + ay_1**2 + az_1**2)*sqrt(ax_2**2 + ay_2**2 + az_2**2)*sqrt(ax_3**2 + ay_3**2 + az_3**2)) + ax_3*ay_1*ay_2*theta_2**2/(192*sqrt(ax_1**2 + ay_1**2 + az_1**2)*sqrt(ax_2**2 + ay_2**2 + az_2**2)*sqrt(ax_3**2 + ay_3**2 + az_3**2)) + ax_3*ay_1*ay_2*theta_3**2/(192*sqrt(ax_1**2 + ay_1**2 + az_1**2)*sqrt(ax_2**2 + ay_2**2 + az_2**2)*sqrt(ax_3**2 + ay_3**2 + az_3**2)) - ax_3*ay_1*ay_2/(8*sqrt(ax_1**2 + ay_1**2 + az_1**2)*sqrt(ax_2**2 + ay_2**2 + az_2**2)*sqrt(ax_3**2 + ay_3**2 + az_3**2)) + ax_3*az_1*az_2*theta_1**2*theta_2**2*theta_3**2/(110592*sqrt(ax_1**2 + ay_1**2 + az_1**2)*sqrt(ax_2**2 + ay_2**2 + az_2**2)*sqrt(ax_3**2 + ay_3**2 + az_3**2)) - ax_3*az_1*az_2*theta_1**2*theta_2**2/(4608*sqrt(ax_1**2 + ay_1**2 + az_1**2)*sqrt(ax_2**2 + ay_2**2 + az_2**2)*sqrt(ax_3**2 + ay_3**2 + az_3**2)) - ax_3*az_1*az_2*theta_1**2*theta_3**2/(4608*sqrt(ax_1**2 + ay_1**2 + az_1**2)*sqrt(ax_2**2 + ay_2**2 + az_2**2)*sqrt(ax_3**2 + ay_3**2 + az_3**2)) + ax_3*az_1*az_2*theta_1**2/(192*sqrt(ax_1**2 + ay_1**2 + az_1**2)*sqrt(ax_2**2 + ay_2**2 + az_2**2)*sqrt(ax_3**2 + ay_3**2 + az_3**2)) - ax_3*az_1*az_2*theta_2**2*theta_3**2/(4608*sqrt(ax_1**2 + ay_1**2 + az_1**2)*sqrt(ax_2**2 + ay_2**2 + az_2**2)*sqrt(ax_3**2 + ay_3**2 + az_3**2)) + ax_3*az_1*az_2*theta_2**2/(192*sqrt(ax_1**2 + ay_1**2 + az_1**2)*sqrt(ax_2**2 + ay_2**2 + az_2**2)*sqrt(ax_3**2 + ay_3**2 + az_3**2)) + ax_3*az_1*az_2*theta_3**2/(192*sqrt(ax_1**2 + ay_1**2 + az_1**2)*sqrt(ax_2**2 + ay_2**2 + az_2**2)*sqrt(ax_3**2 + ay_3**2 + az_3**2)) - ax_3*az_1*az_2/(8*sqrt(ax_1**2 + ay_1**2 + az_1**2)*sqrt(ax_2**2 + ay_2**2 + az_2**2)*sqrt(ax_3**2 + ay_3**2 + az_3**2)) - ax_3*theta_3**2*cos(theta_1/2)*cos(theta_2/2)/(48*sqrt(ax_3**2 + ay_3**2 + az_3**2)) + ax_3*cos(theta_1/2)*cos(theta_2/2)/(2*sqrt(ax_3**2 + ay_3**2 + az_3**2)) + ay_1*az_2*theta_1**2*theta_2**2*cos(theta_3/2)/(2304*sqrt(ax_1**2 + ay_1**2 + az_1**2)*sqrt(ax_2**2 + ay_2**2 + az_2**2)) - ay_1*az_2*theta_1**2*cos(theta_3/2)/(96*sqrt(ax_1**2 + ay_1**2 + az_1**2)*sqrt(ax_2**2 + ay_2**2 + az_2**2)) - ay_1*az_2*theta_2**2*cos(theta_3/2)/(96*sqrt(ax_1**2 + ay_1**2 + az_1**2)*sqrt(ax_2**2 + ay_2**2 + az_2**2)) + ay_1*az_2*cos(theta_3/2)/(4*sqrt(ax_1**2 + ay_1**2 + az_1**2)*sqrt(ax_2**2 + ay_2**2 + az_2**2)) + ay_1*az_3*theta_1**2*theta_3**2*cos(theta_2/2)/(2304*sqrt(ax_1**2 + ay_1**2 + az_1**2)*sqrt(ax_3**2 + ay_3**2 + az_3**2)) - ay_1*az_3*theta_1**2*cos(theta_2/2)/(96*sqrt(ax_1**2 + ay_1**2 + az_1**2)*sqrt(ax_3**2 + ay_3**2 + az_3**2)) - ay_1*az_3*theta_3**2*cos(theta_2/2)/(96*sqrt(ax_1**2 + ay_1**2 + az_1**2)*sqrt(ax_3**2 + ay_3**2 + az_3**2)) + ay_1*az_3*cos(theta_2/2)/(4*sqrt(ax_1**2 + ay_1**2 + az_1**2)*sqrt(ax_3**2 + ay_3**2 + az_3**2)) - ay_2*az_1*theta_1**2*theta_2**2*cos(theta_3/2)/(2304*sqrt(ax_1**2 + ay_1**2 + az_1**2)*sqrt(ax_2**2 + ay_2**2 + az_2**2)) + ay_2*az_1*theta_1**2*cos(theta_3/2)/(96*sqrt(ax_1**2 + ay_1**2 + az_1**2)*sqrt(ax_2**2 + ay_2**2 + az_2**2)) + ay_2*az_1*theta_2**2*cos(theta_3/2)/(96*sqrt(ax_1**2 + ay_1**2 + az_1**2)*sqrt(ax_2**2 + ay_2**2 + az_2**2)) - ay_2*az_1*cos(theta_3/2)/(4*sqrt(ax_1**2 + ay_1**2 + az_1**2)*sqrt(ax_2**2 + ay_2**2 + az_2**2)) + ay_2*az_3*theta_2**2*theta_3**2*cos(theta_1/2)/(2304*sqrt(ax_2**2 + ay_2**2 + az_2**2)*sqrt(ax_3**2 + ay_3**2 + az_3**2)) - ay_2*az_3*theta_2**2*cos(theta_1/2)/(96*sqrt(ax_2**2 + ay_2**2 + az_2**2)*sqrt(ax_3**2 + ay_3**2 + az_3**2)) - ay_2*az_3*theta_3**2*cos(theta_1/2)/(96*sqrt(ax_2**2 + ay_2**2 + az_2**2)*sqrt(ax_3**2 + ay_3**2 + az_3**2)) + ay_2*az_3*cos(theta_1/2)/(4*sqrt(ax_2**2 + ay_2**2 + az_2**2)*sqrt(ax_3**2 + ay_3**2 + az_3**2)) - ay_3*az_1*theta_1**2*theta_3**2*cos(theta_2/2)/(2304*sqrt(ax_1**2 + ay_1**2 + az_1**2)*sqrt(ax_3**2 + ay_3**2 + az_3**2)) + ay_3*az_1*theta_1**2*cos(theta_2/2)/(96*sqrt(ax_1**2 + ay_1**2 + az_1**2)*sqrt(ax_3**2 + ay_3**2 + az_3**2)) + ay_3*az_1*theta_3**2*cos(theta_2/2)/(96*sqrt(ax_1**2 + ay_1**2 + az_1**2)*sqrt(ax_3**2 + ay_3**2 + az_3**2)) - ay_3*az_1*cos(theta_2/2)/(4*sqrt(ax_1**2 + ay_1**2 + az_1**2)*sqrt(ax_3**2 + ay_3**2 + az_3**2)) - ay_3*az_2*theta_2**2*theta_3**2*cos(theta_1/2)/(2304*sqrt(ax_2**2 + ay_2**2 + az_2**2)*sqrt(ax_3**2 + ay_3**2 + az_3**2)) + ay_3*az_2*theta_2**2*cos(theta_1/2)/(96*sqrt(ax_2**2 + ay_2**2 + az_2**2)*sqrt(ax_3**2 + ay_3**2 + az_3**2)) + ay_3*az_2*theta_3**2*cos(theta_1/2)/(96*sqrt(ax_2**2 + ay_2**2 + az_2**2)*sqrt(ax_3**2 + ay_3**2 + az_3**2)) - ay_3*az_2*cos(theta_1/2)/(4*sqrt(ax_2**2 + ay_2**2 + az_2**2)*sqrt(ax_3**2 + ay_3**2 + az_3**2)))*i + (ax_1*ax_2*ay_3*theta_1**2*theta_2**2*theta_3**2/(110592*sqrt(ax_1**2 + ay_1**2 + az_1**2)*sqrt(ax_2**2 + ay_2**2 + az_2**2)*sqrt(ax_3**2 + ay_3**2 + az_3**2)) - ax_1*ax_2*ay_3*theta_1**2*theta_2**2/(4608*sqrt(ax_1**2 + ay_1**2 + az_1**2)*sqrt(ax_2**2 + ay_2**2 + az_2**2)*sqrt(ax_3**2 + ay_3**2 + az_3**2)) - ax_1*ax_2*ay_3*theta_1**2*theta_3**2/(4608*sqrt(ax_1**2 + ay_1**2 + az_1**2)*sqrt(ax_2**2 + ay_2**2 + az_2**2)*sqrt(ax_3**2 + ay_3**2 + az_3**2)) + ax_1*ax_2*ay_3*theta_1**2/(192*sqrt(ax_1**2 + ay_1**2 + az_1**2)*sqrt(ax_2**2 + ay_2**2 + az_2**2)*sqrt(ax_3**2 + ay_3**2 + az_3**2)) - ax_1*ax_2*ay_3*theta_2**2*theta_3**2/(4608*sqrt(ax_1**2 + ay_1**2 + az_1**2)*sqrt(ax_2**2 + ay_2**2 + az_2**2)*sqrt(ax_3**2 + ay_3**2 + az_3**2)) + ax_1*ax_2*ay_3*theta_2**2/(192*sqrt(ax_1**2 + ay_1**2 + az_1**2)*sqrt(ax_2**2 + ay_2**2 + az_2**2)*sqrt(ax_3**2 + ay_3**2 + az_3**2)) + ax_1*ax_2*ay_3*theta_3**2/(192*sqrt(ax_1**2 + ay_1**2 + az_1**2)*sqrt(ax_2**2 + ay_2**2 + az_2**2)*sqrt(ax_3**2 + ay_3**2 + az_3**2)) - ax_1*ax_2*ay_3/(8*sqrt(ax_1**2 + ay_1**2 + az_1**2)*sqrt(ax_2**2 + ay_2**2 + az_2**2)*sqrt(ax_3**2 + ay_3**2 + az_3**2)) - ax_1*ax_3*ay_2*theta_1**2*theta_2**2*theta_3**2/(110592*sqrt(ax_1**2 + ay_1**2 + az_1**2)*sqrt(ax_2**2 + ay_2**2 + az_2**2)*sqrt(ax_3**2 + ay_3**2 + az_3**2)) + ax_1*ax_3*ay_2*theta_1**2*theta_2**2/(4608*sqrt(ax_1**2 + ay_1**2 + az_1**2)*sqrt(ax_2**2 + ay_2**2 + az_2**2)*sqrt(ax_3**2 + ay_3**2 + az_3**2)) + ax_1*ax_3*ay_2*theta_1**2*theta_3**2/(4608*sqrt(ax_1**2 + ay_1**2 + az_1**2)*sqrt(ax_2**2 + ay_2**2 + az_2**2)*sqrt(ax_3**2 + ay_3**2 + az_3**2)) - ax_1*ax_3*ay_2*theta_1**2/(192*sqrt(ax_1**2 + ay_1**2 + az_1**2)*sqrt(ax_2**2 + ay_2**2 + az_2**2)*sqrt(ax_3**2 + ay_3**2 + az_3**2)) + ax_1*ax_3*ay_2*theta_2**2*theta_3**2/(4608*sqrt(ax_1**2 + ay_1**2 + az_1**2)*sqrt(ax_2**2 + ay_2**2 + az_2**2)*sqrt(ax_3**2 + ay_3**2 + az_3**2)) - ax_1*ax_3*ay_2*theta_2**2/(192*sqrt(ax_1**2 + ay_1**2 + az_1**2)*sqrt(ax_2**2 + ay_2**2 + az_2**2)*sqrt(ax_3**2 + ay_3**2 + az_3**2)) - ax_1*ax_3*ay_2*theta_3**2/(192*sqrt(ax_1**2 + ay_1**2 + az_1**2)*sqrt(ax_2**2 + ay_2**2 + az_2**2)*sqrt(ax_3**2 + ay_3**2 + az_3**2)) + ax_1*ax_3*ay_2/(8*sqrt(ax_1**2 + ay_1**2 + az_1**2)*sqrt(ax_2**2 + ay_2**2 + az_2**2)*sqrt(ax_3**2 + ay_3**2 + az_3**2)) - ax_1*az_2*theta_1**2*theta_2**2*cos(theta_3/2)/(2304*sqrt(ax_1**2 + ay_1**2 + az_1**2)*sqrt(ax_2**2 + ay_2**2 + az_2**2)) + ax_1*az_2*theta_1**2*cos(theta_3/2)/(96*sqrt(ax_1**2 + ay_1**2 + az_1**2)*sqrt(ax_2**2 + ay_2**2 + az_2**2)) + ax_1*az_2*theta_2**2*cos(theta_3/2)/(96*sqrt(ax_1**2 + ay_1**2 + az_1**2)*sqrt(ax_2**2 + ay_2**2 + az_2**2)) - ax_1*az_2*cos(theta_3/2)/(4*sqrt(ax_1**2 + ay_1**2 + az_1**2)*sqrt(ax_2**2 + ay_2**2 + az_2**2)) - ax_1*az_3*theta_1**2*theta_3**2*cos(theta_2/2)/(2304*sqrt(ax_1**2 + ay_1**2 + az_1**2)*sqrt(ax_3**2 + ay_3**2 + az_3**2)) + ax_1*az_3*theta_1**2*cos(theta_2/2)/(96*sqrt(ax_1**2 + ay_1**2 + az_1**2)*sqrt(ax_3**2 + ay_3**2 + az_3**2)) + ax_1*az_3*theta_3**2*cos(theta_2/2)/(96*sqrt(ax_1**2 + ay_1**2 + az_1**2)*sqrt(ax_3**2 + ay_3**2 + az_3**2)) - ax_1*az_3*cos(theta_2/2)/(4*sqrt(ax_1**2 + ay_1**2 + az_1**2)*sqrt(ax_3**2 + ay_3**2 + az_3**2)) + ax_2*ax_3*ay_1*theta_1**2*theta_2**2*theta_3**2/(110592*sqrt(ax_1**2 + ay_1**2 + az_1**2)*sqrt(ax_2**2 + ay_2**2 + az_2**2)*sqrt(ax_3**2 + ay_3**2 + az_3**2)) - ax_2*ax_3*ay_1*theta_1**2*theta_2**2/(4608*sqrt(ax_1**2 + ay_1**2 + az_1**2)*sqrt(ax_2**2 + ay_2**2 + az_2**2)*sqrt(ax_3**2 + ay_3**2 + az_3**2)) - ax_2*ax_3*ay_1*theta_1**2*theta_3**2/(4608*sqrt(ax_1**2 + ay_1**2 + az_1**2)*sqrt(ax_2**2 + ay_2**2 + az_2**2)*sqrt(ax_3**2 + ay_3**2 + az_3**2)) + ax_2*ax_3*ay_1*theta_1**2/(192*sqrt(ax_1**2 + ay_1**2 + az_1**2)*sqrt(ax_2**2 + ay_2**2 + az_2**2)*sqrt(ax_3**2 + ay_3**2 + az_3**2)) - ax_2*ax_3*ay_1*theta_2**2*theta_3**2/(4608*sqrt(ax_1**2 + ay_1**2 + az_1**2)*sqrt(ax_2**2 + ay_2**2 + az_2**2)*sqrt(ax_3**2 + ay_3**2 + az_3**2)) + ax_2*ax_3*ay_1*theta_2**2/(192*sqrt(ax_1**2 + ay_1**2 + az_1**2)*sqrt(ax_2**2 + ay_2**2 + az_2**2)*sqrt(ax_3**2 + ay_3**2 + az_3**2)) + ax_2*ax_3*ay_1*theta_3**2/(192*sqrt(ax_1**2 + ay_1**2 + az_1**2)*sqrt(ax_2**2 + ay_2**2 + az_2**2)*sqrt(ax_3**2 + ay_3**2 + az_3**2)) - ax_2*ax_3*ay_1/(8*sqrt(ax_1**2 + ay_1**2 + az_1**2)*sqrt(ax_2**2 + ay_2**2 + az_2**2)*sqrt(ax_3**2 + ay_3**2 + az_3**2)) + ax_2*az_1*theta_1**2*theta_2**2*cos(theta_3/2)/(2304*sqrt(ax_1**2 + ay_1**2 + az_1**2)*sqrt(ax_2**2 + ay_2**2 + az_2**2)) - ax_2*az_1*theta_1**2*cos(theta_3/2)/(96*sqrt(ax_1**2 + ay_1**2 + az_1**2)*sqrt(ax_2**2 + ay_2**2 + az_2**2)) - ax_2*az_1*theta_2**2*cos(theta_3/2)/(96*sqrt(ax_1**2 + ay_1**2 + az_1**2)*sqrt(ax_2**2 + ay_2**2 + az_2**2)) + ax_2*az_1*cos(theta_3/2)/(4*sqrt(ax_1**2 + ay_1**2 + az_1**2)*sqrt(ax_2**2 + ay_2**2 + az_2**2)) - ax_2*az_3*theta_2**2*theta_3**2*cos(theta_1/2)/(2304*sqrt(ax_2**2 + ay_2**2 + az_2**2)*sqrt(ax_3**2 + ay_3**2 + az_3**2)) + ax_2*az_3*theta_2**2*cos(theta_1/2)/(96*sqrt(ax_2**2 + ay_2**2 + az_2**2)*sqrt(ax_3**2 + ay_3**2 + az_3**2)) + ax_2*az_3*theta_3**2*cos(theta_1/2)/(96*sqrt(ax_2**2 + ay_2**2 + az_2**2)*sqrt(ax_3**2 + ay_3**2 + az_3**2)) - ax_2*az_3*cos(theta_1/2)/(4*sqrt(ax_2**2 + ay_2**2 + az_2**2)*sqrt(ax_3**2 + ay_3**2 + az_3**2)) + ax_3*az_1*theta_1**2*theta_3**2*cos(theta_2/2)/(2304*sqrt(ax_1**2 + ay_1**2 + az_1**2)*sqrt(ax_3**2 + ay_3**2 + az_3**2)) - ax_3*az_1*theta_1**2*cos(theta_2/2)/(96*sqrt(ax_1**2 + ay_1**2 + az_1**2)*sqrt(ax_3**2 + ay_3**2 + az_3**2)) - ax_3*az_1*theta_3**2*cos(theta_2/2)/(96*sqrt(ax_1**2 + ay_1**2 + az_1**2)*sqrt(ax_3**2 + ay_3**2 + az_3**2)) + ax_3*az_1*cos(theta_2/2)/(4*sqrt(ax_1**2 + ay_1**2 + az_1**2)*sqrt(ax_3**2 + ay_3**2 + az_3**2)) + ax_3*az_2*theta_2**2*theta_3**2*cos(theta_1/2)/(2304*sqrt(ax_2**2 + ay_2**2 + az_2**2)*sqrt(ax_3**2 + ay_3**2 + az_3**2)) - ax_3*az_2*theta_2**2*cos(theta_1/2)/(96*sqrt(ax_2**2 + ay_2**2 + az_2**2)*sqrt(ax_3**2 + ay_3**2 + az_3**2)) - ax_3*az_2*theta_3**2*cos(theta_1/2)/(96*sqrt(ax_2**2 + ay_2**2 + az_2**2)*sqrt(ax_3**2 + ay_3**2 + az_3**2)) + ax_3*az_2*cos(theta_1/2)/(4*sqrt(ax_2**2 + ay_2**2 + az_2**2)*sqrt(ax_3**2 + ay_3**2 + az_3**2)) + ay_1*ay_2*ay_3*theta_1**2*theta_2**2*theta_3**2/(110592*sqrt(ax_1**2 + ay_1**2 + az_1**2)*sqrt(ax_2**2 + ay_2**2 + az_2**2)*sqrt(ax_3**2 + ay_3**2 + az_3**2)) - ay_1*ay_2*ay_3*theta_1**2*theta_2**2/(4608*sqrt(ax_1**2 + ay_1**2 + az_1**2)*sqrt(ax_2**2 + ay_2**2 + az_2**2)*sqrt(ax_3**2 + ay_3**2 + az_3**2)) - ay_1*ay_2*ay_3*theta_1**2*theta_3**2/(4608*sqrt(ax_1**2 + ay_1**2 + az_1**2)*sqrt(ax_2**2 + ay_2**2 + az_2**2)*sqrt(ax_3**2 + ay_3**2 + az_3**2)) + ay_1*ay_2*ay_3*theta_1**2/(192*sqrt(ax_1**2 + ay_1**2 + az_1**2)*sqrt(ax_2**2 + ay_2**2 + az_2**2)*sqrt(ax_3**2 + ay_3**2 + az_3**2)) - ay_1*ay_2*ay_3*theta_2**2*theta_3**2/(4608*sqrt(ax_1**2 + ay_1**2 + az_1**2)*sqrt(ax_2**2 + ay_2**2 + az_2**2)*sqrt(ax_3**2 + ay_3**2 + az_3**2)) + ay_1*ay_2*ay_3*theta_2**2/(192*sqrt(ax_1**2 + ay_1**2 + az_1**2)*sqrt(ax_2**2 + ay_2**2 + az_2**2)*sqrt(ax_3**2 + ay_3**2 + az_3**2)) + ay_1*ay_2*ay_3*theta_3**2/(192*sqrt(ax_1**2 + ay_1**2 + az_1**2)*sqrt(ax_2**2 + ay_2**2 + az_2**2)*sqrt(ax_3**2 + ay_3**2 + az_3**2)) - ay_1*ay_2*ay_3/(8*sqrt(ax_1**2 + ay_1**2 + az_1**2)*sqrt(ax_2**2 + ay_2**2 + az_2**2)*sqrt(ax_3**2 + ay_3**2 + az_3**2)) + ay_1*az_2*az_3*theta_1**2*theta_2**2*theta_3**2/(110592*sqrt(ax_1**2 + ay_1**2 + az_1**2)*sqrt(ax_2**2 + ay_2**2 + az_2**2)*sqrt(ax_3**2 + ay_3**2 + az_3**2)) - ay_1*az_2*az_3*theta_1**2*theta_2**2/(4608*sqrt(ax_1**2 + ay_1**2 + az_1**2)*sqrt(ax_2**2 + ay_2**2 + az_2**2)*sqrt(ax_3**2 + ay_3**2 + az_3**2)) - ay_1*az_2*az_3*theta_1**2*theta_3**2/(4608*sqrt(ax_1**2 + ay_1**2 + az_1**2)*sqrt(ax_2**2 + ay_2**2 + az_2**2)*sqrt(ax_3**2 + ay_3**2 + az_3**2)) + ay_1*az_2*az_3*theta_1**2/(192*sqrt(ax_1**2 + ay_1**2 + az_1**2)*sqrt(ax_2**2 + ay_2**2 + az_2**2)*sqrt(ax_3**2 + ay_3**2 + az_3**2)) - ay_1*az_2*az_3*theta_2**2*theta_3**2/(4608*sqrt(ax_1**2 + ay_1**2 + az_1**2)*sqrt(ax_2**2 + ay_2**2 + az_2**2)*sqrt(ax_3**2 + ay_3**2 + az_3**2)) + ay_1*az_2*az_3*theta_2**2/(192*sqrt(ax_1**2 + ay_1**2 + az_1**2)*sqrt(ax_2**2 + ay_2**2 + az_2**2)*sqrt(ax_3**2 + ay_3**2 + az_3**2)) + ay_1*az_2*az_3*theta_3**2/(192*sqrt(ax_1**2 + ay_1**2 + az_1**2)*sqrt(ax_2**2 + ay_2**2 + az_2**2)*sqrt(ax_3**2 + ay_3**2 + az_3**2)) - ay_1*az_2*az_3/(8*sqrt(ax_1**2 + ay_1**2 + az_1**2)*sqrt(ax_2**2 + ay_2**2 + az_2**2)*sqrt(ax_3**2 + ay_3**2 + az_3**2)) - ay_1*theta_1**2*cos(theta_2/2)*cos(theta_3/2)/(48*sqrt(ax_1**2 + ay_1**2 + az_1**2)) + ay_1*cos(theta_2/2)*cos(theta_3/2)/(2*sqrt(ax_1**2 + ay_1**2 + az_1**2)) - ay_2*az_1*az_3*theta_1**2*theta_2**2*theta_3**2/(110592*sqrt(ax_1**2 + ay_1**2 + az_1**2)*sqrt(ax_2**2 + ay_2**2 + az_2**2)*sqrt(ax_3**2 + ay_3**2 + az_3**2)) + ay_2*az_1*az_3*theta_1**2*theta_2**2/(4608*sqrt(ax_1**2 + ay_1**2 + az_1**2)*sqrt(ax_2**2 + ay_2**2 + az_2**2)*sqrt(ax_3**2 + ay_3**2 + az_3**2)) + ay_2*az_1*az_3*theta_1**2*theta_3**2/(4608*sqrt(ax_1**2 + ay_1**2 + az_1**2)*sqrt(ax_2**2 + ay_2**2 + az_2**2)*sqrt(ax_3**2 + ay_3**2 + az_3**2)) - ay_2*az_1*az_3*theta_1**2/(192*sqrt(ax_1**2 + ay_1**2 + az_1**2)*sqrt(ax_2**2 + ay_2**2 + az_2**2)*sqrt(ax_3**2 + ay_3**2 + az_3**2)) + ay_2*az_1*az_3*theta_2**2*theta_3**2/(4608*sqrt(ax_1**2 + ay_1**2 + az_1**2)*sqrt(ax_2**2 + ay_2**2 + az_2**2)*sqrt(ax_3**2 + ay_3**2 + az_3**2)) - ay_2*az_1*az_3*theta_2**2/(192*sqrt(ax_1**2 + ay_1**2 + az_1**2)*sqrt(ax_2**2 + ay_2**2 + az_2**2)*sqrt(ax_3**2 + ay_3**2 + az_3**2)) - ay_2*az_1*az_3*theta_3**2/(192*sqrt(ax_1**2 + ay_1**2 + az_1**2)*sqrt(ax_2**2 + ay_2**2 + az_2**2)*sqrt(ax_3**2 + ay_3**2 + az_3**2)) + ay_2*az_1*az_3/(8*sqrt(ax_1**2 + ay_1**2 + az_1**2)*sqrt(ax_2**2 + ay_2**2 + az_2**2)*sqrt(ax_3**2 + ay_3**2 + az_3**2)) - ay_2*theta_2**2*cos(theta_1/2)*cos(theta_3/2)/(48*sqrt(ax_2**2 + ay_2**2 + az_2**2)) + ay_2*cos(theta_1/2)*cos(theta_3/2)/(2*sqrt(ax_2**2 + ay_2**2 + az_2**2)) + ay_3*az_1*az_2*theta_1**2*theta_2**2*theta_3**2/(110592*sqrt(ax_1**2 + ay_1**2 + az_1**2)*sqrt(ax_2**2 + ay_2**2 + az_2**2)*sqrt(ax_3**2 + ay_3**2 + az_3**2)) - ay_3*az_1*az_2*theta_1**2*theta_2**2/(4608*sqrt(ax_1**2 + ay_1**2 + az_1**2)*sqrt(ax_2**2 + ay_2**2 + az_2**2)*sqrt(ax_3**2 + ay_3**2 + az_3**2)) - ay_3*az_1*az_2*theta_1**2*theta_3**2/(4608*sqrt(ax_1**2 + ay_1**2 + az_1**2)*sqrt(ax_2**2 + ay_2**2 + az_2**2)*sqrt(ax_3**2 + ay_3**2 + az_3**2)) + ay_3*az_1*az_2*theta_1**2/(192*sqrt(ax_1**2 + ay_1**2 + az_1**2)*sqrt(ax_2**2 + ay_2**2 + az_2**2)*sqrt(ax_3**2 + ay_3**2 + az_3**2)) - ay_3*az_1*az_2*theta_2**2*theta_3**2/(4608*sqrt(ax_1**2 + ay_1**2 + az_1**2)*sqrt(ax_2**2 + ay_2**2 + az_2**2)*sqrt(ax_3**2 + ay_3**2 + az_3**2)) + ay_3*az_1*az_2*theta_2**2/(192*sqrt(ax_1**2 + ay_1**2 + az_1**2)*sqrt(ax_2**2 + ay_2**2 + az_2**2)*sqrt(ax_3**2 + ay_3**2 + az_3**2)) + ay_3*az_1*az_2*theta_3**2/(192*sqrt(ax_1**2 + ay_1**2 + az_1**2)*sqrt(ax_2**2 + ay_2**2 + az_2**2)*sqrt(ax_3**2 + ay_3**2 + az_3**2)) - ay_3*az_1*az_2/(8*sqrt(ax_1**2 + ay_1**2 + az_1**2)*sqrt(ax_2**2 + ay_2**2 + az_2**2)*sqrt(ax_3**2 + ay_3**2 + az_3**2)) - ay_3*theta_3**2*cos(theta_1/2)*cos(theta_2/2)/(48*sqrt(ax_3**2 + ay_3**2 + az_3**2)) + ay_3*cos(theta_1/2)*cos(theta_2/2)/(2*sqrt(ax_3**2 + ay_3**2 + az_3**2)))*j + (ax_1*ax_2*az_3*theta_1**2*theta_2**2*theta_3**2/(110592*sqrt(ax_1**2 + ay_1**2 + az_1**2)*sqrt(ax_2**2 + ay_2**2 + az_2**2)*sqrt(ax_3**2 + ay_3**2 + az_3**2)) - ax_1*ax_2*az_3*theta_1**2*theta_2**2/(4608*sqrt(ax_1**2 + ay_1**2 + az_1**2)*sqrt(ax_2**2 + ay_2**2 + az_2**2)*sqrt(ax_3**2 + ay_3**2 + az_3**2)) - ax_1*ax_2*az_3*theta_1**2*theta_3**2/(4608*sqrt(ax_1**2 + ay_1**2 + az_1**2)*sqrt(ax_2**2 + ay_2**2 + az_2**2)*sqrt(ax_3**2 + ay_3**2 + az_3**2)) + ax_1*ax_2*az_3*theta_1**2/(192*sqrt(ax_1**2 + ay_1**2 + az_1**2)*sqrt(ax_2**2 + ay_2**2 + az_2**2)*sqrt(ax_3**2 + ay_3**2 + az_3**2)) - ax_1*ax_2*az_3*theta_2**2*theta_3**2/(4608*sqrt(ax_1**2 + ay_1**2 + az_1**2)*sqrt(ax_2**2 + ay_2**2 + az_2**2)*sqrt(ax_3**2 + ay_3**2 + az_3**2)) + ax_1*ax_2*az_3*theta_2**2/(192*sqrt(ax_1**2 + ay_1**2 + az_1**2)*sqrt(ax_2**2 + ay_2**2 + az_2**2)*sqrt(ax_3**2 + ay_3**2 + az_3**2)) + ax_1*ax_2*az_3*theta_3**2/(192*sqrt(ax_1**2 + ay_1**2 + az_1**2)*sqrt(ax_2**2 + ay_2**2 + az_2**2)*sqrt(ax_3**2 + ay_3**2 + az_3**2)) - ax_1*ax_2*az_3/(8*sqrt(ax_1**2 + ay_1**2 + az_1**2)*sqrt(ax_2**2 + ay_2**2 + az_2**2)*sqrt(ax_3**2 + ay_3**2 + az_3**2)) - ax_1*ax_3*az_2*theta_1**2*theta_2**2*theta_3**2/(110592*sqrt(ax_1**2 + ay_1**2 + az_1**2)*sqrt(ax_2**2 + ay_2**2 + az_2**2)*sqrt(ax_3**2 + ay_3**2 + az_3**2)) + ax_1*ax_3*az_2*theta_1**2*theta_2**2/(4608*sqrt(ax_1**2 + ay_1**2 + az_1**2)*sqrt(ax_2**2 + ay_2**2 + az_2**2)*sqrt(ax_3**2 + ay_3**2 + az_3**2)) + ax_1*ax_3*az_2*theta_1**2*theta_3**2/(4608*sqrt(ax_1**2 + ay_1**2 + az_1**2)*sqrt(ax_2**2 + ay_2**2 + az_2**2)*sqrt(ax_3**2 + ay_3**2 + az_3**2)) - ax_1*ax_3*az_2*theta_1**2/(192*sqrt(ax_1**2 + ay_1**2 + az_1**2)*sqrt(ax_2**2 + ay_2**2 + az_2**2)*sqrt(ax_3**2 + ay_3**2 + az_3**2)) + ax_1*ax_3*az_2*theta_2**2*theta_3**2/(4608*sqrt(ax_1**2 + ay_1**2 + az_1**2)*sqrt(ax_2**2 + ay_2**2 + az_2**2)*sqrt(ax_3**2 + ay_3**2 + az_3**2)) - ax_1*ax_3*az_2*theta_2**2/(192*sqrt(ax_1**2 + ay_1**2 + az_1**2)*sqrt(ax_2**2 + ay_2**2 + az_2**2)*sqrt(ax_3**2 + ay_3**2 + az_3**2)) - ax_1*ax_3*az_2*theta_3**2/(192*sqrt(ax_1**2 + ay_1**2 + az_1**2)*sqrt(ax_2**2 + ay_2**2 + az_2**2)*sqrt(ax_3**2 + ay_3**2 + az_3**2)) + ax_1*ax_3*az_2/(8*sqrt(ax_1**2 + ay_1**2 + az_1**2)*sqrt(ax_2**2 + ay_2**2 + az_2**2)*sqrt(ax_3**2 + ay_3**2 + az_3**2)) + ax_1*ay_2*theta_1**2*theta_2**2*cos(theta_3/2)/(2304*sqrt(ax_1**2 + ay_1**2 + az_1**2)*sqrt(ax_2**2 + ay_2**2 + az_2**2)) - ax_1*ay_2*theta_1**2*cos(theta_3/2)/(96*sqrt(ax_1**2 + ay_1**2 + az_1**2)*sqrt(ax_2**2 + ay_2**2 + az_2**2)) - ax_1*ay_2*theta_2**2*cos(theta_3/2)/(96*sqrt(ax_1**2 + ay_1**2 + az_1**2)*sqrt(ax_2**2 + ay_2**2 + az_2**2)) + ax_1*ay_2*cos(theta_3/2)/(4*sqrt(ax_1**2 + ay_1**2 + az_1**2)*sqrt(ax_2**2 + ay_2**2 + az_2**2)) + ax_1*ay_3*theta_1**2*theta_3**2*cos(theta_2/2)/(2304*sqrt(ax_1**2 + ay_1**2 + az_1**2)*sqrt(ax_3**2 + ay_3**2 + az_3**2)) - ax_1*ay_3*theta_1**2*cos(theta_2/2)/(96*sqrt(ax_1**2 + ay_1**2 + az_1**2)*sqrt(ax_3**2 + ay_3**2 + az_3**2)) - ax_1*ay_3*theta_3**2*cos(theta_2/2)/(96*sqrt(ax_1**2 + ay_1**2 + az_1**2)*sqrt(ax_3**2 + ay_3**2 + az_3**2)) + ax_1*ay_3*cos(theta_2/2)/(4*sqrt(ax_1**2 + ay_1**2 + az_1**2)*sqrt(ax_3**2 + ay_3**2 + az_3**2)) + ax_2*ax_3*az_1*theta_1**2*theta_2**2*theta_3**2/(110592*sqrt(ax_1**2 + ay_1**2 + az_1**2)*sqrt(ax_2**2 + ay_2**2 + az_2**2)*sqrt(ax_3**2 + ay_3**2 + az_3**2)) - ax_2*ax_3*az_1*theta_1**2*theta_2**2/(4608*sqrt(ax_1**2 + ay_1**2 + az_1**2)*sqrt(ax_2**2 + ay_2**2 + az_2**2)*sqrt(ax_3**2 + ay_3**2 + az_3**2)) - ax_2*ax_3*az_1*theta_1**2*theta_3**2/(4608*sqrt(ax_1**2 + ay_1**2 + az_1**2)*sqrt(ax_2**2 + ay_2**2 + az_2**2)*sqrt(ax_3**2 + ay_3**2 + az_3**2)) + ax_2*ax_3*az_1*theta_1**2/(192*sqrt(ax_1**2 + ay_1**2 + az_1**2)*sqrt(ax_2**2 + ay_2**2 + az_2**2)*sqrt(ax_3**2 + ay_3**2 + az_3**2)) - ax_2*ax_3*az_1*theta_2**2*theta_3**2/(4608*sqrt(ax_1**2 + ay_1**2 + az_1**2)*sqrt(ax_2**2 + ay_2**2 + az_2**2)*sqrt(ax_3**2 + ay_3**2 + az_3**2)) + ax_2*ax_3*az_1*theta_2**2/(192*sqrt(ax_1**2 + ay_1**2 + az_1**2)*sqrt(ax_2**2 + ay_2**2 + az_2**2)*sqrt(ax_3**2 + ay_3**2 + az_3**2)) + ax_2*ax_3*az_1*theta_3**2/(192*sqrt(ax_1**2 + ay_1**2 + az_1**2)*sqrt(ax_2**2 + ay_2**2 + az_2**2)*sqrt(ax_3**2 + ay_3**2 + az_3**2)) - ax_2*ax_3*az_1/(8*sqrt(ax_1**2 + ay_1**2 + az_1**2)*sqrt(ax_2**2 + ay_2**2 + az_2**2)*sqrt(ax_3**2 + ay_3**2 + az_3**2)) - ax_2*ay_1*theta_1**2*theta_2**2*cos(theta_3/2)/(2304*sqrt(ax_1**2 + ay_1**2 + az_1**2)*sqrt(ax_2**2 + ay_2**2 + az_2**2)) + ax_2*ay_1*theta_1**2*cos(theta_3/2)/(96*sqrt(ax_1**2 + ay_1**2 + az_1**2)*sqrt(ax_2**2 + ay_2**2 + az_2**2)) + ax_2*ay_1*theta_2**2*cos(theta_3/2)/(96*sqrt(ax_1**2 + ay_1**2 + az_1**2)*sqrt(ax_2**2 + ay_2**2 + az_2**2)) - ax_2*ay_1*cos(theta_3/2)/(4*sqrt(ax_1**2 + ay_1**2 + az_1**2)*sqrt(ax_2**2 + ay_2**2 + az_2**2)) + ax_2*ay_3*theta_2**2*theta_3**2*cos(theta_1/2)/(2304*sqrt(ax_2**2 + ay_2**2 + az_2**2)*sqrt(ax_3**2 + ay_3**2 + az_3**2)) - ax_2*ay_3*theta_2**2*cos(theta_1/2)/(96*sqrt(ax_2**2 + ay_2**2 + az_2**2)*sqrt(ax_3**2 + ay_3**2 + az_3**2)) - ax_2*ay_3*theta_3**2*cos(theta_1/2)/(96*sqrt(ax_2**2 + ay_2**2 + az_2**2)*sqrt(ax_3**2 + ay_3**2 + az_3**2)) + ax_2*ay_3*cos(theta_1/2)/(4*sqrt(ax_2**2 + ay_2**2 + az_2**2)*sqrt(ax_3**2 + ay_3**2 + az_3**2)) - ax_3*ay_1*theta_1**2*theta_3**2*cos(theta_2/2)/(2304*sqrt(ax_1**2 + ay_1**2 + az_1**2)*sqrt(ax_3**2 + ay_3**2 + az_3**2)) + ax_3*ay_1*theta_1**2*cos(theta_2/2)/(96*sqrt(ax_1**2 + ay_1**2 + az_1**2)*sqrt(ax_3**2 + ay_3**2 + az_3**2)) + ax_3*ay_1*theta_3**2*cos(theta_2/2)/(96*sqrt(ax_1**2 + ay_1**2 + az_1**2)*sqrt(ax_3**2 + ay_3**2 + az_3**2)) - ax_3*ay_1*cos(theta_2/2)/(4*sqrt(ax_1**2 + ay_1**2 + az_1**2)*sqrt(ax_3**2 + ay_3**2 + az_3**2)) - ax_3*ay_2*theta_2**2*theta_3**2*cos(theta_1/2)/(2304*sqrt(ax_2**2 + ay_2**2 + az_2**2)*sqrt(ax_3**2 + ay_3**2 + az_3**2)) + ax_3*ay_2*theta_2**2*cos(theta_1/2)/(96*sqrt(ax_2**2 + ay_2**2 + az_2**2)*sqrt(ax_3**2 + ay_3**2 + az_3**2)) + ax_3*ay_2*theta_3**2*cos(theta_1/2)/(96*sqrt(ax_2**2 + ay_2**2 + az_2**2)*sqrt(ax_3**2 + ay_3**2 + az_3**2)) - ax_3*ay_2*cos(theta_1/2)/(4*sqrt(ax_2**2 + ay_2**2 + az_2**2)*sqrt(ax_3**2 + ay_3**2 + az_3**2)) + ay_1*ay_2*az_3*theta_1**2*theta_2**2*theta_3**2/(110592*sqrt(ax_1**2 + ay_1**2 + az_1**2)*sqrt(ax_2**2 + ay_2**2 + az_2**2)*sqrt(ax_3**2 + ay_3**2 + az_3**2)) - ay_1*ay_2*az_3*theta_1**2*theta_2**2/(4608*sqrt(ax_1**2 + ay_1**2 + az_1**2)*sqrt(ax_2**2 + ay_2**2 + az_2**2)*sqrt(ax_3**2 + ay_3**2 + az_3**2)) - ay_1*ay_2*az_3*theta_1**2*theta_3**2/(4608*sqrt(ax_1**2 + ay_1**2 + az_1**2)*sqrt(ax_2**2 + ay_2**2 + az_2**2)*sqrt(ax_3**2 + ay_3**2 + az_3**2)) + ay_1*ay_2*az_3*theta_1**2/(192*sqrt(ax_1**2 + ay_1**2 + az_1**2)*sqrt(ax_2**2 + ay_2**2 + az_2**2)*sqrt(ax_3**2 + ay_3**2 + az_3**2)) - ay_1*ay_2*az_3*theta_2**2*theta_3**2/(4608*sqrt(ax_1**2 + ay_1**2 + az_1**2)*sqrt(ax_2**2 + ay_2**2 + az_2**2)*sqrt(ax_3**2 + ay_3**2 + az_3**2)) + ay_1*ay_2*az_3*theta_2**2/(192*sqrt(ax_1**2 + ay_1**2 + az_1**2)*sqrt(ax_2**2 + ay_2**2 + az_2**2)*sqrt(ax_3**2 + ay_3**2 + az_3**2)) + ay_1*ay_2*az_3*theta_3**2/(192*sqrt(ax_1**2 + ay_1**2 + az_1**2)*sqrt(ax_2**2 + ay_2**2 + az_2**2)*sqrt(ax_3**2 + ay_3**2 + az_3**2)) - ay_1*ay_2*az_3/(8*sqrt(ax_1**2 + ay_1**2 + az_1**2)*sqrt(ax_2**2 + ay_2**2 + az_2**2)*sqrt(ax_3**2 + ay_3**2 + az_3**2)) - ay_1*ay_3*az_2*theta_1**2*theta_2**2*theta_3**2/(110592*sqrt(ax_1**2 + ay_1**2 + az_1**2)*sqrt(ax_2**2 + ay_2**2 + az_2**2)*sqrt(ax_3**2 + ay_3**2 + az_3**2)) + ay_1*ay_3*az_2*theta_1**2*theta_2**2/(4608*sqrt(ax_1**2 + ay_1**2 + az_1**2)*sqrt(ax_2**2 + ay_2**2 + az_2**2)*sqrt(ax_3**2 + ay_3**2 + az_3**2)) + ay_1*ay_3*az_2*theta_1**2*theta_3**2/(4608*sqrt(ax_1**2 + ay_1**2 + az_1**2)*sqrt(ax_2**2 + ay_2**2 + az_2**2)*sqrt(ax_3**2 + ay_3**2 + az_3**2)) - ay_1*ay_3*az_2*theta_1**2/(192*sqrt(ax_1**2 + ay_1**2 + az_1**2)*sqrt(ax_2**2 + ay_2**2 + az_2**2)*sqrt(ax_3**2 + ay_3**2 + az_3**2)) + ay_1*ay_3*az_2*theta_2**2*theta_3**2/(4608*sqrt(ax_1**2 + ay_1**2 + az_1**2)*sqrt(ax_2**2 + ay_2**2 + az_2**2)*sqrt(ax_3**2 + ay_3**2 + az_3**2)) - ay_1*ay_3*az_2*theta_2**2/(192*sqrt(ax_1**2 + ay_1**2 + az_1**2)*sqrt(ax_2**2 + ay_2**2 + az_2**2)*sqrt(ax_3**2 + ay_3**2 + az_3**2)) - ay_1*ay_3*az_2*theta_3**2/(192*sqrt(ax_1**2 + ay_1**2 + az_1**2)*sqrt(ax_2**2 + ay_2**2 + az_2**2)*sqrt(ax_3**2 + ay_3**2 + az_3**2)) + ay_1*ay_3*az_2/(8*sqrt(ax_1**2 + ay_1**2 + az_1**2)*sqrt(ax_2**2 + ay_2**2 + az_2**2)*sqrt(ax_3**2 + ay_3**2 + az_3**2)) + ay_2*ay_3*az_1*theta_1**2*theta_2**2*theta_3**2/(110592*sqrt(ax_1**2 + ay_1**2 + az_1**2)*sqrt(ax_2**2 + ay_2**2 + az_2**2)*sqrt(ax_3**2 + ay_3**2 + az_3**2)) - ay_2*ay_3*az_1*theta_1**2*theta_2**2/(4608*sqrt(ax_1**2 + ay_1**2 + az_1**2)*sqrt(ax_2**2 + ay_2**2 + az_2**2)*sqrt(ax_3**2 + ay_3**2 + az_3**2)) - ay_2*ay_3*az_1*theta_1**2*theta_3**2/(4608*sqrt(ax_1**2 + ay_1**2 + az_1**2)*sqrt(ax_2**2 + ay_2**2 + az_2**2)*sqrt(ax_3**2 + ay_3**2 + az_3**2)) + ay_2*ay_3*az_1*theta_1**2/(192*sqrt(ax_1**2 + ay_1**2 + az_1**2)*sqrt(ax_2**2 + ay_2**2 + az_2**2)*sqrt(ax_3**2 + ay_3**2 + az_3**2)) - ay_2*ay_3*az_1*theta_2**2*theta_3**2/(4608*sqrt(ax_1**2 + ay_1**2 + az_1**2)*sqrt(ax_2**2 + ay_2**2 + az_2**2)*sqrt(ax_3**2 + ay_3**2 + az_3**2)) + ay_2*ay_3*az_1*theta_2**2/(192*sqrt(ax_1**2 + ay_1**2 + az_1**2)*sqrt(ax_2**2 + ay_2**2 + az_2**2)*sqrt(ax_3**2 + ay_3**2 + az_3**2)) + ay_2*ay_3*az_1*theta_3**2/(192*sqrt(ax_1**2 + ay_1**2 + az_1**2)*sqrt(ax_2**2 + ay_2**2 + az_2**2)*sqrt(ax_3**2 + ay_3**2 + az_3**2)) - ay_2*ay_3*az_1/(8*sqrt(ax_1**2 + ay_1**2 + az_1**2)*sqrt(ax_2**2 + ay_2**2 + az_2**2)*sqrt(ax_3**2 + ay_3**2 + az_3**2)) + az_1*az_2*az_3*theta_1**2*theta_2**2*theta_3**2/(110592*sqrt(ax_1**2 + ay_1**2 + az_1**2)*sqrt(ax_2**2 + ay_2**2 + az_2**2)*sqrt(ax_3**2 + ay_3**2 + az_3**2)) - az_1*az_2*az_3*theta_1**2*theta_2**2/(4608*sqrt(ax_1**2 + ay_1**2 + az_1**2)*sqrt(ax_2**2 + ay_2**2 + az_2**2)*sqrt(ax_3**2 + ay_3**2 + az_3**2)) - az_1*az_2*az_3*theta_1**2*theta_3**2/(4608*sqrt(ax_1**2 + ay_1**2 + az_1**2)*sqrt(ax_2**2 + ay_2**2 + az_2**2)*sqrt(ax_3**2 + ay_3**2 + az_3**2)) + az_1*az_2*az_3*theta_1**2/(192*sqrt(ax_1**2 + ay_1**2 + az_1**2)*sqrt(ax_2**2 + ay_2**2 + az_2**2)*sqrt(ax_3**2 + ay_3**2 + az_3**2)) - az_1*az_2*az_3*theta_2**2*theta_3**2/(4608*sqrt(ax_1**2 + ay_1**2 + az_1**2)*sqrt(ax_2**2 + ay_2**2 + az_2**2)*sqrt(ax_3**2 + ay_3**2 + az_3**2)) + az_1*az_2*az_3*theta_2**2/(192*sqrt(ax_1**2 + ay_1**2 + az_1**2)*sqrt(ax_2**2 + ay_2**2 + az_2**2)*sqrt(ax_3**2 + ay_3**2 + az_3**2)) + az_1*az_2*az_3*theta_3**2/(192*sqrt(ax_1**2 + ay_1**2 + az_1**2)*sqrt(ax_2**2 + ay_2**2 + az_2**2)*sqrt(ax_3**2 + ay_3**2 + az_3**2)) - az_1*az_2*az_3/(8*sqrt(ax_1**2 + ay_1**2 + az_1**2)*sqrt(ax_2**2 + ay_2**2 + az_2**2)*sqrt(ax_3**2 + ay_3**2 + az_3**2)) - az_1*theta_1**2*cos(theta_2/2)*cos(theta_3/2)/(48*sqrt(ax_1**2 + ay_1**2 + az_1**2)) + az_1*cos(theta_2/2)*cos(theta_3/2)/(2*sqrt(ax_1**2 + ay_1**2 + az_1**2)) - az_2*theta_2**2*cos(theta_1/2)*cos(theta_3/2)/(48*sqrt(ax_2**2 + ay_2**2 + az_2**2)) + az_2*cos(theta_1/2)*cos(theta_3/2)/(2*sqrt(ax_2**2 + ay_2**2 + az_2**2)) - az_3*theta_3**2*cos(theta_1/2)*cos(theta_2/2)/(48*sqrt(ax_3**2 + ay_3**2 + az_3**2)) + az_3*cos(theta_1/2)*cos(theta_2/2)/(2*sqrt(ax_3**2 + ay_3**2 + az_3**2)))*k],\n",
              "[(-0.00103985821759259*ax_1*ax_2*ax_3*theta_1**2*theta_2**2*theta_3**2/(sqrt(ax_1**2 + ay_1**2 + az_1**2)*sqrt(ax_2**2 + ay_2**2 + az_2**2)*sqrt(ax_3**2 + ay_3**2 + az_3**2)) + 0.0249565972222222*ax_1*ax_2*ax_3*theta_1**2*theta_2**2/(sqrt(ax_1**2 + ay_1**2 + az_1**2)*sqrt(ax_2**2 + ay_2**2 + az_2**2)*sqrt(ax_3**2 + ay_3**2 + az_3**2)) + 0.0249565972222222*ax_1*ax_2*ax_3*theta_1**2*theta_3**2/(sqrt(ax_1**2 + ay_1**2 + az_1**2)*sqrt(ax_2**2 + ay_2**2 + az_2**2)*sqrt(ax_3**2 + ay_3**2 + az_3**2)) - 0.598958333333333*ax_1*ax_2*ax_3*theta_1**2/(sqrt(ax_1**2 + ay_1**2 + az_1**2)*sqrt(ax_2**2 + ay_2**2 + az_2**2)*sqrt(ax_3**2 + ay_3**2 + az_3**2)) + 0.0249565972222222*ax_1*ax_2*ax_3*theta_2**2*theta_3**2/(sqrt(ax_1**2 + ay_1**2 + az_1**2)*sqrt(ax_2**2 + ay_2**2 + az_2**2)*sqrt(ax_3**2 + ay_3**2 + az_3**2)) - 0.598958333333333*ax_1*ax_2*ax_3*theta_2**2/(sqrt(ax_1**2 + ay_1**2 + az_1**2)*sqrt(ax_2**2 + ay_2**2 + az_2**2)*sqrt(ax_3**2 + ay_3**2 + az_3**2)) - 0.598958333333333*ax_1*ax_2*ax_3*theta_3**2/(sqrt(ax_1**2 + ay_1**2 + az_1**2)*sqrt(ax_2**2 + ay_2**2 + az_2**2)*sqrt(ax_3**2 + ay_3**2 + az_3**2)) + 14.375*ax_1*ax_2*ax_3/(sqrt(ax_1**2 + ay_1**2 + az_1**2)*sqrt(ax_2**2 + ay_2**2 + az_2**2)*sqrt(ax_3**2 + ay_3**2 + az_3**2)) - 0.000226056134259259*ax_1*ay_2*ay_3*theta_1**2*theta_2**2*theta_3**2/(sqrt(ax_1**2 + ay_1**2 + az_1**2)*sqrt(ax_2**2 + ay_2**2 + az_2**2)*sqrt(ax_3**2 + ay_3**2 + az_3**2)) + 0.00542534722222222*ax_1*ay_2*ay_3*theta_1**2*theta_2**2/(sqrt(ax_1**2 + ay_1**2 + az_1**2)*sqrt(ax_2**2 + ay_2**2 + az_2**2)*sqrt(ax_3**2 + ay_3**2 + az_3**2)) + 0.00542534722222222*ax_1*ay_2*ay_3*theta_1**2*theta_3**2/(sqrt(ax_1**2 + ay_1**2 + az_1**2)*sqrt(ax_2**2 + ay_2**2 + az_2**2)*sqrt(ax_3**2 + ay_3**2 + az_3**2)) - 0.130208333333333*ax_1*ay_2*ay_3*theta_1**2/(sqrt(ax_1**2 + ay_1**2 + az_1**2)*sqrt(ax_2**2 + ay_2**2 + az_2**2)*sqrt(ax_3**2 + ay_3**2 + az_3**2)) + 0.00542534722222222*ax_1*ay_2*ay_3*theta_2**2*theta_3**2/(sqrt(ax_1**2 + ay_1**2 + az_1**2)*sqrt(ax_2**2 + ay_2**2 + az_2**2)*sqrt(ax_3**2 + ay_3**2 + az_3**2)) - 0.130208333333333*ax_1*ay_2*ay_3*theta_2**2/(sqrt(ax_1**2 + ay_1**2 + az_1**2)*sqrt(ax_2**2 + ay_2**2 + az_2**2)*sqrt(ax_3**2 + ay_3**2 + az_3**2)) - 0.130208333333333*ax_1*ay_2*ay_3*theta_3**2/(sqrt(ax_1**2 + ay_1**2 + az_1**2)*sqrt(ax_2**2 + ay_2**2 + az_2**2)*sqrt(ax_3**2 + ay_3**2 + az_3**2)) + 3.125*ax_1*ay_2*ay_3/(sqrt(ax_1**2 + ay_1**2 + az_1**2)*sqrt(ax_2**2 + ay_2**2 + az_2**2)*sqrt(ax_3**2 + ay_3**2 + az_3**2)) - 0.000226056134259259*ax_1*az_2*az_3*theta_1**2*theta_2**2*theta_3**2/(sqrt(ax_1**2 + ay_1**2 + az_1**2)*sqrt(ax_2**2 + ay_2**2 + az_2**2)*sqrt(ax_3**2 + ay_3**2 + az_3**2)) + 0.00542534722222222*ax_1*az_2*az_3*theta_1**2*theta_2**2/(sqrt(ax_1**2 + ay_1**2 + az_1**2)*sqrt(ax_2**2 + ay_2**2 + az_2**2)*sqrt(ax_3**2 + ay_3**2 + az_3**2)) + 0.00542534722222222*ax_1*az_2*az_3*theta_1**2*theta_3**2/(sqrt(ax_1**2 + ay_1**2 + az_1**2)*sqrt(ax_2**2 + ay_2**2 + az_2**2)*sqrt(ax_3**2 + ay_3**2 + az_3**2)) - 0.130208333333333*ax_1*az_2*az_3*theta_1**2/(sqrt(ax_1**2 + ay_1**2 + az_1**2)*sqrt(ax_2**2 + ay_2**2 + az_2**2)*sqrt(ax_3**2 + ay_3**2 + az_3**2)) + 0.00542534722222222*ax_1*az_2*az_3*theta_2**2*theta_3**2/(sqrt(ax_1**2 + ay_1**2 + az_1**2)*sqrt(ax_2**2 + ay_2**2 + az_2**2)*sqrt(ax_3**2 + ay_3**2 + az_3**2)) - 0.130208333333333*ax_1*az_2*az_3*theta_2**2/(sqrt(ax_1**2 + ay_1**2 + az_1**2)*sqrt(ax_2**2 + ay_2**2 + az_2**2)*sqrt(ax_3**2 + ay_3**2 + az_3**2)) - 0.130208333333333*ax_1*az_2*az_3*theta_3**2/(sqrt(ax_1**2 + ay_1**2 + az_1**2)*sqrt(ax_2**2 + ay_2**2 + az_2**2)*sqrt(ax_3**2 + ay_3**2 + az_3**2)) + 3.125*ax_1*az_2*az_3/(sqrt(ax_1**2 + ay_1**2 + az_1**2)*sqrt(ax_2**2 + ay_2**2 + az_2**2)*sqrt(ax_3**2 + ay_3**2 + az_3**2)) + 2.39583333333333*ax_1*theta_1**2*cos(theta_2/2)*cos(theta_3/2)/sqrt(ax_1**2 + ay_1**2 + az_1**2) - 57.5*ax_1*cos(theta_2/2)*cos(theta_3/2)/sqrt(ax_1**2 + ay_1**2 + az_1**2) - 4.52112268518518e-5*ax_2*ay_1*ay_3*theta_1**2*theta_2**2*theta_3**2/(sqrt(ax_1**2 + ay_1**2 + az_1**2)*sqrt(ax_2**2 + ay_2**2 + az_2**2)*sqrt(ax_3**2 + ay_3**2 + az_3**2)) + 0.00108506944444444*ax_2*ay_1*ay_3*theta_1**2*theta_2**2/(sqrt(ax_1**2 + ay_1**2 + az_1**2)*sqrt(ax_2**2 + ay_2**2 + az_2**2)*sqrt(ax_3**2 + ay_3**2 + az_3**2)) + 0.00108506944444444*ax_2*ay_1*ay_3*theta_1**2*theta_3**2/(sqrt(ax_1**2 + ay_1**2 + az_1**2)*sqrt(ax_2**2 + ay_2**2 + az_2**2)*sqrt(ax_3**2 + ay_3**2 + az_3**2)) - 0.0260416666666667*ax_2*ay_1*ay_3*theta_1**2/(sqrt(ax_1**2 + ay_1**2 + az_1**2)*sqrt(ax_2**2 + ay_2**2 + az_2**2)*sqrt(ax_3**2 + ay_3**2 + az_3**2)) + 0.00108506944444444*ax_2*ay_1*ay_3*theta_2**2*theta_3**2/(sqrt(ax_1**2 + ay_1**2 + az_1**2)*sqrt(ax_2**2 + ay_2**2 + az_2**2)*sqrt(ax_3**2 + ay_3**2 + az_3**2)) - 0.0260416666666667*ax_2*ay_1*ay_3*theta_2**2/(sqrt(ax_1**2 + ay_1**2 + az_1**2)*sqrt(ax_2**2 + ay_2**2 + az_2**2)*sqrt(ax_3**2 + ay_3**2 + az_3**2)) - 0.0260416666666667*ax_2*ay_1*ay_3*theta_3**2/(sqrt(ax_1**2 + ay_1**2 + az_1**2)*sqrt(ax_2**2 + ay_2**2 + az_2**2)*sqrt(ax_3**2 + ay_3**2 + az_3**2)) + 0.625*ax_2*ay_1*ay_3/(sqrt(ax_1**2 + ay_1**2 + az_1**2)*sqrt(ax_2**2 + ay_2**2 + az_2**2)*sqrt(ax_3**2 + ay_3**2 + az_3**2)) - 4.52112268518518e-5*ax_2*az_1*az_3*theta_1**2*theta_2**2*theta_3**2/(sqrt(ax_1**2 + ay_1**2 + az_1**2)*sqrt(ax_2**2 + ay_2**2 + az_2**2)*sqrt(ax_3**2 + ay_3**2 + az_3**2)) + 0.00108506944444444*ax_2*az_1*az_3*theta_1**2*theta_2**2/(sqrt(ax_1**2 + ay_1**2 + az_1**2)*sqrt(ax_2**2 + ay_2**2 + az_2**2)*sqrt(ax_3**2 + ay_3**2 + az_3**2)) + 0.00108506944444444*ax_2*az_1*az_3*theta_1**2*theta_3**2/(sqrt(ax_1**2 + ay_1**2 + az_1**2)*sqrt(ax_2**2 + ay_2**2 + az_2**2)*sqrt(ax_3**2 + ay_3**2 + az_3**2)) - 0.0260416666666667*ax_2*az_1*az_3*theta_1**2/(sqrt(ax_1**2 + ay_1**2 + az_1**2)*sqrt(ax_2**2 + ay_2**2 + az_2**2)*sqrt(ax_3**2 + ay_3**2 + az_3**2)) + 0.00108506944444444*ax_2*az_1*az_3*theta_2**2*theta_3**2/(sqrt(ax_1**2 + ay_1**2 + az_1**2)*sqrt(ax_2**2 + ay_2**2 + az_2**2)*sqrt(ax_3**2 + ay_3**2 + az_3**2)) - 0.0260416666666667*ax_2*az_1*az_3*theta_2**2/(sqrt(ax_1**2 + ay_1**2 + az_1**2)*sqrt(ax_2**2 + ay_2**2 + az_2**2)*sqrt(ax_3**2 + ay_3**2 + az_3**2)) - 0.0260416666666667*ax_2*az_1*az_3*theta_3**2/(sqrt(ax_1**2 + ay_1**2 + az_1**2)*sqrt(ax_2**2 + ay_2**2 + az_2**2)*sqrt(ax_3**2 + ay_3**2 + az_3**2)) + 0.625*ax_2*az_1*az_3/(sqrt(ax_1**2 + ay_1**2 + az_1**2)*sqrt(ax_2**2 + ay_2**2 + az_2**2)*sqrt(ax_3**2 + ay_3**2 + az_3**2)) + 2.39583333333333*ax_2*theta_2**2*cos(theta_1/2)*cos(theta_3/2)/sqrt(ax_2**2 + ay_2**2 + az_2**2) - 57.5*ax_2*cos(theta_1/2)*cos(theta_3/2)/sqrt(ax_2**2 + ay_2**2 + az_2**2) - 0.000768590856481481*ax_3*ay_1*ay_2*theta_1**2*theta_2**2*theta_3**2/(sqrt(ax_1**2 + ay_1**2 + az_1**2)*sqrt(ax_2**2 + ay_2**2 + az_2**2)*sqrt(ax_3**2 + ay_3**2 + az_3**2)) + 0.0184461805555556*ax_3*ay_1*ay_2*theta_1**2*theta_2**2/(sqrt(ax_1**2 + ay_1**2 + az_1**2)*sqrt(ax_2**2 + ay_2**2 + az_2**2)*sqrt(ax_3**2 + ay_3**2 + az_3**2)) + 0.0184461805555556*ax_3*ay_1*ay_2*theta_1**2*theta_3**2/(sqrt(ax_1**2 + ay_1**2 + az_1**2)*sqrt(ax_2**2 + ay_2**2 + az_2**2)*sqrt(ax_3**2 + ay_3**2 + az_3**2)) - 0.442708333333333*ax_3*ay_1*ay_2*theta_1**2/(sqrt(ax_1**2 + ay_1**2 + az_1**2)*sqrt(ax_2**2 + ay_2**2 + az_2**2)*sqrt(ax_3**2 + ay_3**2 + az_3**2)) + 0.0184461805555556*ax_3*ay_1*ay_2*theta_2**2*theta_3**2/(sqrt(ax_1**2 + ay_1**2 + az_1**2)*sqrt(ax_2**2 + ay_2**2 + az_2**2)*sqrt(ax_3**2 + ay_3**2 + az_3**2)) - 0.442708333333333*ax_3*ay_1*ay_2*theta_2**2/(sqrt(ax_1**2 + ay_1**2 + az_1**2)*sqrt(ax_2**2 + ay_2**2 + az_2**2)*sqrt(ax_3**2 + ay_3**2 + az_3**2)) - 0.442708333333333*ax_3*ay_1*ay_2*theta_3**2/(sqrt(ax_1**2 + ay_1**2 + az_1**2)*sqrt(ax_2**2 + ay_2**2 + az_2**2)*sqrt(ax_3**2 + ay_3**2 + az_3**2)) + 10.625*ax_3*ay_1*ay_2/(sqrt(ax_1**2 + ay_1**2 + az_1**2)*sqrt(ax_2**2 + ay_2**2 + az_2**2)*sqrt(ax_3**2 + ay_3**2 + az_3**2)) - 0.000768590856481481*ax_3*az_1*az_2*theta_1**2*theta_2**2*theta_3**2/(sqrt(ax_1**2 + ay_1**2 + az_1**2)*sqrt(ax_2**2 + ay_2**2 + az_2**2)*sqrt(ax_3**2 + ay_3**2 + az_3**2)) + 0.0184461805555556*ax_3*az_1*az_2*theta_1**2*theta_2**2/(sqrt(ax_1**2 + ay_1**2 + az_1**2)*sqrt(ax_2**2 + ay_2**2 + az_2**2)*sqrt(ax_3**2 + ay_3**2 + az_3**2)) + 0.0184461805555556*ax_3*az_1*az_2*theta_1**2*theta_3**2/(sqrt(ax_1**2 + ay_1**2 + az_1**2)*sqrt(ax_2**2 + ay_2**2 + az_2**2)*sqrt(ax_3**2 + ay_3**2 + az_3**2)) - 0.442708333333333*ax_3*az_1*az_2*theta_1**2/(sqrt(ax_1**2 + ay_1**2 + az_1**2)*sqrt(ax_2**2 + ay_2**2 + az_2**2)*sqrt(ax_3**2 + ay_3**2 + az_3**2)) + 0.0184461805555556*ax_3*az_1*az_2*theta_2**2*theta_3**2/(sqrt(ax_1**2 + ay_1**2 + az_1**2)*sqrt(ax_2**2 + ay_2**2 + az_2**2)*sqrt(ax_3**2 + ay_3**2 + az_3**2)) - 0.442708333333333*ax_3*az_1*az_2*theta_2**2/(sqrt(ax_1**2 + ay_1**2 + az_1**2)*sqrt(ax_2**2 + ay_2**2 + az_2**2)*sqrt(ax_3**2 + ay_3**2 + az_3**2)) - 0.442708333333333*ax_3*az_1*az_2*theta_3**2/(sqrt(ax_1**2 + ay_1**2 + az_1**2)*sqrt(ax_2**2 + ay_2**2 + az_2**2)*sqrt(ax_3**2 + ay_3**2 + az_3**2)) + 10.625*ax_3*az_1*az_2/(sqrt(ax_1**2 + ay_1**2 + az_1**2)*sqrt(ax_2**2 + ay_2**2 + az_2**2)*sqrt(ax_3**2 + ay_3**2 + az_3**2)) + 2.39583333333333*ax_3*theta_3**2*cos(theta_1/2)*cos(theta_2/2)/sqrt(ax_3**2 + ay_3**2 + az_3**2) - 57.5*ax_3*cos(theta_1/2)*cos(theta_2/2)/sqrt(ax_3**2 + ay_3**2 + az_3**2) - 0.0368923611111111*ay_1*az_2*theta_1**2*theta_2**2*cos(theta_3/2)/(sqrt(ax_1**2 + ay_1**2 + az_1**2)*sqrt(ax_2**2 + ay_2**2 + az_2**2)) + 0.885416666666667*ay_1*az_2*theta_1**2*cos(theta_3/2)/(sqrt(ax_1**2 + ay_1**2 + az_1**2)*sqrt(ax_2**2 + ay_2**2 + az_2**2)) + 0.885416666666667*ay_1*az_2*theta_2**2*cos(theta_3/2)/(sqrt(ax_1**2 + ay_1**2 + az_1**2)*sqrt(ax_2**2 + ay_2**2 + az_2**2)) - 21.25*ay_1*az_2*cos(theta_3/2)/(sqrt(ax_1**2 + ay_1**2 + az_1**2)*sqrt(ax_2**2 + ay_2**2 + az_2**2)) + 0.00217013888888889*ay_1*az_3*theta_1**2*theta_3**2*cos(theta_2/2)/(sqrt(ax_1**2 + ay_1**2 + az_1**2)*sqrt(ax_3**2 + ay_3**2 + az_3**2)) - 0.0520833333333334*ay_1*az_3*theta_1**2*cos(theta_2/2)/(sqrt(ax_1**2 + ay_1**2 + az_1**2)*sqrt(ax_3**2 + ay_3**2 + az_3**2)) - 0.0520833333333334*ay_1*az_3*theta_3**2*cos(theta_2/2)/(sqrt(ax_1**2 + ay_1**2 + az_1**2)*sqrt(ax_3**2 + ay_3**2 + az_3**2)) + 1.25*ay_1*az_3*cos(theta_2/2)/(sqrt(ax_1**2 + ay_1**2 + az_1**2)*sqrt(ax_3**2 + ay_3**2 + az_3**2)) + 0.0368923611111111*ay_2*az_1*theta_1**2*theta_2**2*cos(theta_3/2)/(sqrt(ax_1**2 + ay_1**2 + az_1**2)*sqrt(ax_2**2 + ay_2**2 + az_2**2)) - 0.885416666666667*ay_2*az_1*theta_1**2*cos(theta_3/2)/(sqrt(ax_1**2 + ay_1**2 + az_1**2)*sqrt(ax_2**2 + ay_2**2 + az_2**2)) - 0.885416666666667*ay_2*az_1*theta_2**2*cos(theta_3/2)/(sqrt(ax_1**2 + ay_1**2 + az_1**2)*sqrt(ax_2**2 + ay_2**2 + az_2**2)) + 21.25*ay_2*az_1*cos(theta_3/2)/(sqrt(ax_1**2 + ay_1**2 + az_1**2)*sqrt(ax_2**2 + ay_2**2 + az_2**2)) - 0.0108506944444444*ay_2*az_3*theta_2**2*theta_3**2*cos(theta_1/2)/(sqrt(ax_2**2 + ay_2**2 + az_2**2)*sqrt(ax_3**2 + ay_3**2 + az_3**2)) + 0.260416666666667*ay_2*az_3*theta_2**2*cos(theta_1/2)/(sqrt(ax_2**2 + ay_2**2 + az_2**2)*sqrt(ax_3**2 + ay_3**2 + az_3**2)) + 0.260416666666667*ay_2*az_3*theta_3**2*cos(theta_1/2)/(sqrt(ax_2**2 + ay_2**2 + az_2**2)*sqrt(ax_3**2 + ay_3**2 + az_3**2)) - 6.25*ay_2*az_3*cos(theta_1/2)/(sqrt(ax_2**2 + ay_2**2 + az_2**2)*sqrt(ax_3**2 + ay_3**2 + az_3**2)) - 0.00217013888888889*ay_3*az_1*theta_1**2*theta_3**2*cos(theta_2/2)/(sqrt(ax_1**2 + ay_1**2 + az_1**2)*sqrt(ax_3**2 + ay_3**2 + az_3**2)) + 0.0520833333333334*ay_3*az_1*theta_1**2*cos(theta_2/2)/(sqrt(ax_1**2 + ay_1**2 + az_1**2)*sqrt(ax_3**2 + ay_3**2 + az_3**2)) + 0.0520833333333334*ay_3*az_1*theta_3**2*cos(theta_2/2)/(sqrt(ax_1**2 + ay_1**2 + az_1**2)*sqrt(ax_3**2 + ay_3**2 + az_3**2)) - 1.25*ay_3*az_1*cos(theta_2/2)/(sqrt(ax_1**2 + ay_1**2 + az_1**2)*sqrt(ax_3**2 + ay_3**2 + az_3**2)) + 0.0108506944444444*ay_3*az_2*theta_2**2*theta_3**2*cos(theta_1/2)/(sqrt(ax_2**2 + ay_2**2 + az_2**2)*sqrt(ax_3**2 + ay_3**2 + az_3**2)) - 0.260416666666667*ay_3*az_2*theta_2**2*cos(theta_1/2)/(sqrt(ax_2**2 + ay_2**2 + az_2**2)*sqrt(ax_3**2 + ay_3**2 + az_3**2)) - 0.260416666666667*ay_3*az_2*theta_3**2*cos(theta_1/2)/(sqrt(ax_2**2 + ay_2**2 + az_2**2)*sqrt(ax_3**2 + ay_3**2 + az_3**2)) + 6.25*ay_3*az_2*cos(theta_1/2)/(sqrt(ax_2**2 + ay_2**2 + az_2**2)*sqrt(ax_3**2 + ay_3**2 + az_3**2))) + (-0.0499131944444444*ax_1*ax_2*theta_1**2*theta_2**2*cos(theta_3/2)/(sqrt(ax_1**2 + ay_1**2 + az_1**2)*sqrt(ax_2**2 + ay_2**2 + az_2**2)) + 1.19791666666667*ax_1*ax_2*theta_1**2*cos(theta_3/2)/(sqrt(ax_1**2 + ay_1**2 + az_1**2)*sqrt(ax_2**2 + ay_2**2 + az_2**2)) + 1.19791666666667*ax_1*ax_2*theta_2**2*cos(theta_3/2)/(sqrt(ax_1**2 + ay_1**2 + az_1**2)*sqrt(ax_2**2 + ay_2**2 + az_2**2)) - 28.75*ax_1*ax_2*cos(theta_3/2)/(sqrt(ax_1**2 + ay_1**2 + az_1**2)*sqrt(ax_2**2 + ay_2**2 + az_2**2)) - 0.0499131944444444*ax_1*ax_3*theta_1**2*theta_3**2*cos(theta_2/2)/(sqrt(ax_1**2 + ay_1**2 + az_1**2)*sqrt(ax_3**2 + ay_3**2 + az_3**2)) + 1.19791666666667*ax_1*ax_3*theta_1**2*cos(theta_2/2)/(sqrt(ax_1**2 + ay_1**2 + az_1**2)*sqrt(ax_3**2 + ay_3**2 + az_3**2)) + 1.19791666666667*ax_1*ax_3*theta_3**2*cos(theta_2/2)/(sqrt(ax_1**2 + ay_1**2 + az_1**2)*sqrt(ax_3**2 + ay_3**2 + az_3**2)) - 28.75*ax_1*ax_3*cos(theta_2/2)/(sqrt(ax_1**2 + ay_1**2 + az_1**2)*sqrt(ax_3**2 + ay_3**2 + az_3**2)) + 0.000226056134259259*ax_1*ay_2*az_3*theta_1**2*theta_2**2*theta_3**2/(sqrt(ax_1**2 + ay_1**2 + az_1**2)*sqrt(ax_2**2 + ay_2**2 + az_2**2)*sqrt(ax_3**2 + ay_3**2 + az_3**2)) - 0.00542534722222222*ax_1*ay_2*az_3*theta_1**2*theta_2**2/(sqrt(ax_1**2 + ay_1**2 + az_1**2)*sqrt(ax_2**2 + ay_2**2 + az_2**2)*sqrt(ax_3**2 + ay_3**2 + az_3**2)) - 0.00542534722222222*ax_1*ay_2*az_3*theta_1**2*theta_3**2/(sqrt(ax_1**2 + ay_1**2 + az_1**2)*sqrt(ax_2**2 + ay_2**2 + az_2**2)*sqrt(ax_3**2 + ay_3**2 + az_3**2)) + 0.130208333333333*ax_1*ay_2*az_3*theta_1**2/(sqrt(ax_1**2 + ay_1**2 + az_1**2)*sqrt(ax_2**2 + ay_2**2 + az_2**2)*sqrt(ax_3**2 + ay_3**2 + az_3**2)) - 0.00542534722222222*ax_1*ay_2*az_3*theta_2**2*theta_3**2/(sqrt(ax_1**2 + ay_1**2 + az_1**2)*sqrt(ax_2**2 + ay_2**2 + az_2**2)*sqrt(ax_3**2 + ay_3**2 + az_3**2)) + 0.130208333333333*ax_1*ay_2*az_3*theta_2**2/(sqrt(ax_1**2 + ay_1**2 + az_1**2)*sqrt(ax_2**2 + ay_2**2 + az_2**2)*sqrt(ax_3**2 + ay_3**2 + az_3**2)) + 0.130208333333333*ax_1*ay_2*az_3*theta_3**2/(sqrt(ax_1**2 + ay_1**2 + az_1**2)*sqrt(ax_2**2 + ay_2**2 + az_2**2)*sqrt(ax_3**2 + ay_3**2 + az_3**2)) - 3.125*ax_1*ay_2*az_3/(sqrt(ax_1**2 + ay_1**2 + az_1**2)*sqrt(ax_2**2 + ay_2**2 + az_2**2)*sqrt(ax_3**2 + ay_3**2 + az_3**2)) - 0.000226056134259259*ax_1*ay_3*az_2*theta_1**2*theta_2**2*theta_3**2/(sqrt(ax_1**2 + ay_1**2 + az_1**2)*sqrt(ax_2**2 + ay_2**2 + az_2**2)*sqrt(ax_3**2 + ay_3**2 + az_3**2)) + 0.00542534722222222*ax_1*ay_3*az_2*theta_1**2*theta_2**2/(sqrt(ax_1**2 + ay_1**2 + az_1**2)*sqrt(ax_2**2 + ay_2**2 + az_2**2)*sqrt(ax_3**2 + ay_3**2 + az_3**2)) + 0.00542534722222222*ax_1*ay_3*az_2*theta_1**2*theta_3**2/(sqrt(ax_1**2 + ay_1**2 + az_1**2)*sqrt(ax_2**2 + ay_2**2 + az_2**2)*sqrt(ax_3**2 + ay_3**2 + az_3**2)) - 0.130208333333333*ax_1*ay_3*az_2*theta_1**2/(sqrt(ax_1**2 + ay_1**2 + az_1**2)*sqrt(ax_2**2 + ay_2**2 + az_2**2)*sqrt(ax_3**2 + ay_3**2 + az_3**2)) + 0.00542534722222222*ax_1*ay_3*az_2*theta_2**2*theta_3**2/(sqrt(ax_1**2 + ay_1**2 + az_1**2)*sqrt(ax_2**2 + ay_2**2 + az_2**2)*sqrt(ax_3**2 + ay_3**2 + az_3**2)) - 0.130208333333333*ax_1*ay_3*az_2*theta_2**2/(sqrt(ax_1**2 + ay_1**2 + az_1**2)*sqrt(ax_2**2 + ay_2**2 + az_2**2)*sqrt(ax_3**2 + ay_3**2 + az_3**2)) - 0.130208333333333*ax_1*ay_3*az_2*theta_3**2/(sqrt(ax_1**2 + ay_1**2 + az_1**2)*sqrt(ax_2**2 + ay_2**2 + az_2**2)*sqrt(ax_3**2 + ay_3**2 + az_3**2)) + 3.125*ax_1*ay_3*az_2/(sqrt(ax_1**2 + ay_1**2 + az_1**2)*sqrt(ax_2**2 + ay_2**2 + az_2**2)*sqrt(ax_3**2 + ay_3**2 + az_3**2)) - 0.0499131944444444*ax_2*ax_3*theta_2**2*theta_3**2*cos(theta_1/2)/(sqrt(ax_2**2 + ay_2**2 + az_2**2)*sqrt(ax_3**2 + ay_3**2 + az_3**2)) + 1.19791666666667*ax_2*ax_3*theta_2**2*cos(theta_1/2)/(sqrt(ax_2**2 + ay_2**2 + az_2**2)*sqrt(ax_3**2 + ay_3**2 + az_3**2)) + 1.19791666666667*ax_2*ax_3*theta_3**2*cos(theta_1/2)/(sqrt(ax_2**2 + ay_2**2 + az_2**2)*sqrt(ax_3**2 + ay_3**2 + az_3**2)) - 28.75*ax_2*ax_3*cos(theta_1/2)/(sqrt(ax_2**2 + ay_2**2 + az_2**2)*sqrt(ax_3**2 + ay_3**2 + az_3**2)) + 4.52112268518518e-5*ax_2*ay_1*az_3*theta_1**2*theta_2**2*theta_3**2/(sqrt(ax_1**2 + ay_1**2 + az_1**2)*sqrt(ax_2**2 + ay_2**2 + az_2**2)*sqrt(ax_3**2 + ay_3**2 + az_3**2)) - 0.00108506944444444*ax_2*ay_1*az_3*theta_1**2*theta_2**2/(sqrt(ax_1**2 + ay_1**2 + az_1**2)*sqrt(ax_2**2 + ay_2**2 + az_2**2)*sqrt(ax_3**2 + ay_3**2 + az_3**2)) - 0.00108506944444444*ax_2*ay_1*az_3*theta_1**2*theta_3**2/(sqrt(ax_1**2 + ay_1**2 + az_1**2)*sqrt(ax_2**2 + ay_2**2 + az_2**2)*sqrt(ax_3**2 + ay_3**2 + az_3**2)) + 0.0260416666666667*ax_2*ay_1*az_3*theta_1**2/(sqrt(ax_1**2 + ay_1**2 + az_1**2)*sqrt(ax_2**2 + ay_2**2 + az_2**2)*sqrt(ax_3**2 + ay_3**2 + az_3**2)) - 0.00108506944444444*ax_2*ay_1*az_3*theta_2**2*theta_3**2/(sqrt(ax_1**2 + ay_1**2 + az_1**2)*sqrt(ax_2**2 + ay_2**2 + az_2**2)*sqrt(ax_3**2 + ay_3**2 + az_3**2)) + 0.0260416666666667*ax_2*ay_1*az_3*theta_2**2/(sqrt(ax_1**2 + ay_1**2 + az_1**2)*sqrt(ax_2**2 + ay_2**2 + az_2**2)*sqrt(ax_3**2 + ay_3**2 + az_3**2)) + 0.0260416666666667*ax_2*ay_1*az_3*theta_3**2/(sqrt(ax_1**2 + ay_1**2 + az_1**2)*sqrt(ax_2**2 + ay_2**2 + az_2**2)*sqrt(ax_3**2 + ay_3**2 + az_3**2)) - 0.625*ax_2*ay_1*az_3/(sqrt(ax_1**2 + ay_1**2 + az_1**2)*sqrt(ax_2**2 + ay_2**2 + az_2**2)*sqrt(ax_3**2 + ay_3**2 + az_3**2)) - 4.52112268518518e-5*ax_2*ay_3*az_1*theta_1**2*theta_2**2*theta_3**2/(sqrt(ax_1**2 + ay_1**2 + az_1**2)*sqrt(ax_2**2 + ay_2**2 + az_2**2)*sqrt(ax_3**2 + ay_3**2 + az_3**2)) + 0.00108506944444444*ax_2*ay_3*az_1*theta_1**2*theta_2**2/(sqrt(ax_1**2 + ay_1**2 + az_1**2)*sqrt(ax_2**2 + ay_2**2 + az_2**2)*sqrt(ax_3**2 + ay_3**2 + az_3**2)) + 0.00108506944444444*ax_2*ay_3*az_1*theta_1**2*theta_3**2/(sqrt(ax_1**2 + ay_1**2 + az_1**2)*sqrt(ax_2**2 + ay_2**2 + az_2**2)*sqrt(ax_3**2 + ay_3**2 + az_3**2)) - 0.0260416666666667*ax_2*ay_3*az_1*theta_1**2/(sqrt(ax_1**2 + ay_1**2 + az_1**2)*sqrt(ax_2**2 + ay_2**2 + az_2**2)*sqrt(ax_3**2 + ay_3**2 + az_3**2)) + 0.00108506944444444*ax_2*ay_3*az_1*theta_2**2*theta_3**2/(sqrt(ax_1**2 + ay_1**2 + az_1**2)*sqrt(ax_2**2 + ay_2**2 + az_2**2)*sqrt(ax_3**2 + ay_3**2 + az_3**2)) - 0.0260416666666667*ax_2*ay_3*az_1*theta_2**2/(sqrt(ax_1**2 + ay_1**2 + az_1**2)*sqrt(ax_2**2 + ay_2**2 + az_2**2)*sqrt(ax_3**2 + ay_3**2 + az_3**2)) - 0.0260416666666667*ax_2*ay_3*az_1*theta_3**2/(sqrt(ax_1**2 + ay_1**2 + az_1**2)*sqrt(ax_2**2 + ay_2**2 + az_2**2)*sqrt(ax_3**2 + ay_3**2 + az_3**2)) + 0.625*ax_2*ay_3*az_1/(sqrt(ax_1**2 + ay_1**2 + az_1**2)*sqrt(ax_2**2 + ay_2**2 + az_2**2)*sqrt(ax_3**2 + ay_3**2 + az_3**2)) + 0.000768590856481481*ax_3*ay_1*az_2*theta_1**2*theta_2**2*theta_3**2/(sqrt(ax_1**2 + ay_1**2 + az_1**2)*sqrt(ax_2**2 + ay_2**2 + az_2**2)*sqrt(ax_3**2 + ay_3**2 + az_3**2)) - 0.0184461805555556*ax_3*ay_1*az_2*theta_1**2*theta_2**2/(sqrt(ax_1**2 + ay_1**2 + az_1**2)*sqrt(ax_2**2 + ay_2**2 + az_2**2)*sqrt(ax_3**2 + ay_3**2 + az_3**2)) - 0.0184461805555556*ax_3*ay_1*az_2*theta_1**2*theta_3**2/(sqrt(ax_1**2 + ay_1**2 + az_1**2)*sqrt(ax_2**2 + ay_2**2 + az_2**2)*sqrt(ax_3**2 + ay_3**2 + az_3**2)) + 0.442708333333333*ax_3*ay_1*az_2*theta_1**2/(sqrt(ax_1**2 + ay_1**2 + az_1**2)*sqrt(ax_2**2 + ay_2**2 + az_2**2)*sqrt(ax_3**2 + ay_3**2 + az_3**2)) - 0.0184461805555556*ax_3*ay_1*az_2*theta_2**2*theta_3**2/(sqrt(ax_1**2 + ay_1**2 + az_1**2)*sqrt(ax_2**2 + ay_2**2 + az_2**2)*sqrt(ax_3**2 + ay_3**2 + az_3**2)) + 0.442708333333333*ax_3*ay_1*az_2*theta_2**2/(sqrt(ax_1**2 + ay_1**2 + az_1**2)*sqrt(ax_2**2 + ay_2**2 + az_2**2)*sqrt(ax_3**2 + ay_3**2 + az_3**2)) + 0.442708333333333*ax_3*ay_1*az_2*theta_3**2/(sqrt(ax_1**2 + ay_1**2 + az_1**2)*sqrt(ax_2**2 + ay_2**2 + az_2**2)*sqrt(ax_3**2 + ay_3**2 + az_3**2)) - 10.625*ax_3*ay_1*az_2/(sqrt(ax_1**2 + ay_1**2 + az_1**2)*sqrt(ax_2**2 + ay_2**2 + az_2**2)*sqrt(ax_3**2 + ay_3**2 + az_3**2)) - 0.000768590856481481*ax_3*ay_2*az_1*theta_1**2*theta_2**2*theta_3**2/(sqrt(ax_1**2 + ay_1**2 + az_1**2)*sqrt(ax_2**2 + ay_2**2 + az_2**2)*sqrt(ax_3**2 + ay_3**2 + az_3**2)) + 0.0184461805555556*ax_3*ay_2*az_1*theta_1**2*theta_2**2/(sqrt(ax_1**2 + ay_1**2 + az_1**2)*sqrt(ax_2**2 + ay_2**2 + az_2**2)*sqrt(ax_3**2 + ay_3**2 + az_3**2)) + 0.0184461805555556*ax_3*ay_2*az_1*theta_1**2*theta_3**2/(sqrt(ax_1**2 + ay_1**2 + az_1**2)*sqrt(ax_2**2 + ay_2**2 + az_2**2)*sqrt(ax_3**2 + ay_3**2 + az_3**2)) - 0.442708333333333*ax_3*ay_2*az_1*theta_1**2/(sqrt(ax_1**2 + ay_1**2 + az_1**2)*sqrt(ax_2**2 + ay_2**2 + az_2**2)*sqrt(ax_3**2 + ay_3**2 + az_3**2)) + 0.0184461805555556*ax_3*ay_2*az_1*theta_2**2*theta_3**2/(sqrt(ax_1**2 + ay_1**2 + az_1**2)*sqrt(ax_2**2 + ay_2**2 + az_2**2)*sqrt(ax_3**2 + ay_3**2 + az_3**2)) - 0.442708333333333*ax_3*ay_2*az_1*theta_2**2/(sqrt(ax_1**2 + ay_1**2 + az_1**2)*sqrt(ax_2**2 + ay_2**2 + az_2**2)*sqrt(ax_3**2 + ay_3**2 + az_3**2)) - 0.442708333333333*ax_3*ay_2*az_1*theta_3**2/(sqrt(ax_1**2 + ay_1**2 + az_1**2)*sqrt(ax_2**2 + ay_2**2 + az_2**2)*sqrt(ax_3**2 + ay_3**2 + az_3**2)) + 10.625*ax_3*ay_2*az_1/(sqrt(ax_1**2 + ay_1**2 + az_1**2)*sqrt(ax_2**2 + ay_2**2 + az_2**2)*sqrt(ax_3**2 + ay_3**2 + az_3**2)) - 0.0368923611111111*ay_1*ay_2*theta_1**2*theta_2**2*cos(theta_3/2)/(sqrt(ax_1**2 + ay_1**2 + az_1**2)*sqrt(ax_2**2 + ay_2**2 + az_2**2)) + 0.885416666666667*ay_1*ay_2*theta_1**2*cos(theta_3/2)/(sqrt(ax_1**2 + ay_1**2 + az_1**2)*sqrt(ax_2**2 + ay_2**2 + az_2**2)) + 0.885416666666667*ay_1*ay_2*theta_2**2*cos(theta_3/2)/(sqrt(ax_1**2 + ay_1**2 + az_1**2)*sqrt(ax_2**2 + ay_2**2 + az_2**2)) - 21.25*ay_1*ay_2*cos(theta_3/2)/(sqrt(ax_1**2 + ay_1**2 + az_1**2)*sqrt(ax_2**2 + ay_2**2 + az_2**2)) + 0.00217013888888889*ay_1*ay_3*theta_1**2*theta_3**2*cos(theta_2/2)/(sqrt(ax_1**2 + ay_1**2 + az_1**2)*sqrt(ax_3**2 + ay_3**2 + az_3**2)) - 0.0520833333333334*ay_1*ay_3*theta_1**2*cos(theta_2/2)/(sqrt(ax_1**2 + ay_1**2 + az_1**2)*sqrt(ax_3**2 + ay_3**2 + az_3**2)) - 0.0520833333333334*ay_1*ay_3*theta_3**2*cos(theta_2/2)/(sqrt(ax_1**2 + ay_1**2 + az_1**2)*sqrt(ax_3**2 + ay_3**2 + az_3**2)) + 1.25*ay_1*ay_3*cos(theta_2/2)/(sqrt(ax_1**2 + ay_1**2 + az_1**2)*sqrt(ax_3**2 + ay_3**2 + az_3**2)) - 0.0108506944444444*ay_2*ay_3*theta_2**2*theta_3**2*cos(theta_1/2)/(sqrt(ax_2**2 + ay_2**2 + az_2**2)*sqrt(ax_3**2 + ay_3**2 + az_3**2)) + 0.260416666666667*ay_2*ay_3*theta_2**2*cos(theta_1/2)/(sqrt(ax_2**2 + ay_2**2 + az_2**2)*sqrt(ax_3**2 + ay_3**2 + az_3**2)) + 0.260416666666667*ay_2*ay_3*theta_3**2*cos(theta_1/2)/(sqrt(ax_2**2 + ay_2**2 + az_2**2)*sqrt(ax_3**2 + ay_3**2 + az_3**2)) - 6.25*ay_2*ay_3*cos(theta_1/2)/(sqrt(ax_2**2 + ay_2**2 + az_2**2)*sqrt(ax_3**2 + ay_3**2 + az_3**2)) - 0.0368923611111111*az_1*az_2*theta_1**2*theta_2**2*cos(theta_3/2)/(sqrt(ax_1**2 + ay_1**2 + az_1**2)*sqrt(ax_2**2 + ay_2**2 + az_2**2)) + 0.885416666666667*az_1*az_2*theta_1**2*cos(theta_3/2)/(sqrt(ax_1**2 + ay_1**2 + az_1**2)*sqrt(ax_2**2 + ay_2**2 + az_2**2)) + 0.885416666666667*az_1*az_2*theta_2**2*cos(theta_3/2)/(sqrt(ax_1**2 + ay_1**2 + az_1**2)*sqrt(ax_2**2 + ay_2**2 + az_2**2)) - 21.25*az_1*az_2*cos(theta_3/2)/(sqrt(ax_1**2 + ay_1**2 + az_1**2)*sqrt(ax_2**2 + ay_2**2 + az_2**2)) + 0.00217013888888889*az_1*az_3*theta_1**2*theta_3**2*cos(theta_2/2)/(sqrt(ax_1**2 + ay_1**2 + az_1**2)*sqrt(ax_3**2 + ay_3**2 + az_3**2)) - 0.0520833333333334*az_1*az_3*theta_1**2*cos(theta_2/2)/(sqrt(ax_1**2 + ay_1**2 + az_1**2)*sqrt(ax_3**2 + ay_3**2 + az_3**2)) - 0.0520833333333334*az_1*az_3*theta_3**2*cos(theta_2/2)/(sqrt(ax_1**2 + ay_1**2 + az_1**2)*sqrt(ax_3**2 + ay_3**2 + az_3**2)) + 1.25*az_1*az_3*cos(theta_2/2)/(sqrt(ax_1**2 + ay_1**2 + az_1**2)*sqrt(ax_3**2 + ay_3**2 + az_3**2)) - 0.0108506944444444*az_2*az_3*theta_2**2*theta_3**2*cos(theta_1/2)/(sqrt(ax_2**2 + ay_2**2 + az_2**2)*sqrt(ax_3**2 + ay_3**2 + az_3**2)) + 0.260416666666667*az_2*az_3*theta_2**2*cos(theta_1/2)/(sqrt(ax_2**2 + ay_2**2 + az_2**2)*sqrt(ax_3**2 + ay_3**2 + az_3**2)) + 0.260416666666667*az_2*az_3*theta_3**2*cos(theta_1/2)/(sqrt(ax_2**2 + ay_2**2 + az_2**2)*sqrt(ax_3**2 + ay_3**2 + az_3**2)) - 6.25*az_2*az_3*cos(theta_1/2)/(sqrt(ax_2**2 + ay_2**2 + az_2**2)*sqrt(ax_3**2 + ay_3**2 + az_3**2)) + 115.0*cos(theta_1/2)*cos(theta_2/2)*cos(theta_3/2))*i + (-4.52112268518518e-5*ax_1*ax_2*az_3*theta_1**2*theta_2**2*theta_3**2/(sqrt(ax_1**2 + ay_1**2 + az_1**2)*sqrt(ax_2**2 + ay_2**2 + az_2**2)*sqrt(ax_3**2 + ay_3**2 + az_3**2)) + 0.00108506944444444*ax_1*ax_2*az_3*theta_1**2*theta_2**2/(sqrt(ax_1**2 + ay_1**2 + az_1**2)*sqrt(ax_2**2 + ay_2**2 + az_2**2)*sqrt(ax_3**2 + ay_3**2 + az_3**2)) + 0.00108506944444444*ax_1*ax_2*az_3*theta_1**2*theta_3**2/(sqrt(ax_1**2 + ay_1**2 + az_1**2)*sqrt(ax_2**2 + ay_2**2 + az_2**2)*sqrt(ax_3**2 + ay_3**2 + az_3**2)) - 0.0260416666666667*ax_1*ax_2*az_3*theta_1**2/(sqrt(ax_1**2 + ay_1**2 + az_1**2)*sqrt(ax_2**2 + ay_2**2 + az_2**2)*sqrt(ax_3**2 + ay_3**2 + az_3**2)) + 0.00108506944444444*ax_1*ax_2*az_3*theta_2**2*theta_3**2/(sqrt(ax_1**2 + ay_1**2 + az_1**2)*sqrt(ax_2**2 + ay_2**2 + az_2**2)*sqrt(ax_3**2 + ay_3**2 + az_3**2)) - 0.0260416666666667*ax_1*ax_2*az_3*theta_2**2/(sqrt(ax_1**2 + ay_1**2 + az_1**2)*sqrt(ax_2**2 + ay_2**2 + az_2**2)*sqrt(ax_3**2 + ay_3**2 + az_3**2)) - 0.0260416666666667*ax_1*ax_2*az_3*theta_3**2/(sqrt(ax_1**2 + ay_1**2 + az_1**2)*sqrt(ax_2**2 + ay_2**2 + az_2**2)*sqrt(ax_3**2 + ay_3**2 + az_3**2)) + 0.625*ax_1*ax_2*az_3/(sqrt(ax_1**2 + ay_1**2 + az_1**2)*sqrt(ax_2**2 + ay_2**2 + az_2**2)*sqrt(ax_3**2 + ay_3**2 + az_3**2)) - 0.000768590856481481*ax_1*ax_3*az_2*theta_1**2*theta_2**2*theta_3**2/(sqrt(ax_1**2 + ay_1**2 + az_1**2)*sqrt(ax_2**2 + ay_2**2 + az_2**2)*sqrt(ax_3**2 + ay_3**2 + az_3**2)) + 0.0184461805555556*ax_1*ax_3*az_2*theta_1**2*theta_2**2/(sqrt(ax_1**2 + ay_1**2 + az_1**2)*sqrt(ax_2**2 + ay_2**2 + az_2**2)*sqrt(ax_3**2 + ay_3**2 + az_3**2)) + 0.0184461805555556*ax_1*ax_3*az_2*theta_1**2*theta_3**2/(sqrt(ax_1**2 + ay_1**2 + az_1**2)*sqrt(ax_2**2 + ay_2**2 + az_2**2)*sqrt(ax_3**2 + ay_3**2 + az_3**2)) - 0.442708333333333*ax_1*ax_3*az_2*theta_1**2/(sqrt(ax_1**2 + ay_1**2 + az_1**2)*sqrt(ax_2**2 + ay_2**2 + az_2**2)*sqrt(ax_3**2 + ay_3**2 + az_3**2)) + 0.0184461805555556*ax_1*ax_3*az_2*theta_2**2*theta_3**2/(sqrt(ax_1**2 + ay_1**2 + az_1**2)*sqrt(ax_2**2 + ay_2**2 + az_2**2)*sqrt(ax_3**2 + ay_3**2 + az_3**2)) - 0.442708333333333*ax_1*ax_3*az_2*theta_2**2/(sqrt(ax_1**2 + ay_1**2 + az_1**2)*sqrt(ax_2**2 + ay_2**2 + az_2**2)*sqrt(ax_3**2 + ay_3**2 + az_3**2)) - 0.442708333333333*ax_1*ax_3*az_2*theta_3**2/(sqrt(ax_1**2 + ay_1**2 + az_1**2)*sqrt(ax_2**2 + ay_2**2 + az_2**2)*sqrt(ax_3**2 + ay_3**2 + az_3**2)) + 10.625*ax_1*ax_3*az_2/(sqrt(ax_1**2 + ay_1**2 + az_1**2)*sqrt(ax_2**2 + ay_2**2 + az_2**2)*sqrt(ax_3**2 + ay_3**2 + az_3**2)) + 0.0368923611111111*ax_1*ay_2*theta_1**2*theta_2**2*cos(theta_3/2)/(sqrt(ax_1**2 + ay_1**2 + az_1**2)*sqrt(ax_2**2 + ay_2**2 + az_2**2)) - 0.885416666666667*ax_1*ay_2*theta_1**2*cos(theta_3/2)/(sqrt(ax_1**2 + ay_1**2 + az_1**2)*sqrt(ax_2**2 + ay_2**2 + az_2**2)) - 0.885416666666667*ax_1*ay_2*theta_2**2*cos(theta_3/2)/(sqrt(ax_1**2 + ay_1**2 + az_1**2)*sqrt(ax_2**2 + ay_2**2 + az_2**2)) + 21.25*ax_1*ay_2*cos(theta_3/2)/(sqrt(ax_1**2 + ay_1**2 + az_1**2)*sqrt(ax_2**2 + ay_2**2 + az_2**2)) - 0.00217013888888889*ax_1*ay_3*theta_1**2*theta_3**2*cos(theta_2/2)/(sqrt(ax_1**2 + ay_1**2 + az_1**2)*sqrt(ax_3**2 + ay_3**2 + az_3**2)) + 0.0520833333333334*ax_1*ay_3*theta_1**2*cos(theta_2/2)/(sqrt(ax_1**2 + ay_1**2 + az_1**2)*sqrt(ax_3**2 + ay_3**2 + az_3**2)) + 0.0520833333333334*ax_1*ay_3*theta_3**2*cos(theta_2/2)/(sqrt(ax_1**2 + ay_1**2 + az_1**2)*sqrt(ax_3**2 + ay_3**2 + az_3**2)) - 1.25*ax_1*ay_3*cos(theta_2/2)/(sqrt(ax_1**2 + ay_1**2 + az_1**2)*sqrt(ax_3**2 + ay_3**2 + az_3**2)) + 0.00103985821759259*ax_2*ax_3*az_1*theta_1**2*theta_2**2*theta_3**2/(sqrt(ax_1**2 + ay_1**2 + az_1**2)*sqrt(ax_2**2 + ay_2**2 + az_2**2)*sqrt(ax_3**2 + ay_3**2 + az_3**2)) - 0.0249565972222222*ax_2*ax_3*az_1*theta_1**2*theta_2**2/(sqrt(ax_1**2 + ay_1**2 + az_1**2)*sqrt(ax_2**2 + ay_2**2 + az_2**2)*sqrt(ax_3**2 + ay_3**2 + az_3**2)) - 0.0249565972222222*ax_2*ax_3*az_1*theta_1**2*theta_3**2/(sqrt(ax_1**2 + ay_1**2 + az_1**2)*sqrt(ax_2**2 + ay_2**2 + az_2**2)*sqrt(ax_3**2 + ay_3**2 + az_3**2)) + 0.598958333333333*ax_2*ax_3*az_1*theta_1**2/(sqrt(ax_1**2 + ay_1**2 + az_1**2)*sqrt(ax_2**2 + ay_2**2 + az_2**2)*sqrt(ax_3**2 + ay_3**2 + az_3**2)) - 0.0249565972222222*ax_2*ax_3*az_1*theta_2**2*theta_3**2/(sqrt(ax_1**2 + ay_1**2 + az_1**2)*sqrt(ax_2**2 + ay_2**2 + az_2**2)*sqrt(ax_3**2 + ay_3**2 + az_3**2)) + 0.598958333333333*ax_2*ax_3*az_1*theta_2**2/(sqrt(ax_1**2 + ay_1**2 + az_1**2)*sqrt(ax_2**2 + ay_2**2 + az_2**2)*sqrt(ax_3**2 + ay_3**2 + az_3**2)) + 0.598958333333333*ax_2*ax_3*az_1*theta_3**2/(sqrt(ax_1**2 + ay_1**2 + az_1**2)*sqrt(ax_2**2 + ay_2**2 + az_2**2)*sqrt(ax_3**2 + ay_3**2 + az_3**2)) - 14.375*ax_2*ax_3*az_1/(sqrt(ax_1**2 + ay_1**2 + az_1**2)*sqrt(ax_2**2 + ay_2**2 + az_2**2)*sqrt(ax_3**2 + ay_3**2 + az_3**2)) - 0.0499131944444444*ax_2*ay_1*theta_1**2*theta_2**2*cos(theta_3/2)/(sqrt(ax_1**2 + ay_1**2 + az_1**2)*sqrt(ax_2**2 + ay_2**2 + az_2**2)) + 1.19791666666667*ax_2*ay_1*theta_1**2*cos(theta_3/2)/(sqrt(ax_1**2 + ay_1**2 + az_1**2)*sqrt(ax_2**2 + ay_2**2 + az_2**2)) + 1.19791666666667*ax_2*ay_1*theta_2**2*cos(theta_3/2)/(sqrt(ax_1**2 + ay_1**2 + az_1**2)*sqrt(ax_2**2 + ay_2**2 + az_2**2)) - 28.75*ax_2*ay_1*cos(theta_3/2)/(sqrt(ax_1**2 + ay_1**2 + az_1**2)*sqrt(ax_2**2 + ay_2**2 + az_2**2)) - 0.00217013888888889*ax_2*ay_3*theta_2**2*theta_3**2*cos(theta_1/2)/(sqrt(ax_2**2 + ay_2**2 + az_2**2)*sqrt(ax_3**2 + ay_3**2 + az_3**2)) + 0.0520833333333334*ax_2*ay_3*theta_2**2*cos(theta_1/2)/(sqrt(ax_2**2 + ay_2**2 + az_2**2)*sqrt(ax_3**2 + ay_3**2 + az_3**2)) + 0.0520833333333334*ax_2*ay_3*theta_3**2*cos(theta_1/2)/(sqrt(ax_2**2 + ay_2**2 + az_2**2)*sqrt(ax_3**2 + ay_3**2 + az_3**2)) - 1.25*ax_2*ay_3*cos(theta_1/2)/(sqrt(ax_2**2 + ay_2**2 + az_2**2)*sqrt(ax_3**2 + ay_3**2 + az_3**2)) - 0.0499131944444444*ax_3*ay_1*theta_1**2*theta_3**2*cos(theta_2/2)/(sqrt(ax_1**2 + ay_1**2 + az_1**2)*sqrt(ax_3**2 + ay_3**2 + az_3**2)) + 1.19791666666667*ax_3*ay_1*theta_1**2*cos(theta_2/2)/(sqrt(ax_1**2 + ay_1**2 + az_1**2)*sqrt(ax_3**2 + ay_3**2 + az_3**2)) + 1.19791666666667*ax_3*ay_1*theta_3**2*cos(theta_2/2)/(sqrt(ax_1**2 + ay_1**2 + az_1**2)*sqrt(ax_3**2 + ay_3**2 + az_3**2)) - 28.75*ax_3*ay_1*cos(theta_2/2)/(sqrt(ax_1**2 + ay_1**2 + az_1**2)*sqrt(ax_3**2 + ay_3**2 + az_3**2)) - 0.0368923611111111*ax_3*ay_2*theta_2**2*theta_3**2*cos(theta_1/2)/(sqrt(ax_2**2 + ay_2**2 + az_2**2)*sqrt(ax_3**2 + ay_3**2 + az_3**2)) + 0.885416666666667*ax_3*ay_2*theta_2**2*cos(theta_1/2)/(sqrt(ax_2**2 + ay_2**2 + az_2**2)*sqrt(ax_3**2 + ay_3**2 + az_3**2)) + 0.885416666666667*ax_3*ay_2*theta_3**2*cos(theta_1/2)/(sqrt(ax_2**2 + ay_2**2 + az_2**2)*sqrt(ax_3**2 + ay_3**2 + az_3**2)) - 21.25*ax_3*ay_2*cos(theta_1/2)/(sqrt(ax_2**2 + ay_2**2 + az_2**2)*sqrt(ax_3**2 + ay_3**2 + az_3**2)) + 0.000226056134259259*ay_1*ay_2*az_3*theta_1**2*theta_2**2*theta_3**2/(sqrt(ax_1**2 + ay_1**2 + az_1**2)*sqrt(ax_2**2 + ay_2**2 + az_2**2)*sqrt(ax_3**2 + ay_3**2 + az_3**2)) - 0.00542534722222222*ay_1*ay_2*az_3*theta_1**2*theta_2**2/(sqrt(ax_1**2 + ay_1**2 + az_1**2)*sqrt(ax_2**2 + ay_2**2 + az_2**2)*sqrt(ax_3**2 + ay_3**2 + az_3**2)) - 0.00542534722222222*ay_1*ay_2*az_3*theta_1**2*theta_3**2/(sqrt(ax_1**2 + ay_1**2 + az_1**2)*sqrt(ax_2**2 + ay_2**2 + az_2**2)*sqrt(ax_3**2 + ay_3**2 + az_3**2)) + 0.130208333333333*ay_1*ay_2*az_3*theta_1**2/(sqrt(ax_1**2 + ay_1**2 + az_1**2)*sqrt(ax_2**2 + ay_2**2 + az_2**2)*sqrt(ax_3**2 + ay_3**2 + az_3**2)) - 0.00542534722222222*ay_1*ay_2*az_3*theta_2**2*theta_3**2/(sqrt(ax_1**2 + ay_1**2 + az_1**2)*sqrt(ax_2**2 + ay_2**2 + az_2**2)*sqrt(ax_3**2 + ay_3**2 + az_3**2)) + 0.130208333333333*ay_1*ay_2*az_3*theta_2**2/(sqrt(ax_1**2 + ay_1**2 + az_1**2)*sqrt(ax_2**2 + ay_2**2 + az_2**2)*sqrt(ax_3**2 + ay_3**2 + az_3**2)) + 0.130208333333333*ay_1*ay_2*az_3*theta_3**2/(sqrt(ax_1**2 + ay_1**2 + az_1**2)*sqrt(ax_2**2 + ay_2**2 + az_2**2)*sqrt(ax_3**2 + ay_3**2 + az_3**2)) - 3.125*ay_1*ay_2*az_3/(sqrt(ax_1**2 + ay_1**2 + az_1**2)*sqrt(ax_2**2 + ay_2**2 + az_2**2)*sqrt(ax_3**2 + ay_3**2 + az_3**2)) - 0.000226056134259259*ay_1*ay_3*az_2*theta_1**2*theta_2**2*theta_3**2/(sqrt(ax_1**2 + ay_1**2 + az_1**2)*sqrt(ax_2**2 + ay_2**2 + az_2**2)*sqrt(ax_3**2 + ay_3**2 + az_3**2)) + 0.00542534722222222*ay_1*ay_3*az_2*theta_1**2*theta_2**2/(sqrt(ax_1**2 + ay_1**2 + az_1**2)*sqrt(ax_2**2 + ay_2**2 + az_2**2)*sqrt(ax_3**2 + ay_3**2 + az_3**2)) + 0.00542534722222222*ay_1*ay_3*az_2*theta_1**2*theta_3**2/(sqrt(ax_1**2 + ay_1**2 + az_1**2)*sqrt(ax_2**2 + ay_2**2 + az_2**2)*sqrt(ax_3**2 + ay_3**2 + az_3**2)) - 0.130208333333333*ay_1*ay_3*az_2*theta_1**2/(sqrt(ax_1**2 + ay_1**2 + az_1**2)*sqrt(ax_2**2 + ay_2**2 + az_2**2)*sqrt(ax_3**2 + ay_3**2 + az_3**2)) + 0.00542534722222222*ay_1*ay_3*az_2*theta_2**2*theta_3**2/(sqrt(ax_1**2 + ay_1**2 + az_1**2)*sqrt(ax_2**2 + ay_2**2 + az_2**2)*sqrt(ax_3**2 + ay_3**2 + az_3**2)) - 0.130208333333333*ay_1*ay_3*az_2*theta_2**2/(sqrt(ax_1**2 + ay_1**2 + az_1**2)*sqrt(ax_2**2 + ay_2**2 + az_2**2)*sqrt(ax_3**2 + ay_3**2 + az_3**2)) - 0.130208333333333*ay_1*ay_3*az_2*theta_3**2/(sqrt(ax_1**2 + ay_1**2 + az_1**2)*sqrt(ax_2**2 + ay_2**2 + az_2**2)*sqrt(ax_3**2 + ay_3**2 + az_3**2)) + 3.125*ay_1*ay_3*az_2/(sqrt(ax_1**2 + ay_1**2 + az_1**2)*sqrt(ax_2**2 + ay_2**2 + az_2**2)*sqrt(ax_3**2 + ay_3**2 + az_3**2)) + 0.000226056134259259*ay_2*ay_3*az_1*theta_1**2*theta_2**2*theta_3**2/(sqrt(ax_1**2 + ay_1**2 + az_1**2)*sqrt(ax_2**2 + ay_2**2 + az_2**2)*sqrt(ax_3**2 + ay_3**2 + az_3**2)) - 0.00542534722222222*ay_2*ay_3*az_1*theta_1**2*theta_2**2/(sqrt(ax_1**2 + ay_1**2 + az_1**2)*sqrt(ax_2**2 + ay_2**2 + az_2**2)*sqrt(ax_3**2 + ay_3**2 + az_3**2)) - 0.00542534722222222*ay_2*ay_3*az_1*theta_1**2*theta_3**2/(sqrt(ax_1**2 + ay_1**2 + az_1**2)*sqrt(ax_2**2 + ay_2**2 + az_2**2)*sqrt(ax_3**2 + ay_3**2 + az_3**2)) + 0.130208333333333*ay_2*ay_3*az_1*theta_1**2/(sqrt(ax_1**2 + ay_1**2 + az_1**2)*sqrt(ax_2**2 + ay_2**2 + az_2**2)*sqrt(ax_3**2 + ay_3**2 + az_3**2)) - 0.00542534722222222*ay_2*ay_3*az_1*theta_2**2*theta_3**2/(sqrt(ax_1**2 + ay_1**2 + az_1**2)*sqrt(ax_2**2 + ay_2**2 + az_2**2)*sqrt(ax_3**2 + ay_3**2 + az_3**2)) + 0.130208333333333*ay_2*ay_3*az_1*theta_2**2/(sqrt(ax_1**2 + ay_1**2 + az_1**2)*sqrt(ax_2**2 + ay_2**2 + az_2**2)*sqrt(ax_3**2 + ay_3**2 + az_3**2)) + 0.130208333333333*ay_2*ay_3*az_1*theta_3**2/(sqrt(ax_1**2 + ay_1**2 + az_1**2)*sqrt(ax_2**2 + ay_2**2 + az_2**2)*sqrt(ax_3**2 + ay_3**2 + az_3**2)) - 3.125*ay_2*ay_3*az_1/(sqrt(ax_1**2 + ay_1**2 + az_1**2)*sqrt(ax_2**2 + ay_2**2 + az_2**2)*sqrt(ax_3**2 + ay_3**2 + az_3**2)) + 0.000226056134259259*az_1*az_2*az_3*theta_1**2*theta_2**2*theta_3**2/(sqrt(ax_1**2 + ay_1**2 + az_1**2)*sqrt(ax_2**2 + ay_2**2 + az_2**2)*sqrt(ax_3**2 + ay_3**2 + az_3**2)) - 0.00542534722222222*az_1*az_2*az_3*theta_1**2*theta_2**2/(sqrt(ax_1**2 + ay_1**2 + az_1**2)*sqrt(ax_2**2 + ay_2**2 + az_2**2)*sqrt(ax_3**2 + ay_3**2 + az_3**2)) - 0.00542534722222222*az_1*az_2*az_3*theta_1**2*theta_3**2/(sqrt(ax_1**2 + ay_1**2 + az_1**2)*sqrt(ax_2**2 + ay_2**2 + az_2**2)*sqrt(ax_3**2 + ay_3**2 + az_3**2)) + 0.130208333333333*az_1*az_2*az_3*theta_1**2/(sqrt(ax_1**2 + ay_1**2 + az_1**2)*sqrt(ax_2**2 + ay_2**2 + az_2**2)*sqrt(ax_3**2 + ay_3**2 + az_3**2)) - 0.00542534722222222*az_1*az_2*az_3*theta_2**2*theta_3**2/(sqrt(ax_1**2 + ay_1**2 + az_1**2)*sqrt(ax_2**2 + ay_2**2 + az_2**2)*sqrt(ax_3**2 + ay_3**2 + az_3**2)) + 0.130208333333333*az_1*az_2*az_3*theta_2**2/(sqrt(ax_1**2 + ay_1**2 + az_1**2)*sqrt(ax_2**2 + ay_2**2 + az_2**2)*sqrt(ax_3**2 + ay_3**2 + az_3**2)) + 0.130208333333333*az_1*az_2*az_3*theta_3**2/(sqrt(ax_1**2 + ay_1**2 + az_1**2)*sqrt(ax_2**2 + ay_2**2 + az_2**2)*sqrt(ax_3**2 + ay_3**2 + az_3**2)) - 3.125*az_1*az_2*az_3/(sqrt(ax_1**2 + ay_1**2 + az_1**2)*sqrt(ax_2**2 + ay_2**2 + az_2**2)*sqrt(ax_3**2 + ay_3**2 + az_3**2)) - 2.39583333333333*az_1*theta_1**2*cos(theta_2/2)*cos(theta_3/2)/sqrt(ax_1**2 + ay_1**2 + az_1**2) + 57.5*az_1*cos(theta_2/2)*cos(theta_3/2)/sqrt(ax_1**2 + ay_1**2 + az_1**2) - 1.77083333333333*az_2*theta_2**2*cos(theta_1/2)*cos(theta_3/2)/sqrt(ax_2**2 + ay_2**2 + az_2**2) + 42.5*az_2*cos(theta_1/2)*cos(theta_3/2)/sqrt(ax_2**2 + ay_2**2 + az_2**2) + 0.104166666666667*az_3*theta_3**2*cos(theta_1/2)*cos(theta_2/2)/sqrt(ax_3**2 + ay_3**2 + az_3**2) - 2.5*az_3*cos(theta_1/2)*cos(theta_2/2)/sqrt(ax_3**2 + ay_3**2 + az_3**2))*j + (4.52112268518518e-5*ax_1*ax_2*ay_3*theta_1**2*theta_2**2*theta_3**2/(sqrt(ax_1**2 + ay_1**2 + az_1**2)*sqrt(ax_2**2 + ay_2**2 + az_2**2)*sqrt(ax_3**2 + ay_3**2 + az_3**2)) - 0.00108506944444444*ax_1*ax_2*ay_3*theta_1**2*theta_2**2/(sqrt(ax_1**2 + ay_1**2 + az_1**2)*sqrt(ax_2**2 + ay_2**2 + az_2**2)*sqrt(ax_3**2 + ay_3**2 + az_3**2)) - 0.00108506944444444*ax_1*ax_2*ay_3*theta_1**2*theta_3**2/(sqrt(ax_1**2 + ay_1**2 + az_1**2)*sqrt(ax_2**2 + ay_2**2 + az_2**2)*sqrt(ax_3**2 + ay_3**2 + az_3**2)) + 0.0260416666666667*ax_1*ax_2*ay_3*theta_1**2/(sqrt(ax_1**2 + ay_1**2 + az_1**2)*sqrt(ax_2**2 + ay_2**2 + az_2**2)*sqrt(ax_3**2 + ay_3**2 + az_3**2)) - 0.00108506944444444*ax_1*ax_2*ay_3*theta_2**2*theta_3**2/(sqrt(ax_1**2 + ay_1**2 + az_1**2)*sqrt(ax_2**2 + ay_2**2 + az_2**2)*sqrt(ax_3**2 + ay_3**2 + az_3**2)) + 0.0260416666666667*ax_1*ax_2*ay_3*theta_2**2/(sqrt(ax_1**2 + ay_1**2 + az_1**2)*sqrt(ax_2**2 + ay_2**2 + az_2**2)*sqrt(ax_3**2 + ay_3**2 + az_3**2)) + 0.0260416666666667*ax_1*ax_2*ay_3*theta_3**2/(sqrt(ax_1**2 + ay_1**2 + az_1**2)*sqrt(ax_2**2 + ay_2**2 + az_2**2)*sqrt(ax_3**2 + ay_3**2 + az_3**2)) - 0.625*ax_1*ax_2*ay_3/(sqrt(ax_1**2 + ay_1**2 + az_1**2)*sqrt(ax_2**2 + ay_2**2 + az_2**2)*sqrt(ax_3**2 + ay_3**2 + az_3**2)) + 0.000768590856481481*ax_1*ax_3*ay_2*theta_1**2*theta_2**2*theta_3**2/(sqrt(ax_1**2 + ay_1**2 + az_1**2)*sqrt(ax_2**2 + ay_2**2 + az_2**2)*sqrt(ax_3**2 + ay_3**2 + az_3**2)) - 0.0184461805555556*ax_1*ax_3*ay_2*theta_1**2*theta_2**2/(sqrt(ax_1**2 + ay_1**2 + az_1**2)*sqrt(ax_2**2 + ay_2**2 + az_2**2)*sqrt(ax_3**2 + ay_3**2 + az_3**2)) - 0.0184461805555556*ax_1*ax_3*ay_2*theta_1**2*theta_3**2/(sqrt(ax_1**2 + ay_1**2 + az_1**2)*sqrt(ax_2**2 + ay_2**2 + az_2**2)*sqrt(ax_3**2 + ay_3**2 + az_3**2)) + 0.442708333333333*ax_1*ax_3*ay_2*theta_1**2/(sqrt(ax_1**2 + ay_1**2 + az_1**2)*sqrt(ax_2**2 + ay_2**2 + az_2**2)*sqrt(ax_3**2 + ay_3**2 + az_3**2)) - 0.0184461805555556*ax_1*ax_3*ay_2*theta_2**2*theta_3**2/(sqrt(ax_1**2 + ay_1**2 + az_1**2)*sqrt(ax_2**2 + ay_2**2 + az_2**2)*sqrt(ax_3**2 + ay_3**2 + az_3**2)) + 0.442708333333333*ax_1*ax_3*ay_2*theta_2**2/(sqrt(ax_1**2 + ay_1**2 + az_1**2)*sqrt(ax_2**2 + ay_2**2 + az_2**2)*sqrt(ax_3**2 + ay_3**2 + az_3**2)) + 0.442708333333333*ax_1*ax_3*ay_2*theta_3**2/(sqrt(ax_1**2 + ay_1**2 + az_1**2)*sqrt(ax_2**2 + ay_2**2 + az_2**2)*sqrt(ax_3**2 + ay_3**2 + az_3**2)) - 10.625*ax_1*ax_3*ay_2/(sqrt(ax_1**2 + ay_1**2 + az_1**2)*sqrt(ax_2**2 + ay_2**2 + az_2**2)*sqrt(ax_3**2 + ay_3**2 + az_3**2)) + 0.0368923611111111*ax_1*az_2*theta_1**2*theta_2**2*cos(theta_3/2)/(sqrt(ax_1**2 + ay_1**2 + az_1**2)*sqrt(ax_2**2 + ay_2**2 + az_2**2)) - 0.885416666666667*ax_1*az_2*theta_1**2*cos(theta_3/2)/(sqrt(ax_1**2 + ay_1**2 + az_1**2)*sqrt(ax_2**2 + ay_2**2 + az_2**2)) - 0.885416666666667*ax_1*az_2*theta_2**2*cos(theta_3/2)/(sqrt(ax_1**2 + ay_1**2 + az_1**2)*sqrt(ax_2**2 + ay_2**2 + az_2**2)) + 21.25*ax_1*az_2*cos(theta_3/2)/(sqrt(ax_1**2 + ay_1**2 + az_1**2)*sqrt(ax_2**2 + ay_2**2 + az_2**2)) - 0.00217013888888889*ax_1*az_3*theta_1**2*theta_3**2*cos(theta_2/2)/(sqrt(ax_1**2 + ay_1**2 + az_1**2)*sqrt(ax_3**2 + ay_3**2 + az_3**2)) + 0.0520833333333334*ax_1*az_3*theta_1**2*cos(theta_2/2)/(sqrt(ax_1**2 + ay_1**2 + az_1**2)*sqrt(ax_3**2 + ay_3**2 + az_3**2)) + 0.0520833333333334*ax_1*az_3*theta_3**2*cos(theta_2/2)/(sqrt(ax_1**2 + ay_1**2 + az_1**2)*sqrt(ax_3**2 + ay_3**2 + az_3**2)) - 1.25*ax_1*az_3*cos(theta_2/2)/(sqrt(ax_1**2 + ay_1**2 + az_1**2)*sqrt(ax_3**2 + ay_3**2 + az_3**2)) - 0.00103985821759259*ax_2*ax_3*ay_1*theta_1**2*theta_2**2*theta_3**2/(sqrt(ax_1**2 + ay_1**2 + az_1**2)*sqrt(ax_2**2 + ay_2**2 + az_2**2)*sqrt(ax_3**2 + ay_3**2 + az_3**2)) + 0.0249565972222222*ax_2*ax_3*ay_1*theta_1**2*theta_2**2/(sqrt(ax_1**2 + ay_1**2 + az_1**2)*sqrt(ax_2**2 + ay_2**2 + az_2**2)*sqrt(ax_3**2 + ay_3**2 + az_3**2)) + 0.0249565972222222*ax_2*ax_3*ay_1*theta_1**2*theta_3**2/(sqrt(ax_1**2 + ay_1**2 + az_1**2)*sqrt(ax_2**2 + ay_2**2 + az_2**2)*sqrt(ax_3**2 + ay_3**2 + az_3**2)) - 0.598958333333333*ax_2*ax_3*ay_1*theta_1**2/(sqrt(ax_1**2 + ay_1**2 + az_1**2)*sqrt(ax_2**2 + ay_2**2 + az_2**2)*sqrt(ax_3**2 + ay_3**2 + az_3**2)) + 0.0249565972222222*ax_2*ax_3*ay_1*theta_2**2*theta_3**2/(sqrt(ax_1**2 + ay_1**2 + az_1**2)*sqrt(ax_2**2 + ay_2**2 + az_2**2)*sqrt(ax_3**2 + ay_3**2 + az_3**2)) - 0.598958333333333*ax_2*ax_3*ay_1*theta_2**2/(sqrt(ax_1**2 + ay_1**2 + az_1**2)*sqrt(ax_2**2 + ay_2**2 + az_2**2)*sqrt(ax_3**2 + ay_3**2 + az_3**2)) - 0.598958333333333*ax_2*ax_3*ay_1*theta_3**2/(sqrt(ax_1**2 + ay_1**2 + az_1**2)*sqrt(ax_2**2 + ay_2**2 + az_2**2)*sqrt(ax_3**2 + ay_3**2 + az_3**2)) + 14.375*ax_2*ax_3*ay_1/(sqrt(ax_1**2 + ay_1**2 + az_1**2)*sqrt(ax_2**2 + ay_2**2 + az_2**2)*sqrt(ax_3**2 + ay_3**2 + az_3**2)) - 0.0499131944444444*ax_2*az_1*theta_1**2*theta_2**2*cos(theta_3/2)/(sqrt(ax_1**2 + ay_1**2 + az_1**2)*sqrt(ax_2**2 + ay_2**2 + az_2**2)) + 1.19791666666667*ax_2*az_1*theta_1**2*cos(theta_3/2)/(sqrt(ax_1**2 + ay_1**2 + az_1**2)*sqrt(ax_2**2 + ay_2**2 + az_2**2)) + 1.19791666666667*ax_2*az_1*theta_2**2*cos(theta_3/2)/(sqrt(ax_1**2 + ay_1**2 + az_1**2)*sqrt(ax_2**2 + ay_2**2 + az_2**2)) - 28.75*ax_2*az_1*cos(theta_3/2)/(sqrt(ax_1**2 + ay_1**2 + az_1**2)*sqrt(ax_2**2 + ay_2**2 + az_2**2)) - 0.00217013888888889*ax_2*az_3*theta_2**2*theta_3**2*cos(theta_1/2)/(sqrt(ax_2**2 + ay_2**2 + az_2**2)*sqrt(ax_3**2 + ay_3**2 + az_3**2)) + 0.0520833333333334*ax_2*az_3*theta_2**2*cos(theta_1/2)/(sqrt(ax_2**2 + ay_2**2 + az_2**2)*sqrt(ax_3**2 + ay_3**2 + az_3**2)) + 0.0520833333333334*ax_2*az_3*theta_3**2*cos(theta_1/2)/(sqrt(ax_2**2 + ay_2**2 + az_2**2)*sqrt(ax_3**2 + ay_3**2 + az_3**2)) - 1.25*ax_2*az_3*cos(theta_1/2)/(sqrt(ax_2**2 + ay_2**2 + az_2**2)*sqrt(ax_3**2 + ay_3**2 + az_3**2)) - 0.0499131944444444*ax_3*az_1*theta_1**2*theta_3**2*cos(theta_2/2)/(sqrt(ax_1**2 + ay_1**2 + az_1**2)*sqrt(ax_3**2 + ay_3**2 + az_3**2)) + 1.19791666666667*ax_3*az_1*theta_1**2*cos(theta_2/2)/(sqrt(ax_1**2 + ay_1**2 + az_1**2)*sqrt(ax_3**2 + ay_3**2 + az_3**2)) + 1.19791666666667*ax_3*az_1*theta_3**2*cos(theta_2/2)/(sqrt(ax_1**2 + ay_1**2 + az_1**2)*sqrt(ax_3**2 + ay_3**2 + az_3**2)) - 28.75*ax_3*az_1*cos(theta_2/2)/(sqrt(ax_1**2 + ay_1**2 + az_1**2)*sqrt(ax_3**2 + ay_3**2 + az_3**2)) - 0.0368923611111111*ax_3*az_2*theta_2**2*theta_3**2*cos(theta_1/2)/(sqrt(ax_2**2 + ay_2**2 + az_2**2)*sqrt(ax_3**2 + ay_3**2 + az_3**2)) + 0.885416666666667*ax_3*az_2*theta_2**2*cos(theta_1/2)/(sqrt(ax_2**2 + ay_2**2 + az_2**2)*sqrt(ax_3**2 + ay_3**2 + az_3**2)) + 0.885416666666667*ax_3*az_2*theta_3**2*cos(theta_1/2)/(sqrt(ax_2**2 + ay_2**2 + az_2**2)*sqrt(ax_3**2 + ay_3**2 + az_3**2)) - 21.25*ax_3*az_2*cos(theta_1/2)/(sqrt(ax_2**2 + ay_2**2 + az_2**2)*sqrt(ax_3**2 + ay_3**2 + az_3**2)) - 0.000226056134259259*ay_1*ay_2*ay_3*theta_1**2*theta_2**2*theta_3**2/(sqrt(ax_1**2 + ay_1**2 + az_1**2)*sqrt(ax_2**2 + ay_2**2 + az_2**2)*sqrt(ax_3**2 + ay_3**2 + az_3**2)) + 0.00542534722222222*ay_1*ay_2*ay_3*theta_1**2*theta_2**2/(sqrt(ax_1**2 + ay_1**2 + az_1**2)*sqrt(ax_2**2 + ay_2**2 + az_2**2)*sqrt(ax_3**2 + ay_3**2 + az_3**2)) + 0.00542534722222222*ay_1*ay_2*ay_3*theta_1**2*theta_3**2/(sqrt(ax_1**2 + ay_1**2 + az_1**2)*sqrt(ax_2**2 + ay_2**2 + az_2**2)*sqrt(ax_3**2 + ay_3**2 + az_3**2)) - 0.130208333333333*ay_1*ay_2*ay_3*theta_1**2/(sqrt(ax_1**2 + ay_1**2 + az_1**2)*sqrt(ax_2**2 + ay_2**2 + az_2**2)*sqrt(ax_3**2 + ay_3**2 + az_3**2)) + 0.00542534722222222*ay_1*ay_2*ay_3*theta_2**2*theta_3**2/(sqrt(ax_1**2 + ay_1**2 + az_1**2)*sqrt(ax_2**2 + ay_2**2 + az_2**2)*sqrt(ax_3**2 + ay_3**2 + az_3**2)) - 0.130208333333333*ay_1*ay_2*ay_3*theta_2**2/(sqrt(ax_1**2 + ay_1**2 + az_1**2)*sqrt(ax_2**2 + ay_2**2 + az_2**2)*sqrt(ax_3**2 + ay_3**2 + az_3**2)) - 0.130208333333333*ay_1*ay_2*ay_3*theta_3**2/(sqrt(ax_1**2 + ay_1**2 + az_1**2)*sqrt(ax_2**2 + ay_2**2 + az_2**2)*sqrt(ax_3**2 + ay_3**2 + az_3**2)) + 3.125*ay_1*ay_2*ay_3/(sqrt(ax_1**2 + ay_1**2 + az_1**2)*sqrt(ax_2**2 + ay_2**2 + az_2**2)*sqrt(ax_3**2 + ay_3**2 + az_3**2)) - 0.000226056134259259*ay_1*az_2*az_3*theta_1**2*theta_2**2*theta_3**2/(sqrt(ax_1**2 + ay_1**2 + az_1**2)*sqrt(ax_2**2 + ay_2**2 + az_2**2)*sqrt(ax_3**2 + ay_3**2 + az_3**2)) + 0.00542534722222222*ay_1*az_2*az_3*theta_1**2*theta_2**2/(sqrt(ax_1**2 + ay_1**2 + az_1**2)*sqrt(ax_2**2 + ay_2**2 + az_2**2)*sqrt(ax_3**2 + ay_3**2 + az_3**2)) + 0.00542534722222222*ay_1*az_2*az_3*theta_1**2*theta_3**2/(sqrt(ax_1**2 + ay_1**2 + az_1**2)*sqrt(ax_2**2 + ay_2**2 + az_2**2)*sqrt(ax_3**2 + ay_3**2 + az_3**2)) - 0.130208333333333*ay_1*az_2*az_3*theta_1**2/(sqrt(ax_1**2 + ay_1**2 + az_1**2)*sqrt(ax_2**2 + ay_2**2 + az_2**2)*sqrt(ax_3**2 + ay_3**2 + az_3**2)) + 0.00542534722222222*ay_1*az_2*az_3*theta_2**2*theta_3**2/(sqrt(ax_1**2 + ay_1**2 + az_1**2)*sqrt(ax_2**2 + ay_2**2 + az_2**2)*sqrt(ax_3**2 + ay_3**2 + az_3**2)) - 0.130208333333333*ay_1*az_2*az_3*theta_2**2/(sqrt(ax_1**2 + ay_1**2 + az_1**2)*sqrt(ax_2**2 + ay_2**2 + az_2**2)*sqrt(ax_3**2 + ay_3**2 + az_3**2)) - 0.130208333333333*ay_1*az_2*az_3*theta_3**2/(sqrt(ax_1**2 + ay_1**2 + az_1**2)*sqrt(ax_2**2 + ay_2**2 + az_2**2)*sqrt(ax_3**2 + ay_3**2 + az_3**2)) + 3.125*ay_1*az_2*az_3/(sqrt(ax_1**2 + ay_1**2 + az_1**2)*sqrt(ax_2**2 + ay_2**2 + az_2**2)*sqrt(ax_3**2 + ay_3**2 + az_3**2)) + 2.39583333333333*ay_1*theta_1**2*cos(theta_2/2)*cos(theta_3/2)/sqrt(ax_1**2 + ay_1**2 + az_1**2) - 57.5*ay_1*cos(theta_2/2)*cos(theta_3/2)/sqrt(ax_1**2 + ay_1**2 + az_1**2) + 0.000226056134259259*ay_2*az_1*az_3*theta_1**2*theta_2**2*theta_3**2/(sqrt(ax_1**2 + ay_1**2 + az_1**2)*sqrt(ax_2**2 + ay_2**2 + az_2**2)*sqrt(ax_3**2 + ay_3**2 + az_3**2)) - 0.00542534722222222*ay_2*az_1*az_3*theta_1**2*theta_2**2/(sqrt(ax_1**2 + ay_1**2 + az_1**2)*sqrt(ax_2**2 + ay_2**2 + az_2**2)*sqrt(ax_3**2 + ay_3**2 + az_3**2)) - 0.00542534722222222*ay_2*az_1*az_3*theta_1**2*theta_3**2/(sqrt(ax_1**2 + ay_1**2 + az_1**2)*sqrt(ax_2**2 + ay_2**2 + az_2**2)*sqrt(ax_3**2 + ay_3**2 + az_3**2)) + 0.130208333333333*ay_2*az_1*az_3*theta_1**2/(sqrt(ax_1**2 + ay_1**2 + az_1**2)*sqrt(ax_2**2 + ay_2**2 + az_2**2)*sqrt(ax_3**2 + ay_3**2 + az_3**2)) - 0.00542534722222222*ay_2*az_1*az_3*theta_2**2*theta_3**2/(sqrt(ax_1**2 + ay_1**2 + az_1**2)*sqrt(ax_2**2 + ay_2**2 + az_2**2)*sqrt(ax_3**2 + ay_3**2 + az_3**2)) + 0.130208333333333*ay_2*az_1*az_3*theta_2**2/(sqrt(ax_1**2 + ay_1**2 + az_1**2)*sqrt(ax_2**2 + ay_2**2 + az_2**2)*sqrt(ax_3**2 + ay_3**2 + az_3**2)) + 0.130208333333333*ay_2*az_1*az_3*theta_3**2/(sqrt(ax_1**2 + ay_1**2 + az_1**2)*sqrt(ax_2**2 + ay_2**2 + az_2**2)*sqrt(ax_3**2 + ay_3**2 + az_3**2)) - 3.125*ay_2*az_1*az_3/(sqrt(ax_1**2 + ay_1**2 + az_1**2)*sqrt(ax_2**2 + ay_2**2 + az_2**2)*sqrt(ax_3**2 + ay_3**2 + az_3**2)) + 1.77083333333333*ay_2*theta_2**2*cos(theta_1/2)*cos(theta_3/2)/sqrt(ax_2**2 + ay_2**2 + az_2**2) - 42.5*ay_2*cos(theta_1/2)*cos(theta_3/2)/sqrt(ax_2**2 + ay_2**2 + az_2**2) - 0.000226056134259259*ay_3*az_1*az_2*theta_1**2*theta_2**2*theta_3**2/(sqrt(ax_1**2 + ay_1**2 + az_1**2)*sqrt(ax_2**2 + ay_2**2 + az_2**2)*sqrt(ax_3**2 + ay_3**2 + az_3**2)) + 0.00542534722222222*ay_3*az_1*az_2*theta_1**2*theta_2**2/(sqrt(ax_1**2 + ay_1**2 + az_1**2)*sqrt(ax_2**2 + ay_2**2 + az_2**2)*sqrt(ax_3**2 + ay_3**2 + az_3**2)) + 0.00542534722222222*ay_3*az_1*az_2*theta_1**2*theta_3**2/(sqrt(ax_1**2 + ay_1**2 + az_1**2)*sqrt(ax_2**2 + ay_2**2 + az_2**2)*sqrt(ax_3**2 + ay_3**2 + az_3**2)) - 0.130208333333333*ay_3*az_1*az_2*theta_1**2/(sqrt(ax_1**2 + ay_1**2 + az_1**2)*sqrt(ax_2**2 + ay_2**2 + az_2**2)*sqrt(ax_3**2 + ay_3**2 + az_3**2)) + 0.00542534722222222*ay_3*az_1*az_2*theta_2**2*theta_3**2/(sqrt(ax_1**2 + ay_1**2 + az_1**2)*sqrt(ax_2**2 + ay_2**2 + az_2**2)*sqrt(ax_3**2 + ay_3**2 + az_3**2)) - 0.130208333333333*ay_3*az_1*az_2*theta_2**2/(sqrt(ax_1**2 + ay_1**2 + az_1**2)*sqrt(ax_2**2 + ay_2**2 + az_2**2)*sqrt(ax_3**2 + ay_3**2 + az_3**2)) - 0.130208333333333*ay_3*az_1*az_2*theta_3**2/(sqrt(ax_1**2 + ay_1**2 + az_1**2)*sqrt(ax_2**2 + ay_2**2 + az_2**2)*sqrt(ax_3**2 + ay_3**2 + az_3**2)) + 3.125*ay_3*az_1*az_2/(sqrt(ax_1**2 + ay_1**2 + az_1**2)*sqrt(ax_2**2 + ay_2**2 + az_2**2)*sqrt(ax_3**2 + ay_3**2 + az_3**2)) - 0.104166666666667*ay_3*theta_3**2*cos(theta_1/2)*cos(theta_2/2)/sqrt(ax_3**2 + ay_3**2 + az_3**2) + 2.5*ay_3*cos(theta_1/2)*cos(theta_2/2)/sqrt(ax_3**2 + ay_3**2 + az_3**2))*k]])"
            ],
            "text/latex": "$\\displaystyle \\left[\\begin{matrix}\\left(- \\frac{ax_{1} ax_{2} \\theta_{1}^{2} \\theta_{2}^{2} \\cos{\\left(\\frac{\\theta_{3}}{2} \\right)}}{2304 \\sqrt{ax_{1}^{2} + ay_{1}^{2} + az_{1}^{2}} \\sqrt{ax_{2}^{2} + ay_{2}^{2} + az_{2}^{2}}} + \\frac{ax_{1} ax_{2} \\theta_{1}^{2} \\cos{\\left(\\frac{\\theta_{3}}{2} \\right)}}{96 \\sqrt{ax_{1}^{2} + ay_{1}^{2} + az_{1}^{2}} \\sqrt{ax_{2}^{2} + ay_{2}^{2} + az_{2}^{2}}} + \\frac{ax_{1} ax_{2} \\theta_{2}^{2} \\cos{\\left(\\frac{\\theta_{3}}{2} \\right)}}{96 \\sqrt{ax_{1}^{2} + ay_{1}^{2} + az_{1}^{2}} \\sqrt{ax_{2}^{2} + ay_{2}^{2} + az_{2}^{2}}} - \\frac{ax_{1} ax_{2} \\cos{\\left(\\frac{\\theta_{3}}{2} \\right)}}{4 \\sqrt{ax_{1}^{2} + ay_{1}^{2} + az_{1}^{2}} \\sqrt{ax_{2}^{2} + ay_{2}^{2} + az_{2}^{2}}} - \\frac{ax_{1} ax_{3} \\theta_{1}^{2} \\theta_{3}^{2} \\cos{\\left(\\frac{\\theta_{2}}{2} \\right)}}{2304 \\sqrt{ax_{1}^{2} + ay_{1}^{2} + az_{1}^{2}} \\sqrt{ax_{3}^{2} + ay_{3}^{2} + az_{3}^{2}}} + \\frac{ax_{1} ax_{3} \\theta_{1}^{2} \\cos{\\left(\\frac{\\theta_{2}}{2} \\right)}}{96 \\sqrt{ax_{1}^{2} + ay_{1}^{2} + az_{1}^{2}} \\sqrt{ax_{3}^{2} + ay_{3}^{2} + az_{3}^{2}}} + \\frac{ax_{1} ax_{3} \\theta_{3}^{2} \\cos{\\left(\\frac{\\theta_{2}}{2} \\right)}}{96 \\sqrt{ax_{1}^{2} + ay_{1}^{2} + az_{1}^{2}} \\sqrt{ax_{3}^{2} + ay_{3}^{2} + az_{3}^{2}}} - \\frac{ax_{1} ax_{3} \\cos{\\left(\\frac{\\theta_{2}}{2} \\right)}}{4 \\sqrt{ax_{1}^{2} + ay_{1}^{2} + az_{1}^{2}} \\sqrt{ax_{3}^{2} + ay_{3}^{2} + az_{3}^{2}}} + \\frac{ax_{1} ay_{2} az_{3} \\theta_{1}^{2} \\theta_{2}^{2} \\theta_{3}^{2}}{110592 \\sqrt{ax_{1}^{2} + ay_{1}^{2} + az_{1}^{2}} \\sqrt{ax_{2}^{2} + ay_{2}^{2} + az_{2}^{2}} \\sqrt{ax_{3}^{2} + ay_{3}^{2} + az_{3}^{2}}} - \\frac{ax_{1} ay_{2} az_{3} \\theta_{1}^{2} \\theta_{2}^{2}}{4608 \\sqrt{ax_{1}^{2} + ay_{1}^{2} + az_{1}^{2}} \\sqrt{ax_{2}^{2} + ay_{2}^{2} + az_{2}^{2}} \\sqrt{ax_{3}^{2} + ay_{3}^{2} + az_{3}^{2}}} - \\frac{ax_{1} ay_{2} az_{3} \\theta_{1}^{2} \\theta_{3}^{2}}{4608 \\sqrt{ax_{1}^{2} + ay_{1}^{2} + az_{1}^{2}} \\sqrt{ax_{2}^{2} + ay_{2}^{2} + az_{2}^{2}} \\sqrt{ax_{3}^{2} + ay_{3}^{2} + az_{3}^{2}}} + \\frac{ax_{1} ay_{2} az_{3} \\theta_{1}^{2}}{192 \\sqrt{ax_{1}^{2} + ay_{1}^{2} + az_{1}^{2}} \\sqrt{ax_{2}^{2} + ay_{2}^{2} + az_{2}^{2}} \\sqrt{ax_{3}^{2} + ay_{3}^{2} + az_{3}^{2}}} - \\frac{ax_{1} ay_{2} az_{3} \\theta_{2}^{2} \\theta_{3}^{2}}{4608 \\sqrt{ax_{1}^{2} + ay_{1}^{2} + az_{1}^{2}} \\sqrt{ax_{2}^{2} + ay_{2}^{2} + az_{2}^{2}} \\sqrt{ax_{3}^{2} + ay_{3}^{2} + az_{3}^{2}}} + \\frac{ax_{1} ay_{2} az_{3} \\theta_{2}^{2}}{192 \\sqrt{ax_{1}^{2} + ay_{1}^{2} + az_{1}^{2}} \\sqrt{ax_{2}^{2} + ay_{2}^{2} + az_{2}^{2}} \\sqrt{ax_{3}^{2} + ay_{3}^{2} + az_{3}^{2}}} + \\frac{ax_{1} ay_{2} az_{3} \\theta_{3}^{2}}{192 \\sqrt{ax_{1}^{2} + ay_{1}^{2} + az_{1}^{2}} \\sqrt{ax_{2}^{2} + ay_{2}^{2} + az_{2}^{2}} \\sqrt{ax_{3}^{2} + ay_{3}^{2} + az_{3}^{2}}} - \\frac{ax_{1} ay_{2} az_{3}}{8 \\sqrt{ax_{1}^{2} + ay_{1}^{2} + az_{1}^{2}} \\sqrt{ax_{2}^{2} + ay_{2}^{2} + az_{2}^{2}} \\sqrt{ax_{3}^{2} + ay_{3}^{2} + az_{3}^{2}}} - \\frac{ax_{1} ay_{3} az_{2} \\theta_{1}^{2} \\theta_{2}^{2} \\theta_{3}^{2}}{110592 \\sqrt{ax_{1}^{2} + ay_{1}^{2} + az_{1}^{2}} \\sqrt{ax_{2}^{2} + ay_{2}^{2} + az_{2}^{2}} \\sqrt{ax_{3}^{2} + ay_{3}^{2} + az_{3}^{2}}} + \\frac{ax_{1} ay_{3} az_{2} \\theta_{1}^{2} \\theta_{2}^{2}}{4608 \\sqrt{ax_{1}^{2} + ay_{1}^{2} + az_{1}^{2}} \\sqrt{ax_{2}^{2} + ay_{2}^{2} + az_{2}^{2}} \\sqrt{ax_{3}^{2} + ay_{3}^{2} + az_{3}^{2}}} + \\frac{ax_{1} ay_{3} az_{2} \\theta_{1}^{2} \\theta_{3}^{2}}{4608 \\sqrt{ax_{1}^{2} + ay_{1}^{2} + az_{1}^{2}} \\sqrt{ax_{2}^{2} + ay_{2}^{2} + az_{2}^{2}} \\sqrt{ax_{3}^{2} + ay_{3}^{2} + az_{3}^{2}}} - \\frac{ax_{1} ay_{3} az_{2} \\theta_{1}^{2}}{192 \\sqrt{ax_{1}^{2} + ay_{1}^{2} + az_{1}^{2}} \\sqrt{ax_{2}^{2} + ay_{2}^{2} + az_{2}^{2}} \\sqrt{ax_{3}^{2} + ay_{3}^{2} + az_{3}^{2}}} + \\frac{ax_{1} ay_{3} az_{2} \\theta_{2}^{2} \\theta_{3}^{2}}{4608 \\sqrt{ax_{1}^{2} + ay_{1}^{2} + az_{1}^{2}} \\sqrt{ax_{2}^{2} + ay_{2}^{2} + az_{2}^{2}} \\sqrt{ax_{3}^{2} + ay_{3}^{2} + az_{3}^{2}}} - \\frac{ax_{1} ay_{3} az_{2} \\theta_{2}^{2}}{192 \\sqrt{ax_{1}^{2} + ay_{1}^{2} + az_{1}^{2}} \\sqrt{ax_{2}^{2} + ay_{2}^{2} + az_{2}^{2}} \\sqrt{ax_{3}^{2} + ay_{3}^{2} + az_{3}^{2}}} - \\frac{ax_{1} ay_{3} az_{2} \\theta_{3}^{2}}{192 \\sqrt{ax_{1}^{2} + ay_{1}^{2} + az_{1}^{2}} \\sqrt{ax_{2}^{2} + ay_{2}^{2} + az_{2}^{2}} \\sqrt{ax_{3}^{2} + ay_{3}^{2} + az_{3}^{2}}} + \\frac{ax_{1} ay_{3} az_{2}}{8 \\sqrt{ax_{1}^{2} + ay_{1}^{2} + az_{1}^{2}} \\sqrt{ax_{2}^{2} + ay_{2}^{2} + az_{2}^{2}} \\sqrt{ax_{3}^{2} + ay_{3}^{2} + az_{3}^{2}}} - \\frac{ax_{2} ax_{3} \\theta_{2}^{2} \\theta_{3}^{2} \\cos{\\left(\\frac{\\theta_{1}}{2} \\right)}}{2304 \\sqrt{ax_{2}^{2} + ay_{2}^{2} + az_{2}^{2}} \\sqrt{ax_{3}^{2} + ay_{3}^{2} + az_{3}^{2}}} + \\frac{ax_{2} ax_{3} \\theta_{2}^{2} \\cos{\\left(\\frac{\\theta_{1}}{2} \\right)}}{96 \\sqrt{ax_{2}^{2} + ay_{2}^{2} + az_{2}^{2}} \\sqrt{ax_{3}^{2} + ay_{3}^{2} + az_{3}^{2}}} + \\frac{ax_{2} ax_{3} \\theta_{3}^{2} \\cos{\\left(\\frac{\\theta_{1}}{2} \\right)}}{96 \\sqrt{ax_{2}^{2} + ay_{2}^{2} + az_{2}^{2}} \\sqrt{ax_{3}^{2} + ay_{3}^{2} + az_{3}^{2}}} - \\frac{ax_{2} ax_{3} \\cos{\\left(\\frac{\\theta_{1}}{2} \\right)}}{4 \\sqrt{ax_{2}^{2} + ay_{2}^{2} + az_{2}^{2}} \\sqrt{ax_{3}^{2} + ay_{3}^{2} + az_{3}^{2}}} - \\frac{ax_{2} ay_{1} az_{3} \\theta_{1}^{2} \\theta_{2}^{2} \\theta_{3}^{2}}{110592 \\sqrt{ax_{1}^{2} + ay_{1}^{2} + az_{1}^{2}} \\sqrt{ax_{2}^{2} + ay_{2}^{2} + az_{2}^{2}} \\sqrt{ax_{3}^{2} + ay_{3}^{2} + az_{3}^{2}}} + \\frac{ax_{2} ay_{1} az_{3} \\theta_{1}^{2} \\theta_{2}^{2}}{4608 \\sqrt{ax_{1}^{2} + ay_{1}^{2} + az_{1}^{2}} \\sqrt{ax_{2}^{2} + ay_{2}^{2} + az_{2}^{2}} \\sqrt{ax_{3}^{2} + ay_{3}^{2} + az_{3}^{2}}} + \\frac{ax_{2} ay_{1} az_{3} \\theta_{1}^{2} \\theta_{3}^{2}}{4608 \\sqrt{ax_{1}^{2} + ay_{1}^{2} + az_{1}^{2}} \\sqrt{ax_{2}^{2} + ay_{2}^{2} + az_{2}^{2}} \\sqrt{ax_{3}^{2} + ay_{3}^{2} + az_{3}^{2}}} - \\frac{ax_{2} ay_{1} az_{3} \\theta_{1}^{2}}{192 \\sqrt{ax_{1}^{2} + ay_{1}^{2} + az_{1}^{2}} \\sqrt{ax_{2}^{2} + ay_{2}^{2} + az_{2}^{2}} \\sqrt{ax_{3}^{2} + ay_{3}^{2} + az_{3}^{2}}} + \\frac{ax_{2} ay_{1} az_{3} \\theta_{2}^{2} \\theta_{3}^{2}}{4608 \\sqrt{ax_{1}^{2} + ay_{1}^{2} + az_{1}^{2}} \\sqrt{ax_{2}^{2} + ay_{2}^{2} + az_{2}^{2}} \\sqrt{ax_{3}^{2} + ay_{3}^{2} + az_{3}^{2}}} - \\frac{ax_{2} ay_{1} az_{3} \\theta_{2}^{2}}{192 \\sqrt{ax_{1}^{2} + ay_{1}^{2} + az_{1}^{2}} \\sqrt{ax_{2}^{2} + ay_{2}^{2} + az_{2}^{2}} \\sqrt{ax_{3}^{2} + ay_{3}^{2} + az_{3}^{2}}} - \\frac{ax_{2} ay_{1} az_{3} \\theta_{3}^{2}}{192 \\sqrt{ax_{1}^{2} + ay_{1}^{2} + az_{1}^{2}} \\sqrt{ax_{2}^{2} + ay_{2}^{2} + az_{2}^{2}} \\sqrt{ax_{3}^{2} + ay_{3}^{2} + az_{3}^{2}}} + \\frac{ax_{2} ay_{1} az_{3}}{8 \\sqrt{ax_{1}^{2} + ay_{1}^{2} + az_{1}^{2}} \\sqrt{ax_{2}^{2} + ay_{2}^{2} + az_{2}^{2}} \\sqrt{ax_{3}^{2} + ay_{3}^{2} + az_{3}^{2}}} + \\frac{ax_{2} ay_{3} az_{1} \\theta_{1}^{2} \\theta_{2}^{2} \\theta_{3}^{2}}{110592 \\sqrt{ax_{1}^{2} + ay_{1}^{2} + az_{1}^{2}} \\sqrt{ax_{2}^{2} + ay_{2}^{2} + az_{2}^{2}} \\sqrt{ax_{3}^{2} + ay_{3}^{2} + az_{3}^{2}}} - \\frac{ax_{2} ay_{3} az_{1} \\theta_{1}^{2} \\theta_{2}^{2}}{4608 \\sqrt{ax_{1}^{2} + ay_{1}^{2} + az_{1}^{2}} \\sqrt{ax_{2}^{2} + ay_{2}^{2} + az_{2}^{2}} \\sqrt{ax_{3}^{2} + ay_{3}^{2} + az_{3}^{2}}} - \\frac{ax_{2} ay_{3} az_{1} \\theta_{1}^{2} \\theta_{3}^{2}}{4608 \\sqrt{ax_{1}^{2} + ay_{1}^{2} + az_{1}^{2}} \\sqrt{ax_{2}^{2} + ay_{2}^{2} + az_{2}^{2}} \\sqrt{ax_{3}^{2} + ay_{3}^{2} + az_{3}^{2}}} + \\frac{ax_{2} ay_{3} az_{1} \\theta_{1}^{2}}{192 \\sqrt{ax_{1}^{2} + ay_{1}^{2} + az_{1}^{2}} \\sqrt{ax_{2}^{2} + ay_{2}^{2} + az_{2}^{2}} \\sqrt{ax_{3}^{2} + ay_{3}^{2} + az_{3}^{2}}} - \\frac{ax_{2} ay_{3} az_{1} \\theta_{2}^{2} \\theta_{3}^{2}}{4608 \\sqrt{ax_{1}^{2} + ay_{1}^{2} + az_{1}^{2}} \\sqrt{ax_{2}^{2} + ay_{2}^{2} + az_{2}^{2}} \\sqrt{ax_{3}^{2} + ay_{3}^{2} + az_{3}^{2}}} + \\frac{ax_{2} ay_{3} az_{1} \\theta_{2}^{2}}{192 \\sqrt{ax_{1}^{2} + ay_{1}^{2} + az_{1}^{2}} \\sqrt{ax_{2}^{2} + ay_{2}^{2} + az_{2}^{2}} \\sqrt{ax_{3}^{2} + ay_{3}^{2} + az_{3}^{2}}} + \\frac{ax_{2} ay_{3} az_{1} \\theta_{3}^{2}}{192 \\sqrt{ax_{1}^{2} + ay_{1}^{2} + az_{1}^{2}} \\sqrt{ax_{2}^{2} + ay_{2}^{2} + az_{2}^{2}} \\sqrt{ax_{3}^{2} + ay_{3}^{2} + az_{3}^{2}}} - \\frac{ax_{2} ay_{3} az_{1}}{8 \\sqrt{ax_{1}^{2} + ay_{1}^{2} + az_{1}^{2}} \\sqrt{ax_{2}^{2} + ay_{2}^{2} + az_{2}^{2}} \\sqrt{ax_{3}^{2} + ay_{3}^{2} + az_{3}^{2}}} + \\frac{ax_{3} ay_{1} az_{2} \\theta_{1}^{2} \\theta_{2}^{2} \\theta_{3}^{2}}{110592 \\sqrt{ax_{1}^{2} + ay_{1}^{2} + az_{1}^{2}} \\sqrt{ax_{2}^{2} + ay_{2}^{2} + az_{2}^{2}} \\sqrt{ax_{3}^{2} + ay_{3}^{2} + az_{3}^{2}}} - \\frac{ax_{3} ay_{1} az_{2} \\theta_{1}^{2} \\theta_{2}^{2}}{4608 \\sqrt{ax_{1}^{2} + ay_{1}^{2} + az_{1}^{2}} \\sqrt{ax_{2}^{2} + ay_{2}^{2} + az_{2}^{2}} \\sqrt{ax_{3}^{2} + ay_{3}^{2} + az_{3}^{2}}} - \\frac{ax_{3} ay_{1} az_{2} \\theta_{1}^{2} \\theta_{3}^{2}}{4608 \\sqrt{ax_{1}^{2} + ay_{1}^{2} + az_{1}^{2}} \\sqrt{ax_{2}^{2} + ay_{2}^{2} + az_{2}^{2}} \\sqrt{ax_{3}^{2} + ay_{3}^{2} + az_{3}^{2}}} + \\frac{ax_{3} ay_{1} az_{2} \\theta_{1}^{2}}{192 \\sqrt{ax_{1}^{2} + ay_{1}^{2} + az_{1}^{2}} \\sqrt{ax_{2}^{2} + ay_{2}^{2} + az_{2}^{2}} \\sqrt{ax_{3}^{2} + ay_{3}^{2} + az_{3}^{2}}} - \\frac{ax_{3} ay_{1} az_{2} \\theta_{2}^{2} \\theta_{3}^{2}}{4608 \\sqrt{ax_{1}^{2} + ay_{1}^{2} + az_{1}^{2}} \\sqrt{ax_{2}^{2} + ay_{2}^{2} + az_{2}^{2}} \\sqrt{ax_{3}^{2} + ay_{3}^{2} + az_{3}^{2}}} + \\frac{ax_{3} ay_{1} az_{2} \\theta_{2}^{2}}{192 \\sqrt{ax_{1}^{2} + ay_{1}^{2} + az_{1}^{2}} \\sqrt{ax_{2}^{2} + ay_{2}^{2} + az_{2}^{2}} \\sqrt{ax_{3}^{2} + ay_{3}^{2} + az_{3}^{2}}} + \\frac{ax_{3} ay_{1} az_{2} \\theta_{3}^{2}}{192 \\sqrt{ax_{1}^{2} + ay_{1}^{2} + az_{1}^{2}} \\sqrt{ax_{2}^{2} + ay_{2}^{2} + az_{2}^{2}} \\sqrt{ax_{3}^{2} + ay_{3}^{2} + az_{3}^{2}}} - \\frac{ax_{3} ay_{1} az_{2}}{8 \\sqrt{ax_{1}^{2} + ay_{1}^{2} + az_{1}^{2}} \\sqrt{ax_{2}^{2} + ay_{2}^{2} + az_{2}^{2}} \\sqrt{ax_{3}^{2} + ay_{3}^{2} + az_{3}^{2}}} - \\frac{ax_{3} ay_{2} az_{1} \\theta_{1}^{2} \\theta_{2}^{2} \\theta_{3}^{2}}{110592 \\sqrt{ax_{1}^{2} + ay_{1}^{2} + az_{1}^{2}} \\sqrt{ax_{2}^{2} + ay_{2}^{2} + az_{2}^{2}} \\sqrt{ax_{3}^{2} + ay_{3}^{2} + az_{3}^{2}}} + \\frac{ax_{3} ay_{2} az_{1} \\theta_{1}^{2} \\theta_{2}^{2}}{4608 \\sqrt{ax_{1}^{2} + ay_{1}^{2} + az_{1}^{2}} \\sqrt{ax_{2}^{2} + ay_{2}^{2} + az_{2}^{2}} \\sqrt{ax_{3}^{2} + ay_{3}^{2} + az_{3}^{2}}} + \\frac{ax_{3} ay_{2} az_{1} \\theta_{1}^{2} \\theta_{3}^{2}}{4608 \\sqrt{ax_{1}^{2} + ay_{1}^{2} + az_{1}^{2}} \\sqrt{ax_{2}^{2} + ay_{2}^{2} + az_{2}^{2}} \\sqrt{ax_{3}^{2} + ay_{3}^{2} + az_{3}^{2}}} - \\frac{ax_{3} ay_{2} az_{1} \\theta_{1}^{2}}{192 \\sqrt{ax_{1}^{2} + ay_{1}^{2} + az_{1}^{2}} \\sqrt{ax_{2}^{2} + ay_{2}^{2} + az_{2}^{2}} \\sqrt{ax_{3}^{2} + ay_{3}^{2} + az_{3}^{2}}} + \\frac{ax_{3} ay_{2} az_{1} \\theta_{2}^{2} \\theta_{3}^{2}}{4608 \\sqrt{ax_{1}^{2} + ay_{1}^{2} + az_{1}^{2}} \\sqrt{ax_{2}^{2} + ay_{2}^{2} + az_{2}^{2}} \\sqrt{ax_{3}^{2} + ay_{3}^{2} + az_{3}^{2}}} - \\frac{ax_{3} ay_{2} az_{1} \\theta_{2}^{2}}{192 \\sqrt{ax_{1}^{2} + ay_{1}^{2} + az_{1}^{2}} \\sqrt{ax_{2}^{2} + ay_{2}^{2} + az_{2}^{2}} \\sqrt{ax_{3}^{2} + ay_{3}^{2} + az_{3}^{2}}} - \\frac{ax_{3} ay_{2} az_{1} \\theta_{3}^{2}}{192 \\sqrt{ax_{1}^{2} + ay_{1}^{2} + az_{1}^{2}} \\sqrt{ax_{2}^{2} + ay_{2}^{2} + az_{2}^{2}} \\sqrt{ax_{3}^{2} + ay_{3}^{2} + az_{3}^{2}}} + \\frac{ax_{3} ay_{2} az_{1}}{8 \\sqrt{ax_{1}^{2} + ay_{1}^{2} + az_{1}^{2}} \\sqrt{ax_{2}^{2} + ay_{2}^{2} + az_{2}^{2}} \\sqrt{ax_{3}^{2} + ay_{3}^{2} + az_{3}^{2}}} - \\frac{ay_{1} ay_{2} \\theta_{1}^{2} \\theta_{2}^{2} \\cos{\\left(\\frac{\\theta_{3}}{2} \\right)}}{2304 \\sqrt{ax_{1}^{2} + ay_{1}^{2} + az_{1}^{2}} \\sqrt{ax_{2}^{2} + ay_{2}^{2} + az_{2}^{2}}} + \\frac{ay_{1} ay_{2} \\theta_{1}^{2} \\cos{\\left(\\frac{\\theta_{3}}{2} \\right)}}{96 \\sqrt{ax_{1}^{2} + ay_{1}^{2} + az_{1}^{2}} \\sqrt{ax_{2}^{2} + ay_{2}^{2} + az_{2}^{2}}} + \\frac{ay_{1} ay_{2} \\theta_{2}^{2} \\cos{\\left(\\frac{\\theta_{3}}{2} \\right)}}{96 \\sqrt{ax_{1}^{2} + ay_{1}^{2} + az_{1}^{2}} \\sqrt{ax_{2}^{2} + ay_{2}^{2} + az_{2}^{2}}} - \\frac{ay_{1} ay_{2} \\cos{\\left(\\frac{\\theta_{3}}{2} \\right)}}{4 \\sqrt{ax_{1}^{2} + ay_{1}^{2} + az_{1}^{2}} \\sqrt{ax_{2}^{2} + ay_{2}^{2} + az_{2}^{2}}} - \\frac{ay_{1} ay_{3} \\theta_{1}^{2} \\theta_{3}^{2} \\cos{\\left(\\frac{\\theta_{2}}{2} \\right)}}{2304 \\sqrt{ax_{1}^{2} + ay_{1}^{2} + az_{1}^{2}} \\sqrt{ax_{3}^{2} + ay_{3}^{2} + az_{3}^{2}}} + \\frac{ay_{1} ay_{3} \\theta_{1}^{2} \\cos{\\left(\\frac{\\theta_{2}}{2} \\right)}}{96 \\sqrt{ax_{1}^{2} + ay_{1}^{2} + az_{1}^{2}} \\sqrt{ax_{3}^{2} + ay_{3}^{2} + az_{3}^{2}}} + \\frac{ay_{1} ay_{3} \\theta_{3}^{2} \\cos{\\left(\\frac{\\theta_{2}}{2} \\right)}}{96 \\sqrt{ax_{1}^{2} + ay_{1}^{2} + az_{1}^{2}} \\sqrt{ax_{3}^{2} + ay_{3}^{2} + az_{3}^{2}}} - \\frac{ay_{1} ay_{3} \\cos{\\left(\\frac{\\theta_{2}}{2} \\right)}}{4 \\sqrt{ax_{1}^{2} + ay_{1}^{2} + az_{1}^{2}} \\sqrt{ax_{3}^{2} + ay_{3}^{2} + az_{3}^{2}}} - \\frac{ay_{2} ay_{3} \\theta_{2}^{2} \\theta_{3}^{2} \\cos{\\left(\\frac{\\theta_{1}}{2} \\right)}}{2304 \\sqrt{ax_{2}^{2} + ay_{2}^{2} + az_{2}^{2}} \\sqrt{ax_{3}^{2} + ay_{3}^{2} + az_{3}^{2}}} + \\frac{ay_{2} ay_{3} \\theta_{2}^{2} \\cos{\\left(\\frac{\\theta_{1}}{2} \\right)}}{96 \\sqrt{ax_{2}^{2} + ay_{2}^{2} + az_{2}^{2}} \\sqrt{ax_{3}^{2} + ay_{3}^{2} + az_{3}^{2}}} + \\frac{ay_{2} ay_{3} \\theta_{3}^{2} \\cos{\\left(\\frac{\\theta_{1}}{2} \\right)}}{96 \\sqrt{ax_{2}^{2} + ay_{2}^{2} + az_{2}^{2}} \\sqrt{ax_{3}^{2} + ay_{3}^{2} + az_{3}^{2}}} - \\frac{ay_{2} ay_{3} \\cos{\\left(\\frac{\\theta_{1}}{2} \\right)}}{4 \\sqrt{ax_{2}^{2} + ay_{2}^{2} + az_{2}^{2}} \\sqrt{ax_{3}^{2} + ay_{3}^{2} + az_{3}^{2}}} - \\frac{az_{1} az_{2} \\theta_{1}^{2} \\theta_{2}^{2} \\cos{\\left(\\frac{\\theta_{3}}{2} \\right)}}{2304 \\sqrt{ax_{1}^{2} + ay_{1}^{2} + az_{1}^{2}} \\sqrt{ax_{2}^{2} + ay_{2}^{2} + az_{2}^{2}}} + \\frac{az_{1} az_{2} \\theta_{1}^{2} \\cos{\\left(\\frac{\\theta_{3}}{2} \\right)}}{96 \\sqrt{ax_{1}^{2} + ay_{1}^{2} + az_{1}^{2}} \\sqrt{ax_{2}^{2} + ay_{2}^{2} + az_{2}^{2}}} + \\frac{az_{1} az_{2} \\theta_{2}^{2} \\cos{\\left(\\frac{\\theta_{3}}{2} \\right)}}{96 \\sqrt{ax_{1}^{2} + ay_{1}^{2} + az_{1}^{2}} \\sqrt{ax_{2}^{2} + ay_{2}^{2} + az_{2}^{2}}} - \\frac{az_{1} az_{2} \\cos{\\left(\\frac{\\theta_{3}}{2} \\right)}}{4 \\sqrt{ax_{1}^{2} + ay_{1}^{2} + az_{1}^{2}} \\sqrt{ax_{2}^{2} + ay_{2}^{2} + az_{2}^{2}}} - \\frac{az_{1} az_{3} \\theta_{1}^{2} \\theta_{3}^{2} \\cos{\\left(\\frac{\\theta_{2}}{2} \\right)}}{2304 \\sqrt{ax_{1}^{2} + ay_{1}^{2} + az_{1}^{2}} \\sqrt{ax_{3}^{2} + ay_{3}^{2} + az_{3}^{2}}} + \\frac{az_{1} az_{3} \\theta_{1}^{2} \\cos{\\left(\\frac{\\theta_{2}}{2} \\right)}}{96 \\sqrt{ax_{1}^{2} + ay_{1}^{2} + az_{1}^{2}} \\sqrt{ax_{3}^{2} + ay_{3}^{2} + az_{3}^{2}}} + \\frac{az_{1} az_{3} \\theta_{3}^{2} \\cos{\\left(\\frac{\\theta_{2}}{2} \\right)}}{96 \\sqrt{ax_{1}^{2} + ay_{1}^{2} + az_{1}^{2}} \\sqrt{ax_{3}^{2} + ay_{3}^{2} + az_{3}^{2}}} - \\frac{az_{1} az_{3} \\cos{\\left(\\frac{\\theta_{2}}{2} \\right)}}{4 \\sqrt{ax_{1}^{2} + ay_{1}^{2} + az_{1}^{2}} \\sqrt{ax_{3}^{2} + ay_{3}^{2} + az_{3}^{2}}} - \\frac{az_{2} az_{3} \\theta_{2}^{2} \\theta_{3}^{2} \\cos{\\left(\\frac{\\theta_{1}}{2} \\right)}}{2304 \\sqrt{ax_{2}^{2} + ay_{2}^{2} + az_{2}^{2}} \\sqrt{ax_{3}^{2} + ay_{3}^{2} + az_{3}^{2}}} + \\frac{az_{2} az_{3} \\theta_{2}^{2} \\cos{\\left(\\frac{\\theta_{1}}{2} \\right)}}{96 \\sqrt{ax_{2}^{2} + ay_{2}^{2} + az_{2}^{2}} \\sqrt{ax_{3}^{2} + ay_{3}^{2} + az_{3}^{2}}} + \\frac{az_{2} az_{3} \\theta_{3}^{2} \\cos{\\left(\\frac{\\theta_{1}}{2} \\right)}}{96 \\sqrt{ax_{2}^{2} + ay_{2}^{2} + az_{2}^{2}} \\sqrt{ax_{3}^{2} + ay_{3}^{2} + az_{3}^{2}}} - \\frac{az_{2} az_{3} \\cos{\\left(\\frac{\\theta_{1}}{2} \\right)}}{4 \\sqrt{ax_{2}^{2} + ay_{2}^{2} + az_{2}^{2}} \\sqrt{ax_{3}^{2} + ay_{3}^{2} + az_{3}^{2}}} + \\cos{\\left(\\frac{\\theta_{1}}{2} \\right)} \\cos{\\left(\\frac{\\theta_{2}}{2} \\right)} \\cos{\\left(\\frac{\\theta_{3}}{2} \\right)}\\right) + \\left(\\frac{ax_{1} ax_{2} ax_{3} \\theta_{1}^{2} \\theta_{2}^{2} \\theta_{3}^{2}}{110592 \\sqrt{ax_{1}^{2} + ay_{1}^{2} + az_{1}^{2}} \\sqrt{ax_{2}^{2} + ay_{2}^{2} + az_{2}^{2}} \\sqrt{ax_{3}^{2} + ay_{3}^{2} + az_{3}^{2}}} - \\frac{ax_{1} ax_{2} ax_{3} \\theta_{1}^{2} \\theta_{2}^{2}}{4608 \\sqrt{ax_{1}^{2} + ay_{1}^{2} + az_{1}^{2}} \\sqrt{ax_{2}^{2} + ay_{2}^{2} + az_{2}^{2}} \\sqrt{ax_{3}^{2} + ay_{3}^{2} + az_{3}^{2}}} - \\frac{ax_{1} ax_{2} ax_{3} \\theta_{1}^{2} \\theta_{3}^{2}}{4608 \\sqrt{ax_{1}^{2} + ay_{1}^{2} + az_{1}^{2}} \\sqrt{ax_{2}^{2} + ay_{2}^{2} + az_{2}^{2}} \\sqrt{ax_{3}^{2} + ay_{3}^{2} + az_{3}^{2}}} + \\frac{ax_{1} ax_{2} ax_{3} \\theta_{1}^{2}}{192 \\sqrt{ax_{1}^{2} + ay_{1}^{2} + az_{1}^{2}} \\sqrt{ax_{2}^{2} + ay_{2}^{2} + az_{2}^{2}} \\sqrt{ax_{3}^{2} + ay_{3}^{2} + az_{3}^{2}}} - \\frac{ax_{1} ax_{2} ax_{3} \\theta_{2}^{2} \\theta_{3}^{2}}{4608 \\sqrt{ax_{1}^{2} + ay_{1}^{2} + az_{1}^{2}} \\sqrt{ax_{2}^{2} + ay_{2}^{2} + az_{2}^{2}} \\sqrt{ax_{3}^{2} + ay_{3}^{2} + az_{3}^{2}}} + \\frac{ax_{1} ax_{2} ax_{3} \\theta_{2}^{2}}{192 \\sqrt{ax_{1}^{2} + ay_{1}^{2} + az_{1}^{2}} \\sqrt{ax_{2}^{2} + ay_{2}^{2} + az_{2}^{2}} \\sqrt{ax_{3}^{2} + ay_{3}^{2} + az_{3}^{2}}} + \\frac{ax_{1} ax_{2} ax_{3} \\theta_{3}^{2}}{192 \\sqrt{ax_{1}^{2} + ay_{1}^{2} + az_{1}^{2}} \\sqrt{ax_{2}^{2} + ay_{2}^{2} + az_{2}^{2}} \\sqrt{ax_{3}^{2} + ay_{3}^{2} + az_{3}^{2}}} - \\frac{ax_{1} ax_{2} ax_{3}}{8 \\sqrt{ax_{1}^{2} + ay_{1}^{2} + az_{1}^{2}} \\sqrt{ax_{2}^{2} + ay_{2}^{2} + az_{2}^{2}} \\sqrt{ax_{3}^{2} + ay_{3}^{2} + az_{3}^{2}}} + \\frac{ax_{1} ay_{2} ay_{3} \\theta_{1}^{2} \\theta_{2}^{2} \\theta_{3}^{2}}{110592 \\sqrt{ax_{1}^{2} + ay_{1}^{2} + az_{1}^{2}} \\sqrt{ax_{2}^{2} + ay_{2}^{2} + az_{2}^{2}} \\sqrt{ax_{3}^{2} + ay_{3}^{2} + az_{3}^{2}}} - \\frac{ax_{1} ay_{2} ay_{3} \\theta_{1}^{2} \\theta_{2}^{2}}{4608 \\sqrt{ax_{1}^{2} + ay_{1}^{2} + az_{1}^{2}} \\sqrt{ax_{2}^{2} + ay_{2}^{2} + az_{2}^{2}} \\sqrt{ax_{3}^{2} + ay_{3}^{2} + az_{3}^{2}}} - \\frac{ax_{1} ay_{2} ay_{3} \\theta_{1}^{2} \\theta_{3}^{2}}{4608 \\sqrt{ax_{1}^{2} + ay_{1}^{2} + az_{1}^{2}} \\sqrt{ax_{2}^{2} + ay_{2}^{2} + az_{2}^{2}} \\sqrt{ax_{3}^{2} + ay_{3}^{2} + az_{3}^{2}}} + \\frac{ax_{1} ay_{2} ay_{3} \\theta_{1}^{2}}{192 \\sqrt{ax_{1}^{2} + ay_{1}^{2} + az_{1}^{2}} \\sqrt{ax_{2}^{2} + ay_{2}^{2} + az_{2}^{2}} \\sqrt{ax_{3}^{2} + ay_{3}^{2} + az_{3}^{2}}} - \\frac{ax_{1} ay_{2} ay_{3} \\theta_{2}^{2} \\theta_{3}^{2}}{4608 \\sqrt{ax_{1}^{2} + ay_{1}^{2} + az_{1}^{2}} \\sqrt{ax_{2}^{2} + ay_{2}^{2} + az_{2}^{2}} \\sqrt{ax_{3}^{2} + ay_{3}^{2} + az_{3}^{2}}} + \\frac{ax_{1} ay_{2} ay_{3} \\theta_{2}^{2}}{192 \\sqrt{ax_{1}^{2} + ay_{1}^{2} + az_{1}^{2}} \\sqrt{ax_{2}^{2} + ay_{2}^{2} + az_{2}^{2}} \\sqrt{ax_{3}^{2} + ay_{3}^{2} + az_{3}^{2}}} + \\frac{ax_{1} ay_{2} ay_{3} \\theta_{3}^{2}}{192 \\sqrt{ax_{1}^{2} + ay_{1}^{2} + az_{1}^{2}} \\sqrt{ax_{2}^{2} + ay_{2}^{2} + az_{2}^{2}} \\sqrt{ax_{3}^{2} + ay_{3}^{2} + az_{3}^{2}}} - \\frac{ax_{1} ay_{2} ay_{3}}{8 \\sqrt{ax_{1}^{2} + ay_{1}^{2} + az_{1}^{2}} \\sqrt{ax_{2}^{2} + ay_{2}^{2} + az_{2}^{2}} \\sqrt{ax_{3}^{2} + ay_{3}^{2} + az_{3}^{2}}} + \\frac{ax_{1} az_{2} az_{3} \\theta_{1}^{2} \\theta_{2}^{2} \\theta_{3}^{2}}{110592 \\sqrt{ax_{1}^{2} + ay_{1}^{2} + az_{1}^{2}} \\sqrt{ax_{2}^{2} + ay_{2}^{2} + az_{2}^{2}} \\sqrt{ax_{3}^{2} + ay_{3}^{2} + az_{3}^{2}}} - \\frac{ax_{1} az_{2} az_{3} \\theta_{1}^{2} \\theta_{2}^{2}}{4608 \\sqrt{ax_{1}^{2} + ay_{1}^{2} + az_{1}^{2}} \\sqrt{ax_{2}^{2} + ay_{2}^{2} + az_{2}^{2}} \\sqrt{ax_{3}^{2} + ay_{3}^{2} + az_{3}^{2}}} - \\frac{ax_{1} az_{2} az_{3} \\theta_{1}^{2} \\theta_{3}^{2}}{4608 \\sqrt{ax_{1}^{2} + ay_{1}^{2} + az_{1}^{2}} \\sqrt{ax_{2}^{2} + ay_{2}^{2} + az_{2}^{2}} \\sqrt{ax_{3}^{2} + ay_{3}^{2} + az_{3}^{2}}} + \\frac{ax_{1} az_{2} az_{3} \\theta_{1}^{2}}{192 \\sqrt{ax_{1}^{2} + ay_{1}^{2} + az_{1}^{2}} \\sqrt{ax_{2}^{2} + ay_{2}^{2} + az_{2}^{2}} \\sqrt{ax_{3}^{2} + ay_{3}^{2} + az_{3}^{2}}} - \\frac{ax_{1} az_{2} az_{3} \\theta_{2}^{2} \\theta_{3}^{2}}{4608 \\sqrt{ax_{1}^{2} + ay_{1}^{2} + az_{1}^{2}} \\sqrt{ax_{2}^{2} + ay_{2}^{2} + az_{2}^{2}} \\sqrt{ax_{3}^{2} + ay_{3}^{2} + az_{3}^{2}}} + \\frac{ax_{1} az_{2} az_{3} \\theta_{2}^{2}}{192 \\sqrt{ax_{1}^{2} + ay_{1}^{2} + az_{1}^{2}} \\sqrt{ax_{2}^{2} + ay_{2}^{2} + az_{2}^{2}} \\sqrt{ax_{3}^{2} + ay_{3}^{2} + az_{3}^{2}}} + \\frac{ax_{1} az_{2} az_{3} \\theta_{3}^{2}}{192 \\sqrt{ax_{1}^{2} + ay_{1}^{2} + az_{1}^{2}} \\sqrt{ax_{2}^{2} + ay_{2}^{2} + az_{2}^{2}} \\sqrt{ax_{3}^{2} + ay_{3}^{2} + az_{3}^{2}}} - \\frac{ax_{1} az_{2} az_{3}}{8 \\sqrt{ax_{1}^{2} + ay_{1}^{2} + az_{1}^{2}} \\sqrt{ax_{2}^{2} + ay_{2}^{2} + az_{2}^{2}} \\sqrt{ax_{3}^{2} + ay_{3}^{2} + az_{3}^{2}}} - \\frac{ax_{1} \\theta_{1}^{2} \\cos{\\left(\\frac{\\theta_{2}}{2} \\right)} \\cos{\\left(\\frac{\\theta_{3}}{2} \\right)}}{48 \\sqrt{ax_{1}^{2} + ay_{1}^{2} + az_{1}^{2}}} + \\frac{ax_{1} \\cos{\\left(\\frac{\\theta_{2}}{2} \\right)} \\cos{\\left(\\frac{\\theta_{3}}{2} \\right)}}{2 \\sqrt{ax_{1}^{2} + ay_{1}^{2} + az_{1}^{2}}} - \\frac{ax_{2} ay_{1} ay_{3} \\theta_{1}^{2} \\theta_{2}^{2} \\theta_{3}^{2}}{110592 \\sqrt{ax_{1}^{2} + ay_{1}^{2} + az_{1}^{2}} \\sqrt{ax_{2}^{2} + ay_{2}^{2} + az_{2}^{2}} \\sqrt{ax_{3}^{2} + ay_{3}^{2} + az_{3}^{2}}} + \\frac{ax_{2} ay_{1} ay_{3} \\theta_{1}^{2} \\theta_{2}^{2}}{4608 \\sqrt{ax_{1}^{2} + ay_{1}^{2} + az_{1}^{2}} \\sqrt{ax_{2}^{2} + ay_{2}^{2} + az_{2}^{2}} \\sqrt{ax_{3}^{2} + ay_{3}^{2} + az_{3}^{2}}} + \\frac{ax_{2} ay_{1} ay_{3} \\theta_{1}^{2} \\theta_{3}^{2}}{4608 \\sqrt{ax_{1}^{2} + ay_{1}^{2} + az_{1}^{2}} \\sqrt{ax_{2}^{2} + ay_{2}^{2} + az_{2}^{2}} \\sqrt{ax_{3}^{2} + ay_{3}^{2} + az_{3}^{2}}} - \\frac{ax_{2} ay_{1} ay_{3} \\theta_{1}^{2}}{192 \\sqrt{ax_{1}^{2} + ay_{1}^{2} + az_{1}^{2}} \\sqrt{ax_{2}^{2} + ay_{2}^{2} + az_{2}^{2}} \\sqrt{ax_{3}^{2} + ay_{3}^{2} + az_{3}^{2}}} + \\frac{ax_{2} ay_{1} ay_{3} \\theta_{2}^{2} \\theta_{3}^{2}}{4608 \\sqrt{ax_{1}^{2} + ay_{1}^{2} + az_{1}^{2}} \\sqrt{ax_{2}^{2} + ay_{2}^{2} + az_{2}^{2}} \\sqrt{ax_{3}^{2} + ay_{3}^{2} + az_{3}^{2}}} - \\frac{ax_{2} ay_{1} ay_{3} \\theta_{2}^{2}}{192 \\sqrt{ax_{1}^{2} + ay_{1}^{2} + az_{1}^{2}} \\sqrt{ax_{2}^{2} + ay_{2}^{2} + az_{2}^{2}} \\sqrt{ax_{3}^{2} + ay_{3}^{2} + az_{3}^{2}}} - \\frac{ax_{2} ay_{1} ay_{3} \\theta_{3}^{2}}{192 \\sqrt{ax_{1}^{2} + ay_{1}^{2} + az_{1}^{2}} \\sqrt{ax_{2}^{2} + ay_{2}^{2} + az_{2}^{2}} \\sqrt{ax_{3}^{2} + ay_{3}^{2} + az_{3}^{2}}} + \\frac{ax_{2} ay_{1} ay_{3}}{8 \\sqrt{ax_{1}^{2} + ay_{1}^{2} + az_{1}^{2}} \\sqrt{ax_{2}^{2} + ay_{2}^{2} + az_{2}^{2}} \\sqrt{ax_{3}^{2} + ay_{3}^{2} + az_{3}^{2}}} - \\frac{ax_{2} az_{1} az_{3} \\theta_{1}^{2} \\theta_{2}^{2} \\theta_{3}^{2}}{110592 \\sqrt{ax_{1}^{2} + ay_{1}^{2} + az_{1}^{2}} \\sqrt{ax_{2}^{2} + ay_{2}^{2} + az_{2}^{2}} \\sqrt{ax_{3}^{2} + ay_{3}^{2} + az_{3}^{2}}} + \\frac{ax_{2} az_{1} az_{3} \\theta_{1}^{2} \\theta_{2}^{2}}{4608 \\sqrt{ax_{1}^{2} + ay_{1}^{2} + az_{1}^{2}} \\sqrt{ax_{2}^{2} + ay_{2}^{2} + az_{2}^{2}} \\sqrt{ax_{3}^{2} + ay_{3}^{2} + az_{3}^{2}}} + \\frac{ax_{2} az_{1} az_{3} \\theta_{1}^{2} \\theta_{3}^{2}}{4608 \\sqrt{ax_{1}^{2} + ay_{1}^{2} + az_{1}^{2}} \\sqrt{ax_{2}^{2} + ay_{2}^{2} + az_{2}^{2}} \\sqrt{ax_{3}^{2} + ay_{3}^{2} + az_{3}^{2}}} - \\frac{ax_{2} az_{1} az_{3} \\theta_{1}^{2}}{192 \\sqrt{ax_{1}^{2} + ay_{1}^{2} + az_{1}^{2}} \\sqrt{ax_{2}^{2} + ay_{2}^{2} + az_{2}^{2}} \\sqrt{ax_{3}^{2} + ay_{3}^{2} + az_{3}^{2}}} + \\frac{ax_{2} az_{1} az_{3} \\theta_{2}^{2} \\theta_{3}^{2}}{4608 \\sqrt{ax_{1}^{2} + ay_{1}^{2} + az_{1}^{2}} \\sqrt{ax_{2}^{2} + ay_{2}^{2} + az_{2}^{2}} \\sqrt{ax_{3}^{2} + ay_{3}^{2} + az_{3}^{2}}} - \\frac{ax_{2} az_{1} az_{3} \\theta_{2}^{2}}{192 \\sqrt{ax_{1}^{2} + ay_{1}^{2} + az_{1}^{2}} \\sqrt{ax_{2}^{2} + ay_{2}^{2} + az_{2}^{2}} \\sqrt{ax_{3}^{2} + ay_{3}^{2} + az_{3}^{2}}} - \\frac{ax_{2} az_{1} az_{3} \\theta_{3}^{2}}{192 \\sqrt{ax_{1}^{2} + ay_{1}^{2} + az_{1}^{2}} \\sqrt{ax_{2}^{2} + ay_{2}^{2} + az_{2}^{2}} \\sqrt{ax_{3}^{2} + ay_{3}^{2} + az_{3}^{2}}} + \\frac{ax_{2} az_{1} az_{3}}{8 \\sqrt{ax_{1}^{2} + ay_{1}^{2} + az_{1}^{2}} \\sqrt{ax_{2}^{2} + ay_{2}^{2} + az_{2}^{2}} \\sqrt{ax_{3}^{2} + ay_{3}^{2} + az_{3}^{2}}} - \\frac{ax_{2} \\theta_{2}^{2} \\cos{\\left(\\frac{\\theta_{1}}{2} \\right)} \\cos{\\left(\\frac{\\theta_{3}}{2} \\right)}}{48 \\sqrt{ax_{2}^{2} + ay_{2}^{2} + az_{2}^{2}}} + \\frac{ax_{2} \\cos{\\left(\\frac{\\theta_{1}}{2} \\right)} \\cos{\\left(\\frac{\\theta_{3}}{2} \\right)}}{2 \\sqrt{ax_{2}^{2} + ay_{2}^{2} + az_{2}^{2}}} + \\frac{ax_{3} ay_{1} ay_{2} \\theta_{1}^{2} \\theta_{2}^{2} \\theta_{3}^{2}}{110592 \\sqrt{ax_{1}^{2} + ay_{1}^{2} + az_{1}^{2}} \\sqrt{ax_{2}^{2} + ay_{2}^{2} + az_{2}^{2}} \\sqrt{ax_{3}^{2} + ay_{3}^{2} + az_{3}^{2}}} - \\frac{ax_{3} ay_{1} ay_{2} \\theta_{1}^{2} \\theta_{2}^{2}}{4608 \\sqrt{ax_{1}^{2} + ay_{1}^{2} + az_{1}^{2}} \\sqrt{ax_{2}^{2} + ay_{2}^{2} + az_{2}^{2}} \\sqrt{ax_{3}^{2} + ay_{3}^{2} + az_{3}^{2}}} - \\frac{ax_{3} ay_{1} ay_{2} \\theta_{1}^{2} \\theta_{3}^{2}}{4608 \\sqrt{ax_{1}^{2} + ay_{1}^{2} + az_{1}^{2}} \\sqrt{ax_{2}^{2} + ay_{2}^{2} + az_{2}^{2}} \\sqrt{ax_{3}^{2} + ay_{3}^{2} + az_{3}^{2}}} + \\frac{ax_{3} ay_{1} ay_{2} \\theta_{1}^{2}}{192 \\sqrt{ax_{1}^{2} + ay_{1}^{2} + az_{1}^{2}} \\sqrt{ax_{2}^{2} + ay_{2}^{2} + az_{2}^{2}} \\sqrt{ax_{3}^{2} + ay_{3}^{2} + az_{3}^{2}}} - \\frac{ax_{3} ay_{1} ay_{2} \\theta_{2}^{2} \\theta_{3}^{2}}{4608 \\sqrt{ax_{1}^{2} + ay_{1}^{2} + az_{1}^{2}} \\sqrt{ax_{2}^{2} + ay_{2}^{2} + az_{2}^{2}} \\sqrt{ax_{3}^{2} + ay_{3}^{2} + az_{3}^{2}}} + \\frac{ax_{3} ay_{1} ay_{2} \\theta_{2}^{2}}{192 \\sqrt{ax_{1}^{2} + ay_{1}^{2} + az_{1}^{2}} \\sqrt{ax_{2}^{2} + ay_{2}^{2} + az_{2}^{2}} \\sqrt{ax_{3}^{2} + ay_{3}^{2} + az_{3}^{2}}} + \\frac{ax_{3} ay_{1} ay_{2} \\theta_{3}^{2}}{192 \\sqrt{ax_{1}^{2} + ay_{1}^{2} + az_{1}^{2}} \\sqrt{ax_{2}^{2} + ay_{2}^{2} + az_{2}^{2}} \\sqrt{ax_{3}^{2} + ay_{3}^{2} + az_{3}^{2}}} - \\frac{ax_{3} ay_{1} ay_{2}}{8 \\sqrt{ax_{1}^{2} + ay_{1}^{2} + az_{1}^{2}} \\sqrt{ax_{2}^{2} + ay_{2}^{2} + az_{2}^{2}} \\sqrt{ax_{3}^{2} + ay_{3}^{2} + az_{3}^{2}}} + \\frac{ax_{3} az_{1} az_{2} \\theta_{1}^{2} \\theta_{2}^{2} \\theta_{3}^{2}}{110592 \\sqrt{ax_{1}^{2} + ay_{1}^{2} + az_{1}^{2}} \\sqrt{ax_{2}^{2} + ay_{2}^{2} + az_{2}^{2}} \\sqrt{ax_{3}^{2} + ay_{3}^{2} + az_{3}^{2}}} - \\frac{ax_{3} az_{1} az_{2} \\theta_{1}^{2} \\theta_{2}^{2}}{4608 \\sqrt{ax_{1}^{2} + ay_{1}^{2} + az_{1}^{2}} \\sqrt{ax_{2}^{2} + ay_{2}^{2} + az_{2}^{2}} \\sqrt{ax_{3}^{2} + ay_{3}^{2} + az_{3}^{2}}} - \\frac{ax_{3} az_{1} az_{2} \\theta_{1}^{2} \\theta_{3}^{2}}{4608 \\sqrt{ax_{1}^{2} + ay_{1}^{2} + az_{1}^{2}} \\sqrt{ax_{2}^{2} + ay_{2}^{2} + az_{2}^{2}} \\sqrt{ax_{3}^{2} + ay_{3}^{2} + az_{3}^{2}}} + \\frac{ax_{3} az_{1} az_{2} \\theta_{1}^{2}}{192 \\sqrt{ax_{1}^{2} + ay_{1}^{2} + az_{1}^{2}} \\sqrt{ax_{2}^{2} + ay_{2}^{2} + az_{2}^{2}} \\sqrt{ax_{3}^{2} + ay_{3}^{2} + az_{3}^{2}}} - \\frac{ax_{3} az_{1} az_{2} \\theta_{2}^{2} \\theta_{3}^{2}}{4608 \\sqrt{ax_{1}^{2} + ay_{1}^{2} + az_{1}^{2}} \\sqrt{ax_{2}^{2} + ay_{2}^{2} + az_{2}^{2}} \\sqrt{ax_{3}^{2} + ay_{3}^{2} + az_{3}^{2}}} + \\frac{ax_{3} az_{1} az_{2} \\theta_{2}^{2}}{192 \\sqrt{ax_{1}^{2} + ay_{1}^{2} + az_{1}^{2}} \\sqrt{ax_{2}^{2} + ay_{2}^{2} + az_{2}^{2}} \\sqrt{ax_{3}^{2} + ay_{3}^{2} + az_{3}^{2}}} + \\frac{ax_{3} az_{1} az_{2} \\theta_{3}^{2}}{192 \\sqrt{ax_{1}^{2} + ay_{1}^{2} + az_{1}^{2}} \\sqrt{ax_{2}^{2} + ay_{2}^{2} + az_{2}^{2}} \\sqrt{ax_{3}^{2} + ay_{3}^{2} + az_{3}^{2}}} - \\frac{ax_{3} az_{1} az_{2}}{8 \\sqrt{ax_{1}^{2} + ay_{1}^{2} + az_{1}^{2}} \\sqrt{ax_{2}^{2} + ay_{2}^{2} + az_{2}^{2}} \\sqrt{ax_{3}^{2} + ay_{3}^{2} + az_{3}^{2}}} - \\frac{ax_{3} \\theta_{3}^{2} \\cos{\\left(\\frac{\\theta_{1}}{2} \\right)} \\cos{\\left(\\frac{\\theta_{2}}{2} \\right)}}{48 \\sqrt{ax_{3}^{2} + ay_{3}^{2} + az_{3}^{2}}} + \\frac{ax_{3} \\cos{\\left(\\frac{\\theta_{1}}{2} \\right)} \\cos{\\left(\\frac{\\theta_{2}}{2} \\right)}}{2 \\sqrt{ax_{3}^{2} + ay_{3}^{2} + az_{3}^{2}}} + \\frac{ay_{1} az_{2} \\theta_{1}^{2} \\theta_{2}^{2} \\cos{\\left(\\frac{\\theta_{3}}{2} \\right)}}{2304 \\sqrt{ax_{1}^{2} + ay_{1}^{2} + az_{1}^{2}} \\sqrt{ax_{2}^{2} + ay_{2}^{2} + az_{2}^{2}}} - \\frac{ay_{1} az_{2} \\theta_{1}^{2} \\cos{\\left(\\frac{\\theta_{3}}{2} \\right)}}{96 \\sqrt{ax_{1}^{2} + ay_{1}^{2} + az_{1}^{2}} \\sqrt{ax_{2}^{2} + ay_{2}^{2} + az_{2}^{2}}} - \\frac{ay_{1} az_{2} \\theta_{2}^{2} \\cos{\\left(\\frac{\\theta_{3}}{2} \\right)}}{96 \\sqrt{ax_{1}^{2} + ay_{1}^{2} + az_{1}^{2}} \\sqrt{ax_{2}^{2} + ay_{2}^{2} + az_{2}^{2}}} + \\frac{ay_{1} az_{2} \\cos{\\left(\\frac{\\theta_{3}}{2} \\right)}}{4 \\sqrt{ax_{1}^{2} + ay_{1}^{2} + az_{1}^{2}} \\sqrt{ax_{2}^{2} + ay_{2}^{2} + az_{2}^{2}}} + \\frac{ay_{1} az_{3} \\theta_{1}^{2} \\theta_{3}^{2} \\cos{\\left(\\frac{\\theta_{2}}{2} \\right)}}{2304 \\sqrt{ax_{1}^{2} + ay_{1}^{2} + az_{1}^{2}} \\sqrt{ax_{3}^{2} + ay_{3}^{2} + az_{3}^{2}}} - \\frac{ay_{1} az_{3} \\theta_{1}^{2} \\cos{\\left(\\frac{\\theta_{2}}{2} \\right)}}{96 \\sqrt{ax_{1}^{2} + ay_{1}^{2} + az_{1}^{2}} \\sqrt{ax_{3}^{2} + ay_{3}^{2} + az_{3}^{2}}} - \\frac{ay_{1} az_{3} \\theta_{3}^{2} \\cos{\\left(\\frac{\\theta_{2}}{2} \\right)}}{96 \\sqrt{ax_{1}^{2} + ay_{1}^{2} + az_{1}^{2}} \\sqrt{ax_{3}^{2} + ay_{3}^{2} + az_{3}^{2}}} + \\frac{ay_{1} az_{3} \\cos{\\left(\\frac{\\theta_{2}}{2} \\right)}}{4 \\sqrt{ax_{1}^{2} + ay_{1}^{2} + az_{1}^{2}} \\sqrt{ax_{3}^{2} + ay_{3}^{2} + az_{3}^{2}}} - \\frac{ay_{2} az_{1} \\theta_{1}^{2} \\theta_{2}^{2} \\cos{\\left(\\frac{\\theta_{3}}{2} \\right)}}{2304 \\sqrt{ax_{1}^{2} + ay_{1}^{2} + az_{1}^{2}} \\sqrt{ax_{2}^{2} + ay_{2}^{2} + az_{2}^{2}}} + \\frac{ay_{2} az_{1} \\theta_{1}^{2} \\cos{\\left(\\frac{\\theta_{3}}{2} \\right)}}{96 \\sqrt{ax_{1}^{2} + ay_{1}^{2} + az_{1}^{2}} \\sqrt{ax_{2}^{2} + ay_{2}^{2} + az_{2}^{2}}} + \\frac{ay_{2} az_{1} \\theta_{2}^{2} \\cos{\\left(\\frac{\\theta_{3}}{2} \\right)}}{96 \\sqrt{ax_{1}^{2} + ay_{1}^{2} + az_{1}^{2}} \\sqrt{ax_{2}^{2} + ay_{2}^{2} + az_{2}^{2}}} - \\frac{ay_{2} az_{1} \\cos{\\left(\\frac{\\theta_{3}}{2} \\right)}}{4 \\sqrt{ax_{1}^{2} + ay_{1}^{2} + az_{1}^{2}} \\sqrt{ax_{2}^{2} + ay_{2}^{2} + az_{2}^{2}}} + \\frac{ay_{2} az_{3} \\theta_{2}^{2} \\theta_{3}^{2} \\cos{\\left(\\frac{\\theta_{1}}{2} \\right)}}{2304 \\sqrt{ax_{2}^{2} + ay_{2}^{2} + az_{2}^{2}} \\sqrt{ax_{3}^{2} + ay_{3}^{2} + az_{3}^{2}}} - \\frac{ay_{2} az_{3} \\theta_{2}^{2} \\cos{\\left(\\frac{\\theta_{1}}{2} \\right)}}{96 \\sqrt{ax_{2}^{2} + ay_{2}^{2} + az_{2}^{2}} \\sqrt{ax_{3}^{2} + ay_{3}^{2} + az_{3}^{2}}} - \\frac{ay_{2} az_{3} \\theta_{3}^{2} \\cos{\\left(\\frac{\\theta_{1}}{2} \\right)}}{96 \\sqrt{ax_{2}^{2} + ay_{2}^{2} + az_{2}^{2}} \\sqrt{ax_{3}^{2} + ay_{3}^{2} + az_{3}^{2}}} + \\frac{ay_{2} az_{3} \\cos{\\left(\\frac{\\theta_{1}}{2} \\right)}}{4 \\sqrt{ax_{2}^{2} + ay_{2}^{2} + az_{2}^{2}} \\sqrt{ax_{3}^{2} + ay_{3}^{2} + az_{3}^{2}}} - \\frac{ay_{3} az_{1} \\theta_{1}^{2} \\theta_{3}^{2} \\cos{\\left(\\frac{\\theta_{2}}{2} \\right)}}{2304 \\sqrt{ax_{1}^{2} + ay_{1}^{2} + az_{1}^{2}} \\sqrt{ax_{3}^{2} + ay_{3}^{2} + az_{3}^{2}}} + \\frac{ay_{3} az_{1} \\theta_{1}^{2} \\cos{\\left(\\frac{\\theta_{2}}{2} \\right)}}{96 \\sqrt{ax_{1}^{2} + ay_{1}^{2} + az_{1}^{2}} \\sqrt{ax_{3}^{2} + ay_{3}^{2} + az_{3}^{2}}} + \\frac{ay_{3} az_{1} \\theta_{3}^{2} \\cos{\\left(\\frac{\\theta_{2}}{2} \\right)}}{96 \\sqrt{ax_{1}^{2} + ay_{1}^{2} + az_{1}^{2}} \\sqrt{ax_{3}^{2} + ay_{3}^{2} + az_{3}^{2}}} - \\frac{ay_{3} az_{1} \\cos{\\left(\\frac{\\theta_{2}}{2} \\right)}}{4 \\sqrt{ax_{1}^{2} + ay_{1}^{2} + az_{1}^{2}} \\sqrt{ax_{3}^{2} + ay_{3}^{2} + az_{3}^{2}}} - \\frac{ay_{3} az_{2} \\theta_{2}^{2} \\theta_{3}^{2} \\cos{\\left(\\frac{\\theta_{1}}{2} \\right)}}{2304 \\sqrt{ax_{2}^{2} + ay_{2}^{2} + az_{2}^{2}} \\sqrt{ax_{3}^{2} + ay_{3}^{2} + az_{3}^{2}}} + \\frac{ay_{3} az_{2} \\theta_{2}^{2} \\cos{\\left(\\frac{\\theta_{1}}{2} \\right)}}{96 \\sqrt{ax_{2}^{2} + ay_{2}^{2} + az_{2}^{2}} \\sqrt{ax_{3}^{2} + ay_{3}^{2} + az_{3}^{2}}} + \\frac{ay_{3} az_{2} \\theta_{3}^{2} \\cos{\\left(\\frac{\\theta_{1}}{2} \\right)}}{96 \\sqrt{ax_{2}^{2} + ay_{2}^{2} + az_{2}^{2}} \\sqrt{ax_{3}^{2} + ay_{3}^{2} + az_{3}^{2}}} - \\frac{ay_{3} az_{2} \\cos{\\left(\\frac{\\theta_{1}}{2} \\right)}}{4 \\sqrt{ax_{2}^{2} + ay_{2}^{2} + az_{2}^{2}} \\sqrt{ax_{3}^{2} + ay_{3}^{2} + az_{3}^{2}}}\\right) i + \\left(\\frac{ax_{1} ax_{2} ay_{3} \\theta_{1}^{2} \\theta_{2}^{2} \\theta_{3}^{2}}{110592 \\sqrt{ax_{1}^{2} + ay_{1}^{2} + az_{1}^{2}} \\sqrt{ax_{2}^{2} + ay_{2}^{2} + az_{2}^{2}} \\sqrt{ax_{3}^{2} + ay_{3}^{2} + az_{3}^{2}}} - \\frac{ax_{1} ax_{2} ay_{3} \\theta_{1}^{2} \\theta_{2}^{2}}{4608 \\sqrt{ax_{1}^{2} + ay_{1}^{2} + az_{1}^{2}} \\sqrt{ax_{2}^{2} + ay_{2}^{2} + az_{2}^{2}} \\sqrt{ax_{3}^{2} + ay_{3}^{2} + az_{3}^{2}}} - \\frac{ax_{1} ax_{2} ay_{3} \\theta_{1}^{2} \\theta_{3}^{2}}{4608 \\sqrt{ax_{1}^{2} + ay_{1}^{2} + az_{1}^{2}} \\sqrt{ax_{2}^{2} + ay_{2}^{2} + az_{2}^{2}} \\sqrt{ax_{3}^{2} + ay_{3}^{2} + az_{3}^{2}}} + \\frac{ax_{1} ax_{2} ay_{3} \\theta_{1}^{2}}{192 \\sqrt{ax_{1}^{2} + ay_{1}^{2} + az_{1}^{2}} \\sqrt{ax_{2}^{2} + ay_{2}^{2} + az_{2}^{2}} \\sqrt{ax_{3}^{2} + ay_{3}^{2} + az_{3}^{2}}} - \\frac{ax_{1} ax_{2} ay_{3} \\theta_{2}^{2} \\theta_{3}^{2}}{4608 \\sqrt{ax_{1}^{2} + ay_{1}^{2} + az_{1}^{2}} \\sqrt{ax_{2}^{2} + ay_{2}^{2} + az_{2}^{2}} \\sqrt{ax_{3}^{2} + ay_{3}^{2} + az_{3}^{2}}} + \\frac{ax_{1} ax_{2} ay_{3} \\theta_{2}^{2}}{192 \\sqrt{ax_{1}^{2} + ay_{1}^{2} + az_{1}^{2}} \\sqrt{ax_{2}^{2} + ay_{2}^{2} + az_{2}^{2}} \\sqrt{ax_{3}^{2} + ay_{3}^{2} + az_{3}^{2}}} + \\frac{ax_{1} ax_{2} ay_{3} \\theta_{3}^{2}}{192 \\sqrt{ax_{1}^{2} + ay_{1}^{2} + az_{1}^{2}} \\sqrt{ax_{2}^{2} + ay_{2}^{2} + az_{2}^{2}} \\sqrt{ax_{3}^{2} + ay_{3}^{2} + az_{3}^{2}}} - \\frac{ax_{1} ax_{2} ay_{3}}{8 \\sqrt{ax_{1}^{2} + ay_{1}^{2} + az_{1}^{2}} \\sqrt{ax_{2}^{2} + ay_{2}^{2} + az_{2}^{2}} \\sqrt{ax_{3}^{2} + ay_{3}^{2} + az_{3}^{2}}} - \\frac{ax_{1} ax_{3} ay_{2} \\theta_{1}^{2} \\theta_{2}^{2} \\theta_{3}^{2}}{110592 \\sqrt{ax_{1}^{2} + ay_{1}^{2} + az_{1}^{2}} \\sqrt{ax_{2}^{2} + ay_{2}^{2} + az_{2}^{2}} \\sqrt{ax_{3}^{2} + ay_{3}^{2} + az_{3}^{2}}} + \\frac{ax_{1} ax_{3} ay_{2} \\theta_{1}^{2} \\theta_{2}^{2}}{4608 \\sqrt{ax_{1}^{2} + ay_{1}^{2} + az_{1}^{2}} \\sqrt{ax_{2}^{2} + ay_{2}^{2} + az_{2}^{2}} \\sqrt{ax_{3}^{2} + ay_{3}^{2} + az_{3}^{2}}} + \\frac{ax_{1} ax_{3} ay_{2} \\theta_{1}^{2} \\theta_{3}^{2}}{4608 \\sqrt{ax_{1}^{2} + ay_{1}^{2} + az_{1}^{2}} \\sqrt{ax_{2}^{2} + ay_{2}^{2} + az_{2}^{2}} \\sqrt{ax_{3}^{2} + ay_{3}^{2} + az_{3}^{2}}} - \\frac{ax_{1} ax_{3} ay_{2} \\theta_{1}^{2}}{192 \\sqrt{ax_{1}^{2} + ay_{1}^{2} + az_{1}^{2}} \\sqrt{ax_{2}^{2} + ay_{2}^{2} + az_{2}^{2}} \\sqrt{ax_{3}^{2} + ay_{3}^{2} + az_{3}^{2}}} + \\frac{ax_{1} ax_{3} ay_{2} \\theta_{2}^{2} \\theta_{3}^{2}}{4608 \\sqrt{ax_{1}^{2} + ay_{1}^{2} + az_{1}^{2}} \\sqrt{ax_{2}^{2} + ay_{2}^{2} + az_{2}^{2}} \\sqrt{ax_{3}^{2} + ay_{3}^{2} + az_{3}^{2}}} - \\frac{ax_{1} ax_{3} ay_{2} \\theta_{2}^{2}}{192 \\sqrt{ax_{1}^{2} + ay_{1}^{2} + az_{1}^{2}} \\sqrt{ax_{2}^{2} + ay_{2}^{2} + az_{2}^{2}} \\sqrt{ax_{3}^{2} + ay_{3}^{2} + az_{3}^{2}}} - \\frac{ax_{1} ax_{3} ay_{2} \\theta_{3}^{2}}{192 \\sqrt{ax_{1}^{2} + ay_{1}^{2} + az_{1}^{2}} \\sqrt{ax_{2}^{2} + ay_{2}^{2} + az_{2}^{2}} \\sqrt{ax_{3}^{2} + ay_{3}^{2} + az_{3}^{2}}} + \\frac{ax_{1} ax_{3} ay_{2}}{8 \\sqrt{ax_{1}^{2} + ay_{1}^{2} + az_{1}^{2}} \\sqrt{ax_{2}^{2} + ay_{2}^{2} + az_{2}^{2}} \\sqrt{ax_{3}^{2} + ay_{3}^{2} + az_{3}^{2}}} - \\frac{ax_{1} az_{2} \\theta_{1}^{2} \\theta_{2}^{2} \\cos{\\left(\\frac{\\theta_{3}}{2} \\right)}}{2304 \\sqrt{ax_{1}^{2} + ay_{1}^{2} + az_{1}^{2}} \\sqrt{ax_{2}^{2} + ay_{2}^{2} + az_{2}^{2}}} + \\frac{ax_{1} az_{2} \\theta_{1}^{2} \\cos{\\left(\\frac{\\theta_{3}}{2} \\right)}}{96 \\sqrt{ax_{1}^{2} + ay_{1}^{2} + az_{1}^{2}} \\sqrt{ax_{2}^{2} + ay_{2}^{2} + az_{2}^{2}}} + \\frac{ax_{1} az_{2} \\theta_{2}^{2} \\cos{\\left(\\frac{\\theta_{3}}{2} \\right)}}{96 \\sqrt{ax_{1}^{2} + ay_{1}^{2} + az_{1}^{2}} \\sqrt{ax_{2}^{2} + ay_{2}^{2} + az_{2}^{2}}} - \\frac{ax_{1} az_{2} \\cos{\\left(\\frac{\\theta_{3}}{2} \\right)}}{4 \\sqrt{ax_{1}^{2} + ay_{1}^{2} + az_{1}^{2}} \\sqrt{ax_{2}^{2} + ay_{2}^{2} + az_{2}^{2}}} - \\frac{ax_{1} az_{3} \\theta_{1}^{2} \\theta_{3}^{2} \\cos{\\left(\\frac{\\theta_{2}}{2} \\right)}}{2304 \\sqrt{ax_{1}^{2} + ay_{1}^{2} + az_{1}^{2}} \\sqrt{ax_{3}^{2} + ay_{3}^{2} + az_{3}^{2}}} + \\frac{ax_{1} az_{3} \\theta_{1}^{2} \\cos{\\left(\\frac{\\theta_{2}}{2} \\right)}}{96 \\sqrt{ax_{1}^{2} + ay_{1}^{2} + az_{1}^{2}} \\sqrt{ax_{3}^{2} + ay_{3}^{2} + az_{3}^{2}}} + \\frac{ax_{1} az_{3} \\theta_{3}^{2} \\cos{\\left(\\frac{\\theta_{2}}{2} \\right)}}{96 \\sqrt{ax_{1}^{2} + ay_{1}^{2} + az_{1}^{2}} \\sqrt{ax_{3}^{2} + ay_{3}^{2} + az_{3}^{2}}} - \\frac{ax_{1} az_{3} \\cos{\\left(\\frac{\\theta_{2}}{2} \\right)}}{4 \\sqrt{ax_{1}^{2} + ay_{1}^{2} + az_{1}^{2}} \\sqrt{ax_{3}^{2} + ay_{3}^{2} + az_{3}^{2}}} + \\frac{ax_{2} ax_{3} ay_{1} \\theta_{1}^{2} \\theta_{2}^{2} \\theta_{3}^{2}}{110592 \\sqrt{ax_{1}^{2} + ay_{1}^{2} + az_{1}^{2}} \\sqrt{ax_{2}^{2} + ay_{2}^{2} + az_{2}^{2}} \\sqrt{ax_{3}^{2} + ay_{3}^{2} + az_{3}^{2}}} - \\frac{ax_{2} ax_{3} ay_{1} \\theta_{1}^{2} \\theta_{2}^{2}}{4608 \\sqrt{ax_{1}^{2} + ay_{1}^{2} + az_{1}^{2}} \\sqrt{ax_{2}^{2} + ay_{2}^{2} + az_{2}^{2}} \\sqrt{ax_{3}^{2} + ay_{3}^{2} + az_{3}^{2}}} - \\frac{ax_{2} ax_{3} ay_{1} \\theta_{1}^{2} \\theta_{3}^{2}}{4608 \\sqrt{ax_{1}^{2} + ay_{1}^{2} + az_{1}^{2}} \\sqrt{ax_{2}^{2} + ay_{2}^{2} + az_{2}^{2}} \\sqrt{ax_{3}^{2} + ay_{3}^{2} + az_{3}^{2}}} + \\frac{ax_{2} ax_{3} ay_{1} \\theta_{1}^{2}}{192 \\sqrt{ax_{1}^{2} + ay_{1}^{2} + az_{1}^{2}} \\sqrt{ax_{2}^{2} + ay_{2}^{2} + az_{2}^{2}} \\sqrt{ax_{3}^{2} + ay_{3}^{2} + az_{3}^{2}}} - \\frac{ax_{2} ax_{3} ay_{1} \\theta_{2}^{2} \\theta_{3}^{2}}{4608 \\sqrt{ax_{1}^{2} + ay_{1}^{2} + az_{1}^{2}} \\sqrt{ax_{2}^{2} + ay_{2}^{2} + az_{2}^{2}} \\sqrt{ax_{3}^{2} + ay_{3}^{2} + az_{3}^{2}}} + \\frac{ax_{2} ax_{3} ay_{1} \\theta_{2}^{2}}{192 \\sqrt{ax_{1}^{2} + ay_{1}^{2} + az_{1}^{2}} \\sqrt{ax_{2}^{2} + ay_{2}^{2} + az_{2}^{2}} \\sqrt{ax_{3}^{2} + ay_{3}^{2} + az_{3}^{2}}} + \\frac{ax_{2} ax_{3} ay_{1} \\theta_{3}^{2}}{192 \\sqrt{ax_{1}^{2} + ay_{1}^{2} + az_{1}^{2}} \\sqrt{ax_{2}^{2} + ay_{2}^{2} + az_{2}^{2}} \\sqrt{ax_{3}^{2} + ay_{3}^{2} + az_{3}^{2}}} - \\frac{ax_{2} ax_{3} ay_{1}}{8 \\sqrt{ax_{1}^{2} + ay_{1}^{2} + az_{1}^{2}} \\sqrt{ax_{2}^{2} + ay_{2}^{2} + az_{2}^{2}} \\sqrt{ax_{3}^{2} + ay_{3}^{2} + az_{3}^{2}}} + \\frac{ax_{2} az_{1} \\theta_{1}^{2} \\theta_{2}^{2} \\cos{\\left(\\frac{\\theta_{3}}{2} \\right)}}{2304 \\sqrt{ax_{1}^{2} + ay_{1}^{2} + az_{1}^{2}} \\sqrt{ax_{2}^{2} + ay_{2}^{2} + az_{2}^{2}}} - \\frac{ax_{2} az_{1} \\theta_{1}^{2} \\cos{\\left(\\frac{\\theta_{3}}{2} \\right)}}{96 \\sqrt{ax_{1}^{2} + ay_{1}^{2} + az_{1}^{2}} \\sqrt{ax_{2}^{2} + ay_{2}^{2} + az_{2}^{2}}} - \\frac{ax_{2} az_{1} \\theta_{2}^{2} \\cos{\\left(\\frac{\\theta_{3}}{2} \\right)}}{96 \\sqrt{ax_{1}^{2} + ay_{1}^{2} + az_{1}^{2}} \\sqrt{ax_{2}^{2} + ay_{2}^{2} + az_{2}^{2}}} + \\frac{ax_{2} az_{1} \\cos{\\left(\\frac{\\theta_{3}}{2} \\right)}}{4 \\sqrt{ax_{1}^{2} + ay_{1}^{2} + az_{1}^{2}} \\sqrt{ax_{2}^{2} + ay_{2}^{2} + az_{2}^{2}}} - \\frac{ax_{2} az_{3} \\theta_{2}^{2} \\theta_{3}^{2} \\cos{\\left(\\frac{\\theta_{1}}{2} \\right)}}{2304 \\sqrt{ax_{2}^{2} + ay_{2}^{2} + az_{2}^{2}} \\sqrt{ax_{3}^{2} + ay_{3}^{2} + az_{3}^{2}}} + \\frac{ax_{2} az_{3} \\theta_{2}^{2} \\cos{\\left(\\frac{\\theta_{1}}{2} \\right)}}{96 \\sqrt{ax_{2}^{2} + ay_{2}^{2} + az_{2}^{2}} \\sqrt{ax_{3}^{2} + ay_{3}^{2} + az_{3}^{2}}} + \\frac{ax_{2} az_{3} \\theta_{3}^{2} \\cos{\\left(\\frac{\\theta_{1}}{2} \\right)}}{96 \\sqrt{ax_{2}^{2} + ay_{2}^{2} + az_{2}^{2}} \\sqrt{ax_{3}^{2} + ay_{3}^{2} + az_{3}^{2}}} - \\frac{ax_{2} az_{3} \\cos{\\left(\\frac{\\theta_{1}}{2} \\right)}}{4 \\sqrt{ax_{2}^{2} + ay_{2}^{2} + az_{2}^{2}} \\sqrt{ax_{3}^{2} + ay_{3}^{2} + az_{3}^{2}}} + \\frac{ax_{3} az_{1} \\theta_{1}^{2} \\theta_{3}^{2} \\cos{\\left(\\frac{\\theta_{2}}{2} \\right)}}{2304 \\sqrt{ax_{1}^{2} + ay_{1}^{2} + az_{1}^{2}} \\sqrt{ax_{3}^{2} + ay_{3}^{2} + az_{3}^{2}}} - \\frac{ax_{3} az_{1} \\theta_{1}^{2} \\cos{\\left(\\frac{\\theta_{2}}{2} \\right)}}{96 \\sqrt{ax_{1}^{2} + ay_{1}^{2} + az_{1}^{2}} \\sqrt{ax_{3}^{2} + ay_{3}^{2} + az_{3}^{2}}} - \\frac{ax_{3} az_{1} \\theta_{3}^{2} \\cos{\\left(\\frac{\\theta_{2}}{2} \\right)}}{96 \\sqrt{ax_{1}^{2} + ay_{1}^{2} + az_{1}^{2}} \\sqrt{ax_{3}^{2} + ay_{3}^{2} + az_{3}^{2}}} + \\frac{ax_{3} az_{1} \\cos{\\left(\\frac{\\theta_{2}}{2} \\right)}}{4 \\sqrt{ax_{1}^{2} + ay_{1}^{2} + az_{1}^{2}} \\sqrt{ax_{3}^{2} + ay_{3}^{2} + az_{3}^{2}}} + \\frac{ax_{3} az_{2} \\theta_{2}^{2} \\theta_{3}^{2} \\cos{\\left(\\frac{\\theta_{1}}{2} \\right)}}{2304 \\sqrt{ax_{2}^{2} + ay_{2}^{2} + az_{2}^{2}} \\sqrt{ax_{3}^{2} + ay_{3}^{2} + az_{3}^{2}}} - \\frac{ax_{3} az_{2} \\theta_{2}^{2} \\cos{\\left(\\frac{\\theta_{1}}{2} \\right)}}{96 \\sqrt{ax_{2}^{2} + ay_{2}^{2} + az_{2}^{2}} \\sqrt{ax_{3}^{2} + ay_{3}^{2} + az_{3}^{2}}} - \\frac{ax_{3} az_{2} \\theta_{3}^{2} \\cos{\\left(\\frac{\\theta_{1}}{2} \\right)}}{96 \\sqrt{ax_{2}^{2} + ay_{2}^{2} + az_{2}^{2}} \\sqrt{ax_{3}^{2} + ay_{3}^{2} + az_{3}^{2}}} + \\frac{ax_{3} az_{2} \\cos{\\left(\\frac{\\theta_{1}}{2} \\right)}}{4 \\sqrt{ax_{2}^{2} + ay_{2}^{2} + az_{2}^{2}} \\sqrt{ax_{3}^{2} + ay_{3}^{2} + az_{3}^{2}}} + \\frac{ay_{1} ay_{2} ay_{3} \\theta_{1}^{2} \\theta_{2}^{2} \\theta_{3}^{2}}{110592 \\sqrt{ax_{1}^{2} + ay_{1}^{2} + az_{1}^{2}} \\sqrt{ax_{2}^{2} + ay_{2}^{2} + az_{2}^{2}} \\sqrt{ax_{3}^{2} + ay_{3}^{2} + az_{3}^{2}}} - \\frac{ay_{1} ay_{2} ay_{3} \\theta_{1}^{2} \\theta_{2}^{2}}{4608 \\sqrt{ax_{1}^{2} + ay_{1}^{2} + az_{1}^{2}} \\sqrt{ax_{2}^{2} + ay_{2}^{2} + az_{2}^{2}} \\sqrt{ax_{3}^{2} + ay_{3}^{2} + az_{3}^{2}}} - \\frac{ay_{1} ay_{2} ay_{3} \\theta_{1}^{2} \\theta_{3}^{2}}{4608 \\sqrt{ax_{1}^{2} + ay_{1}^{2} + az_{1}^{2}} \\sqrt{ax_{2}^{2} + ay_{2}^{2} + az_{2}^{2}} \\sqrt{ax_{3}^{2} + ay_{3}^{2} + az_{3}^{2}}} + \\frac{ay_{1} ay_{2} ay_{3} \\theta_{1}^{2}}{192 \\sqrt{ax_{1}^{2} + ay_{1}^{2} + az_{1}^{2}} \\sqrt{ax_{2}^{2} + ay_{2}^{2} + az_{2}^{2}} \\sqrt{ax_{3}^{2} + ay_{3}^{2} + az_{3}^{2}}} - \\frac{ay_{1} ay_{2} ay_{3} \\theta_{2}^{2} \\theta_{3}^{2}}{4608 \\sqrt{ax_{1}^{2} + ay_{1}^{2} + az_{1}^{2}} \\sqrt{ax_{2}^{2} + ay_{2}^{2} + az_{2}^{2}} \\sqrt{ax_{3}^{2} + ay_{3}^{2} + az_{3}^{2}}} + \\frac{ay_{1} ay_{2} ay_{3} \\theta_{2}^{2}}{192 \\sqrt{ax_{1}^{2} + ay_{1}^{2} + az_{1}^{2}} \\sqrt{ax_{2}^{2} + ay_{2}^{2} + az_{2}^{2}} \\sqrt{ax_{3}^{2} + ay_{3}^{2} + az_{3}^{2}}} + \\frac{ay_{1} ay_{2} ay_{3} \\theta_{3}^{2}}{192 \\sqrt{ax_{1}^{2} + ay_{1}^{2} + az_{1}^{2}} \\sqrt{ax_{2}^{2} + ay_{2}^{2} + az_{2}^{2}} \\sqrt{ax_{3}^{2} + ay_{3}^{2} + az_{3}^{2}}} - \\frac{ay_{1} ay_{2} ay_{3}}{8 \\sqrt{ax_{1}^{2} + ay_{1}^{2} + az_{1}^{2}} \\sqrt{ax_{2}^{2} + ay_{2}^{2} + az_{2}^{2}} \\sqrt{ax_{3}^{2} + ay_{3}^{2} + az_{3}^{2}}} + \\frac{ay_{1} az_{2} az_{3} \\theta_{1}^{2} \\theta_{2}^{2} \\theta_{3}^{2}}{110592 \\sqrt{ax_{1}^{2} + ay_{1}^{2} + az_{1}^{2}} \\sqrt{ax_{2}^{2} + ay_{2}^{2} + az_{2}^{2}} \\sqrt{ax_{3}^{2} + ay_{3}^{2} + az_{3}^{2}}} - \\frac{ay_{1} az_{2} az_{3} \\theta_{1}^{2} \\theta_{2}^{2}}{4608 \\sqrt{ax_{1}^{2} + ay_{1}^{2} + az_{1}^{2}} \\sqrt{ax_{2}^{2} + ay_{2}^{2} + az_{2}^{2}} \\sqrt{ax_{3}^{2} + ay_{3}^{2} + az_{3}^{2}}} - \\frac{ay_{1} az_{2} az_{3} \\theta_{1}^{2} \\theta_{3}^{2}}{4608 \\sqrt{ax_{1}^{2} + ay_{1}^{2} + az_{1}^{2}} \\sqrt{ax_{2}^{2} + ay_{2}^{2} + az_{2}^{2}} \\sqrt{ax_{3}^{2} + ay_{3}^{2} + az_{3}^{2}}} + \\frac{ay_{1} az_{2} az_{3} \\theta_{1}^{2}}{192 \\sqrt{ax_{1}^{2} + ay_{1}^{2} + az_{1}^{2}} \\sqrt{ax_{2}^{2} + ay_{2}^{2} + az_{2}^{2}} \\sqrt{ax_{3}^{2} + ay_{3}^{2} + az_{3}^{2}}} - \\frac{ay_{1} az_{2} az_{3} \\theta_{2}^{2} \\theta_{3}^{2}}{4608 \\sqrt{ax_{1}^{2} + ay_{1}^{2} + az_{1}^{2}} \\sqrt{ax_{2}^{2} + ay_{2}^{2} + az_{2}^{2}} \\sqrt{ax_{3}^{2} + ay_{3}^{2} + az_{3}^{2}}} + \\frac{ay_{1} az_{2} az_{3} \\theta_{2}^{2}}{192 \\sqrt{ax_{1}^{2} + ay_{1}^{2} + az_{1}^{2}} \\sqrt{ax_{2}^{2} + ay_{2}^{2} + az_{2}^{2}} \\sqrt{ax_{3}^{2} + ay_{3}^{2} + az_{3}^{2}}} + \\frac{ay_{1} az_{2} az_{3} \\theta_{3}^{2}}{192 \\sqrt{ax_{1}^{2} + ay_{1}^{2} + az_{1}^{2}} \\sqrt{ax_{2}^{2} + ay_{2}^{2} + az_{2}^{2}} \\sqrt{ax_{3}^{2} + ay_{3}^{2} + az_{3}^{2}}} - \\frac{ay_{1} az_{2} az_{3}}{8 \\sqrt{ax_{1}^{2} + ay_{1}^{2} + az_{1}^{2}} \\sqrt{ax_{2}^{2} + ay_{2}^{2} + az_{2}^{2}} \\sqrt{ax_{3}^{2} + ay_{3}^{2} + az_{3}^{2}}} - \\frac{ay_{1} \\theta_{1}^{2} \\cos{\\left(\\frac{\\theta_{2}}{2} \\right)} \\cos{\\left(\\frac{\\theta_{3}}{2} \\right)}}{48 \\sqrt{ax_{1}^{2} + ay_{1}^{2} + az_{1}^{2}}} + \\frac{ay_{1} \\cos{\\left(\\frac{\\theta_{2}}{2} \\right)} \\cos{\\left(\\frac{\\theta_{3}}{2} \\right)}}{2 \\sqrt{ax_{1}^{2} + ay_{1}^{2} + az_{1}^{2}}} - \\frac{ay_{2} az_{1} az_{3} \\theta_{1}^{2} \\theta_{2}^{2} \\theta_{3}^{2}}{110592 \\sqrt{ax_{1}^{2} + ay_{1}^{2} + az_{1}^{2}} \\sqrt{ax_{2}^{2} + ay_{2}^{2} + az_{2}^{2}} \\sqrt{ax_{3}^{2} + ay_{3}^{2} + az_{3}^{2}}} + \\frac{ay_{2} az_{1} az_{3} \\theta_{1}^{2} \\theta_{2}^{2}}{4608 \\sqrt{ax_{1}^{2} + ay_{1}^{2} + az_{1}^{2}} \\sqrt{ax_{2}^{2} + ay_{2}^{2} + az_{2}^{2}} \\sqrt{ax_{3}^{2} + ay_{3}^{2} + az_{3}^{2}}} + \\frac{ay_{2} az_{1} az_{3} \\theta_{1}^{2} \\theta_{3}^{2}}{4608 \\sqrt{ax_{1}^{2} + ay_{1}^{2} + az_{1}^{2}} \\sqrt{ax_{2}^{2} + ay_{2}^{2} + az_{2}^{2}} \\sqrt{ax_{3}^{2} + ay_{3}^{2} + az_{3}^{2}}} - \\frac{ay_{2} az_{1} az_{3} \\theta_{1}^{2}}{192 \\sqrt{ax_{1}^{2} + ay_{1}^{2} + az_{1}^{2}} \\sqrt{ax_{2}^{2} + ay_{2}^{2} + az_{2}^{2}} \\sqrt{ax_{3}^{2} + ay_{3}^{2} + az_{3}^{2}}} + \\frac{ay_{2} az_{1} az_{3} \\theta_{2}^{2} \\theta_{3}^{2}}{4608 \\sqrt{ax_{1}^{2} + ay_{1}^{2} + az_{1}^{2}} \\sqrt{ax_{2}^{2} + ay_{2}^{2} + az_{2}^{2}} \\sqrt{ax_{3}^{2} + ay_{3}^{2} + az_{3}^{2}}} - \\frac{ay_{2} az_{1} az_{3} \\theta_{2}^{2}}{192 \\sqrt{ax_{1}^{2} + ay_{1}^{2} + az_{1}^{2}} \\sqrt{ax_{2}^{2} + ay_{2}^{2} + az_{2}^{2}} \\sqrt{ax_{3}^{2} + ay_{3}^{2} + az_{3}^{2}}} - \\frac{ay_{2} az_{1} az_{3} \\theta_{3}^{2}}{192 \\sqrt{ax_{1}^{2} + ay_{1}^{2} + az_{1}^{2}} \\sqrt{ax_{2}^{2} + ay_{2}^{2} + az_{2}^{2}} \\sqrt{ax_{3}^{2} + ay_{3}^{2} + az_{3}^{2}}} + \\frac{ay_{2} az_{1} az_{3}}{8 \\sqrt{ax_{1}^{2} + ay_{1}^{2} + az_{1}^{2}} \\sqrt{ax_{2}^{2} + ay_{2}^{2} + az_{2}^{2}} \\sqrt{ax_{3}^{2} + ay_{3}^{2} + az_{3}^{2}}} - \\frac{ay_{2} \\theta_{2}^{2} \\cos{\\left(\\frac{\\theta_{1}}{2} \\right)} \\cos{\\left(\\frac{\\theta_{3}}{2} \\right)}}{48 \\sqrt{ax_{2}^{2} + ay_{2}^{2} + az_{2}^{2}}} + \\frac{ay_{2} \\cos{\\left(\\frac{\\theta_{1}}{2} \\right)} \\cos{\\left(\\frac{\\theta_{3}}{2} \\right)}}{2 \\sqrt{ax_{2}^{2} + ay_{2}^{2} + az_{2}^{2}}} + \\frac{ay_{3} az_{1} az_{2} \\theta_{1}^{2} \\theta_{2}^{2} \\theta_{3}^{2}}{110592 \\sqrt{ax_{1}^{2} + ay_{1}^{2} + az_{1}^{2}} \\sqrt{ax_{2}^{2} + ay_{2}^{2} + az_{2}^{2}} \\sqrt{ax_{3}^{2} + ay_{3}^{2} + az_{3}^{2}}} - \\frac{ay_{3} az_{1} az_{2} \\theta_{1}^{2} \\theta_{2}^{2}}{4608 \\sqrt{ax_{1}^{2} + ay_{1}^{2} + az_{1}^{2}} \\sqrt{ax_{2}^{2} + ay_{2}^{2} + az_{2}^{2}} \\sqrt{ax_{3}^{2} + ay_{3}^{2} + az_{3}^{2}}} - \\frac{ay_{3} az_{1} az_{2} \\theta_{1}^{2} \\theta_{3}^{2}}{4608 \\sqrt{ax_{1}^{2} + ay_{1}^{2} + az_{1}^{2}} \\sqrt{ax_{2}^{2} + ay_{2}^{2} + az_{2}^{2}} \\sqrt{ax_{3}^{2} + ay_{3}^{2} + az_{3}^{2}}} + \\frac{ay_{3} az_{1} az_{2} \\theta_{1}^{2}}{192 \\sqrt{ax_{1}^{2} + ay_{1}^{2} + az_{1}^{2}} \\sqrt{ax_{2}^{2} + ay_{2}^{2} + az_{2}^{2}} \\sqrt{ax_{3}^{2} + ay_{3}^{2} + az_{3}^{2}}} - \\frac{ay_{3} az_{1} az_{2} \\theta_{2}^{2} \\theta_{3}^{2}}{4608 \\sqrt{ax_{1}^{2} + ay_{1}^{2} + az_{1}^{2}} \\sqrt{ax_{2}^{2} + ay_{2}^{2} + az_{2}^{2}} \\sqrt{ax_{3}^{2} + ay_{3}^{2} + az_{3}^{2}}} + \\frac{ay_{3} az_{1} az_{2} \\theta_{2}^{2}}{192 \\sqrt{ax_{1}^{2} + ay_{1}^{2} + az_{1}^{2}} \\sqrt{ax_{2}^{2} + ay_{2}^{2} + az_{2}^{2}} \\sqrt{ax_{3}^{2} + ay_{3}^{2} + az_{3}^{2}}} + \\frac{ay_{3} az_{1} az_{2} \\theta_{3}^{2}}{192 \\sqrt{ax_{1}^{2} + ay_{1}^{2} + az_{1}^{2}} \\sqrt{ax_{2}^{2} + ay_{2}^{2} + az_{2}^{2}} \\sqrt{ax_{3}^{2} + ay_{3}^{2} + az_{3}^{2}}} - \\frac{ay_{3} az_{1} az_{2}}{8 \\sqrt{ax_{1}^{2} + ay_{1}^{2} + az_{1}^{2}} \\sqrt{ax_{2}^{2} + ay_{2}^{2} + az_{2}^{2}} \\sqrt{ax_{3}^{2} + ay_{3}^{2} + az_{3}^{2}}} - \\frac{ay_{3} \\theta_{3}^{2} \\cos{\\left(\\frac{\\theta_{1}}{2} \\right)} \\cos{\\left(\\frac{\\theta_{2}}{2} \\right)}}{48 \\sqrt{ax_{3}^{2} + ay_{3}^{2} + az_{3}^{2}}} + \\frac{ay_{3} \\cos{\\left(\\frac{\\theta_{1}}{2} \\right)} \\cos{\\left(\\frac{\\theta_{2}}{2} \\right)}}{2 \\sqrt{ax_{3}^{2} + ay_{3}^{2} + az_{3}^{2}}}\\right) j + \\left(\\frac{ax_{1} ax_{2} az_{3} \\theta_{1}^{2} \\theta_{2}^{2} \\theta_{3}^{2}}{110592 \\sqrt{ax_{1}^{2} + ay_{1}^{2} + az_{1}^{2}} \\sqrt{ax_{2}^{2} + ay_{2}^{2} + az_{2}^{2}} \\sqrt{ax_{3}^{2} + ay_{3}^{2} + az_{3}^{2}}} - \\frac{ax_{1} ax_{2} az_{3} \\theta_{1}^{2} \\theta_{2}^{2}}{4608 \\sqrt{ax_{1}^{2} + ay_{1}^{2} + az_{1}^{2}} \\sqrt{ax_{2}^{2} + ay_{2}^{2} + az_{2}^{2}} \\sqrt{ax_{3}^{2} + ay_{3}^{2} + az_{3}^{2}}} - \\frac{ax_{1} ax_{2} az_{3} \\theta_{1}^{2} \\theta_{3}^{2}}{4608 \\sqrt{ax_{1}^{2} + ay_{1}^{2} + az_{1}^{2}} \\sqrt{ax_{2}^{2} + ay_{2}^{2} + az_{2}^{2}} \\sqrt{ax_{3}^{2} + ay_{3}^{2} + az_{3}^{2}}} + \\frac{ax_{1} ax_{2} az_{3} \\theta_{1}^{2}}{192 \\sqrt{ax_{1}^{2} + ay_{1}^{2} + az_{1}^{2}} \\sqrt{ax_{2}^{2} + ay_{2}^{2} + az_{2}^{2}} \\sqrt{ax_{3}^{2} + ay_{3}^{2} + az_{3}^{2}}} - \\frac{ax_{1} ax_{2} az_{3} \\theta_{2}^{2} \\theta_{3}^{2}}{4608 \\sqrt{ax_{1}^{2} + ay_{1}^{2} + az_{1}^{2}} \\sqrt{ax_{2}^{2} + ay_{2}^{2} + az_{2}^{2}} \\sqrt{ax_{3}^{2} + ay_{3}^{2} + az_{3}^{2}}} + \\frac{ax_{1} ax_{2} az_{3} \\theta_{2}^{2}}{192 \\sqrt{ax_{1}^{2} + ay_{1}^{2} + az_{1}^{2}} \\sqrt{ax_{2}^{2} + ay_{2}^{2} + az_{2}^{2}} \\sqrt{ax_{3}^{2} + ay_{3}^{2} + az_{3}^{2}}} + \\frac{ax_{1} ax_{2} az_{3} \\theta_{3}^{2}}{192 \\sqrt{ax_{1}^{2} + ay_{1}^{2} + az_{1}^{2}} \\sqrt{ax_{2}^{2} + ay_{2}^{2} + az_{2}^{2}} \\sqrt{ax_{3}^{2} + ay_{3}^{2} + az_{3}^{2}}} - \\frac{ax_{1} ax_{2} az_{3}}{8 \\sqrt{ax_{1}^{2} + ay_{1}^{2} + az_{1}^{2}} \\sqrt{ax_{2}^{2} + ay_{2}^{2} + az_{2}^{2}} \\sqrt{ax_{3}^{2} + ay_{3}^{2} + az_{3}^{2}}} - \\frac{ax_{1} ax_{3} az_{2} \\theta_{1}^{2} \\theta_{2}^{2} \\theta_{3}^{2}}{110592 \\sqrt{ax_{1}^{2} + ay_{1}^{2} + az_{1}^{2}} \\sqrt{ax_{2}^{2} + ay_{2}^{2} + az_{2}^{2}} \\sqrt{ax_{3}^{2} + ay_{3}^{2} + az_{3}^{2}}} + \\frac{ax_{1} ax_{3} az_{2} \\theta_{1}^{2} \\theta_{2}^{2}}{4608 \\sqrt{ax_{1}^{2} + ay_{1}^{2} + az_{1}^{2}} \\sqrt{ax_{2}^{2} + ay_{2}^{2} + az_{2}^{2}} \\sqrt{ax_{3}^{2} + ay_{3}^{2} + az_{3}^{2}}} + \\frac{ax_{1} ax_{3} az_{2} \\theta_{1}^{2} \\theta_{3}^{2}}{4608 \\sqrt{ax_{1}^{2} + ay_{1}^{2} + az_{1}^{2}} \\sqrt{ax_{2}^{2} + ay_{2}^{2} + az_{2}^{2}} \\sqrt{ax_{3}^{2} + ay_{3}^{2} + az_{3}^{2}}} - \\frac{ax_{1} ax_{3} az_{2} \\theta_{1}^{2}}{192 \\sqrt{ax_{1}^{2} + ay_{1}^{2} + az_{1}^{2}} \\sqrt{ax_{2}^{2} + ay_{2}^{2} + az_{2}^{2}} \\sqrt{ax_{3}^{2} + ay_{3}^{2} + az_{3}^{2}}} + \\frac{ax_{1} ax_{3} az_{2} \\theta_{2}^{2} \\theta_{3}^{2}}{4608 \\sqrt{ax_{1}^{2} + ay_{1}^{2} + az_{1}^{2}} \\sqrt{ax_{2}^{2} + ay_{2}^{2} + az_{2}^{2}} \\sqrt{ax_{3}^{2} + ay_{3}^{2} + az_{3}^{2}}} - \\frac{ax_{1} ax_{3} az_{2} \\theta_{2}^{2}}{192 \\sqrt{ax_{1}^{2} + ay_{1}^{2} + az_{1}^{2}} \\sqrt{ax_{2}^{2} + ay_{2}^{2} + az_{2}^{2}} \\sqrt{ax_{3}^{2} + ay_{3}^{2} + az_{3}^{2}}} - \\frac{ax_{1} ax_{3} az_{2} \\theta_{3}^{2}}{192 \\sqrt{ax_{1}^{2} + ay_{1}^{2} + az_{1}^{2}} \\sqrt{ax_{2}^{2} + ay_{2}^{2} + az_{2}^{2}} \\sqrt{ax_{3}^{2} + ay_{3}^{2} + az_{3}^{2}}} + \\frac{ax_{1} ax_{3} az_{2}}{8 \\sqrt{ax_{1}^{2} + ay_{1}^{2} + az_{1}^{2}} \\sqrt{ax_{2}^{2} + ay_{2}^{2} + az_{2}^{2}} \\sqrt{ax_{3}^{2} + ay_{3}^{2} + az_{3}^{2}}} + \\frac{ax_{1} ay_{2} \\theta_{1}^{2} \\theta_{2}^{2} \\cos{\\left(\\frac{\\theta_{3}}{2} \\right)}}{2304 \\sqrt{ax_{1}^{2} + ay_{1}^{2} + az_{1}^{2}} \\sqrt{ax_{2}^{2} + ay_{2}^{2} + az_{2}^{2}}} - \\frac{ax_{1} ay_{2} \\theta_{1}^{2} \\cos{\\left(\\frac{\\theta_{3}}{2} \\right)}}{96 \\sqrt{ax_{1}^{2} + ay_{1}^{2} + az_{1}^{2}} \\sqrt{ax_{2}^{2} + ay_{2}^{2} + az_{2}^{2}}} - \\frac{ax_{1} ay_{2} \\theta_{2}^{2} \\cos{\\left(\\frac{\\theta_{3}}{2} \\right)}}{96 \\sqrt{ax_{1}^{2} + ay_{1}^{2} + az_{1}^{2}} \\sqrt{ax_{2}^{2} + ay_{2}^{2} + az_{2}^{2}}} + \\frac{ax_{1} ay_{2} \\cos{\\left(\\frac{\\theta_{3}}{2} \\right)}}{4 \\sqrt{ax_{1}^{2} + ay_{1}^{2} + az_{1}^{2}} \\sqrt{ax_{2}^{2} + ay_{2}^{2} + az_{2}^{2}}} + \\frac{ax_{1} ay_{3} \\theta_{1}^{2} \\theta_{3}^{2} \\cos{\\left(\\frac{\\theta_{2}}{2} \\right)}}{2304 \\sqrt{ax_{1}^{2} + ay_{1}^{2} + az_{1}^{2}} \\sqrt{ax_{3}^{2} + ay_{3}^{2} + az_{3}^{2}}} - \\frac{ax_{1} ay_{3} \\theta_{1}^{2} \\cos{\\left(\\frac{\\theta_{2}}{2} \\right)}}{96 \\sqrt{ax_{1}^{2} + ay_{1}^{2} + az_{1}^{2}} \\sqrt{ax_{3}^{2} + ay_{3}^{2} + az_{3}^{2}}} - \\frac{ax_{1} ay_{3} \\theta_{3}^{2} \\cos{\\left(\\frac{\\theta_{2}}{2} \\right)}}{96 \\sqrt{ax_{1}^{2} + ay_{1}^{2} + az_{1}^{2}} \\sqrt{ax_{3}^{2} + ay_{3}^{2} + az_{3}^{2}}} + \\frac{ax_{1} ay_{3} \\cos{\\left(\\frac{\\theta_{2}}{2} \\right)}}{4 \\sqrt{ax_{1}^{2} + ay_{1}^{2} + az_{1}^{2}} \\sqrt{ax_{3}^{2} + ay_{3}^{2} + az_{3}^{2}}} + \\frac{ax_{2} ax_{3} az_{1} \\theta_{1}^{2} \\theta_{2}^{2} \\theta_{3}^{2}}{110592 \\sqrt{ax_{1}^{2} + ay_{1}^{2} + az_{1}^{2}} \\sqrt{ax_{2}^{2} + ay_{2}^{2} + az_{2}^{2}} \\sqrt{ax_{3}^{2} + ay_{3}^{2} + az_{3}^{2}}} - \\frac{ax_{2} ax_{3} az_{1} \\theta_{1}^{2} \\theta_{2}^{2}}{4608 \\sqrt{ax_{1}^{2} + ay_{1}^{2} + az_{1}^{2}} \\sqrt{ax_{2}^{2} + ay_{2}^{2} + az_{2}^{2}} \\sqrt{ax_{3}^{2} + ay_{3}^{2} + az_{3}^{2}}} - \\frac{ax_{2} ax_{3} az_{1} \\theta_{1}^{2} \\theta_{3}^{2}}{4608 \\sqrt{ax_{1}^{2} + ay_{1}^{2} + az_{1}^{2}} \\sqrt{ax_{2}^{2} + ay_{2}^{2} + az_{2}^{2}} \\sqrt{ax_{3}^{2} + ay_{3}^{2} + az_{3}^{2}}} + \\frac{ax_{2} ax_{3} az_{1} \\theta_{1}^{2}}{192 \\sqrt{ax_{1}^{2} + ay_{1}^{2} + az_{1}^{2}} \\sqrt{ax_{2}^{2} + ay_{2}^{2} + az_{2}^{2}} \\sqrt{ax_{3}^{2} + ay_{3}^{2} + az_{3}^{2}}} - \\frac{ax_{2} ax_{3} az_{1} \\theta_{2}^{2} \\theta_{3}^{2}}{4608 \\sqrt{ax_{1}^{2} + ay_{1}^{2} + az_{1}^{2}} \\sqrt{ax_{2}^{2} + ay_{2}^{2} + az_{2}^{2}} \\sqrt{ax_{3}^{2} + ay_{3}^{2} + az_{3}^{2}}} + \\frac{ax_{2} ax_{3} az_{1} \\theta_{2}^{2}}{192 \\sqrt{ax_{1}^{2} + ay_{1}^{2} + az_{1}^{2}} \\sqrt{ax_{2}^{2} + ay_{2}^{2} + az_{2}^{2}} \\sqrt{ax_{3}^{2} + ay_{3}^{2} + az_{3}^{2}}} + \\frac{ax_{2} ax_{3} az_{1} \\theta_{3}^{2}}{192 \\sqrt{ax_{1}^{2} + ay_{1}^{2} + az_{1}^{2}} \\sqrt{ax_{2}^{2} + ay_{2}^{2} + az_{2}^{2}} \\sqrt{ax_{3}^{2} + ay_{3}^{2} + az_{3}^{2}}} - \\frac{ax_{2} ax_{3} az_{1}}{8 \\sqrt{ax_{1}^{2} + ay_{1}^{2} + az_{1}^{2}} \\sqrt{ax_{2}^{2} + ay_{2}^{2} + az_{2}^{2}} \\sqrt{ax_{3}^{2} + ay_{3}^{2} + az_{3}^{2}}} - \\frac{ax_{2} ay_{1} \\theta_{1}^{2} \\theta_{2}^{2} \\cos{\\left(\\frac{\\theta_{3}}{2} \\right)}}{2304 \\sqrt{ax_{1}^{2} + ay_{1}^{2} + az_{1}^{2}} \\sqrt{ax_{2}^{2} + ay_{2}^{2} + az_{2}^{2}}} + \\frac{ax_{2} ay_{1} \\theta_{1}^{2} \\cos{\\left(\\frac{\\theta_{3}}{2} \\right)}}{96 \\sqrt{ax_{1}^{2} + ay_{1}^{2} + az_{1}^{2}} \\sqrt{ax_{2}^{2} + ay_{2}^{2} + az_{2}^{2}}} + \\frac{ax_{2} ay_{1} \\theta_{2}^{2} \\cos{\\left(\\frac{\\theta_{3}}{2} \\right)}}{96 \\sqrt{ax_{1}^{2} + ay_{1}^{2} + az_{1}^{2}} \\sqrt{ax_{2}^{2} + ay_{2}^{2} + az_{2}^{2}}} - \\frac{ax_{2} ay_{1} \\cos{\\left(\\frac{\\theta_{3}}{2} \\right)}}{4 \\sqrt{ax_{1}^{2} + ay_{1}^{2} + az_{1}^{2}} \\sqrt{ax_{2}^{2} + ay_{2}^{2} + az_{2}^{2}}} + \\frac{ax_{2} ay_{3} \\theta_{2}^{2} \\theta_{3}^{2} \\cos{\\left(\\frac{\\theta_{1}}{2} \\right)}}{2304 \\sqrt{ax_{2}^{2} + ay_{2}^{2} + az_{2}^{2}} \\sqrt{ax_{3}^{2} + ay_{3}^{2} + az_{3}^{2}}} - \\frac{ax_{2} ay_{3} \\theta_{2}^{2} \\cos{\\left(\\frac{\\theta_{1}}{2} \\right)}}{96 \\sqrt{ax_{2}^{2} + ay_{2}^{2} + az_{2}^{2}} \\sqrt{ax_{3}^{2} + ay_{3}^{2} + az_{3}^{2}}} - \\frac{ax_{2} ay_{3} \\theta_{3}^{2} \\cos{\\left(\\frac{\\theta_{1}}{2} \\right)}}{96 \\sqrt{ax_{2}^{2} + ay_{2}^{2} + az_{2}^{2}} \\sqrt{ax_{3}^{2} + ay_{3}^{2} + az_{3}^{2}}} + \\frac{ax_{2} ay_{3} \\cos{\\left(\\frac{\\theta_{1}}{2} \\right)}}{4 \\sqrt{ax_{2}^{2} + ay_{2}^{2} + az_{2}^{2}} \\sqrt{ax_{3}^{2} + ay_{3}^{2} + az_{3}^{2}}} - \\frac{ax_{3} ay_{1} \\theta_{1}^{2} \\theta_{3}^{2} \\cos{\\left(\\frac{\\theta_{2}}{2} \\right)}}{2304 \\sqrt{ax_{1}^{2} + ay_{1}^{2} + az_{1}^{2}} \\sqrt{ax_{3}^{2} + ay_{3}^{2} + az_{3}^{2}}} + \\frac{ax_{3} ay_{1} \\theta_{1}^{2} \\cos{\\left(\\frac{\\theta_{2}}{2} \\right)}}{96 \\sqrt{ax_{1}^{2} + ay_{1}^{2} + az_{1}^{2}} \\sqrt{ax_{3}^{2} + ay_{3}^{2} + az_{3}^{2}}} + \\frac{ax_{3} ay_{1} \\theta_{3}^{2} \\cos{\\left(\\frac{\\theta_{2}}{2} \\right)}}{96 \\sqrt{ax_{1}^{2} + ay_{1}^{2} + az_{1}^{2}} \\sqrt{ax_{3}^{2} + ay_{3}^{2} + az_{3}^{2}}} - \\frac{ax_{3} ay_{1} \\cos{\\left(\\frac{\\theta_{2}}{2} \\right)}}{4 \\sqrt{ax_{1}^{2} + ay_{1}^{2} + az_{1}^{2}} \\sqrt{ax_{3}^{2} + ay_{3}^{2} + az_{3}^{2}}} - \\frac{ax_{3} ay_{2} \\theta_{2}^{2} \\theta_{3}^{2} \\cos{\\left(\\frac{\\theta_{1}}{2} \\right)}}{2304 \\sqrt{ax_{2}^{2} + ay_{2}^{2} + az_{2}^{2}} \\sqrt{ax_{3}^{2} + ay_{3}^{2} + az_{3}^{2}}} + \\frac{ax_{3} ay_{2} \\theta_{2}^{2} \\cos{\\left(\\frac{\\theta_{1}}{2} \\right)}}{96 \\sqrt{ax_{2}^{2} + ay_{2}^{2} + az_{2}^{2}} \\sqrt{ax_{3}^{2} + ay_{3}^{2} + az_{3}^{2}}} + \\frac{ax_{3} ay_{2} \\theta_{3}^{2} \\cos{\\left(\\frac{\\theta_{1}}{2} \\right)}}{96 \\sqrt{ax_{2}^{2} + ay_{2}^{2} + az_{2}^{2}} \\sqrt{ax_{3}^{2} + ay_{3}^{2} + az_{3}^{2}}} - \\frac{ax_{3} ay_{2} \\cos{\\left(\\frac{\\theta_{1}}{2} \\right)}}{4 \\sqrt{ax_{2}^{2} + ay_{2}^{2} + az_{2}^{2}} \\sqrt{ax_{3}^{2} + ay_{3}^{2} + az_{3}^{2}}} + \\frac{ay_{1} ay_{2} az_{3} \\theta_{1}^{2} \\theta_{2}^{2} \\theta_{3}^{2}}{110592 \\sqrt{ax_{1}^{2} + ay_{1}^{2} + az_{1}^{2}} \\sqrt{ax_{2}^{2} + ay_{2}^{2} + az_{2}^{2}} \\sqrt{ax_{3}^{2} + ay_{3}^{2} + az_{3}^{2}}} - \\frac{ay_{1} ay_{2} az_{3} \\theta_{1}^{2} \\theta_{2}^{2}}{4608 \\sqrt{ax_{1}^{2} + ay_{1}^{2} + az_{1}^{2}} \\sqrt{ax_{2}^{2} + ay_{2}^{2} + az_{2}^{2}} \\sqrt{ax_{3}^{2} + ay_{3}^{2} + az_{3}^{2}}} - \\frac{ay_{1} ay_{2} az_{3} \\theta_{1}^{2} \\theta_{3}^{2}}{4608 \\sqrt{ax_{1}^{2} + ay_{1}^{2} + az_{1}^{2}} \\sqrt{ax_{2}^{2} + ay_{2}^{2} + az_{2}^{2}} \\sqrt{ax_{3}^{2} + ay_{3}^{2} + az_{3}^{2}}} + \\frac{ay_{1} ay_{2} az_{3} \\theta_{1}^{2}}{192 \\sqrt{ax_{1}^{2} + ay_{1}^{2} + az_{1}^{2}} \\sqrt{ax_{2}^{2} + ay_{2}^{2} + az_{2}^{2}} \\sqrt{ax_{3}^{2} + ay_{3}^{2} + az_{3}^{2}}} - \\frac{ay_{1} ay_{2} az_{3} \\theta_{2}^{2} \\theta_{3}^{2}}{4608 \\sqrt{ax_{1}^{2} + ay_{1}^{2} + az_{1}^{2}} \\sqrt{ax_{2}^{2} + ay_{2}^{2} + az_{2}^{2}} \\sqrt{ax_{3}^{2} + ay_{3}^{2} + az_{3}^{2}}} + \\frac{ay_{1} ay_{2} az_{3} \\theta_{2}^{2}}{192 \\sqrt{ax_{1}^{2} + ay_{1}^{2} + az_{1}^{2}} \\sqrt{ax_{2}^{2} + ay_{2}^{2} + az_{2}^{2}} \\sqrt{ax_{3}^{2} + ay_{3}^{2} + az_{3}^{2}}} + \\frac{ay_{1} ay_{2} az_{3} \\theta_{3}^{2}}{192 \\sqrt{ax_{1}^{2} + ay_{1}^{2} + az_{1}^{2}} \\sqrt{ax_{2}^{2} + ay_{2}^{2} + az_{2}^{2}} \\sqrt{ax_{3}^{2} + ay_{3}^{2} + az_{3}^{2}}} - \\frac{ay_{1} ay_{2} az_{3}}{8 \\sqrt{ax_{1}^{2} + ay_{1}^{2} + az_{1}^{2}} \\sqrt{ax_{2}^{2} + ay_{2}^{2} + az_{2}^{2}} \\sqrt{ax_{3}^{2} + ay_{3}^{2} + az_{3}^{2}}} - \\frac{ay_{1} ay_{3} az_{2} \\theta_{1}^{2} \\theta_{2}^{2} \\theta_{3}^{2}}{110592 \\sqrt{ax_{1}^{2} + ay_{1}^{2} + az_{1}^{2}} \\sqrt{ax_{2}^{2} + ay_{2}^{2} + az_{2}^{2}} \\sqrt{ax_{3}^{2} + ay_{3}^{2} + az_{3}^{2}}} + \\frac{ay_{1} ay_{3} az_{2} \\theta_{1}^{2} \\theta_{2}^{2}}{4608 \\sqrt{ax_{1}^{2} + ay_{1}^{2} + az_{1}^{2}} \\sqrt{ax_{2}^{2} + ay_{2}^{2} + az_{2}^{2}} \\sqrt{ax_{3}^{2} + ay_{3}^{2} + az_{3}^{2}}} + \\frac{ay_{1} ay_{3} az_{2} \\theta_{1}^{2} \\theta_{3}^{2}}{4608 \\sqrt{ax_{1}^{2} + ay_{1}^{2} + az_{1}^{2}} \\sqrt{ax_{2}^{2} + ay_{2}^{2} + az_{2}^{2}} \\sqrt{ax_{3}^{2} + ay_{3}^{2} + az_{3}^{2}}} - \\frac{ay_{1} ay_{3} az_{2} \\theta_{1}^{2}}{192 \\sqrt{ax_{1}^{2} + ay_{1}^{2} + az_{1}^{2}} \\sqrt{ax_{2}^{2} + ay_{2}^{2} + az_{2}^{2}} \\sqrt{ax_{3}^{2} + ay_{3}^{2} + az_{3}^{2}}} + \\frac{ay_{1} ay_{3} az_{2} \\theta_{2}^{2} \\theta_{3}^{2}}{4608 \\sqrt{ax_{1}^{2} + ay_{1}^{2} + az_{1}^{2}} \\sqrt{ax_{2}^{2} + ay_{2}^{2} + az_{2}^{2}} \\sqrt{ax_{3}^{2} + ay_{3}^{2} + az_{3}^{2}}} - \\frac{ay_{1} ay_{3} az_{2} \\theta_{2}^{2}}{192 \\sqrt{ax_{1}^{2} + ay_{1}^{2} + az_{1}^{2}} \\sqrt{ax_{2}^{2} + ay_{2}^{2} + az_{2}^{2}} \\sqrt{ax_{3}^{2} + ay_{3}^{2} + az_{3}^{2}}} - \\frac{ay_{1} ay_{3} az_{2} \\theta_{3}^{2}}{192 \\sqrt{ax_{1}^{2} + ay_{1}^{2} + az_{1}^{2}} \\sqrt{ax_{2}^{2} + ay_{2}^{2} + az_{2}^{2}} \\sqrt{ax_{3}^{2} + ay_{3}^{2} + az_{3}^{2}}} + \\frac{ay_{1} ay_{3} az_{2}}{8 \\sqrt{ax_{1}^{2} + ay_{1}^{2} + az_{1}^{2}} \\sqrt{ax_{2}^{2} + ay_{2}^{2} + az_{2}^{2}} \\sqrt{ax_{3}^{2} + ay_{3}^{2} + az_{3}^{2}}} + \\frac{ay_{2} ay_{3} az_{1} \\theta_{1}^{2} \\theta_{2}^{2} \\theta_{3}^{2}}{110592 \\sqrt{ax_{1}^{2} + ay_{1}^{2} + az_{1}^{2}} \\sqrt{ax_{2}^{2} + ay_{2}^{2} + az_{2}^{2}} \\sqrt{ax_{3}^{2} + ay_{3}^{2} + az_{3}^{2}}} - \\frac{ay_{2} ay_{3} az_{1} \\theta_{1}^{2} \\theta_{2}^{2}}{4608 \\sqrt{ax_{1}^{2} + ay_{1}^{2} + az_{1}^{2}} \\sqrt{ax_{2}^{2} + ay_{2}^{2} + az_{2}^{2}} \\sqrt{ax_{3}^{2} + ay_{3}^{2} + az_{3}^{2}}} - \\frac{ay_{2} ay_{3} az_{1} \\theta_{1}^{2} \\theta_{3}^{2}}{4608 \\sqrt{ax_{1}^{2} + ay_{1}^{2} + az_{1}^{2}} \\sqrt{ax_{2}^{2} + ay_{2}^{2} + az_{2}^{2}} \\sqrt{ax_{3}^{2} + ay_{3}^{2} + az_{3}^{2}}} + \\frac{ay_{2} ay_{3} az_{1} \\theta_{1}^{2}}{192 \\sqrt{ax_{1}^{2} + ay_{1}^{2} + az_{1}^{2}} \\sqrt{ax_{2}^{2} + ay_{2}^{2} + az_{2}^{2}} \\sqrt{ax_{3}^{2} + ay_{3}^{2} + az_{3}^{2}}} - \\frac{ay_{2} ay_{3} az_{1} \\theta_{2}^{2} \\theta_{3}^{2}}{4608 \\sqrt{ax_{1}^{2} + ay_{1}^{2} + az_{1}^{2}} \\sqrt{ax_{2}^{2} + ay_{2}^{2} + az_{2}^{2}} \\sqrt{ax_{3}^{2} + ay_{3}^{2} + az_{3}^{2}}} + \\frac{ay_{2} ay_{3} az_{1} \\theta_{2}^{2}}{192 \\sqrt{ax_{1}^{2} + ay_{1}^{2} + az_{1}^{2}} \\sqrt{ax_{2}^{2} + ay_{2}^{2} + az_{2}^{2}} \\sqrt{ax_{3}^{2} + ay_{3}^{2} + az_{3}^{2}}} + \\frac{ay_{2} ay_{3} az_{1} \\theta_{3}^{2}}{192 \\sqrt{ax_{1}^{2} + ay_{1}^{2} + az_{1}^{2}} \\sqrt{ax_{2}^{2} + ay_{2}^{2} + az_{2}^{2}} \\sqrt{ax_{3}^{2} + ay_{3}^{2} + az_{3}^{2}}} - \\frac{ay_{2} ay_{3} az_{1}}{8 \\sqrt{ax_{1}^{2} + ay_{1}^{2} + az_{1}^{2}} \\sqrt{ax_{2}^{2} + ay_{2}^{2} + az_{2}^{2}} \\sqrt{ax_{3}^{2} + ay_{3}^{2} + az_{3}^{2}}} + \\frac{az_{1} az_{2} az_{3} \\theta_{1}^{2} \\theta_{2}^{2} \\theta_{3}^{2}}{110592 \\sqrt{ax_{1}^{2} + ay_{1}^{2} + az_{1}^{2}} \\sqrt{ax_{2}^{2} + ay_{2}^{2} + az_{2}^{2}} \\sqrt{ax_{3}^{2} + ay_{3}^{2} + az_{3}^{2}}} - \\frac{az_{1} az_{2} az_{3} \\theta_{1}^{2} \\theta_{2}^{2}}{4608 \\sqrt{ax_{1}^{2} + ay_{1}^{2} + az_{1}^{2}} \\sqrt{ax_{2}^{2} + ay_{2}^{2} + az_{2}^{2}} \\sqrt{ax_{3}^{2} + ay_{3}^{2} + az_{3}^{2}}} - \\frac{az_{1} az_{2} az_{3} \\theta_{1}^{2} \\theta_{3}^{2}}{4608 \\sqrt{ax_{1}^{2} + ay_{1}^{2} + az_{1}^{2}} \\sqrt{ax_{2}^{2} + ay_{2}^{2} + az_{2}^{2}} \\sqrt{ax_{3}^{2} + ay_{3}^{2} + az_{3}^{2}}} + \\frac{az_{1} az_{2} az_{3} \\theta_{1}^{2}}{192 \\sqrt{ax_{1}^{2} + ay_{1}^{2} + az_{1}^{2}} \\sqrt{ax_{2}^{2} + ay_{2}^{2} + az_{2}^{2}} \\sqrt{ax_{3}^{2} + ay_{3}^{2} + az_{3}^{2}}} - \\frac{az_{1} az_{2} az_{3} \\theta_{2}^{2} \\theta_{3}^{2}}{4608 \\sqrt{ax_{1}^{2} + ay_{1}^{2} + az_{1}^{2}} \\sqrt{ax_{2}^{2} + ay_{2}^{2} + az_{2}^{2}} \\sqrt{ax_{3}^{2} + ay_{3}^{2} + az_{3}^{2}}} + \\frac{az_{1} az_{2} az_{3} \\theta_{2}^{2}}{192 \\sqrt{ax_{1}^{2} + ay_{1}^{2} + az_{1}^{2}} \\sqrt{ax_{2}^{2} + ay_{2}^{2} + az_{2}^{2}} \\sqrt{ax_{3}^{2} + ay_{3}^{2} + az_{3}^{2}}} + \\frac{az_{1} az_{2} az_{3} \\theta_{3}^{2}}{192 \\sqrt{ax_{1}^{2} + ay_{1}^{2} + az_{1}^{2}} \\sqrt{ax_{2}^{2} + ay_{2}^{2} + az_{2}^{2}} \\sqrt{ax_{3}^{2} + ay_{3}^{2} + az_{3}^{2}}} - \\frac{az_{1} az_{2} az_{3}}{8 \\sqrt{ax_{1}^{2} + ay_{1}^{2} + az_{1}^{2}} \\sqrt{ax_{2}^{2} + ay_{2}^{2} + az_{2}^{2}} \\sqrt{ax_{3}^{2} + ay_{3}^{2} + az_{3}^{2}}} - \\frac{az_{1} \\theta_{1}^{2} \\cos{\\left(\\frac{\\theta_{2}}{2} \\right)} \\cos{\\left(\\frac{\\theta_{3}}{2} \\right)}}{48 \\sqrt{ax_{1}^{2} + ay_{1}^{2} + az_{1}^{2}}} + \\frac{az_{1} \\cos{\\left(\\frac{\\theta_{2}}{2} \\right)} \\cos{\\left(\\frac{\\theta_{3}}{2} \\right)}}{2 \\sqrt{ax_{1}^{2} + ay_{1}^{2} + az_{1}^{2}}} - \\frac{az_{2} \\theta_{2}^{2} \\cos{\\left(\\frac{\\theta_{1}}{2} \\right)} \\cos{\\left(\\frac{\\theta_{3}}{2} \\right)}}{48 \\sqrt{ax_{2}^{2} + ay_{2}^{2} + az_{2}^{2}}} + \\frac{az_{2} \\cos{\\left(\\frac{\\theta_{1}}{2} \\right)} \\cos{\\left(\\frac{\\theta_{3}}{2} \\right)}}{2 \\sqrt{ax_{2}^{2} + ay_{2}^{2} + az_{2}^{2}}} - \\frac{az_{3} \\theta_{3}^{2} \\cos{\\left(\\frac{\\theta_{1}}{2} \\right)} \\cos{\\left(\\frac{\\theta_{2}}{2} \\right)}}{48 \\sqrt{ax_{3}^{2} + ay_{3}^{2} + az_{3}^{2}}} + \\frac{az_{3} \\cos{\\left(\\frac{\\theta_{1}}{2} \\right)} \\cos{\\left(\\frac{\\theta_{2}}{2} \\right)}}{2 \\sqrt{ax_{3}^{2} + ay_{3}^{2} + az_{3}^{2}}}\\right) k\\\\\\left(- \\frac{0.00103985821759259 ax_{1} ax_{2} ax_{3} \\theta_{1}^{2} \\theta_{2}^{2} \\theta_{3}^{2}}{\\sqrt{ax_{1}^{2} + ay_{1}^{2} + az_{1}^{2}} \\sqrt{ax_{2}^{2} + ay_{2}^{2} + az_{2}^{2}} \\sqrt{ax_{3}^{2} + ay_{3}^{2} + az_{3}^{2}}} + \\frac{0.0249565972222222 ax_{1} ax_{2} ax_{3} \\theta_{1}^{2} \\theta_{2}^{2}}{\\sqrt{ax_{1}^{2} + ay_{1}^{2} + az_{1}^{2}} \\sqrt{ax_{2}^{2} + ay_{2}^{2} + az_{2}^{2}} \\sqrt{ax_{3}^{2} + ay_{3}^{2} + az_{3}^{2}}} + \\frac{0.0249565972222222 ax_{1} ax_{2} ax_{3} \\theta_{1}^{2} \\theta_{3}^{2}}{\\sqrt{ax_{1}^{2} + ay_{1}^{2} + az_{1}^{2}} \\sqrt{ax_{2}^{2} + ay_{2}^{2} + az_{2}^{2}} \\sqrt{ax_{3}^{2} + ay_{3}^{2} + az_{3}^{2}}} - \\frac{0.598958333333333 ax_{1} ax_{2} ax_{3} \\theta_{1}^{2}}{\\sqrt{ax_{1}^{2} + ay_{1}^{2} + az_{1}^{2}} \\sqrt{ax_{2}^{2} + ay_{2}^{2} + az_{2}^{2}} \\sqrt{ax_{3}^{2} + ay_{3}^{2} + az_{3}^{2}}} + \\frac{0.0249565972222222 ax_{1} ax_{2} ax_{3} \\theta_{2}^{2} \\theta_{3}^{2}}{\\sqrt{ax_{1}^{2} + ay_{1}^{2} + az_{1}^{2}} \\sqrt{ax_{2}^{2} + ay_{2}^{2} + az_{2}^{2}} \\sqrt{ax_{3}^{2} + ay_{3}^{2} + az_{3}^{2}}} - \\frac{0.598958333333333 ax_{1} ax_{2} ax_{3} \\theta_{2}^{2}}{\\sqrt{ax_{1}^{2} + ay_{1}^{2} + az_{1}^{2}} \\sqrt{ax_{2}^{2} + ay_{2}^{2} + az_{2}^{2}} \\sqrt{ax_{3}^{2} + ay_{3}^{2} + az_{3}^{2}}} - \\frac{0.598958333333333 ax_{1} ax_{2} ax_{3} \\theta_{3}^{2}}{\\sqrt{ax_{1}^{2} + ay_{1}^{2} + az_{1}^{2}} \\sqrt{ax_{2}^{2} + ay_{2}^{2} + az_{2}^{2}} \\sqrt{ax_{3}^{2} + ay_{3}^{2} + az_{3}^{2}}} + \\frac{14.375 ax_{1} ax_{2} ax_{3}}{\\sqrt{ax_{1}^{2} + ay_{1}^{2} + az_{1}^{2}} \\sqrt{ax_{2}^{2} + ay_{2}^{2} + az_{2}^{2}} \\sqrt{ax_{3}^{2} + ay_{3}^{2} + az_{3}^{2}}} - \\frac{0.000226056134259259 ax_{1} ay_{2} ay_{3} \\theta_{1}^{2} \\theta_{2}^{2} \\theta_{3}^{2}}{\\sqrt{ax_{1}^{2} + ay_{1}^{2} + az_{1}^{2}} \\sqrt{ax_{2}^{2} + ay_{2}^{2} + az_{2}^{2}} \\sqrt{ax_{3}^{2} + ay_{3}^{2} + az_{3}^{2}}} + \\frac{0.00542534722222222 ax_{1} ay_{2} ay_{3} \\theta_{1}^{2} \\theta_{2}^{2}}{\\sqrt{ax_{1}^{2} + ay_{1}^{2} + az_{1}^{2}} \\sqrt{ax_{2}^{2} + ay_{2}^{2} + az_{2}^{2}} \\sqrt{ax_{3}^{2} + ay_{3}^{2} + az_{3}^{2}}} + \\frac{0.00542534722222222 ax_{1} ay_{2} ay_{3} \\theta_{1}^{2} \\theta_{3}^{2}}{\\sqrt{ax_{1}^{2} + ay_{1}^{2} + az_{1}^{2}} \\sqrt{ax_{2}^{2} + ay_{2}^{2} + az_{2}^{2}} \\sqrt{ax_{3}^{2} + ay_{3}^{2} + az_{3}^{2}}} - \\frac{0.130208333333333 ax_{1} ay_{2} ay_{3} \\theta_{1}^{2}}{\\sqrt{ax_{1}^{2} + ay_{1}^{2} + az_{1}^{2}} \\sqrt{ax_{2}^{2} + ay_{2}^{2} + az_{2}^{2}} \\sqrt{ax_{3}^{2} + ay_{3}^{2} + az_{3}^{2}}} + \\frac{0.00542534722222222 ax_{1} ay_{2} ay_{3} \\theta_{2}^{2} \\theta_{3}^{2}}{\\sqrt{ax_{1}^{2} + ay_{1}^{2} + az_{1}^{2}} \\sqrt{ax_{2}^{2} + ay_{2}^{2} + az_{2}^{2}} \\sqrt{ax_{3}^{2} + ay_{3}^{2} + az_{3}^{2}}} - \\frac{0.130208333333333 ax_{1} ay_{2} ay_{3} \\theta_{2}^{2}}{\\sqrt{ax_{1}^{2} + ay_{1}^{2} + az_{1}^{2}} \\sqrt{ax_{2}^{2} + ay_{2}^{2} + az_{2}^{2}} \\sqrt{ax_{3}^{2} + ay_{3}^{2} + az_{3}^{2}}} - \\frac{0.130208333333333 ax_{1} ay_{2} ay_{3} \\theta_{3}^{2}}{\\sqrt{ax_{1}^{2} + ay_{1}^{2} + az_{1}^{2}} \\sqrt{ax_{2}^{2} + ay_{2}^{2} + az_{2}^{2}} \\sqrt{ax_{3}^{2} + ay_{3}^{2} + az_{3}^{2}}} + \\frac{3.125 ax_{1} ay_{2} ay_{3}}{\\sqrt{ax_{1}^{2} + ay_{1}^{2} + az_{1}^{2}} \\sqrt{ax_{2}^{2} + ay_{2}^{2} + az_{2}^{2}} \\sqrt{ax_{3}^{2} + ay_{3}^{2} + az_{3}^{2}}} - \\frac{0.000226056134259259 ax_{1} az_{2} az_{3} \\theta_{1}^{2} \\theta_{2}^{2} \\theta_{3}^{2}}{\\sqrt{ax_{1}^{2} + ay_{1}^{2} + az_{1}^{2}} \\sqrt{ax_{2}^{2} + ay_{2}^{2} + az_{2}^{2}} \\sqrt{ax_{3}^{2} + ay_{3}^{2} + az_{3}^{2}}} + \\frac{0.00542534722222222 ax_{1} az_{2} az_{3} \\theta_{1}^{2} \\theta_{2}^{2}}{\\sqrt{ax_{1}^{2} + ay_{1}^{2} + az_{1}^{2}} \\sqrt{ax_{2}^{2} + ay_{2}^{2} + az_{2}^{2}} \\sqrt{ax_{3}^{2} + ay_{3}^{2} + az_{3}^{2}}} + \\frac{0.00542534722222222 ax_{1} az_{2} az_{3} \\theta_{1}^{2} \\theta_{3}^{2}}{\\sqrt{ax_{1}^{2} + ay_{1}^{2} + az_{1}^{2}} \\sqrt{ax_{2}^{2} + ay_{2}^{2} + az_{2}^{2}} \\sqrt{ax_{3}^{2} + ay_{3}^{2} + az_{3}^{2}}} - \\frac{0.130208333333333 ax_{1} az_{2} az_{3} \\theta_{1}^{2}}{\\sqrt{ax_{1}^{2} + ay_{1}^{2} + az_{1}^{2}} \\sqrt{ax_{2}^{2} + ay_{2}^{2} + az_{2}^{2}} \\sqrt{ax_{3}^{2} + ay_{3}^{2} + az_{3}^{2}}} + \\frac{0.00542534722222222 ax_{1} az_{2} az_{3} \\theta_{2}^{2} \\theta_{3}^{2}}{\\sqrt{ax_{1}^{2} + ay_{1}^{2} + az_{1}^{2}} \\sqrt{ax_{2}^{2} + ay_{2}^{2} + az_{2}^{2}} \\sqrt{ax_{3}^{2} + ay_{3}^{2} + az_{3}^{2}}} - \\frac{0.130208333333333 ax_{1} az_{2} az_{3} \\theta_{2}^{2}}{\\sqrt{ax_{1}^{2} + ay_{1}^{2} + az_{1}^{2}} \\sqrt{ax_{2}^{2} + ay_{2}^{2} + az_{2}^{2}} \\sqrt{ax_{3}^{2} + ay_{3}^{2} + az_{3}^{2}}} - \\frac{0.130208333333333 ax_{1} az_{2} az_{3} \\theta_{3}^{2}}{\\sqrt{ax_{1}^{2} + ay_{1}^{2} + az_{1}^{2}} \\sqrt{ax_{2}^{2} + ay_{2}^{2} + az_{2}^{2}} \\sqrt{ax_{3}^{2} + ay_{3}^{2} + az_{3}^{2}}} + \\frac{3.125 ax_{1} az_{2} az_{3}}{\\sqrt{ax_{1}^{2} + ay_{1}^{2} + az_{1}^{2}} \\sqrt{ax_{2}^{2} + ay_{2}^{2} + az_{2}^{2}} \\sqrt{ax_{3}^{2} + ay_{3}^{2} + az_{3}^{2}}} + \\frac{2.39583333333333 ax_{1} \\theta_{1}^{2} \\cos{\\left(\\frac{\\theta_{2}}{2} \\right)} \\cos{\\left(\\frac{\\theta_{3}}{2} \\right)}}{\\sqrt{ax_{1}^{2} + ay_{1}^{2} + az_{1}^{2}}} - \\frac{57.5 ax_{1} \\cos{\\left(\\frac{\\theta_{2}}{2} \\right)} \\cos{\\left(\\frac{\\theta_{3}}{2} \\right)}}{\\sqrt{ax_{1}^{2} + ay_{1}^{2} + az_{1}^{2}}} - \\frac{4.52112268518518 \\cdot 10^{-5} ax_{2} ay_{1} ay_{3} \\theta_{1}^{2} \\theta_{2}^{2} \\theta_{3}^{2}}{\\sqrt{ax_{1}^{2} + ay_{1}^{2} + az_{1}^{2}} \\sqrt{ax_{2}^{2} + ay_{2}^{2} + az_{2}^{2}} \\sqrt{ax_{3}^{2} + ay_{3}^{2} + az_{3}^{2}}} + \\frac{0.00108506944444444 ax_{2} ay_{1} ay_{3} \\theta_{1}^{2} \\theta_{2}^{2}}{\\sqrt{ax_{1}^{2} + ay_{1}^{2} + az_{1}^{2}} \\sqrt{ax_{2}^{2} + ay_{2}^{2} + az_{2}^{2}} \\sqrt{ax_{3}^{2} + ay_{3}^{2} + az_{3}^{2}}} + \\frac{0.00108506944444444 ax_{2} ay_{1} ay_{3} \\theta_{1}^{2} \\theta_{3}^{2}}{\\sqrt{ax_{1}^{2} + ay_{1}^{2} + az_{1}^{2}} \\sqrt{ax_{2}^{2} + ay_{2}^{2} + az_{2}^{2}} \\sqrt{ax_{3}^{2} + ay_{3}^{2} + az_{3}^{2}}} - \\frac{0.0260416666666667 ax_{2} ay_{1} ay_{3} \\theta_{1}^{2}}{\\sqrt{ax_{1}^{2} + ay_{1}^{2} + az_{1}^{2}} \\sqrt{ax_{2}^{2} + ay_{2}^{2} + az_{2}^{2}} \\sqrt{ax_{3}^{2} + ay_{3}^{2} + az_{3}^{2}}} + \\frac{0.00108506944444444 ax_{2} ay_{1} ay_{3} \\theta_{2}^{2} \\theta_{3}^{2}}{\\sqrt{ax_{1}^{2} + ay_{1}^{2} + az_{1}^{2}} \\sqrt{ax_{2}^{2} + ay_{2}^{2} + az_{2}^{2}} \\sqrt{ax_{3}^{2} + ay_{3}^{2} + az_{3}^{2}}} - \\frac{0.0260416666666667 ax_{2} ay_{1} ay_{3} \\theta_{2}^{2}}{\\sqrt{ax_{1}^{2} + ay_{1}^{2} + az_{1}^{2}} \\sqrt{ax_{2}^{2} + ay_{2}^{2} + az_{2}^{2}} \\sqrt{ax_{3}^{2} + ay_{3}^{2} + az_{3}^{2}}} - \\frac{0.0260416666666667 ax_{2} ay_{1} ay_{3} \\theta_{3}^{2}}{\\sqrt{ax_{1}^{2} + ay_{1}^{2} + az_{1}^{2}} \\sqrt{ax_{2}^{2} + ay_{2}^{2} + az_{2}^{2}} \\sqrt{ax_{3}^{2} + ay_{3}^{2} + az_{3}^{2}}} + \\frac{0.625 ax_{2} ay_{1} ay_{3}}{\\sqrt{ax_{1}^{2} + ay_{1}^{2} + az_{1}^{2}} \\sqrt{ax_{2}^{2} + ay_{2}^{2} + az_{2}^{2}} \\sqrt{ax_{3}^{2} + ay_{3}^{2} + az_{3}^{2}}} - \\frac{4.52112268518518 \\cdot 10^{-5} ax_{2} az_{1} az_{3} \\theta_{1}^{2} \\theta_{2}^{2} \\theta_{3}^{2}}{\\sqrt{ax_{1}^{2} + ay_{1}^{2} + az_{1}^{2}} \\sqrt{ax_{2}^{2} + ay_{2}^{2} + az_{2}^{2}} \\sqrt{ax_{3}^{2} + ay_{3}^{2} + az_{3}^{2}}} + \\frac{0.00108506944444444 ax_{2} az_{1} az_{3} \\theta_{1}^{2} \\theta_{2}^{2}}{\\sqrt{ax_{1}^{2} + ay_{1}^{2} + az_{1}^{2}} \\sqrt{ax_{2}^{2} + ay_{2}^{2} + az_{2}^{2}} \\sqrt{ax_{3}^{2} + ay_{3}^{2} + az_{3}^{2}}} + \\frac{0.00108506944444444 ax_{2} az_{1} az_{3} \\theta_{1}^{2} \\theta_{3}^{2}}{\\sqrt{ax_{1}^{2} + ay_{1}^{2} + az_{1}^{2}} \\sqrt{ax_{2}^{2} + ay_{2}^{2} + az_{2}^{2}} \\sqrt{ax_{3}^{2} + ay_{3}^{2} + az_{3}^{2}}} - \\frac{0.0260416666666667 ax_{2} az_{1} az_{3} \\theta_{1}^{2}}{\\sqrt{ax_{1}^{2} + ay_{1}^{2} + az_{1}^{2}} \\sqrt{ax_{2}^{2} + ay_{2}^{2} + az_{2}^{2}} \\sqrt{ax_{3}^{2} + ay_{3}^{2} + az_{3}^{2}}} + \\frac{0.00108506944444444 ax_{2} az_{1} az_{3} \\theta_{2}^{2} \\theta_{3}^{2}}{\\sqrt{ax_{1}^{2} + ay_{1}^{2} + az_{1}^{2}} \\sqrt{ax_{2}^{2} + ay_{2}^{2} + az_{2}^{2}} \\sqrt{ax_{3}^{2} + ay_{3}^{2} + az_{3}^{2}}} - \\frac{0.0260416666666667 ax_{2} az_{1} az_{3} \\theta_{2}^{2}}{\\sqrt{ax_{1}^{2} + ay_{1}^{2} + az_{1}^{2}} \\sqrt{ax_{2}^{2} + ay_{2}^{2} + az_{2}^{2}} \\sqrt{ax_{3}^{2} + ay_{3}^{2} + az_{3}^{2}}} - \\frac{0.0260416666666667 ax_{2} az_{1} az_{3} \\theta_{3}^{2}}{\\sqrt{ax_{1}^{2} + ay_{1}^{2} + az_{1}^{2}} \\sqrt{ax_{2}^{2} + ay_{2}^{2} + az_{2}^{2}} \\sqrt{ax_{3}^{2} + ay_{3}^{2} + az_{3}^{2}}} + \\frac{0.625 ax_{2} az_{1} az_{3}}{\\sqrt{ax_{1}^{2} + ay_{1}^{2} + az_{1}^{2}} \\sqrt{ax_{2}^{2} + ay_{2}^{2} + az_{2}^{2}} \\sqrt{ax_{3}^{2} + ay_{3}^{2} + az_{3}^{2}}} + \\frac{2.39583333333333 ax_{2} \\theta_{2}^{2} \\cos{\\left(\\frac{\\theta_{1}}{2} \\right)} \\cos{\\left(\\frac{\\theta_{3}}{2} \\right)}}{\\sqrt{ax_{2}^{2} + ay_{2}^{2} + az_{2}^{2}}} - \\frac{57.5 ax_{2} \\cos{\\left(\\frac{\\theta_{1}}{2} \\right)} \\cos{\\left(\\frac{\\theta_{3}}{2} \\right)}}{\\sqrt{ax_{2}^{2} + ay_{2}^{2} + az_{2}^{2}}} - \\frac{0.000768590856481481 ax_{3} ay_{1} ay_{2} \\theta_{1}^{2} \\theta_{2}^{2} \\theta_{3}^{2}}{\\sqrt{ax_{1}^{2} + ay_{1}^{2} + az_{1}^{2}} \\sqrt{ax_{2}^{2} + ay_{2}^{2} + az_{2}^{2}} \\sqrt{ax_{3}^{2} + ay_{3}^{2} + az_{3}^{2}}} + \\frac{0.0184461805555556 ax_{3} ay_{1} ay_{2} \\theta_{1}^{2} \\theta_{2}^{2}}{\\sqrt{ax_{1}^{2} + ay_{1}^{2} + az_{1}^{2}} \\sqrt{ax_{2}^{2} + ay_{2}^{2} + az_{2}^{2}} \\sqrt{ax_{3}^{2} + ay_{3}^{2} + az_{3}^{2}}} + \\frac{0.0184461805555556 ax_{3} ay_{1} ay_{2} \\theta_{1}^{2} \\theta_{3}^{2}}{\\sqrt{ax_{1}^{2} + ay_{1}^{2} + az_{1}^{2}} \\sqrt{ax_{2}^{2} + ay_{2}^{2} + az_{2}^{2}} \\sqrt{ax_{3}^{2} + ay_{3}^{2} + az_{3}^{2}}} - \\frac{0.442708333333333 ax_{3} ay_{1} ay_{2} \\theta_{1}^{2}}{\\sqrt{ax_{1}^{2} + ay_{1}^{2} + az_{1}^{2}} \\sqrt{ax_{2}^{2} + ay_{2}^{2} + az_{2}^{2}} \\sqrt{ax_{3}^{2} + ay_{3}^{2} + az_{3}^{2}}} + \\frac{0.0184461805555556 ax_{3} ay_{1} ay_{2} \\theta_{2}^{2} \\theta_{3}^{2}}{\\sqrt{ax_{1}^{2} + ay_{1}^{2} + az_{1}^{2}} \\sqrt{ax_{2}^{2} + ay_{2}^{2} + az_{2}^{2}} \\sqrt{ax_{3}^{2} + ay_{3}^{2} + az_{3}^{2}}} - \\frac{0.442708333333333 ax_{3} ay_{1} ay_{2} \\theta_{2}^{2}}{\\sqrt{ax_{1}^{2} + ay_{1}^{2} + az_{1}^{2}} \\sqrt{ax_{2}^{2} + ay_{2}^{2} + az_{2}^{2}} \\sqrt{ax_{3}^{2} + ay_{3}^{2} + az_{3}^{2}}} - \\frac{0.442708333333333 ax_{3} ay_{1} ay_{2} \\theta_{3}^{2}}{\\sqrt{ax_{1}^{2} + ay_{1}^{2} + az_{1}^{2}} \\sqrt{ax_{2}^{2} + ay_{2}^{2} + az_{2}^{2}} \\sqrt{ax_{3}^{2} + ay_{3}^{2} + az_{3}^{2}}} + \\frac{10.625 ax_{3} ay_{1} ay_{2}}{\\sqrt{ax_{1}^{2} + ay_{1}^{2} + az_{1}^{2}} \\sqrt{ax_{2}^{2} + ay_{2}^{2} + az_{2}^{2}} \\sqrt{ax_{3}^{2} + ay_{3}^{2} + az_{3}^{2}}} - \\frac{0.000768590856481481 ax_{3} az_{1} az_{2} \\theta_{1}^{2} \\theta_{2}^{2} \\theta_{3}^{2}}{\\sqrt{ax_{1}^{2} + ay_{1}^{2} + az_{1}^{2}} \\sqrt{ax_{2}^{2} + ay_{2}^{2} + az_{2}^{2}} \\sqrt{ax_{3}^{2} + ay_{3}^{2} + az_{3}^{2}}} + \\frac{0.0184461805555556 ax_{3} az_{1} az_{2} \\theta_{1}^{2} \\theta_{2}^{2}}{\\sqrt{ax_{1}^{2} + ay_{1}^{2} + az_{1}^{2}} \\sqrt{ax_{2}^{2} + ay_{2}^{2} + az_{2}^{2}} \\sqrt{ax_{3}^{2} + ay_{3}^{2} + az_{3}^{2}}} + \\frac{0.0184461805555556 ax_{3} az_{1} az_{2} \\theta_{1}^{2} \\theta_{3}^{2}}{\\sqrt{ax_{1}^{2} + ay_{1}^{2} + az_{1}^{2}} \\sqrt{ax_{2}^{2} + ay_{2}^{2} + az_{2}^{2}} \\sqrt{ax_{3}^{2} + ay_{3}^{2} + az_{3}^{2}}} - \\frac{0.442708333333333 ax_{3} az_{1} az_{2} \\theta_{1}^{2}}{\\sqrt{ax_{1}^{2} + ay_{1}^{2} + az_{1}^{2}} \\sqrt{ax_{2}^{2} + ay_{2}^{2} + az_{2}^{2}} \\sqrt{ax_{3}^{2} + ay_{3}^{2} + az_{3}^{2}}} + \\frac{0.0184461805555556 ax_{3} az_{1} az_{2} \\theta_{2}^{2} \\theta_{3}^{2}}{\\sqrt{ax_{1}^{2} + ay_{1}^{2} + az_{1}^{2}} \\sqrt{ax_{2}^{2} + ay_{2}^{2} + az_{2}^{2}} \\sqrt{ax_{3}^{2} + ay_{3}^{2} + az_{3}^{2}}} - \\frac{0.442708333333333 ax_{3} az_{1} az_{2} \\theta_{2}^{2}}{\\sqrt{ax_{1}^{2} + ay_{1}^{2} + az_{1}^{2}} \\sqrt{ax_{2}^{2} + ay_{2}^{2} + az_{2}^{2}} \\sqrt{ax_{3}^{2} + ay_{3}^{2} + az_{3}^{2}}} - \\frac{0.442708333333333 ax_{3} az_{1} az_{2} \\theta_{3}^{2}}{\\sqrt{ax_{1}^{2} + ay_{1}^{2} + az_{1}^{2}} \\sqrt{ax_{2}^{2} + ay_{2}^{2} + az_{2}^{2}} \\sqrt{ax_{3}^{2} + ay_{3}^{2} + az_{3}^{2}}} + \\frac{10.625 ax_{3} az_{1} az_{2}}{\\sqrt{ax_{1}^{2} + ay_{1}^{2} + az_{1}^{2}} \\sqrt{ax_{2}^{2} + ay_{2}^{2} + az_{2}^{2}} \\sqrt{ax_{3}^{2} + ay_{3}^{2} + az_{3}^{2}}} + \\frac{2.39583333333333 ax_{3} \\theta_{3}^{2} \\cos{\\left(\\frac{\\theta_{1}}{2} \\right)} \\cos{\\left(\\frac{\\theta_{2}}{2} \\right)}}{\\sqrt{ax_{3}^{2} + ay_{3}^{2} + az_{3}^{2}}} - \\frac{57.5 ax_{3} \\cos{\\left(\\frac{\\theta_{1}}{2} \\right)} \\cos{\\left(\\frac{\\theta_{2}}{2} \\right)}}{\\sqrt{ax_{3}^{2} + ay_{3}^{2} + az_{3}^{2}}} - \\frac{0.0368923611111111 ay_{1} az_{2} \\theta_{1}^{2} \\theta_{2}^{2} \\cos{\\left(\\frac{\\theta_{3}}{2} \\right)}}{\\sqrt{ax_{1}^{2} + ay_{1}^{2} + az_{1}^{2}} \\sqrt{ax_{2}^{2} + ay_{2}^{2} + az_{2}^{2}}} + \\frac{0.885416666666667 ay_{1} az_{2} \\theta_{1}^{2} \\cos{\\left(\\frac{\\theta_{3}}{2} \\right)}}{\\sqrt{ax_{1}^{2} + ay_{1}^{2} + az_{1}^{2}} \\sqrt{ax_{2}^{2} + ay_{2}^{2} + az_{2}^{2}}} + \\frac{0.885416666666667 ay_{1} az_{2} \\theta_{2}^{2} \\cos{\\left(\\frac{\\theta_{3}}{2} \\right)}}{\\sqrt{ax_{1}^{2} + ay_{1}^{2} + az_{1}^{2}} \\sqrt{ax_{2}^{2} + ay_{2}^{2} + az_{2}^{2}}} - \\frac{21.25 ay_{1} az_{2} \\cos{\\left(\\frac{\\theta_{3}}{2} \\right)}}{\\sqrt{ax_{1}^{2} + ay_{1}^{2} + az_{1}^{2}} \\sqrt{ax_{2}^{2} + ay_{2}^{2} + az_{2}^{2}}} + \\frac{0.00217013888888889 ay_{1} az_{3} \\theta_{1}^{2} \\theta_{3}^{2} \\cos{\\left(\\frac{\\theta_{2}}{2} \\right)}}{\\sqrt{ax_{1}^{2} + ay_{1}^{2} + az_{1}^{2}} \\sqrt{ax_{3}^{2} + ay_{3}^{2} + az_{3}^{2}}} - \\frac{0.0520833333333334 ay_{1} az_{3} \\theta_{1}^{2} \\cos{\\left(\\frac{\\theta_{2}}{2} \\right)}}{\\sqrt{ax_{1}^{2} + ay_{1}^{2} + az_{1}^{2}} \\sqrt{ax_{3}^{2} + ay_{3}^{2} + az_{3}^{2}}} - \\frac{0.0520833333333334 ay_{1} az_{3} \\theta_{3}^{2} \\cos{\\left(\\frac{\\theta_{2}}{2} \\right)}}{\\sqrt{ax_{1}^{2} + ay_{1}^{2} + az_{1}^{2}} \\sqrt{ax_{3}^{2} + ay_{3}^{2} + az_{3}^{2}}} + \\frac{1.25 ay_{1} az_{3} \\cos{\\left(\\frac{\\theta_{2}}{2} \\right)}}{\\sqrt{ax_{1}^{2} + ay_{1}^{2} + az_{1}^{2}} \\sqrt{ax_{3}^{2} + ay_{3}^{2} + az_{3}^{2}}} + \\frac{0.0368923611111111 ay_{2} az_{1} \\theta_{1}^{2} \\theta_{2}^{2} \\cos{\\left(\\frac{\\theta_{3}}{2} \\right)}}{\\sqrt{ax_{1}^{2} + ay_{1}^{2} + az_{1}^{2}} \\sqrt{ax_{2}^{2} + ay_{2}^{2} + az_{2}^{2}}} - \\frac{0.885416666666667 ay_{2} az_{1} \\theta_{1}^{2} \\cos{\\left(\\frac{\\theta_{3}}{2} \\right)}}{\\sqrt{ax_{1}^{2} + ay_{1}^{2} + az_{1}^{2}} \\sqrt{ax_{2}^{2} + ay_{2}^{2} + az_{2}^{2}}} - \\frac{0.885416666666667 ay_{2} az_{1} \\theta_{2}^{2} \\cos{\\left(\\frac{\\theta_{3}}{2} \\right)}}{\\sqrt{ax_{1}^{2} + ay_{1}^{2} + az_{1}^{2}} \\sqrt{ax_{2}^{2} + ay_{2}^{2} + az_{2}^{2}}} + \\frac{21.25 ay_{2} az_{1} \\cos{\\left(\\frac{\\theta_{3}}{2} \\right)}}{\\sqrt{ax_{1}^{2} + ay_{1}^{2} + az_{1}^{2}} \\sqrt{ax_{2}^{2} + ay_{2}^{2} + az_{2}^{2}}} - \\frac{0.0108506944444444 ay_{2} az_{3} \\theta_{2}^{2} \\theta_{3}^{2} \\cos{\\left(\\frac{\\theta_{1}}{2} \\right)}}{\\sqrt{ax_{2}^{2} + ay_{2}^{2} + az_{2}^{2}} \\sqrt{ax_{3}^{2} + ay_{3}^{2} + az_{3}^{2}}} + \\frac{0.260416666666667 ay_{2} az_{3} \\theta_{2}^{2} \\cos{\\left(\\frac{\\theta_{1}}{2} \\right)}}{\\sqrt{ax_{2}^{2} + ay_{2}^{2} + az_{2}^{2}} \\sqrt{ax_{3}^{2} + ay_{3}^{2} + az_{3}^{2}}} + \\frac{0.260416666666667 ay_{2} az_{3} \\theta_{3}^{2} \\cos{\\left(\\frac{\\theta_{1}}{2} \\right)}}{\\sqrt{ax_{2}^{2} + ay_{2}^{2} + az_{2}^{2}} \\sqrt{ax_{3}^{2} + ay_{3}^{2} + az_{3}^{2}}} - \\frac{6.25 ay_{2} az_{3} \\cos{\\left(\\frac{\\theta_{1}}{2} \\right)}}{\\sqrt{ax_{2}^{2} + ay_{2}^{2} + az_{2}^{2}} \\sqrt{ax_{3}^{2} + ay_{3}^{2} + az_{3}^{2}}} - \\frac{0.00217013888888889 ay_{3} az_{1} \\theta_{1}^{2} \\theta_{3}^{2} \\cos{\\left(\\frac{\\theta_{2}}{2} \\right)}}{\\sqrt{ax_{1}^{2} + ay_{1}^{2} + az_{1}^{2}} \\sqrt{ax_{3}^{2} + ay_{3}^{2} + az_{3}^{2}}} + \\frac{0.0520833333333334 ay_{3} az_{1} \\theta_{1}^{2} \\cos{\\left(\\frac{\\theta_{2}}{2} \\right)}}{\\sqrt{ax_{1}^{2} + ay_{1}^{2} + az_{1}^{2}} \\sqrt{ax_{3}^{2} + ay_{3}^{2} + az_{3}^{2}}} + \\frac{0.0520833333333334 ay_{3} az_{1} \\theta_{3}^{2} \\cos{\\left(\\frac{\\theta_{2}}{2} \\right)}}{\\sqrt{ax_{1}^{2} + ay_{1}^{2} + az_{1}^{2}} \\sqrt{ax_{3}^{2} + ay_{3}^{2} + az_{3}^{2}}} - \\frac{1.25 ay_{3} az_{1} \\cos{\\left(\\frac{\\theta_{2}}{2} \\right)}}{\\sqrt{ax_{1}^{2} + ay_{1}^{2} + az_{1}^{2}} \\sqrt{ax_{3}^{2} + ay_{3}^{2} + az_{3}^{2}}} + \\frac{0.0108506944444444 ay_{3} az_{2} \\theta_{2}^{2} \\theta_{3}^{2} \\cos{\\left(\\frac{\\theta_{1}}{2} \\right)}}{\\sqrt{ax_{2}^{2} + ay_{2}^{2} + az_{2}^{2}} \\sqrt{ax_{3}^{2} + ay_{3}^{2} + az_{3}^{2}}} - \\frac{0.260416666666667 ay_{3} az_{2} \\theta_{2}^{2} \\cos{\\left(\\frac{\\theta_{1}}{2} \\right)}}{\\sqrt{ax_{2}^{2} + ay_{2}^{2} + az_{2}^{2}} \\sqrt{ax_{3}^{2} + ay_{3}^{2} + az_{3}^{2}}} - \\frac{0.260416666666667 ay_{3} az_{2} \\theta_{3}^{2} \\cos{\\left(\\frac{\\theta_{1}}{2} \\right)}}{\\sqrt{ax_{2}^{2} + ay_{2}^{2} + az_{2}^{2}} \\sqrt{ax_{3}^{2} + ay_{3}^{2} + az_{3}^{2}}} + \\frac{6.25 ay_{3} az_{2} \\cos{\\left(\\frac{\\theta_{1}}{2} \\right)}}{\\sqrt{ax_{2}^{2} + ay_{2}^{2} + az_{2}^{2}} \\sqrt{ax_{3}^{2} + ay_{3}^{2} + az_{3}^{2}}}\\right) + \\left(- \\frac{0.0499131944444444 ax_{1} ax_{2} \\theta_{1}^{2} \\theta_{2}^{2} \\cos{\\left(\\frac{\\theta_{3}}{2} \\right)}}{\\sqrt{ax_{1}^{2} + ay_{1}^{2} + az_{1}^{2}} \\sqrt{ax_{2}^{2} + ay_{2}^{2} + az_{2}^{2}}} + \\frac{1.19791666666667 ax_{1} ax_{2} \\theta_{1}^{2} \\cos{\\left(\\frac{\\theta_{3}}{2} \\right)}}{\\sqrt{ax_{1}^{2} + ay_{1}^{2} + az_{1}^{2}} \\sqrt{ax_{2}^{2} + ay_{2}^{2} + az_{2}^{2}}} + \\frac{1.19791666666667 ax_{1} ax_{2} \\theta_{2}^{2} \\cos{\\left(\\frac{\\theta_{3}}{2} \\right)}}{\\sqrt{ax_{1}^{2} + ay_{1}^{2} + az_{1}^{2}} \\sqrt{ax_{2}^{2} + ay_{2}^{2} + az_{2}^{2}}} - \\frac{28.75 ax_{1} ax_{2} \\cos{\\left(\\frac{\\theta_{3}}{2} \\right)}}{\\sqrt{ax_{1}^{2} + ay_{1}^{2} + az_{1}^{2}} \\sqrt{ax_{2}^{2} + ay_{2}^{2} + az_{2}^{2}}} - \\frac{0.0499131944444444 ax_{1} ax_{3} \\theta_{1}^{2} \\theta_{3}^{2} \\cos{\\left(\\frac{\\theta_{2}}{2} \\right)}}{\\sqrt{ax_{1}^{2} + ay_{1}^{2} + az_{1}^{2}} \\sqrt{ax_{3}^{2} + ay_{3}^{2} + az_{3}^{2}}} + \\frac{1.19791666666667 ax_{1} ax_{3} \\theta_{1}^{2} \\cos{\\left(\\frac{\\theta_{2}}{2} \\right)}}{\\sqrt{ax_{1}^{2} + ay_{1}^{2} + az_{1}^{2}} \\sqrt{ax_{3}^{2} + ay_{3}^{2} + az_{3}^{2}}} + \\frac{1.19791666666667 ax_{1} ax_{3} \\theta_{3}^{2} \\cos{\\left(\\frac{\\theta_{2}}{2} \\right)}}{\\sqrt{ax_{1}^{2} + ay_{1}^{2} + az_{1}^{2}} \\sqrt{ax_{3}^{2} + ay_{3}^{2} + az_{3}^{2}}} - \\frac{28.75 ax_{1} ax_{3} \\cos{\\left(\\frac{\\theta_{2}}{2} \\right)}}{\\sqrt{ax_{1}^{2} + ay_{1}^{2} + az_{1}^{2}} \\sqrt{ax_{3}^{2} + ay_{3}^{2} + az_{3}^{2}}} + \\frac{0.000226056134259259 ax_{1} ay_{2} az_{3} \\theta_{1}^{2} \\theta_{2}^{2} \\theta_{3}^{2}}{\\sqrt{ax_{1}^{2} + ay_{1}^{2} + az_{1}^{2}} \\sqrt{ax_{2}^{2} + ay_{2}^{2} + az_{2}^{2}} \\sqrt{ax_{3}^{2} + ay_{3}^{2} + az_{3}^{2}}} - \\frac{0.00542534722222222 ax_{1} ay_{2} az_{3} \\theta_{1}^{2} \\theta_{2}^{2}}{\\sqrt{ax_{1}^{2} + ay_{1}^{2} + az_{1}^{2}} \\sqrt{ax_{2}^{2} + ay_{2}^{2} + az_{2}^{2}} \\sqrt{ax_{3}^{2} + ay_{3}^{2} + az_{3}^{2}}} - \\frac{0.00542534722222222 ax_{1} ay_{2} az_{3} \\theta_{1}^{2} \\theta_{3}^{2}}{\\sqrt{ax_{1}^{2} + ay_{1}^{2} + az_{1}^{2}} \\sqrt{ax_{2}^{2} + ay_{2}^{2} + az_{2}^{2}} \\sqrt{ax_{3}^{2} + ay_{3}^{2} + az_{3}^{2}}} + \\frac{0.130208333333333 ax_{1} ay_{2} az_{3} \\theta_{1}^{2}}{\\sqrt{ax_{1}^{2} + ay_{1}^{2} + az_{1}^{2}} \\sqrt{ax_{2}^{2} + ay_{2}^{2} + az_{2}^{2}} \\sqrt{ax_{3}^{2} + ay_{3}^{2} + az_{3}^{2}}} - \\frac{0.00542534722222222 ax_{1} ay_{2} az_{3} \\theta_{2}^{2} \\theta_{3}^{2}}{\\sqrt{ax_{1}^{2} + ay_{1}^{2} + az_{1}^{2}} \\sqrt{ax_{2}^{2} + ay_{2}^{2} + az_{2}^{2}} \\sqrt{ax_{3}^{2} + ay_{3}^{2} + az_{3}^{2}}} + \\frac{0.130208333333333 ax_{1} ay_{2} az_{3} \\theta_{2}^{2}}{\\sqrt{ax_{1}^{2} + ay_{1}^{2} + az_{1}^{2}} \\sqrt{ax_{2}^{2} + ay_{2}^{2} + az_{2}^{2}} \\sqrt{ax_{3}^{2} + ay_{3}^{2} + az_{3}^{2}}} + \\frac{0.130208333333333 ax_{1} ay_{2} az_{3} \\theta_{3}^{2}}{\\sqrt{ax_{1}^{2} + ay_{1}^{2} + az_{1}^{2}} \\sqrt{ax_{2}^{2} + ay_{2}^{2} + az_{2}^{2}} \\sqrt{ax_{3}^{2} + ay_{3}^{2} + az_{3}^{2}}} - \\frac{3.125 ax_{1} ay_{2} az_{3}}{\\sqrt{ax_{1}^{2} + ay_{1}^{2} + az_{1}^{2}} \\sqrt{ax_{2}^{2} + ay_{2}^{2} + az_{2}^{2}} \\sqrt{ax_{3}^{2} + ay_{3}^{2} + az_{3}^{2}}} - \\frac{0.000226056134259259 ax_{1} ay_{3} az_{2} \\theta_{1}^{2} \\theta_{2}^{2} \\theta_{3}^{2}}{\\sqrt{ax_{1}^{2} + ay_{1}^{2} + az_{1}^{2}} \\sqrt{ax_{2}^{2} + ay_{2}^{2} + az_{2}^{2}} \\sqrt{ax_{3}^{2} + ay_{3}^{2} + az_{3}^{2}}} + \\frac{0.00542534722222222 ax_{1} ay_{3} az_{2} \\theta_{1}^{2} \\theta_{2}^{2}}{\\sqrt{ax_{1}^{2} + ay_{1}^{2} + az_{1}^{2}} \\sqrt{ax_{2}^{2} + ay_{2}^{2} + az_{2}^{2}} \\sqrt{ax_{3}^{2} + ay_{3}^{2} + az_{3}^{2}}} + \\frac{0.00542534722222222 ax_{1} ay_{3} az_{2} \\theta_{1}^{2} \\theta_{3}^{2}}{\\sqrt{ax_{1}^{2} + ay_{1}^{2} + az_{1}^{2}} \\sqrt{ax_{2}^{2} + ay_{2}^{2} + az_{2}^{2}} \\sqrt{ax_{3}^{2} + ay_{3}^{2} + az_{3}^{2}}} - \\frac{0.130208333333333 ax_{1} ay_{3} az_{2} \\theta_{1}^{2}}{\\sqrt{ax_{1}^{2} + ay_{1}^{2} + az_{1}^{2}} \\sqrt{ax_{2}^{2} + ay_{2}^{2} + az_{2}^{2}} \\sqrt{ax_{3}^{2} + ay_{3}^{2} + az_{3}^{2}}} + \\frac{0.00542534722222222 ax_{1} ay_{3} az_{2} \\theta_{2}^{2} \\theta_{3}^{2}}{\\sqrt{ax_{1}^{2} + ay_{1}^{2} + az_{1}^{2}} \\sqrt{ax_{2}^{2} + ay_{2}^{2} + az_{2}^{2}} \\sqrt{ax_{3}^{2} + ay_{3}^{2} + az_{3}^{2}}} - \\frac{0.130208333333333 ax_{1} ay_{3} az_{2} \\theta_{2}^{2}}{\\sqrt{ax_{1}^{2} + ay_{1}^{2} + az_{1}^{2}} \\sqrt{ax_{2}^{2} + ay_{2}^{2} + az_{2}^{2}} \\sqrt{ax_{3}^{2} + ay_{3}^{2} + az_{3}^{2}}} - \\frac{0.130208333333333 ax_{1} ay_{3} az_{2} \\theta_{3}^{2}}{\\sqrt{ax_{1}^{2} + ay_{1}^{2} + az_{1}^{2}} \\sqrt{ax_{2}^{2} + ay_{2}^{2} + az_{2}^{2}} \\sqrt{ax_{3}^{2} + ay_{3}^{2} + az_{3}^{2}}} + \\frac{3.125 ax_{1} ay_{3} az_{2}}{\\sqrt{ax_{1}^{2} + ay_{1}^{2} + az_{1}^{2}} \\sqrt{ax_{2}^{2} + ay_{2}^{2} + az_{2}^{2}} \\sqrt{ax_{3}^{2} + ay_{3}^{2} + az_{3}^{2}}} - \\frac{0.0499131944444444 ax_{2} ax_{3} \\theta_{2}^{2} \\theta_{3}^{2} \\cos{\\left(\\frac{\\theta_{1}}{2} \\right)}}{\\sqrt{ax_{2}^{2} + ay_{2}^{2} + az_{2}^{2}} \\sqrt{ax_{3}^{2} + ay_{3}^{2} + az_{3}^{2}}} + \\frac{1.19791666666667 ax_{2} ax_{3} \\theta_{2}^{2} \\cos{\\left(\\frac{\\theta_{1}}{2} \\right)}}{\\sqrt{ax_{2}^{2} + ay_{2}^{2} + az_{2}^{2}} \\sqrt{ax_{3}^{2} + ay_{3}^{2} + az_{3}^{2}}} + \\frac{1.19791666666667 ax_{2} ax_{3} \\theta_{3}^{2} \\cos{\\left(\\frac{\\theta_{1}}{2} \\right)}}{\\sqrt{ax_{2}^{2} + ay_{2}^{2} + az_{2}^{2}} \\sqrt{ax_{3}^{2} + ay_{3}^{2} + az_{3}^{2}}} - \\frac{28.75 ax_{2} ax_{3} \\cos{\\left(\\frac{\\theta_{1}}{2} \\right)}}{\\sqrt{ax_{2}^{2} + ay_{2}^{2} + az_{2}^{2}} \\sqrt{ax_{3}^{2} + ay_{3}^{2} + az_{3}^{2}}} + \\frac{4.52112268518518 \\cdot 10^{-5} ax_{2} ay_{1} az_{3} \\theta_{1}^{2} \\theta_{2}^{2} \\theta_{3}^{2}}{\\sqrt{ax_{1}^{2} + ay_{1}^{2} + az_{1}^{2}} \\sqrt{ax_{2}^{2} + ay_{2}^{2} + az_{2}^{2}} \\sqrt{ax_{3}^{2} + ay_{3}^{2} + az_{3}^{2}}} - \\frac{0.00108506944444444 ax_{2} ay_{1} az_{3} \\theta_{1}^{2} \\theta_{2}^{2}}{\\sqrt{ax_{1}^{2} + ay_{1}^{2} + az_{1}^{2}} \\sqrt{ax_{2}^{2} + ay_{2}^{2} + az_{2}^{2}} \\sqrt{ax_{3}^{2} + ay_{3}^{2} + az_{3}^{2}}} - \\frac{0.00108506944444444 ax_{2} ay_{1} az_{3} \\theta_{1}^{2} \\theta_{3}^{2}}{\\sqrt{ax_{1}^{2} + ay_{1}^{2} + az_{1}^{2}} \\sqrt{ax_{2}^{2} + ay_{2}^{2} + az_{2}^{2}} \\sqrt{ax_{3}^{2} + ay_{3}^{2} + az_{3}^{2}}} + \\frac{0.0260416666666667 ax_{2} ay_{1} az_{3} \\theta_{1}^{2}}{\\sqrt{ax_{1}^{2} + ay_{1}^{2} + az_{1}^{2}} \\sqrt{ax_{2}^{2} + ay_{2}^{2} + az_{2}^{2}} \\sqrt{ax_{3}^{2} + ay_{3}^{2} + az_{3}^{2}}} - \\frac{0.00108506944444444 ax_{2} ay_{1} az_{3} \\theta_{2}^{2} \\theta_{3}^{2}}{\\sqrt{ax_{1}^{2} + ay_{1}^{2} + az_{1}^{2}} \\sqrt{ax_{2}^{2} + ay_{2}^{2} + az_{2}^{2}} \\sqrt{ax_{3}^{2} + ay_{3}^{2} + az_{3}^{2}}} + \\frac{0.0260416666666667 ax_{2} ay_{1} az_{3} \\theta_{2}^{2}}{\\sqrt{ax_{1}^{2} + ay_{1}^{2} + az_{1}^{2}} \\sqrt{ax_{2}^{2} + ay_{2}^{2} + az_{2}^{2}} \\sqrt{ax_{3}^{2} + ay_{3}^{2} + az_{3}^{2}}} + \\frac{0.0260416666666667 ax_{2} ay_{1} az_{3} \\theta_{3}^{2}}{\\sqrt{ax_{1}^{2} + ay_{1}^{2} + az_{1}^{2}} \\sqrt{ax_{2}^{2} + ay_{2}^{2} + az_{2}^{2}} \\sqrt{ax_{3}^{2} + ay_{3}^{2} + az_{3}^{2}}} - \\frac{0.625 ax_{2} ay_{1} az_{3}}{\\sqrt{ax_{1}^{2} + ay_{1}^{2} + az_{1}^{2}} \\sqrt{ax_{2}^{2} + ay_{2}^{2} + az_{2}^{2}} \\sqrt{ax_{3}^{2} + ay_{3}^{2} + az_{3}^{2}}} - \\frac{4.52112268518518 \\cdot 10^{-5} ax_{2} ay_{3} az_{1} \\theta_{1}^{2} \\theta_{2}^{2} \\theta_{3}^{2}}{\\sqrt{ax_{1}^{2} + ay_{1}^{2} + az_{1}^{2}} \\sqrt{ax_{2}^{2} + ay_{2}^{2} + az_{2}^{2}} \\sqrt{ax_{3}^{2} + ay_{3}^{2} + az_{3}^{2}}} + \\frac{0.00108506944444444 ax_{2} ay_{3} az_{1} \\theta_{1}^{2} \\theta_{2}^{2}}{\\sqrt{ax_{1}^{2} + ay_{1}^{2} + az_{1}^{2}} \\sqrt{ax_{2}^{2} + ay_{2}^{2} + az_{2}^{2}} \\sqrt{ax_{3}^{2} + ay_{3}^{2} + az_{3}^{2}}} + \\frac{0.00108506944444444 ax_{2} ay_{3} az_{1} \\theta_{1}^{2} \\theta_{3}^{2}}{\\sqrt{ax_{1}^{2} + ay_{1}^{2} + az_{1}^{2}} \\sqrt{ax_{2}^{2} + ay_{2}^{2} + az_{2}^{2}} \\sqrt{ax_{3}^{2} + ay_{3}^{2} + az_{3}^{2}}} - \\frac{0.0260416666666667 ax_{2} ay_{3} az_{1} \\theta_{1}^{2}}{\\sqrt{ax_{1}^{2} + ay_{1}^{2} + az_{1}^{2}} \\sqrt{ax_{2}^{2} + ay_{2}^{2} + az_{2}^{2}} \\sqrt{ax_{3}^{2} + ay_{3}^{2} + az_{3}^{2}}} + \\frac{0.00108506944444444 ax_{2} ay_{3} az_{1} \\theta_{2}^{2} \\theta_{3}^{2}}{\\sqrt{ax_{1}^{2} + ay_{1}^{2} + az_{1}^{2}} \\sqrt{ax_{2}^{2} + ay_{2}^{2} + az_{2}^{2}} \\sqrt{ax_{3}^{2} + ay_{3}^{2} + az_{3}^{2}}} - \\frac{0.0260416666666667 ax_{2} ay_{3} az_{1} \\theta_{2}^{2}}{\\sqrt{ax_{1}^{2} + ay_{1}^{2} + az_{1}^{2}} \\sqrt{ax_{2}^{2} + ay_{2}^{2} + az_{2}^{2}} \\sqrt{ax_{3}^{2} + ay_{3}^{2} + az_{3}^{2}}} - \\frac{0.0260416666666667 ax_{2} ay_{3} az_{1} \\theta_{3}^{2}}{\\sqrt{ax_{1}^{2} + ay_{1}^{2} + az_{1}^{2}} \\sqrt{ax_{2}^{2} + ay_{2}^{2} + az_{2}^{2}} \\sqrt{ax_{3}^{2} + ay_{3}^{2} + az_{3}^{2}}} + \\frac{0.625 ax_{2} ay_{3} az_{1}}{\\sqrt{ax_{1}^{2} + ay_{1}^{2} + az_{1}^{2}} \\sqrt{ax_{2}^{2} + ay_{2}^{2} + az_{2}^{2}} \\sqrt{ax_{3}^{2} + ay_{3}^{2} + az_{3}^{2}}} + \\frac{0.000768590856481481 ax_{3} ay_{1} az_{2} \\theta_{1}^{2} \\theta_{2}^{2} \\theta_{3}^{2}}{\\sqrt{ax_{1}^{2} + ay_{1}^{2} + az_{1}^{2}} \\sqrt{ax_{2}^{2} + ay_{2}^{2} + az_{2}^{2}} \\sqrt{ax_{3}^{2} + ay_{3}^{2} + az_{3}^{2}}} - \\frac{0.0184461805555556 ax_{3} ay_{1} az_{2} \\theta_{1}^{2} \\theta_{2}^{2}}{\\sqrt{ax_{1}^{2} + ay_{1}^{2} + az_{1}^{2}} \\sqrt{ax_{2}^{2} + ay_{2}^{2} + az_{2}^{2}} \\sqrt{ax_{3}^{2} + ay_{3}^{2} + az_{3}^{2}}} - \\frac{0.0184461805555556 ax_{3} ay_{1} az_{2} \\theta_{1}^{2} \\theta_{3}^{2}}{\\sqrt{ax_{1}^{2} + ay_{1}^{2} + az_{1}^{2}} \\sqrt{ax_{2}^{2} + ay_{2}^{2} + az_{2}^{2}} \\sqrt{ax_{3}^{2} + ay_{3}^{2} + az_{3}^{2}}} + \\frac{0.442708333333333 ax_{3} ay_{1} az_{2} \\theta_{1}^{2}}{\\sqrt{ax_{1}^{2} + ay_{1}^{2} + az_{1}^{2}} \\sqrt{ax_{2}^{2} + ay_{2}^{2} + az_{2}^{2}} \\sqrt{ax_{3}^{2} + ay_{3}^{2} + az_{3}^{2}}} - \\frac{0.0184461805555556 ax_{3} ay_{1} az_{2} \\theta_{2}^{2} \\theta_{3}^{2}}{\\sqrt{ax_{1}^{2} + ay_{1}^{2} + az_{1}^{2}} \\sqrt{ax_{2}^{2} + ay_{2}^{2} + az_{2}^{2}} \\sqrt{ax_{3}^{2} + ay_{3}^{2} + az_{3}^{2}}} + \\frac{0.442708333333333 ax_{3} ay_{1} az_{2} \\theta_{2}^{2}}{\\sqrt{ax_{1}^{2} + ay_{1}^{2} + az_{1}^{2}} \\sqrt{ax_{2}^{2} + ay_{2}^{2} + az_{2}^{2}} \\sqrt{ax_{3}^{2} + ay_{3}^{2} + az_{3}^{2}}} + \\frac{0.442708333333333 ax_{3} ay_{1} az_{2} \\theta_{3}^{2}}{\\sqrt{ax_{1}^{2} + ay_{1}^{2} + az_{1}^{2}} \\sqrt{ax_{2}^{2} + ay_{2}^{2} + az_{2}^{2}} \\sqrt{ax_{3}^{2} + ay_{3}^{2} + az_{3}^{2}}} - \\frac{10.625 ax_{3} ay_{1} az_{2}}{\\sqrt{ax_{1}^{2} + ay_{1}^{2} + az_{1}^{2}} \\sqrt{ax_{2}^{2} + ay_{2}^{2} + az_{2}^{2}} \\sqrt{ax_{3}^{2} + ay_{3}^{2} + az_{3}^{2}}} - \\frac{0.000768590856481481 ax_{3} ay_{2} az_{1} \\theta_{1}^{2} \\theta_{2}^{2} \\theta_{3}^{2}}{\\sqrt{ax_{1}^{2} + ay_{1}^{2} + az_{1}^{2}} \\sqrt{ax_{2}^{2} + ay_{2}^{2} + az_{2}^{2}} \\sqrt{ax_{3}^{2} + ay_{3}^{2} + az_{3}^{2}}} + \\frac{0.0184461805555556 ax_{3} ay_{2} az_{1} \\theta_{1}^{2} \\theta_{2}^{2}}{\\sqrt{ax_{1}^{2} + ay_{1}^{2} + az_{1}^{2}} \\sqrt{ax_{2}^{2} + ay_{2}^{2} + az_{2}^{2}} \\sqrt{ax_{3}^{2} + ay_{3}^{2} + az_{3}^{2}}} + \\frac{0.0184461805555556 ax_{3} ay_{2} az_{1} \\theta_{1}^{2} \\theta_{3}^{2}}{\\sqrt{ax_{1}^{2} + ay_{1}^{2} + az_{1}^{2}} \\sqrt{ax_{2}^{2} + ay_{2}^{2} + az_{2}^{2}} \\sqrt{ax_{3}^{2} + ay_{3}^{2} + az_{3}^{2}}} - \\frac{0.442708333333333 ax_{3} ay_{2} az_{1} \\theta_{1}^{2}}{\\sqrt{ax_{1}^{2} + ay_{1}^{2} + az_{1}^{2}} \\sqrt{ax_{2}^{2} + ay_{2}^{2} + az_{2}^{2}} \\sqrt{ax_{3}^{2} + ay_{3}^{2} + az_{3}^{2}}} + \\frac{0.0184461805555556 ax_{3} ay_{2} az_{1} \\theta_{2}^{2} \\theta_{3}^{2}}{\\sqrt{ax_{1}^{2} + ay_{1}^{2} + az_{1}^{2}} \\sqrt{ax_{2}^{2} + ay_{2}^{2} + az_{2}^{2}} \\sqrt{ax_{3}^{2} + ay_{3}^{2} + az_{3}^{2}}} - \\frac{0.442708333333333 ax_{3} ay_{2} az_{1} \\theta_{2}^{2}}{\\sqrt{ax_{1}^{2} + ay_{1}^{2} + az_{1}^{2}} \\sqrt{ax_{2}^{2} + ay_{2}^{2} + az_{2}^{2}} \\sqrt{ax_{3}^{2} + ay_{3}^{2} + az_{3}^{2}}} - \\frac{0.442708333333333 ax_{3} ay_{2} az_{1} \\theta_{3}^{2}}{\\sqrt{ax_{1}^{2} + ay_{1}^{2} + az_{1}^{2}} \\sqrt{ax_{2}^{2} + ay_{2}^{2} + az_{2}^{2}} \\sqrt{ax_{3}^{2} + ay_{3}^{2} + az_{3}^{2}}} + \\frac{10.625 ax_{3} ay_{2} az_{1}}{\\sqrt{ax_{1}^{2} + ay_{1}^{2} + az_{1}^{2}} \\sqrt{ax_{2}^{2} + ay_{2}^{2} + az_{2}^{2}} \\sqrt{ax_{3}^{2} + ay_{3}^{2} + az_{3}^{2}}} - \\frac{0.0368923611111111 ay_{1} ay_{2} \\theta_{1}^{2} \\theta_{2}^{2} \\cos{\\left(\\frac{\\theta_{3}}{2} \\right)}}{\\sqrt{ax_{1}^{2} + ay_{1}^{2} + az_{1}^{2}} \\sqrt{ax_{2}^{2} + ay_{2}^{2} + az_{2}^{2}}} + \\frac{0.885416666666667 ay_{1} ay_{2} \\theta_{1}^{2} \\cos{\\left(\\frac{\\theta_{3}}{2} \\right)}}{\\sqrt{ax_{1}^{2} + ay_{1}^{2} + az_{1}^{2}} \\sqrt{ax_{2}^{2} + ay_{2}^{2} + az_{2}^{2}}} + \\frac{0.885416666666667 ay_{1} ay_{2} \\theta_{2}^{2} \\cos{\\left(\\frac{\\theta_{3}}{2} \\right)}}{\\sqrt{ax_{1}^{2} + ay_{1}^{2} + az_{1}^{2}} \\sqrt{ax_{2}^{2} + ay_{2}^{2} + az_{2}^{2}}} - \\frac{21.25 ay_{1} ay_{2} \\cos{\\left(\\frac{\\theta_{3}}{2} \\right)}}{\\sqrt{ax_{1}^{2} + ay_{1}^{2} + az_{1}^{2}} \\sqrt{ax_{2}^{2} + ay_{2}^{2} + az_{2}^{2}}} + \\frac{0.00217013888888889 ay_{1} ay_{3} \\theta_{1}^{2} \\theta_{3}^{2} \\cos{\\left(\\frac{\\theta_{2}}{2} \\right)}}{\\sqrt{ax_{1}^{2} + ay_{1}^{2} + az_{1}^{2}} \\sqrt{ax_{3}^{2} + ay_{3}^{2} + az_{3}^{2}}} - \\frac{0.0520833333333334 ay_{1} ay_{3} \\theta_{1}^{2} \\cos{\\left(\\frac{\\theta_{2}}{2} \\right)}}{\\sqrt{ax_{1}^{2} + ay_{1}^{2} + az_{1}^{2}} \\sqrt{ax_{3}^{2} + ay_{3}^{2} + az_{3}^{2}}} - \\frac{0.0520833333333334 ay_{1} ay_{3} \\theta_{3}^{2} \\cos{\\left(\\frac{\\theta_{2}}{2} \\right)}}{\\sqrt{ax_{1}^{2} + ay_{1}^{2} + az_{1}^{2}} \\sqrt{ax_{3}^{2} + ay_{3}^{2} + az_{3}^{2}}} + \\frac{1.25 ay_{1} ay_{3} \\cos{\\left(\\frac{\\theta_{2}}{2} \\right)}}{\\sqrt{ax_{1}^{2} + ay_{1}^{2} + az_{1}^{2}} \\sqrt{ax_{3}^{2} + ay_{3}^{2} + az_{3}^{2}}} - \\frac{0.0108506944444444 ay_{2} ay_{3} \\theta_{2}^{2} \\theta_{3}^{2} \\cos{\\left(\\frac{\\theta_{1}}{2} \\right)}}{\\sqrt{ax_{2}^{2} + ay_{2}^{2} + az_{2}^{2}} \\sqrt{ax_{3}^{2} + ay_{3}^{2} + az_{3}^{2}}} + \\frac{0.260416666666667 ay_{2} ay_{3} \\theta_{2}^{2} \\cos{\\left(\\frac{\\theta_{1}}{2} \\right)}}{\\sqrt{ax_{2}^{2} + ay_{2}^{2} + az_{2}^{2}} \\sqrt{ax_{3}^{2} + ay_{3}^{2} + az_{3}^{2}}} + \\frac{0.260416666666667 ay_{2} ay_{3} \\theta_{3}^{2} \\cos{\\left(\\frac{\\theta_{1}}{2} \\right)}}{\\sqrt{ax_{2}^{2} + ay_{2}^{2} + az_{2}^{2}} \\sqrt{ax_{3}^{2} + ay_{3}^{2} + az_{3}^{2}}} - \\frac{6.25 ay_{2} ay_{3} \\cos{\\left(\\frac{\\theta_{1}}{2} \\right)}}{\\sqrt{ax_{2}^{2} + ay_{2}^{2} + az_{2}^{2}} \\sqrt{ax_{3}^{2} + ay_{3}^{2} + az_{3}^{2}}} - \\frac{0.0368923611111111 az_{1} az_{2} \\theta_{1}^{2} \\theta_{2}^{2} \\cos{\\left(\\frac{\\theta_{3}}{2} \\right)}}{\\sqrt{ax_{1}^{2} + ay_{1}^{2} + az_{1}^{2}} \\sqrt{ax_{2}^{2} + ay_{2}^{2} + az_{2}^{2}}} + \\frac{0.885416666666667 az_{1} az_{2} \\theta_{1}^{2} \\cos{\\left(\\frac{\\theta_{3}}{2} \\right)}}{\\sqrt{ax_{1}^{2} + ay_{1}^{2} + az_{1}^{2}} \\sqrt{ax_{2}^{2} + ay_{2}^{2} + az_{2}^{2}}} + \\frac{0.885416666666667 az_{1} az_{2} \\theta_{2}^{2} \\cos{\\left(\\frac{\\theta_{3}}{2} \\right)}}{\\sqrt{ax_{1}^{2} + ay_{1}^{2} + az_{1}^{2}} \\sqrt{ax_{2}^{2} + ay_{2}^{2} + az_{2}^{2}}} - \\frac{21.25 az_{1} az_{2} \\cos{\\left(\\frac{\\theta_{3}}{2} \\right)}}{\\sqrt{ax_{1}^{2} + ay_{1}^{2} + az_{1}^{2}} \\sqrt{ax_{2}^{2} + ay_{2}^{2} + az_{2}^{2}}} + \\frac{0.00217013888888889 az_{1} az_{3} \\theta_{1}^{2} \\theta_{3}^{2} \\cos{\\left(\\frac{\\theta_{2}}{2} \\right)}}{\\sqrt{ax_{1}^{2} + ay_{1}^{2} + az_{1}^{2}} \\sqrt{ax_{3}^{2} + ay_{3}^{2} + az_{3}^{2}}} - \\frac{0.0520833333333334 az_{1} az_{3} \\theta_{1}^{2} \\cos{\\left(\\frac{\\theta_{2}}{2} \\right)}}{\\sqrt{ax_{1}^{2} + ay_{1}^{2} + az_{1}^{2}} \\sqrt{ax_{3}^{2} + ay_{3}^{2} + az_{3}^{2}}} - \\frac{0.0520833333333334 az_{1} az_{3} \\theta_{3}^{2} \\cos{\\left(\\frac{\\theta_{2}}{2} \\right)}}{\\sqrt{ax_{1}^{2} + ay_{1}^{2} + az_{1}^{2}} \\sqrt{ax_{3}^{2} + ay_{3}^{2} + az_{3}^{2}}} + \\frac{1.25 az_{1} az_{3} \\cos{\\left(\\frac{\\theta_{2}}{2} \\right)}}{\\sqrt{ax_{1}^{2} + ay_{1}^{2} + az_{1}^{2}} \\sqrt{ax_{3}^{2} + ay_{3}^{2} + az_{3}^{2}}} - \\frac{0.0108506944444444 az_{2} az_{3} \\theta_{2}^{2} \\theta_{3}^{2} \\cos{\\left(\\frac{\\theta_{1}}{2} \\right)}}{\\sqrt{ax_{2}^{2} + ay_{2}^{2} + az_{2}^{2}} \\sqrt{ax_{3}^{2} + ay_{3}^{2} + az_{3}^{2}}} + \\frac{0.260416666666667 az_{2} az_{3} \\theta_{2}^{2} \\cos{\\left(\\frac{\\theta_{1}}{2} \\right)}}{\\sqrt{ax_{2}^{2} + ay_{2}^{2} + az_{2}^{2}} \\sqrt{ax_{3}^{2} + ay_{3}^{2} + az_{3}^{2}}} + \\frac{0.260416666666667 az_{2} az_{3} \\theta_{3}^{2} \\cos{\\left(\\frac{\\theta_{1}}{2} \\right)}}{\\sqrt{ax_{2}^{2} + ay_{2}^{2} + az_{2}^{2}} \\sqrt{ax_{3}^{2} + ay_{3}^{2} + az_{3}^{2}}} - \\frac{6.25 az_{2} az_{3} \\cos{\\left(\\frac{\\theta_{1}}{2} \\right)}}{\\sqrt{ax_{2}^{2} + ay_{2}^{2} + az_{2}^{2}} \\sqrt{ax_{3}^{2} + ay_{3}^{2} + az_{3}^{2}}} + 115.0 \\cos{\\left(\\frac{\\theta_{1}}{2} \\right)} \\cos{\\left(\\frac{\\theta_{2}}{2} \\right)} \\cos{\\left(\\frac{\\theta_{3}}{2} \\right)}\\right) i + \\left(- \\frac{4.52112268518518 \\cdot 10^{-5} ax_{1} ax_{2} az_{3} \\theta_{1}^{2} \\theta_{2}^{2} \\theta_{3}^{2}}{\\sqrt{ax_{1}^{2} + ay_{1}^{2} + az_{1}^{2}} \\sqrt{ax_{2}^{2} + ay_{2}^{2} + az_{2}^{2}} \\sqrt{ax_{3}^{2} + ay_{3}^{2} + az_{3}^{2}}} + \\frac{0.00108506944444444 ax_{1} ax_{2} az_{3} \\theta_{1}^{2} \\theta_{2}^{2}}{\\sqrt{ax_{1}^{2} + ay_{1}^{2} + az_{1}^{2}} \\sqrt{ax_{2}^{2} + ay_{2}^{2} + az_{2}^{2}} \\sqrt{ax_{3}^{2} + ay_{3}^{2} + az_{3}^{2}}} + \\frac{0.00108506944444444 ax_{1} ax_{2} az_{3} \\theta_{1}^{2} \\theta_{3}^{2}}{\\sqrt{ax_{1}^{2} + ay_{1}^{2} + az_{1}^{2}} \\sqrt{ax_{2}^{2} + ay_{2}^{2} + az_{2}^{2}} \\sqrt{ax_{3}^{2} + ay_{3}^{2} + az_{3}^{2}}} - \\frac{0.0260416666666667 ax_{1} ax_{2} az_{3} \\theta_{1}^{2}}{\\sqrt{ax_{1}^{2} + ay_{1}^{2} + az_{1}^{2}} \\sqrt{ax_{2}^{2} + ay_{2}^{2} + az_{2}^{2}} \\sqrt{ax_{3}^{2} + ay_{3}^{2} + az_{3}^{2}}} + \\frac{0.00108506944444444 ax_{1} ax_{2} az_{3} \\theta_{2}^{2} \\theta_{3}^{2}}{\\sqrt{ax_{1}^{2} + ay_{1}^{2} + az_{1}^{2}} \\sqrt{ax_{2}^{2} + ay_{2}^{2} + az_{2}^{2}} \\sqrt{ax_{3}^{2} + ay_{3}^{2} + az_{3}^{2}}} - \\frac{0.0260416666666667 ax_{1} ax_{2} az_{3} \\theta_{2}^{2}}{\\sqrt{ax_{1}^{2} + ay_{1}^{2} + az_{1}^{2}} \\sqrt{ax_{2}^{2} + ay_{2}^{2} + az_{2}^{2}} \\sqrt{ax_{3}^{2} + ay_{3}^{2} + az_{3}^{2}}} - \\frac{0.0260416666666667 ax_{1} ax_{2} az_{3} \\theta_{3}^{2}}{\\sqrt{ax_{1}^{2} + ay_{1}^{2} + az_{1}^{2}} \\sqrt{ax_{2}^{2} + ay_{2}^{2} + az_{2}^{2}} \\sqrt{ax_{3}^{2} + ay_{3}^{2} + az_{3}^{2}}} + \\frac{0.625 ax_{1} ax_{2} az_{3}}{\\sqrt{ax_{1}^{2} + ay_{1}^{2} + az_{1}^{2}} \\sqrt{ax_{2}^{2} + ay_{2}^{2} + az_{2}^{2}} \\sqrt{ax_{3}^{2} + ay_{3}^{2} + az_{3}^{2}}} - \\frac{0.000768590856481481 ax_{1} ax_{3} az_{2} \\theta_{1}^{2} \\theta_{2}^{2} \\theta_{3}^{2}}{\\sqrt{ax_{1}^{2} + ay_{1}^{2} + az_{1}^{2}} \\sqrt{ax_{2}^{2} + ay_{2}^{2} + az_{2}^{2}} \\sqrt{ax_{3}^{2} + ay_{3}^{2} + az_{3}^{2}}} + \\frac{0.0184461805555556 ax_{1} ax_{3} az_{2} \\theta_{1}^{2} \\theta_{2}^{2}}{\\sqrt{ax_{1}^{2} + ay_{1}^{2} + az_{1}^{2}} \\sqrt{ax_{2}^{2} + ay_{2}^{2} + az_{2}^{2}} \\sqrt{ax_{3}^{2} + ay_{3}^{2} + az_{3}^{2}}} + \\frac{0.0184461805555556 ax_{1} ax_{3} az_{2} \\theta_{1}^{2} \\theta_{3}^{2}}{\\sqrt{ax_{1}^{2} + ay_{1}^{2} + az_{1}^{2}} \\sqrt{ax_{2}^{2} + ay_{2}^{2} + az_{2}^{2}} \\sqrt{ax_{3}^{2} + ay_{3}^{2} + az_{3}^{2}}} - \\frac{0.442708333333333 ax_{1} ax_{3} az_{2} \\theta_{1}^{2}}{\\sqrt{ax_{1}^{2} + ay_{1}^{2} + az_{1}^{2}} \\sqrt{ax_{2}^{2} + ay_{2}^{2} + az_{2}^{2}} \\sqrt{ax_{3}^{2} + ay_{3}^{2} + az_{3}^{2}}} + \\frac{0.0184461805555556 ax_{1} ax_{3} az_{2} \\theta_{2}^{2} \\theta_{3}^{2}}{\\sqrt{ax_{1}^{2} + ay_{1}^{2} + az_{1}^{2}} \\sqrt{ax_{2}^{2} + ay_{2}^{2} + az_{2}^{2}} \\sqrt{ax_{3}^{2} + ay_{3}^{2} + az_{3}^{2}}} - \\frac{0.442708333333333 ax_{1} ax_{3} az_{2} \\theta_{2}^{2}}{\\sqrt{ax_{1}^{2} + ay_{1}^{2} + az_{1}^{2}} \\sqrt{ax_{2}^{2} + ay_{2}^{2} + az_{2}^{2}} \\sqrt{ax_{3}^{2} + ay_{3}^{2} + az_{3}^{2}}} - \\frac{0.442708333333333 ax_{1} ax_{3} az_{2} \\theta_{3}^{2}}{\\sqrt{ax_{1}^{2} + ay_{1}^{2} + az_{1}^{2}} \\sqrt{ax_{2}^{2} + ay_{2}^{2} + az_{2}^{2}} \\sqrt{ax_{3}^{2} + ay_{3}^{2} + az_{3}^{2}}} + \\frac{10.625 ax_{1} ax_{3} az_{2}}{\\sqrt{ax_{1}^{2} + ay_{1}^{2} + az_{1}^{2}} \\sqrt{ax_{2}^{2} + ay_{2}^{2} + az_{2}^{2}} \\sqrt{ax_{3}^{2} + ay_{3}^{2} + az_{3}^{2}}} + \\frac{0.0368923611111111 ax_{1} ay_{2} \\theta_{1}^{2} \\theta_{2}^{2} \\cos{\\left(\\frac{\\theta_{3}}{2} \\right)}}{\\sqrt{ax_{1}^{2} + ay_{1}^{2} + az_{1}^{2}} \\sqrt{ax_{2}^{2} + ay_{2}^{2} + az_{2}^{2}}} - \\frac{0.885416666666667 ax_{1} ay_{2} \\theta_{1}^{2} \\cos{\\left(\\frac{\\theta_{3}}{2} \\right)}}{\\sqrt{ax_{1}^{2} + ay_{1}^{2} + az_{1}^{2}} \\sqrt{ax_{2}^{2} + ay_{2}^{2} + az_{2}^{2}}} - \\frac{0.885416666666667 ax_{1} ay_{2} \\theta_{2}^{2} \\cos{\\left(\\frac{\\theta_{3}}{2} \\right)}}{\\sqrt{ax_{1}^{2} + ay_{1}^{2} + az_{1}^{2}} \\sqrt{ax_{2}^{2} + ay_{2}^{2} + az_{2}^{2}}} + \\frac{21.25 ax_{1} ay_{2} \\cos{\\left(\\frac{\\theta_{3}}{2} \\right)}}{\\sqrt{ax_{1}^{2} + ay_{1}^{2} + az_{1}^{2}} \\sqrt{ax_{2}^{2} + ay_{2}^{2} + az_{2}^{2}}} - \\frac{0.00217013888888889 ax_{1} ay_{3} \\theta_{1}^{2} \\theta_{3}^{2} \\cos{\\left(\\frac{\\theta_{2}}{2} \\right)}}{\\sqrt{ax_{1}^{2} + ay_{1}^{2} + az_{1}^{2}} \\sqrt{ax_{3}^{2} + ay_{3}^{2} + az_{3}^{2}}} + \\frac{0.0520833333333334 ax_{1} ay_{3} \\theta_{1}^{2} \\cos{\\left(\\frac{\\theta_{2}}{2} \\right)}}{\\sqrt{ax_{1}^{2} + ay_{1}^{2} + az_{1}^{2}} \\sqrt{ax_{3}^{2} + ay_{3}^{2} + az_{3}^{2}}} + \\frac{0.0520833333333334 ax_{1} ay_{3} \\theta_{3}^{2} \\cos{\\left(\\frac{\\theta_{2}}{2} \\right)}}{\\sqrt{ax_{1}^{2} + ay_{1}^{2} + az_{1}^{2}} \\sqrt{ax_{3}^{2} + ay_{3}^{2} + az_{3}^{2}}} - \\frac{1.25 ax_{1} ay_{3} \\cos{\\left(\\frac{\\theta_{2}}{2} \\right)}}{\\sqrt{ax_{1}^{2} + ay_{1}^{2} + az_{1}^{2}} \\sqrt{ax_{3}^{2} + ay_{3}^{2} + az_{3}^{2}}} + \\frac{0.00103985821759259 ax_{2} ax_{3} az_{1} \\theta_{1}^{2} \\theta_{2}^{2} \\theta_{3}^{2}}{\\sqrt{ax_{1}^{2} + ay_{1}^{2} + az_{1}^{2}} \\sqrt{ax_{2}^{2} + ay_{2}^{2} + az_{2}^{2}} \\sqrt{ax_{3}^{2} + ay_{3}^{2} + az_{3}^{2}}} - \\frac{0.0249565972222222 ax_{2} ax_{3} az_{1} \\theta_{1}^{2} \\theta_{2}^{2}}{\\sqrt{ax_{1}^{2} + ay_{1}^{2} + az_{1}^{2}} \\sqrt{ax_{2}^{2} + ay_{2}^{2} + az_{2}^{2}} \\sqrt{ax_{3}^{2} + ay_{3}^{2} + az_{3}^{2}}} - \\frac{0.0249565972222222 ax_{2} ax_{3} az_{1} \\theta_{1}^{2} \\theta_{3}^{2}}{\\sqrt{ax_{1}^{2} + ay_{1}^{2} + az_{1}^{2}} \\sqrt{ax_{2}^{2} + ay_{2}^{2} + az_{2}^{2}} \\sqrt{ax_{3}^{2} + ay_{3}^{2} + az_{3}^{2}}} + \\frac{0.598958333333333 ax_{2} ax_{3} az_{1} \\theta_{1}^{2}}{\\sqrt{ax_{1}^{2} + ay_{1}^{2} + az_{1}^{2}} \\sqrt{ax_{2}^{2} + ay_{2}^{2} + az_{2}^{2}} \\sqrt{ax_{3}^{2} + ay_{3}^{2} + az_{3}^{2}}} - \\frac{0.0249565972222222 ax_{2} ax_{3} az_{1} \\theta_{2}^{2} \\theta_{3}^{2}}{\\sqrt{ax_{1}^{2} + ay_{1}^{2} + az_{1}^{2}} \\sqrt{ax_{2}^{2} + ay_{2}^{2} + az_{2}^{2}} \\sqrt{ax_{3}^{2} + ay_{3}^{2} + az_{3}^{2}}} + \\frac{0.598958333333333 ax_{2} ax_{3} az_{1} \\theta_{2}^{2}}{\\sqrt{ax_{1}^{2} + ay_{1}^{2} + az_{1}^{2}} \\sqrt{ax_{2}^{2} + ay_{2}^{2} + az_{2}^{2}} \\sqrt{ax_{3}^{2} + ay_{3}^{2} + az_{3}^{2}}} + \\frac{0.598958333333333 ax_{2} ax_{3} az_{1} \\theta_{3}^{2}}{\\sqrt{ax_{1}^{2} + ay_{1}^{2} + az_{1}^{2}} \\sqrt{ax_{2}^{2} + ay_{2}^{2} + az_{2}^{2}} \\sqrt{ax_{3}^{2} + ay_{3}^{2} + az_{3}^{2}}} - \\frac{14.375 ax_{2} ax_{3} az_{1}}{\\sqrt{ax_{1}^{2} + ay_{1}^{2} + az_{1}^{2}} \\sqrt{ax_{2}^{2} + ay_{2}^{2} + az_{2}^{2}} \\sqrt{ax_{3}^{2} + ay_{3}^{2} + az_{3}^{2}}} - \\frac{0.0499131944444444 ax_{2} ay_{1} \\theta_{1}^{2} \\theta_{2}^{2} \\cos{\\left(\\frac{\\theta_{3}}{2} \\right)}}{\\sqrt{ax_{1}^{2} + ay_{1}^{2} + az_{1}^{2}} \\sqrt{ax_{2}^{2} + ay_{2}^{2} + az_{2}^{2}}} + \\frac{1.19791666666667 ax_{2} ay_{1} \\theta_{1}^{2} \\cos{\\left(\\frac{\\theta_{3}}{2} \\right)}}{\\sqrt{ax_{1}^{2} + ay_{1}^{2} + az_{1}^{2}} \\sqrt{ax_{2}^{2} + ay_{2}^{2} + az_{2}^{2}}} + \\frac{1.19791666666667 ax_{2} ay_{1} \\theta_{2}^{2} \\cos{\\left(\\frac{\\theta_{3}}{2} \\right)}}{\\sqrt{ax_{1}^{2} + ay_{1}^{2} + az_{1}^{2}} \\sqrt{ax_{2}^{2} + ay_{2}^{2} + az_{2}^{2}}} - \\frac{28.75 ax_{2} ay_{1} \\cos{\\left(\\frac{\\theta_{3}}{2} \\right)}}{\\sqrt{ax_{1}^{2} + ay_{1}^{2} + az_{1}^{2}} \\sqrt{ax_{2}^{2} + ay_{2}^{2} + az_{2}^{2}}} - \\frac{0.00217013888888889 ax_{2} ay_{3} \\theta_{2}^{2} \\theta_{3}^{2} \\cos{\\left(\\frac{\\theta_{1}}{2} \\right)}}{\\sqrt{ax_{2}^{2} + ay_{2}^{2} + az_{2}^{2}} \\sqrt{ax_{3}^{2} + ay_{3}^{2} + az_{3}^{2}}} + \\frac{0.0520833333333334 ax_{2} ay_{3} \\theta_{2}^{2} \\cos{\\left(\\frac{\\theta_{1}}{2} \\right)}}{\\sqrt{ax_{2}^{2} + ay_{2}^{2} + az_{2}^{2}} \\sqrt{ax_{3}^{2} + ay_{3}^{2} + az_{3}^{2}}} + \\frac{0.0520833333333334 ax_{2} ay_{3} \\theta_{3}^{2} \\cos{\\left(\\frac{\\theta_{1}}{2} \\right)}}{\\sqrt{ax_{2}^{2} + ay_{2}^{2} + az_{2}^{2}} \\sqrt{ax_{3}^{2} + ay_{3}^{2} + az_{3}^{2}}} - \\frac{1.25 ax_{2} ay_{3} \\cos{\\left(\\frac{\\theta_{1}}{2} \\right)}}{\\sqrt{ax_{2}^{2} + ay_{2}^{2} + az_{2}^{2}} \\sqrt{ax_{3}^{2} + ay_{3}^{2} + az_{3}^{2}}} - \\frac{0.0499131944444444 ax_{3} ay_{1} \\theta_{1}^{2} \\theta_{3}^{2} \\cos{\\left(\\frac{\\theta_{2}}{2} \\right)}}{\\sqrt{ax_{1}^{2} + ay_{1}^{2} + az_{1}^{2}} \\sqrt{ax_{3}^{2} + ay_{3}^{2} + az_{3}^{2}}} + \\frac{1.19791666666667 ax_{3} ay_{1} \\theta_{1}^{2} \\cos{\\left(\\frac{\\theta_{2}}{2} \\right)}}{\\sqrt{ax_{1}^{2} + ay_{1}^{2} + az_{1}^{2}} \\sqrt{ax_{3}^{2} + ay_{3}^{2} + az_{3}^{2}}} + \\frac{1.19791666666667 ax_{3} ay_{1} \\theta_{3}^{2} \\cos{\\left(\\frac{\\theta_{2}}{2} \\right)}}{\\sqrt{ax_{1}^{2} + ay_{1}^{2} + az_{1}^{2}} \\sqrt{ax_{3}^{2} + ay_{3}^{2} + az_{3}^{2}}} - \\frac{28.75 ax_{3} ay_{1} \\cos{\\left(\\frac{\\theta_{2}}{2} \\right)}}{\\sqrt{ax_{1}^{2} + ay_{1}^{2} + az_{1}^{2}} \\sqrt{ax_{3}^{2} + ay_{3}^{2} + az_{3}^{2}}} - \\frac{0.0368923611111111 ax_{3} ay_{2} \\theta_{2}^{2} \\theta_{3}^{2} \\cos{\\left(\\frac{\\theta_{1}}{2} \\right)}}{\\sqrt{ax_{2}^{2} + ay_{2}^{2} + az_{2}^{2}} \\sqrt{ax_{3}^{2} + ay_{3}^{2} + az_{3}^{2}}} + \\frac{0.885416666666667 ax_{3} ay_{2} \\theta_{2}^{2} \\cos{\\left(\\frac{\\theta_{1}}{2} \\right)}}{\\sqrt{ax_{2}^{2} + ay_{2}^{2} + az_{2}^{2}} \\sqrt{ax_{3}^{2} + ay_{3}^{2} + az_{3}^{2}}} + \\frac{0.885416666666667 ax_{3} ay_{2} \\theta_{3}^{2} \\cos{\\left(\\frac{\\theta_{1}}{2} \\right)}}{\\sqrt{ax_{2}^{2} + ay_{2}^{2} + az_{2}^{2}} \\sqrt{ax_{3}^{2} + ay_{3}^{2} + az_{3}^{2}}} - \\frac{21.25 ax_{3} ay_{2} \\cos{\\left(\\frac{\\theta_{1}}{2} \\right)}}{\\sqrt{ax_{2}^{2} + ay_{2}^{2} + az_{2}^{2}} \\sqrt{ax_{3}^{2} + ay_{3}^{2} + az_{3}^{2}}} + \\frac{0.000226056134259259 ay_{1} ay_{2} az_{3} \\theta_{1}^{2} \\theta_{2}^{2} \\theta_{3}^{2}}{\\sqrt{ax_{1}^{2} + ay_{1}^{2} + az_{1}^{2}} \\sqrt{ax_{2}^{2} + ay_{2}^{2} + az_{2}^{2}} \\sqrt{ax_{3}^{2} + ay_{3}^{2} + az_{3}^{2}}} - \\frac{0.00542534722222222 ay_{1} ay_{2} az_{3} \\theta_{1}^{2} \\theta_{2}^{2}}{\\sqrt{ax_{1}^{2} + ay_{1}^{2} + az_{1}^{2}} \\sqrt{ax_{2}^{2} + ay_{2}^{2} + az_{2}^{2}} \\sqrt{ax_{3}^{2} + ay_{3}^{2} + az_{3}^{2}}} - \\frac{0.00542534722222222 ay_{1} ay_{2} az_{3} \\theta_{1}^{2} \\theta_{3}^{2}}{\\sqrt{ax_{1}^{2} + ay_{1}^{2} + az_{1}^{2}} \\sqrt{ax_{2}^{2} + ay_{2}^{2} + az_{2}^{2}} \\sqrt{ax_{3}^{2} + ay_{3}^{2} + az_{3}^{2}}} + \\frac{0.130208333333333 ay_{1} ay_{2} az_{3} \\theta_{1}^{2}}{\\sqrt{ax_{1}^{2} + ay_{1}^{2} + az_{1}^{2}} \\sqrt{ax_{2}^{2} + ay_{2}^{2} + az_{2}^{2}} \\sqrt{ax_{3}^{2} + ay_{3}^{2} + az_{3}^{2}}} - \\frac{0.00542534722222222 ay_{1} ay_{2} az_{3} \\theta_{2}^{2} \\theta_{3}^{2}}{\\sqrt{ax_{1}^{2} + ay_{1}^{2} + az_{1}^{2}} \\sqrt{ax_{2}^{2} + ay_{2}^{2} + az_{2}^{2}} \\sqrt{ax_{3}^{2} + ay_{3}^{2} + az_{3}^{2}}} + \\frac{0.130208333333333 ay_{1} ay_{2} az_{3} \\theta_{2}^{2}}{\\sqrt{ax_{1}^{2} + ay_{1}^{2} + az_{1}^{2}} \\sqrt{ax_{2}^{2} + ay_{2}^{2} + az_{2}^{2}} \\sqrt{ax_{3}^{2} + ay_{3}^{2} + az_{3}^{2}}} + \\frac{0.130208333333333 ay_{1} ay_{2} az_{3} \\theta_{3}^{2}}{\\sqrt{ax_{1}^{2} + ay_{1}^{2} + az_{1}^{2}} \\sqrt{ax_{2}^{2} + ay_{2}^{2} + az_{2}^{2}} \\sqrt{ax_{3}^{2} + ay_{3}^{2} + az_{3}^{2}}} - \\frac{3.125 ay_{1} ay_{2} az_{3}}{\\sqrt{ax_{1}^{2} + ay_{1}^{2} + az_{1}^{2}} \\sqrt{ax_{2}^{2} + ay_{2}^{2} + az_{2}^{2}} \\sqrt{ax_{3}^{2} + ay_{3}^{2} + az_{3}^{2}}} - \\frac{0.000226056134259259 ay_{1} ay_{3} az_{2} \\theta_{1}^{2} \\theta_{2}^{2} \\theta_{3}^{2}}{\\sqrt{ax_{1}^{2} + ay_{1}^{2} + az_{1}^{2}} \\sqrt{ax_{2}^{2} + ay_{2}^{2} + az_{2}^{2}} \\sqrt{ax_{3}^{2} + ay_{3}^{2} + az_{3}^{2}}} + \\frac{0.00542534722222222 ay_{1} ay_{3} az_{2} \\theta_{1}^{2} \\theta_{2}^{2}}{\\sqrt{ax_{1}^{2} + ay_{1}^{2} + az_{1}^{2}} \\sqrt{ax_{2}^{2} + ay_{2}^{2} + az_{2}^{2}} \\sqrt{ax_{3}^{2} + ay_{3}^{2} + az_{3}^{2}}} + \\frac{0.00542534722222222 ay_{1} ay_{3} az_{2} \\theta_{1}^{2} \\theta_{3}^{2}}{\\sqrt{ax_{1}^{2} + ay_{1}^{2} + az_{1}^{2}} \\sqrt{ax_{2}^{2} + ay_{2}^{2} + az_{2}^{2}} \\sqrt{ax_{3}^{2} + ay_{3}^{2} + az_{3}^{2}}} - \\frac{0.130208333333333 ay_{1} ay_{3} az_{2} \\theta_{1}^{2}}{\\sqrt{ax_{1}^{2} + ay_{1}^{2} + az_{1}^{2}} \\sqrt{ax_{2}^{2} + ay_{2}^{2} + az_{2}^{2}} \\sqrt{ax_{3}^{2} + ay_{3}^{2} + az_{3}^{2}}} + \\frac{0.00542534722222222 ay_{1} ay_{3} az_{2} \\theta_{2}^{2} \\theta_{3}^{2}}{\\sqrt{ax_{1}^{2} + ay_{1}^{2} + az_{1}^{2}} \\sqrt{ax_{2}^{2} + ay_{2}^{2} + az_{2}^{2}} \\sqrt{ax_{3}^{2} + ay_{3}^{2} + az_{3}^{2}}} - \\frac{0.130208333333333 ay_{1} ay_{3} az_{2} \\theta_{2}^{2}}{\\sqrt{ax_{1}^{2} + ay_{1}^{2} + az_{1}^{2}} \\sqrt{ax_{2}^{2} + ay_{2}^{2} + az_{2}^{2}} \\sqrt{ax_{3}^{2} + ay_{3}^{2} + az_{3}^{2}}} - \\frac{0.130208333333333 ay_{1} ay_{3} az_{2} \\theta_{3}^{2}}{\\sqrt{ax_{1}^{2} + ay_{1}^{2} + az_{1}^{2}} \\sqrt{ax_{2}^{2} + ay_{2}^{2} + az_{2}^{2}} \\sqrt{ax_{3}^{2} + ay_{3}^{2} + az_{3}^{2}}} + \\frac{3.125 ay_{1} ay_{3} az_{2}}{\\sqrt{ax_{1}^{2} + ay_{1}^{2} + az_{1}^{2}} \\sqrt{ax_{2}^{2} + ay_{2}^{2} + az_{2}^{2}} \\sqrt{ax_{3}^{2} + ay_{3}^{2} + az_{3}^{2}}} + \\frac{0.000226056134259259 ay_{2} ay_{3} az_{1} \\theta_{1}^{2} \\theta_{2}^{2} \\theta_{3}^{2}}{\\sqrt{ax_{1}^{2} + ay_{1}^{2} + az_{1}^{2}} \\sqrt{ax_{2}^{2} + ay_{2}^{2} + az_{2}^{2}} \\sqrt{ax_{3}^{2} + ay_{3}^{2} + az_{3}^{2}}} - \\frac{0.00542534722222222 ay_{2} ay_{3} az_{1} \\theta_{1}^{2} \\theta_{2}^{2}}{\\sqrt{ax_{1}^{2} + ay_{1}^{2} + az_{1}^{2}} \\sqrt{ax_{2}^{2} + ay_{2}^{2} + az_{2}^{2}} \\sqrt{ax_{3}^{2} + ay_{3}^{2} + az_{3}^{2}}} - \\frac{0.00542534722222222 ay_{2} ay_{3} az_{1} \\theta_{1}^{2} \\theta_{3}^{2}}{\\sqrt{ax_{1}^{2} + ay_{1}^{2} + az_{1}^{2}} \\sqrt{ax_{2}^{2} + ay_{2}^{2} + az_{2}^{2}} \\sqrt{ax_{3}^{2} + ay_{3}^{2} + az_{3}^{2}}} + \\frac{0.130208333333333 ay_{2} ay_{3} az_{1} \\theta_{1}^{2}}{\\sqrt{ax_{1}^{2} + ay_{1}^{2} + az_{1}^{2}} \\sqrt{ax_{2}^{2} + ay_{2}^{2} + az_{2}^{2}} \\sqrt{ax_{3}^{2} + ay_{3}^{2} + az_{3}^{2}}} - \\frac{0.00542534722222222 ay_{2} ay_{3} az_{1} \\theta_{2}^{2} \\theta_{3}^{2}}{\\sqrt{ax_{1}^{2} + ay_{1}^{2} + az_{1}^{2}} \\sqrt{ax_{2}^{2} + ay_{2}^{2} + az_{2}^{2}} \\sqrt{ax_{3}^{2} + ay_{3}^{2} + az_{3}^{2}}} + \\frac{0.130208333333333 ay_{2} ay_{3} az_{1} \\theta_{2}^{2}}{\\sqrt{ax_{1}^{2} + ay_{1}^{2} + az_{1}^{2}} \\sqrt{ax_{2}^{2} + ay_{2}^{2} + az_{2}^{2}} \\sqrt{ax_{3}^{2} + ay_{3}^{2} + az_{3}^{2}}} + \\frac{0.130208333333333 ay_{2} ay_{3} az_{1} \\theta_{3}^{2}}{\\sqrt{ax_{1}^{2} + ay_{1}^{2} + az_{1}^{2}} \\sqrt{ax_{2}^{2} + ay_{2}^{2} + az_{2}^{2}} \\sqrt{ax_{3}^{2} + ay_{3}^{2} + az_{3}^{2}}} - \\frac{3.125 ay_{2} ay_{3} az_{1}}{\\sqrt{ax_{1}^{2} + ay_{1}^{2} + az_{1}^{2}} \\sqrt{ax_{2}^{2} + ay_{2}^{2} + az_{2}^{2}} \\sqrt{ax_{3}^{2} + ay_{3}^{2} + az_{3}^{2}}} + \\frac{0.000226056134259259 az_{1} az_{2} az_{3} \\theta_{1}^{2} \\theta_{2}^{2} \\theta_{3}^{2}}{\\sqrt{ax_{1}^{2} + ay_{1}^{2} + az_{1}^{2}} \\sqrt{ax_{2}^{2} + ay_{2}^{2} + az_{2}^{2}} \\sqrt{ax_{3}^{2} + ay_{3}^{2} + az_{3}^{2}}} - \\frac{0.00542534722222222 az_{1} az_{2} az_{3} \\theta_{1}^{2} \\theta_{2}^{2}}{\\sqrt{ax_{1}^{2} + ay_{1}^{2} + az_{1}^{2}} \\sqrt{ax_{2}^{2} + ay_{2}^{2} + az_{2}^{2}} \\sqrt{ax_{3}^{2} + ay_{3}^{2} + az_{3}^{2}}} - \\frac{0.00542534722222222 az_{1} az_{2} az_{3} \\theta_{1}^{2} \\theta_{3}^{2}}{\\sqrt{ax_{1}^{2} + ay_{1}^{2} + az_{1}^{2}} \\sqrt{ax_{2}^{2} + ay_{2}^{2} + az_{2}^{2}} \\sqrt{ax_{3}^{2} + ay_{3}^{2} + az_{3}^{2}}} + \\frac{0.130208333333333 az_{1} az_{2} az_{3} \\theta_{1}^{2}}{\\sqrt{ax_{1}^{2} + ay_{1}^{2} + az_{1}^{2}} \\sqrt{ax_{2}^{2} + ay_{2}^{2} + az_{2}^{2}} \\sqrt{ax_{3}^{2} + ay_{3}^{2} + az_{3}^{2}}} - \\frac{0.00542534722222222 az_{1} az_{2} az_{3} \\theta_{2}^{2} \\theta_{3}^{2}}{\\sqrt{ax_{1}^{2} + ay_{1}^{2} + az_{1}^{2}} \\sqrt{ax_{2}^{2} + ay_{2}^{2} + az_{2}^{2}} \\sqrt{ax_{3}^{2} + ay_{3}^{2} + az_{3}^{2}}} + \\frac{0.130208333333333 az_{1} az_{2} az_{3} \\theta_{2}^{2}}{\\sqrt{ax_{1}^{2} + ay_{1}^{2} + az_{1}^{2}} \\sqrt{ax_{2}^{2} + ay_{2}^{2} + az_{2}^{2}} \\sqrt{ax_{3}^{2} + ay_{3}^{2} + az_{3}^{2}}} + \\frac{0.130208333333333 az_{1} az_{2} az_{3} \\theta_{3}^{2}}{\\sqrt{ax_{1}^{2} + ay_{1}^{2} + az_{1}^{2}} \\sqrt{ax_{2}^{2} + ay_{2}^{2} + az_{2}^{2}} \\sqrt{ax_{3}^{2} + ay_{3}^{2} + az_{3}^{2}}} - \\frac{3.125 az_{1} az_{2} az_{3}}{\\sqrt{ax_{1}^{2} + ay_{1}^{2} + az_{1}^{2}} \\sqrt{ax_{2}^{2} + ay_{2}^{2} + az_{2}^{2}} \\sqrt{ax_{3}^{2} + ay_{3}^{2} + az_{3}^{2}}} - \\frac{2.39583333333333 az_{1} \\theta_{1}^{2} \\cos{\\left(\\frac{\\theta_{2}}{2} \\right)} \\cos{\\left(\\frac{\\theta_{3}}{2} \\right)}}{\\sqrt{ax_{1}^{2} + ay_{1}^{2} + az_{1}^{2}}} + \\frac{57.5 az_{1} \\cos{\\left(\\frac{\\theta_{2}}{2} \\right)} \\cos{\\left(\\frac{\\theta_{3}}{2} \\right)}}{\\sqrt{ax_{1}^{2} + ay_{1}^{2} + az_{1}^{2}}} - \\frac{1.77083333333333 az_{2} \\theta_{2}^{2} \\cos{\\left(\\frac{\\theta_{1}}{2} \\right)} \\cos{\\left(\\frac{\\theta_{3}}{2} \\right)}}{\\sqrt{ax_{2}^{2} + ay_{2}^{2} + az_{2}^{2}}} + \\frac{42.5 az_{2} \\cos{\\left(\\frac{\\theta_{1}}{2} \\right)} \\cos{\\left(\\frac{\\theta_{3}}{2} \\right)}}{\\sqrt{ax_{2}^{2} + ay_{2}^{2} + az_{2}^{2}}} + \\frac{0.104166666666667 az_{3} \\theta_{3}^{2} \\cos{\\left(\\frac{\\theta_{1}}{2} \\right)} \\cos{\\left(\\frac{\\theta_{2}}{2} \\right)}}{\\sqrt{ax_{3}^{2} + ay_{3}^{2} + az_{3}^{2}}} - \\frac{2.5 az_{3} \\cos{\\left(\\frac{\\theta_{1}}{2} \\right)} \\cos{\\left(\\frac{\\theta_{2}}{2} \\right)}}{\\sqrt{ax_{3}^{2} + ay_{3}^{2} + az_{3}^{2}}}\\right) j + \\left(\\frac{4.52112268518518 \\cdot 10^{-5} ax_{1} ax_{2} ay_{3} \\theta_{1}^{2} \\theta_{2}^{2} \\theta_{3}^{2}}{\\sqrt{ax_{1}^{2} + ay_{1}^{2} + az_{1}^{2}} \\sqrt{ax_{2}^{2} + ay_{2}^{2} + az_{2}^{2}} \\sqrt{ax_{3}^{2} + ay_{3}^{2} + az_{3}^{2}}} - \\frac{0.00108506944444444 ax_{1} ax_{2} ay_{3} \\theta_{1}^{2} \\theta_{2}^{2}}{\\sqrt{ax_{1}^{2} + ay_{1}^{2} + az_{1}^{2}} \\sqrt{ax_{2}^{2} + ay_{2}^{2} + az_{2}^{2}} \\sqrt{ax_{3}^{2} + ay_{3}^{2} + az_{3}^{2}}} - \\frac{0.00108506944444444 ax_{1} ax_{2} ay_{3} \\theta_{1}^{2} \\theta_{3}^{2}}{\\sqrt{ax_{1}^{2} + ay_{1}^{2} + az_{1}^{2}} \\sqrt{ax_{2}^{2} + ay_{2}^{2} + az_{2}^{2}} \\sqrt{ax_{3}^{2} + ay_{3}^{2} + az_{3}^{2}}} + \\frac{0.0260416666666667 ax_{1} ax_{2} ay_{3} \\theta_{1}^{2}}{\\sqrt{ax_{1}^{2} + ay_{1}^{2} + az_{1}^{2}} \\sqrt{ax_{2}^{2} + ay_{2}^{2} + az_{2}^{2}} \\sqrt{ax_{3}^{2} + ay_{3}^{2} + az_{3}^{2}}} - \\frac{0.00108506944444444 ax_{1} ax_{2} ay_{3} \\theta_{2}^{2} \\theta_{3}^{2}}{\\sqrt{ax_{1}^{2} + ay_{1}^{2} + az_{1}^{2}} \\sqrt{ax_{2}^{2} + ay_{2}^{2} + az_{2}^{2}} \\sqrt{ax_{3}^{2} + ay_{3}^{2} + az_{3}^{2}}} + \\frac{0.0260416666666667 ax_{1} ax_{2} ay_{3} \\theta_{2}^{2}}{\\sqrt{ax_{1}^{2} + ay_{1}^{2} + az_{1}^{2}} \\sqrt{ax_{2}^{2} + ay_{2}^{2} + az_{2}^{2}} \\sqrt{ax_{3}^{2} + ay_{3}^{2} + az_{3}^{2}}} + \\frac{0.0260416666666667 ax_{1} ax_{2} ay_{3} \\theta_{3}^{2}}{\\sqrt{ax_{1}^{2} + ay_{1}^{2} + az_{1}^{2}} \\sqrt{ax_{2}^{2} + ay_{2}^{2} + az_{2}^{2}} \\sqrt{ax_{3}^{2} + ay_{3}^{2} + az_{3}^{2}}} - \\frac{0.625 ax_{1} ax_{2} ay_{3}}{\\sqrt{ax_{1}^{2} + ay_{1}^{2} + az_{1}^{2}} \\sqrt{ax_{2}^{2} + ay_{2}^{2} + az_{2}^{2}} \\sqrt{ax_{3}^{2} + ay_{3}^{2} + az_{3}^{2}}} + \\frac{0.000768590856481481 ax_{1} ax_{3} ay_{2} \\theta_{1}^{2} \\theta_{2}^{2} \\theta_{3}^{2}}{\\sqrt{ax_{1}^{2} + ay_{1}^{2} + az_{1}^{2}} \\sqrt{ax_{2}^{2} + ay_{2}^{2} + az_{2}^{2}} \\sqrt{ax_{3}^{2} + ay_{3}^{2} + az_{3}^{2}}} - \\frac{0.0184461805555556 ax_{1} ax_{3} ay_{2} \\theta_{1}^{2} \\theta_{2}^{2}}{\\sqrt{ax_{1}^{2} + ay_{1}^{2} + az_{1}^{2}} \\sqrt{ax_{2}^{2} + ay_{2}^{2} + az_{2}^{2}} \\sqrt{ax_{3}^{2} + ay_{3}^{2} + az_{3}^{2}}} - \\frac{0.0184461805555556 ax_{1} ax_{3} ay_{2} \\theta_{1}^{2} \\theta_{3}^{2}}{\\sqrt{ax_{1}^{2} + ay_{1}^{2} + az_{1}^{2}} \\sqrt{ax_{2}^{2} + ay_{2}^{2} + az_{2}^{2}} \\sqrt{ax_{3}^{2} + ay_{3}^{2} + az_{3}^{2}}} + \\frac{0.442708333333333 ax_{1} ax_{3} ay_{2} \\theta_{1}^{2}}{\\sqrt{ax_{1}^{2} + ay_{1}^{2} + az_{1}^{2}} \\sqrt{ax_{2}^{2} + ay_{2}^{2} + az_{2}^{2}} \\sqrt{ax_{3}^{2} + ay_{3}^{2} + az_{3}^{2}}} - \\frac{0.0184461805555556 ax_{1} ax_{3} ay_{2} \\theta_{2}^{2} \\theta_{3}^{2}}{\\sqrt{ax_{1}^{2} + ay_{1}^{2} + az_{1}^{2}} \\sqrt{ax_{2}^{2} + ay_{2}^{2} + az_{2}^{2}} \\sqrt{ax_{3}^{2} + ay_{3}^{2} + az_{3}^{2}}} + \\frac{0.442708333333333 ax_{1} ax_{3} ay_{2} \\theta_{2}^{2}}{\\sqrt{ax_{1}^{2} + ay_{1}^{2} + az_{1}^{2}} \\sqrt{ax_{2}^{2} + ay_{2}^{2} + az_{2}^{2}} \\sqrt{ax_{3}^{2} + ay_{3}^{2} + az_{3}^{2}}} + \\frac{0.442708333333333 ax_{1} ax_{3} ay_{2} \\theta_{3}^{2}}{\\sqrt{ax_{1}^{2} + ay_{1}^{2} + az_{1}^{2}} \\sqrt{ax_{2}^{2} + ay_{2}^{2} + az_{2}^{2}} \\sqrt{ax_{3}^{2} + ay_{3}^{2} + az_{3}^{2}}} - \\frac{10.625 ax_{1} ax_{3} ay_{2}}{\\sqrt{ax_{1}^{2} + ay_{1}^{2} + az_{1}^{2}} \\sqrt{ax_{2}^{2} + ay_{2}^{2} + az_{2}^{2}} \\sqrt{ax_{3}^{2} + ay_{3}^{2} + az_{3}^{2}}} + \\frac{0.0368923611111111 ax_{1} az_{2} \\theta_{1}^{2} \\theta_{2}^{2} \\cos{\\left(\\frac{\\theta_{3}}{2} \\right)}}{\\sqrt{ax_{1}^{2} + ay_{1}^{2} + az_{1}^{2}} \\sqrt{ax_{2}^{2} + ay_{2}^{2} + az_{2}^{2}}} - \\frac{0.885416666666667 ax_{1} az_{2} \\theta_{1}^{2} \\cos{\\left(\\frac{\\theta_{3}}{2} \\right)}}{\\sqrt{ax_{1}^{2} + ay_{1}^{2} + az_{1}^{2}} \\sqrt{ax_{2}^{2} + ay_{2}^{2} + az_{2}^{2}}} - \\frac{0.885416666666667 ax_{1} az_{2} \\theta_{2}^{2} \\cos{\\left(\\frac{\\theta_{3}}{2} \\right)}}{\\sqrt{ax_{1}^{2} + ay_{1}^{2} + az_{1}^{2}} \\sqrt{ax_{2}^{2} + ay_{2}^{2} + az_{2}^{2}}} + \\frac{21.25 ax_{1} az_{2} \\cos{\\left(\\frac{\\theta_{3}}{2} \\right)}}{\\sqrt{ax_{1}^{2} + ay_{1}^{2} + az_{1}^{2}} \\sqrt{ax_{2}^{2} + ay_{2}^{2} + az_{2}^{2}}} - \\frac{0.00217013888888889 ax_{1} az_{3} \\theta_{1}^{2} \\theta_{3}^{2} \\cos{\\left(\\frac{\\theta_{2}}{2} \\right)}}{\\sqrt{ax_{1}^{2} + ay_{1}^{2} + az_{1}^{2}} \\sqrt{ax_{3}^{2} + ay_{3}^{2} + az_{3}^{2}}} + \\frac{0.0520833333333334 ax_{1} az_{3} \\theta_{1}^{2} \\cos{\\left(\\frac{\\theta_{2}}{2} \\right)}}{\\sqrt{ax_{1}^{2} + ay_{1}^{2} + az_{1}^{2}} \\sqrt{ax_{3}^{2} + ay_{3}^{2} + az_{3}^{2}}} + \\frac{0.0520833333333334 ax_{1} az_{3} \\theta_{3}^{2} \\cos{\\left(\\frac{\\theta_{2}}{2} \\right)}}{\\sqrt{ax_{1}^{2} + ay_{1}^{2} + az_{1}^{2}} \\sqrt{ax_{3}^{2} + ay_{3}^{2} + az_{3}^{2}}} - \\frac{1.25 ax_{1} az_{3} \\cos{\\left(\\frac{\\theta_{2}}{2} \\right)}}{\\sqrt{ax_{1}^{2} + ay_{1}^{2} + az_{1}^{2}} \\sqrt{ax_{3}^{2} + ay_{3}^{2} + az_{3}^{2}}} - \\frac{0.00103985821759259 ax_{2} ax_{3} ay_{1} \\theta_{1}^{2} \\theta_{2}^{2} \\theta_{3}^{2}}{\\sqrt{ax_{1}^{2} + ay_{1}^{2} + az_{1}^{2}} \\sqrt{ax_{2}^{2} + ay_{2}^{2} + az_{2}^{2}} \\sqrt{ax_{3}^{2} + ay_{3}^{2} + az_{3}^{2}}} + \\frac{0.0249565972222222 ax_{2} ax_{3} ay_{1} \\theta_{1}^{2} \\theta_{2}^{2}}{\\sqrt{ax_{1}^{2} + ay_{1}^{2} + az_{1}^{2}} \\sqrt{ax_{2}^{2} + ay_{2}^{2} + az_{2}^{2}} \\sqrt{ax_{3}^{2} + ay_{3}^{2} + az_{3}^{2}}} + \\frac{0.0249565972222222 ax_{2} ax_{3} ay_{1} \\theta_{1}^{2} \\theta_{3}^{2}}{\\sqrt{ax_{1}^{2} + ay_{1}^{2} + az_{1}^{2}} \\sqrt{ax_{2}^{2} + ay_{2}^{2} + az_{2}^{2}} \\sqrt{ax_{3}^{2} + ay_{3}^{2} + az_{3}^{2}}} - \\frac{0.598958333333333 ax_{2} ax_{3} ay_{1} \\theta_{1}^{2}}{\\sqrt{ax_{1}^{2} + ay_{1}^{2} + az_{1}^{2}} \\sqrt{ax_{2}^{2} + ay_{2}^{2} + az_{2}^{2}} \\sqrt{ax_{3}^{2} + ay_{3}^{2} + az_{3}^{2}}} + \\frac{0.0249565972222222 ax_{2} ax_{3} ay_{1} \\theta_{2}^{2} \\theta_{3}^{2}}{\\sqrt{ax_{1}^{2} + ay_{1}^{2} + az_{1}^{2}} \\sqrt{ax_{2}^{2} + ay_{2}^{2} + az_{2}^{2}} \\sqrt{ax_{3}^{2} + ay_{3}^{2} + az_{3}^{2}}} - \\frac{0.598958333333333 ax_{2} ax_{3} ay_{1} \\theta_{2}^{2}}{\\sqrt{ax_{1}^{2} + ay_{1}^{2} + az_{1}^{2}} \\sqrt{ax_{2}^{2} + ay_{2}^{2} + az_{2}^{2}} \\sqrt{ax_{3}^{2} + ay_{3}^{2} + az_{3}^{2}}} - \\frac{0.598958333333333 ax_{2} ax_{3} ay_{1} \\theta_{3}^{2}}{\\sqrt{ax_{1}^{2} + ay_{1}^{2} + az_{1}^{2}} \\sqrt{ax_{2}^{2} + ay_{2}^{2} + az_{2}^{2}} \\sqrt{ax_{3}^{2} + ay_{3}^{2} + az_{3}^{2}}} + \\frac{14.375 ax_{2} ax_{3} ay_{1}}{\\sqrt{ax_{1}^{2} + ay_{1}^{2} + az_{1}^{2}} \\sqrt{ax_{2}^{2} + ay_{2}^{2} + az_{2}^{2}} \\sqrt{ax_{3}^{2} + ay_{3}^{2} + az_{3}^{2}}} - \\frac{0.0499131944444444 ax_{2} az_{1} \\theta_{1}^{2} \\theta_{2}^{2} \\cos{\\left(\\frac{\\theta_{3}}{2} \\right)}}{\\sqrt{ax_{1}^{2} + ay_{1}^{2} + az_{1}^{2}} \\sqrt{ax_{2}^{2} + ay_{2}^{2} + az_{2}^{2}}} + \\frac{1.19791666666667 ax_{2} az_{1} \\theta_{1}^{2} \\cos{\\left(\\frac{\\theta_{3}}{2} \\right)}}{\\sqrt{ax_{1}^{2} + ay_{1}^{2} + az_{1}^{2}} \\sqrt{ax_{2}^{2} + ay_{2}^{2} + az_{2}^{2}}} + \\frac{1.19791666666667 ax_{2} az_{1} \\theta_{2}^{2} \\cos{\\left(\\frac{\\theta_{3}}{2} \\right)}}{\\sqrt{ax_{1}^{2} + ay_{1}^{2} + az_{1}^{2}} \\sqrt{ax_{2}^{2} + ay_{2}^{2} + az_{2}^{2}}} - \\frac{28.75 ax_{2} az_{1} \\cos{\\left(\\frac{\\theta_{3}}{2} \\right)}}{\\sqrt{ax_{1}^{2} + ay_{1}^{2} + az_{1}^{2}} \\sqrt{ax_{2}^{2} + ay_{2}^{2} + az_{2}^{2}}} - \\frac{0.00217013888888889 ax_{2} az_{3} \\theta_{2}^{2} \\theta_{3}^{2} \\cos{\\left(\\frac{\\theta_{1}}{2} \\right)}}{\\sqrt{ax_{2}^{2} + ay_{2}^{2} + az_{2}^{2}} \\sqrt{ax_{3}^{2} + ay_{3}^{2} + az_{3}^{2}}} + \\frac{0.0520833333333334 ax_{2} az_{3} \\theta_{2}^{2} \\cos{\\left(\\frac{\\theta_{1}}{2} \\right)}}{\\sqrt{ax_{2}^{2} + ay_{2}^{2} + az_{2}^{2}} \\sqrt{ax_{3}^{2} + ay_{3}^{2} + az_{3}^{2}}} + \\frac{0.0520833333333334 ax_{2} az_{3} \\theta_{3}^{2} \\cos{\\left(\\frac{\\theta_{1}}{2} \\right)}}{\\sqrt{ax_{2}^{2} + ay_{2}^{2} + az_{2}^{2}} \\sqrt{ax_{3}^{2} + ay_{3}^{2} + az_{3}^{2}}} - \\frac{1.25 ax_{2} az_{3} \\cos{\\left(\\frac{\\theta_{1}}{2} \\right)}}{\\sqrt{ax_{2}^{2} + ay_{2}^{2} + az_{2}^{2}} \\sqrt{ax_{3}^{2} + ay_{3}^{2} + az_{3}^{2}}} - \\frac{0.0499131944444444 ax_{3} az_{1} \\theta_{1}^{2} \\theta_{3}^{2} \\cos{\\left(\\frac{\\theta_{2}}{2} \\right)}}{\\sqrt{ax_{1}^{2} + ay_{1}^{2} + az_{1}^{2}} \\sqrt{ax_{3}^{2} + ay_{3}^{2} + az_{3}^{2}}} + \\frac{1.19791666666667 ax_{3} az_{1} \\theta_{1}^{2} \\cos{\\left(\\frac{\\theta_{2}}{2} \\right)}}{\\sqrt{ax_{1}^{2} + ay_{1}^{2} + az_{1}^{2}} \\sqrt{ax_{3}^{2} + ay_{3}^{2} + az_{3}^{2}}} + \\frac{1.19791666666667 ax_{3} az_{1} \\theta_{3}^{2} \\cos{\\left(\\frac{\\theta_{2}}{2} \\right)}}{\\sqrt{ax_{1}^{2} + ay_{1}^{2} + az_{1}^{2}} \\sqrt{ax_{3}^{2} + ay_{3}^{2} + az_{3}^{2}}} - \\frac{28.75 ax_{3} az_{1} \\cos{\\left(\\frac{\\theta_{2}}{2} \\right)}}{\\sqrt{ax_{1}^{2} + ay_{1}^{2} + az_{1}^{2}} \\sqrt{ax_{3}^{2} + ay_{3}^{2} + az_{3}^{2}}} - \\frac{0.0368923611111111 ax_{3} az_{2} \\theta_{2}^{2} \\theta_{3}^{2} \\cos{\\left(\\frac{\\theta_{1}}{2} \\right)}}{\\sqrt{ax_{2}^{2} + ay_{2}^{2} + az_{2}^{2}} \\sqrt{ax_{3}^{2} + ay_{3}^{2} + az_{3}^{2}}} + \\frac{0.885416666666667 ax_{3} az_{2} \\theta_{2}^{2} \\cos{\\left(\\frac{\\theta_{1}}{2} \\right)}}{\\sqrt{ax_{2}^{2} + ay_{2}^{2} + az_{2}^{2}} \\sqrt{ax_{3}^{2} + ay_{3}^{2} + az_{3}^{2}}} + \\frac{0.885416666666667 ax_{3} az_{2} \\theta_{3}^{2} \\cos{\\left(\\frac{\\theta_{1}}{2} \\right)}}{\\sqrt{ax_{2}^{2} + ay_{2}^{2} + az_{2}^{2}} \\sqrt{ax_{3}^{2} + ay_{3}^{2} + az_{3}^{2}}} - \\frac{21.25 ax_{3} az_{2} \\cos{\\left(\\frac{\\theta_{1}}{2} \\right)}}{\\sqrt{ax_{2}^{2} + ay_{2}^{2} + az_{2}^{2}} \\sqrt{ax_{3}^{2} + ay_{3}^{2} + az_{3}^{2}}} - \\frac{0.000226056134259259 ay_{1} ay_{2} ay_{3} \\theta_{1}^{2} \\theta_{2}^{2} \\theta_{3}^{2}}{\\sqrt{ax_{1}^{2} + ay_{1}^{2} + az_{1}^{2}} \\sqrt{ax_{2}^{2} + ay_{2}^{2} + az_{2}^{2}} \\sqrt{ax_{3}^{2} + ay_{3}^{2} + az_{3}^{2}}} + \\frac{0.00542534722222222 ay_{1} ay_{2} ay_{3} \\theta_{1}^{2} \\theta_{2}^{2}}{\\sqrt{ax_{1}^{2} + ay_{1}^{2} + az_{1}^{2}} \\sqrt{ax_{2}^{2} + ay_{2}^{2} + az_{2}^{2}} \\sqrt{ax_{3}^{2} + ay_{3}^{2} + az_{3}^{2}}} + \\frac{0.00542534722222222 ay_{1} ay_{2} ay_{3} \\theta_{1}^{2} \\theta_{3}^{2}}{\\sqrt{ax_{1}^{2} + ay_{1}^{2} + az_{1}^{2}} \\sqrt{ax_{2}^{2} + ay_{2}^{2} + az_{2}^{2}} \\sqrt{ax_{3}^{2} + ay_{3}^{2} + az_{3}^{2}}} - \\frac{0.130208333333333 ay_{1} ay_{2} ay_{3} \\theta_{1}^{2}}{\\sqrt{ax_{1}^{2} + ay_{1}^{2} + az_{1}^{2}} \\sqrt{ax_{2}^{2} + ay_{2}^{2} + az_{2}^{2}} \\sqrt{ax_{3}^{2} + ay_{3}^{2} + az_{3}^{2}}} + \\frac{0.00542534722222222 ay_{1} ay_{2} ay_{3} \\theta_{2}^{2} \\theta_{3}^{2}}{\\sqrt{ax_{1}^{2} + ay_{1}^{2} + az_{1}^{2}} \\sqrt{ax_{2}^{2} + ay_{2}^{2} + az_{2}^{2}} \\sqrt{ax_{3}^{2} + ay_{3}^{2} + az_{3}^{2}}} - \\frac{0.130208333333333 ay_{1} ay_{2} ay_{3} \\theta_{2}^{2}}{\\sqrt{ax_{1}^{2} + ay_{1}^{2} + az_{1}^{2}} \\sqrt{ax_{2}^{2} + ay_{2}^{2} + az_{2}^{2}} \\sqrt{ax_{3}^{2} + ay_{3}^{2} + az_{3}^{2}}} - \\frac{0.130208333333333 ay_{1} ay_{2} ay_{3} \\theta_{3}^{2}}{\\sqrt{ax_{1}^{2} + ay_{1}^{2} + az_{1}^{2}} \\sqrt{ax_{2}^{2} + ay_{2}^{2} + az_{2}^{2}} \\sqrt{ax_{3}^{2} + ay_{3}^{2} + az_{3}^{2}}} + \\frac{3.125 ay_{1} ay_{2} ay_{3}}{\\sqrt{ax_{1}^{2} + ay_{1}^{2} + az_{1}^{2}} \\sqrt{ax_{2}^{2} + ay_{2}^{2} + az_{2}^{2}} \\sqrt{ax_{3}^{2} + ay_{3}^{2} + az_{3}^{2}}} - \\frac{0.000226056134259259 ay_{1} az_{2} az_{3} \\theta_{1}^{2} \\theta_{2}^{2} \\theta_{3}^{2}}{\\sqrt{ax_{1}^{2} + ay_{1}^{2} + az_{1}^{2}} \\sqrt{ax_{2}^{2} + ay_{2}^{2} + az_{2}^{2}} \\sqrt{ax_{3}^{2} + ay_{3}^{2} + az_{3}^{2}}} + \\frac{0.00542534722222222 ay_{1} az_{2} az_{3} \\theta_{1}^{2} \\theta_{2}^{2}}{\\sqrt{ax_{1}^{2} + ay_{1}^{2} + az_{1}^{2}} \\sqrt{ax_{2}^{2} + ay_{2}^{2} + az_{2}^{2}} \\sqrt{ax_{3}^{2} + ay_{3}^{2} + az_{3}^{2}}} + \\frac{0.00542534722222222 ay_{1} az_{2} az_{3} \\theta_{1}^{2} \\theta_{3}^{2}}{\\sqrt{ax_{1}^{2} + ay_{1}^{2} + az_{1}^{2}} \\sqrt{ax_{2}^{2} + ay_{2}^{2} + az_{2}^{2}} \\sqrt{ax_{3}^{2} + ay_{3}^{2} + az_{3}^{2}}} - \\frac{0.130208333333333 ay_{1} az_{2} az_{3} \\theta_{1}^{2}}{\\sqrt{ax_{1}^{2} + ay_{1}^{2} + az_{1}^{2}} \\sqrt{ax_{2}^{2} + ay_{2}^{2} + az_{2}^{2}} \\sqrt{ax_{3}^{2} + ay_{3}^{2} + az_{3}^{2}}} + \\frac{0.00542534722222222 ay_{1} az_{2} az_{3} \\theta_{2}^{2} \\theta_{3}^{2}}{\\sqrt{ax_{1}^{2} + ay_{1}^{2} + az_{1}^{2}} \\sqrt{ax_{2}^{2} + ay_{2}^{2} + az_{2}^{2}} \\sqrt{ax_{3}^{2} + ay_{3}^{2} + az_{3}^{2}}} - \\frac{0.130208333333333 ay_{1} az_{2} az_{3} \\theta_{2}^{2}}{\\sqrt{ax_{1}^{2} + ay_{1}^{2} + az_{1}^{2}} \\sqrt{ax_{2}^{2} + ay_{2}^{2} + az_{2}^{2}} \\sqrt{ax_{3}^{2} + ay_{3}^{2} + az_{3}^{2}}} - \\frac{0.130208333333333 ay_{1} az_{2} az_{3} \\theta_{3}^{2}}{\\sqrt{ax_{1}^{2} + ay_{1}^{2} + az_{1}^{2}} \\sqrt{ax_{2}^{2} + ay_{2}^{2} + az_{2}^{2}} \\sqrt{ax_{3}^{2} + ay_{3}^{2} + az_{3}^{2}}} + \\frac{3.125 ay_{1} az_{2} az_{3}}{\\sqrt{ax_{1}^{2} + ay_{1}^{2} + az_{1}^{2}} \\sqrt{ax_{2}^{2} + ay_{2}^{2} + az_{2}^{2}} \\sqrt{ax_{3}^{2} + ay_{3}^{2} + az_{3}^{2}}} + \\frac{2.39583333333333 ay_{1} \\theta_{1}^{2} \\cos{\\left(\\frac{\\theta_{2}}{2} \\right)} \\cos{\\left(\\frac{\\theta_{3}}{2} \\right)}}{\\sqrt{ax_{1}^{2} + ay_{1}^{2} + az_{1}^{2}}} - \\frac{57.5 ay_{1} \\cos{\\left(\\frac{\\theta_{2}}{2} \\right)} \\cos{\\left(\\frac{\\theta_{3}}{2} \\right)}}{\\sqrt{ax_{1}^{2} + ay_{1}^{2} + az_{1}^{2}}} + \\frac{0.000226056134259259 ay_{2} az_{1} az_{3} \\theta_{1}^{2} \\theta_{2}^{2} \\theta_{3}^{2}}{\\sqrt{ax_{1}^{2} + ay_{1}^{2} + az_{1}^{2}} \\sqrt{ax_{2}^{2} + ay_{2}^{2} + az_{2}^{2}} \\sqrt{ax_{3}^{2} + ay_{3}^{2} + az_{3}^{2}}} - \\frac{0.00542534722222222 ay_{2} az_{1} az_{3} \\theta_{1}^{2} \\theta_{2}^{2}}{\\sqrt{ax_{1}^{2} + ay_{1}^{2} + az_{1}^{2}} \\sqrt{ax_{2}^{2} + ay_{2}^{2} + az_{2}^{2}} \\sqrt{ax_{3}^{2} + ay_{3}^{2} + az_{3}^{2}}} - \\frac{0.00542534722222222 ay_{2} az_{1} az_{3} \\theta_{1}^{2} \\theta_{3}^{2}}{\\sqrt{ax_{1}^{2} + ay_{1}^{2} + az_{1}^{2}} \\sqrt{ax_{2}^{2} + ay_{2}^{2} + az_{2}^{2}} \\sqrt{ax_{3}^{2} + ay_{3}^{2} + az_{3}^{2}}} + \\frac{0.130208333333333 ay_{2} az_{1} az_{3} \\theta_{1}^{2}}{\\sqrt{ax_{1}^{2} + ay_{1}^{2} + az_{1}^{2}} \\sqrt{ax_{2}^{2} + ay_{2}^{2} + az_{2}^{2}} \\sqrt{ax_{3}^{2} + ay_{3}^{2} + az_{3}^{2}}} - \\frac{0.00542534722222222 ay_{2} az_{1} az_{3} \\theta_{2}^{2} \\theta_{3}^{2}}{\\sqrt{ax_{1}^{2} + ay_{1}^{2} + az_{1}^{2}} \\sqrt{ax_{2}^{2} + ay_{2}^{2} + az_{2}^{2}} \\sqrt{ax_{3}^{2} + ay_{3}^{2} + az_{3}^{2}}} + \\frac{0.130208333333333 ay_{2} az_{1} az_{3} \\theta_{2}^{2}}{\\sqrt{ax_{1}^{2} + ay_{1}^{2} + az_{1}^{2}} \\sqrt{ax_{2}^{2} + ay_{2}^{2} + az_{2}^{2}} \\sqrt{ax_{3}^{2} + ay_{3}^{2} + az_{3}^{2}}} + \\frac{0.130208333333333 ay_{2} az_{1} az_{3} \\theta_{3}^{2}}{\\sqrt{ax_{1}^{2} + ay_{1}^{2} + az_{1}^{2}} \\sqrt{ax_{2}^{2} + ay_{2}^{2} + az_{2}^{2}} \\sqrt{ax_{3}^{2} + ay_{3}^{2} + az_{3}^{2}}} - \\frac{3.125 ay_{2} az_{1} az_{3}}{\\sqrt{ax_{1}^{2} + ay_{1}^{2} + az_{1}^{2}} \\sqrt{ax_{2}^{2} + ay_{2}^{2} + az_{2}^{2}} \\sqrt{ax_{3}^{2} + ay_{3}^{2} + az_{3}^{2}}} + \\frac{1.77083333333333 ay_{2} \\theta_{2}^{2} \\cos{\\left(\\frac{\\theta_{1}}{2} \\right)} \\cos{\\left(\\frac{\\theta_{3}}{2} \\right)}}{\\sqrt{ax_{2}^{2} + ay_{2}^{2} + az_{2}^{2}}} - \\frac{42.5 ay_{2} \\cos{\\left(\\frac{\\theta_{1}}{2} \\right)} \\cos{\\left(\\frac{\\theta_{3}}{2} \\right)}}{\\sqrt{ax_{2}^{2} + ay_{2}^{2} + az_{2}^{2}}} - \\frac{0.000226056134259259 ay_{3} az_{1} az_{2} \\theta_{1}^{2} \\theta_{2}^{2} \\theta_{3}^{2}}{\\sqrt{ax_{1}^{2} + ay_{1}^{2} + az_{1}^{2}} \\sqrt{ax_{2}^{2} + ay_{2}^{2} + az_{2}^{2}} \\sqrt{ax_{3}^{2} + ay_{3}^{2} + az_{3}^{2}}} + \\frac{0.00542534722222222 ay_{3} az_{1} az_{2} \\theta_{1}^{2} \\theta_{2}^{2}}{\\sqrt{ax_{1}^{2} + ay_{1}^{2} + az_{1}^{2}} \\sqrt{ax_{2}^{2} + ay_{2}^{2} + az_{2}^{2}} \\sqrt{ax_{3}^{2} + ay_{3}^{2} + az_{3}^{2}}} + \\frac{0.00542534722222222 ay_{3} az_{1} az_{2} \\theta_{1}^{2} \\theta_{3}^{2}}{\\sqrt{ax_{1}^{2} + ay_{1}^{2} + az_{1}^{2}} \\sqrt{ax_{2}^{2} + ay_{2}^{2} + az_{2}^{2}} \\sqrt{ax_{3}^{2} + ay_{3}^{2} + az_{3}^{2}}} - \\frac{0.130208333333333 ay_{3} az_{1} az_{2} \\theta_{1}^{2}}{\\sqrt{ax_{1}^{2} + ay_{1}^{2} + az_{1}^{2}} \\sqrt{ax_{2}^{2} + ay_{2}^{2} + az_{2}^{2}} \\sqrt{ax_{3}^{2} + ay_{3}^{2} + az_{3}^{2}}} + \\frac{0.00542534722222222 ay_{3} az_{1} az_{2} \\theta_{2}^{2} \\theta_{3}^{2}}{\\sqrt{ax_{1}^{2} + ay_{1}^{2} + az_{1}^{2}} \\sqrt{ax_{2}^{2} + ay_{2}^{2} + az_{2}^{2}} \\sqrt{ax_{3}^{2} + ay_{3}^{2} + az_{3}^{2}}} - \\frac{0.130208333333333 ay_{3} az_{1} az_{2} \\theta_{2}^{2}}{\\sqrt{ax_{1}^{2} + ay_{1}^{2} + az_{1}^{2}} \\sqrt{ax_{2}^{2} + ay_{2}^{2} + az_{2}^{2}} \\sqrt{ax_{3}^{2} + ay_{3}^{2} + az_{3}^{2}}} - \\frac{0.130208333333333 ay_{3} az_{1} az_{2} \\theta_{3}^{2}}{\\sqrt{ax_{1}^{2} + ay_{1}^{2} + az_{1}^{2}} \\sqrt{ax_{2}^{2} + ay_{2}^{2} + az_{2}^{2}} \\sqrt{ax_{3}^{2} + ay_{3}^{2} + az_{3}^{2}}} + \\frac{3.125 ay_{3} az_{1} az_{2}}{\\sqrt{ax_{1}^{2} + ay_{1}^{2} + az_{1}^{2}} \\sqrt{ax_{2}^{2} + ay_{2}^{2} + az_{2}^{2}} \\sqrt{ax_{3}^{2} + ay_{3}^{2} + az_{3}^{2}}} - \\frac{0.104166666666667 ay_{3} \\theta_{3}^{2} \\cos{\\left(\\frac{\\theta_{1}}{2} \\right)} \\cos{\\left(\\frac{\\theta_{2}}{2} \\right)}}{\\sqrt{ax_{3}^{2} + ay_{3}^{2} + az_{3}^{2}}} + \\frac{2.5 ay_{3} \\cos{\\left(\\frac{\\theta_{1}}{2} \\right)} \\cos{\\left(\\frac{\\theta_{2}}{2} \\right)}}{\\sqrt{ax_{3}^{2} + ay_{3}^{2} + az_{3}^{2}}}\\right) k\\end{matrix}\\right]$"
          },
          "metadata": {},
          "execution_count": 22
        }
      ]
    },
    {
      "cell_type": "code",
      "source": [
        "test_subs = {theta_1:0, ax_1:0, ay_1:0, az_1:1, theta_2:0, ax_2:0, ay_2:1, az_2:0, theta_3:0, ax_3:0, ay_3:1, az_3:0}"
      ],
      "metadata": {
        "id": "YBW4lVrEBjLJ"
      },
      "id": "YBW4lVrEBjLJ",
      "execution_count": null,
      "outputs": []
    },
    {
      "cell_type": "markdown",
      "id": "v3H4nX23Y9g2",
      "metadata": {
        "id": "v3H4nX23Y9g2"
      },
      "source": [
        "##Joint 1"
      ]
    },
    {
      "cell_type": "code",
      "source": [
        "r_dot_theta_1 = dualq_diff(Q_ci, theta_1)\n",
        "r_dot_ax_1 = dualq_diff(Q_ci, ax_1)\n",
        "r_dot_ay_1 = dualq_diff(Q_ci, ay_1)\n",
        "r_dot_az_1 = dualq_diff(Q_ci, az_1)\n",
        "\n",
        "qw_e_dot_theta_1 = dualq_mul(r_dot_theta_1, Q_fi, Q_ti, Q_ei)\n",
        "qw_e_dot_ax_1 = dualq_mul(r_dot_ax_1, Q_fi, Q_ti, Q_ei)\n",
        "qw_e_dot_ay_1 = dualq_mul(r_dot_ay_1, Q_fi, Q_ti, Q_ei)\n",
        "qw_e_dot_az_1 = dualq_mul(r_dot_az_1, Q_fi, Q_ti, Q_ei)\n"
      ],
      "metadata": {
        "id": "RCU65sS1nnxm"
      },
      "id": "RCU65sS1nnxm",
      "execution_count": null,
      "outputs": []
    },
    {
      "cell_type": "markdown",
      "id": "TKPrECHkQqzB",
      "metadata": {
        "id": "TKPrECHkQqzB"
      },
      "source": [
        "###Joint 1 Angular velocity (ω)"
      ]
    },
    {
      "cell_type": "code",
      "source": [
        "w_theta_1 = o_w.diff(theta_1)\n",
        "w_theta_1 = w_theta_1.to_Matrix(vector_only=True)\n",
        "w_ax_1 = o_w.diff(ax_1)\n",
        "w_ax_1 = w_ax_1.to_Matrix(vector_only=True)\n",
        "w_ay_1 = o_w.diff(ay_1)\n",
        "w_ay_1 = w_ay_1.to_Matrix(vector_only=True)\n",
        "w_az_1 = o_w.diff(az_1)\n",
        "w_az_1 = w_az_1.to_Matrix(vector_only=True)"
      ],
      "metadata": {
        "id": "zSXuQzCCmSnO"
      },
      "id": "zSXuQzCCmSnO",
      "execution_count": null,
      "outputs": []
    },
    {
      "cell_type": "code",
      "source": [
        "test = w_ay_1.subs(test_subs)\n",
        "display(Math(sympy.latex(test)))"
      ],
      "metadata": {
        "colab": {
          "base_uri": "https://localhost:8080/",
          "height": 112
        },
        "id": "PdXMYm6X9nwA",
        "outputId": "a944d27c-3052-49e0-cd0e-ba24da829a91"
      },
      "id": "PdXMYm6X9nwA",
      "execution_count": null,
      "outputs": [
        {
          "output_type": "display_data",
          "data": {
            "text/plain": [
              "<IPython.core.display.Math object>"
            ],
            "text/latex": "$\\displaystyle \\left[\\begin{matrix}- \\frac{32}{89} + \\frac{192 \\sqrt{89} \\operatorname{acos}{\\left(\\frac{6 \\sqrt{5}}{25} \\right)}}{7921}\\\\\\frac{150 \\sqrt{89} \\operatorname{acos}{\\left(\\frac{6 \\sqrt{5}}{25} \\right)}}{7921} + \\frac{64}{89}\\\\- \\frac{144 \\sqrt{89} \\operatorname{acos}{\\left(\\frac{6 \\sqrt{5}}{25} \\right)}}{7921} + \\frac{24}{89}\\end{matrix}\\right]$"
          },
          "metadata": {}
        }
      ]
    },
    {
      "cell_type": "markdown",
      "id": "ImvKE4VjRAlj",
      "metadata": {
        "id": "ImvKE4VjRAlj"
      },
      "source": [
        "### Joint 1 Linear velocity (v)"
      ]
    },
    {
      "cell_type": "code",
      "execution_count": null,
      "id": "whU9vfynSuGh",
      "metadata": {
        "id": "whU9vfynSuGh"
      },
      "outputs": [],
      "source": [
        "v_theta_1_a = 2 * qw_e_dot_theta_1[1]\n",
        "v_theta_1_b = q_ew_t.mul(qw_e_dot_theta_1[0])\n",
        "v_theta_1 = (q_subtract(v_theta_1_a, v_theta_1_b)).mul(q_ew_r.conjugate())\n",
        "v_theta_1 = v_theta_1.to_Matrix(vector_only=True)\n",
        "\n",
        "v_ax_1_a = 2 * qw_e_dot_ax_1[1]\n",
        "v_ax_1_b = q_ew_t.mul(qw_e_dot_ax_1[0])\n",
        "v_ax_1 = (q_subtract(v_ax_1_a,v_ax_1_b)).mul(q_ew_r.conjugate())\n",
        "v_ax_1 = v_ax_1.to_Matrix(vector_only=True)\n",
        "\n",
        "v_ay_1_a = 2 * qw_e_dot_ay_1[1]\n",
        "v_ay_1_b = q_ew_t.mul(qw_e_dot_ay_1[0])\n",
        "v_ay_1 = (q_subtract(v_ay_1_a, v_ay_1_b)).mul(q_ew_r.conjugate())\n",
        "v_ay_1 = v_ay_1.to_Matrix(vector_only=True)\n",
        "\n",
        "v_az_1_a = 2 * qw_e_dot_az_1[1]\n",
        "v_az_1_b = q_ew_t.mul(qw_e_dot_az_1[0])\n",
        "v_az_1 = (q_subtract(v_az_1_a, v_az_1_b)).mul(q_ew_r.conjugate())\n",
        "v_az_1 = v_az_1.to_Matrix(vector_only=True)"
      ]
    },
    {
      "cell_type": "markdown",
      "id": "eFFgzSmURaTM",
      "metadata": {
        "id": "eFFgzSmURaTM"
      },
      "source": [
        "##Joint 2\n",
        "\n"
      ]
    },
    {
      "cell_type": "code",
      "execution_count": null,
      "id": "v5kUD7sPIex0",
      "metadata": {
        "id": "v5kUD7sPIex0"
      },
      "outputs": [],
      "source": [
        "r_dot_theta_2 = dualq_diff(Q_fi, theta_2)\n",
        "r_dot_ax_2 = dualq_diff(Q_fi, ax_2)\n",
        "r_dot_ay_2 = dualq_diff(Q_fi, ay_2)\n",
        "r_dot_az_2 = dualq_diff(Q_fi, az_2)\n",
        "\n",
        "w_dot_theta_2 = dualq_mul(Q_ci, r_dot_theta_2, Q_ti, Q_ei)\n",
        "w_dot_ax_2 = dualq_mul(Q_ci, r_dot_ax_2, Q_ti, Q_ei)\n",
        "w_dot_ay_2 = dualq_mul(Q_ci, r_dot_ay_2, Q_ti, Q_ei)\n",
        "w_dot_az_2 = dualq_mul(Q_ci, r_dot_az_2, Q_ti, Q_ei)"
      ]
    },
    {
      "cell_type": "markdown",
      "id": "7U4l4M8YRgcB",
      "metadata": {
        "id": "7U4l4M8YRgcB"
      },
      "source": [
        "### Joint 2 Angular Velocity"
      ]
    },
    {
      "cell_type": "code",
      "execution_count": null,
      "id": "NxLFAQx37OyB",
      "metadata": {
        "id": "NxLFAQx37OyB"
      },
      "outputs": [],
      "source": [
        "w_theta_2 = 2 * w_dot_theta_2[0].mul(q_ew_r.conjugate())\n",
        "w_theta_2 = w_theta_2.to_Matrix(vector_only=True)\n",
        "w_ax_2 = 2 * w_dot_ax_2[0].mul(q_ew_r.conjugate())\n",
        "w_ax_2 = w_ax_2.to_Matrix(vector_only=True)\n",
        "w_ay_2 = 2 * w_dot_ay_2[0].mul(q_ew_r.conjugate())\n",
        "w_ay_2 = w_ay_2.to_Matrix(vector_only=True)\n",
        "w_az_2 = 2 * w_dot_az_2[0].mul(q_ew_r.conjugate())\n",
        "w_az_2 = w_az_2.to_Matrix(vector_only=True)"
      ]
    },
    {
      "cell_type": "markdown",
      "id": "eBQi1o35SI5k",
      "metadata": {
        "id": "eBQi1o35SI5k"
      },
      "source": [
        "### Joint 2 Linear Velocity"
      ]
    },
    {
      "cell_type": "code",
      "execution_count": null,
      "id": "2BJyODBaJfw0",
      "metadata": {
        "id": "2BJyODBaJfw0"
      },
      "outputs": [],
      "source": [
        "v_theta_2_a = 2 * w_dot_theta_2[1]\n",
        "v_theta_2_b = q_ew_t.mul(w_dot_theta_2[0])\n",
        "v_theta_2 = (q_subtract(v_theta_2_a, v_theta_2_b)).mul(q_ew_r.conjugate())\n",
        "v_theta_2 = v_theta_2.to_Matrix(vector_only=True)\n",
        "\n",
        "v_ax_2_a = 2 * w_dot_ax_2[1]\n",
        "v_ax_2_b = q_ew_t.mul(w_dot_ax_2[0])\n",
        "v_ax_2 = (q_subtract(v_ax_2_a, v_ax_2_b)).mul(q_ew_r.conjugate())\n",
        "v_ax_2 = v_ax_2.to_Matrix(vector_only=True)\n",
        "\n",
        "v_ay_2_a = 2 * w_dot_ay_2[1]\n",
        "v_ay_2_b = q_ew_t.mul(w_dot_ay_2[0])\n",
        "v_ay_2 = (q_subtract(v_ay_2_a, v_ay_2_b)).mul(q_ew_r.conjugate())\n",
        "v_ay_2 = v_ay_2.to_Matrix(vector_only=True)\n",
        "\n",
        "v_az_2_a = 2 * w_dot_az_2[1]\n",
        "v_az_2_b = q_ew_t.mul(w_dot_az_2[0])\n",
        "v_az_2 = (q_subtract(v_az_2_a, v_az_2_b)).mul(q_ew_r.conjugate())\n",
        "v_az_2 = v_az_2.to_Matrix(vector_only=True)"
      ]
    },
    {
      "cell_type": "markdown",
      "id": "PkCRl7wWUSsi",
      "metadata": {
        "id": "PkCRl7wWUSsi"
      },
      "source": [
        "##Joint 3"
      ]
    },
    {
      "cell_type": "code",
      "execution_count": null,
      "id": "1U-KJ58EJAOq",
      "metadata": {
        "id": "1U-KJ58EJAOq"
      },
      "outputs": [],
      "source": [
        "r_dot_theta_3 = dualq_diff(Q_ti, theta_3)\n",
        "r_dot_ax_3 = dualq_diff(Q_ti, ax_3)\n",
        "r_dot_ay_3 = dualq_diff(Q_ti, ay_3)\n",
        "r_dot_az_3 = dualq_diff(Q_ti, az_3)\n",
        "\n",
        "w_dot_theta_3 = dualq_mul(Q_ci, Q_fi, r_dot_theta_3, Q_ei)\n",
        "w_dot_ax_3 = dualq_mul(Q_ci, Q_fi, r_dot_ax_3, Q_ei)\n",
        "w_dot_ay_3 = dualq_mul(Q_ci, Q_fi, r_dot_ay_3, Q_ei)\n",
        "w_dot_az_3 = dualq_mul(Q_ci, Q_fi, r_dot_az_3, Q_ei)"
      ]
    },
    {
      "cell_type": "markdown",
      "id": "N-FaeiaIUxWq",
      "metadata": {
        "id": "N-FaeiaIUxWq"
      },
      "source": [
        "###Joint 3 Angular Velocity"
      ]
    },
    {
      "cell_type": "code",
      "execution_count": null,
      "id": "pwRskw59CjW1",
      "metadata": {
        "id": "pwRskw59CjW1"
      },
      "outputs": [],
      "source": [
        "w_theta_3 = 2 * w_dot_theta_3[0].mul(q_ew_r.conjugate())\n",
        "w_theta_3 = w_theta_3.to_Matrix(vector_only=True)\n",
        "w_ax_3 = 2 * w_dot_ax_3[0].mul(q_ew_r.conjugate())\n",
        "w_ax_3 = w_ax_3.to_Matrix(vector_only=True)\n",
        "w_ay_3 = 2 * w_dot_ay_3[0].mul(q_ew_r.conjugate())\n",
        "w_ay_3 = w_ay_3.to_Matrix(vector_only=True)\n",
        "w_az_3 = 2 * w_dot_az_3[0].mul(q_ew_r.conjugate())\n",
        "w_az_3 = w_az_3.to_Matrix(vector_only=True)"
      ]
    },
    {
      "cell_type": "markdown",
      "id": "DmlBgPFbU36u",
      "metadata": {
        "id": "DmlBgPFbU36u"
      },
      "source": [
        "###Joint 3 Linear Velocity"
      ]
    },
    {
      "cell_type": "code",
      "execution_count": null,
      "id": "dM3NYVJ2M0zV",
      "metadata": {
        "id": "dM3NYVJ2M0zV"
      },
      "outputs": [],
      "source": [
        "v_theta_3_a = 2 * w_dot_theta_3[1]\n",
        "v_theta_3_b = q_ew_t.mul(w_dot_theta_3[0])\n",
        "v_theta_3 = (q_subtract(v_theta_3_a, v_theta_3_b)).mul(q_ew_r.conjugate())\n",
        "v_theta_3 = v_theta_3.to_Matrix(vector_only=True)\n",
        "\n",
        "v_ax_3_a = 2 * w_dot_ax_3[1]\n",
        "v_ax_3_b = q_ew_t.mul(w_dot_ax_3[0])\n",
        "v_ax_3 = (q_subtract(v_ax_3_a, v_ax_3_b)).mul(q_ew_r.conjugate())\n",
        "v_ax_3 = v_ax_3.to_Matrix(vector_only=True)\n",
        "\n",
        "v_ay_3_a = 2 * w_dot_ay_3[1]\n",
        "v_ay_3_b = q_ew_t.mul(w_dot_ay_3[0])\n",
        "v_ay_3 = (q_subtract(v_ay_3_a, v_ay_3_b)).mul(q_ew_r.conjugate())\n",
        "v_ay_3 = v_ay_3.to_Matrix(vector_only=True)\n",
        "\n",
        "v_az_3_a = 2 * w_dot_az_3[1]\n",
        "v_az_3_b = q_ew_t.mul(w_dot_az_3[0])\n",
        "v_az_3 = (q_subtract(v_az_3_a, v_az_3_b)).mul(q_ew_r.conjugate())\n",
        "v_az_3 = v_az_3.to_Matrix(vector_only=True)"
      ]
    },
    {
      "cell_type": "markdown",
      "id": "ZJJ-LaXEVVa6",
      "metadata": {
        "id": "ZJJ-LaXEVVa6"
      },
      "source": [
        "## Jacobian Definition"
      ]
    },
    {
      "cell_type": "code",
      "execution_count": null,
      "id": "mPx0fLld07DM",
      "metadata": {
        "id": "mPx0fLld07DM"
      },
      "outputs": [],
      "source": [
        "joint_1_v = sympy.Matrix.hstack(v_theta_1, v_ax_1, v_ay_1, v_az_1)\n",
        "joint_2_v = sympy.Matrix.hstack(v_theta_2, v_ax_2, v_ay_2, v_az_2)\n",
        "joint_3_v = sympy.Matrix.hstack(v_theta_2, v_ax_3, v_ay_3, v_az_3)\n",
        "\n",
        "joint_1_w = sympy.Matrix.hstack(w_theta_1, w_ax_1, w_ay_1, w_az_1)\n",
        "joint_2_w = sympy.Matrix.hstack(w_theta_2, w_ax_2, w_ay_2, w_az_2)\n",
        "joint_3_w = sympy.Matrix.hstack(w_theta_3, w_ax_3, w_ay_3, w_az_3)\n"
      ]
    },
    {
      "cell_type": "code",
      "execution_count": null,
      "id": "-ZznBu3p76kT",
      "metadata": {
        "id": "-ZznBu3p76kT",
        "colab": {
          "base_uri": "https://localhost:8080/"
        },
        "outputId": "7977a408-0a78-4437-8cd4-aa9e13225a89"
      },
      "outputs": [
        {
          "output_type": "execute_result",
          "data": {
            "text/plain": [
              "(6, 12)"
            ]
          },
          "metadata": {},
          "execution_count": 35
        }
      ],
      "source": [
        "linear_velocities = sympy.Matrix.hstack(joint_1_v, joint_2_v, joint_3_v)\n",
        "angular_velocities = sympy.Matrix.hstack(joint_1_w, joint_2_w, joint_3_w)\n",
        "J = sympy.Matrix.vstack(linear_velocities, angular_velocities)\n",
        "sympy.shape(J)"
      ]
    },
    {
      "cell_type": "code",
      "execution_count": null,
      "id": "Fraz0iGPjg6P",
      "metadata": {
        "id": "Fraz0iGPjg6P"
      },
      "outputs": [],
      "source": [
        "variables = [theta_1, ax_1, ay_1, az_1,theta_2, ax_2, ay_2, az_2, theta_3, ax_3, ay_3, az_3]\n",
        "J_Lambda = sympy.lambdify(variables, J, modules=[\"numpy\"], cse=True, docstring_limit=0, dummify=False)"
      ]
    },
    {
      "cell_type": "code",
      "execution_count": null,
      "id": "YIUzbEvk4b2L",
      "metadata": {
        "id": "YIUzbEvk4b2L"
      },
      "outputs": [],
      "source": [
        "??J_Lambda"
      ]
    },
    {
      "cell_type": "markdown",
      "id": "iPlSZcifYa9P",
      "metadata": {
        "id": "iPlSZcifYa9P"
      },
      "source": [
        "#Solver"
      ]
    },
    {
      "cell_type": "code",
      "execution_count": null,
      "id": "eE1_MZJFlEUr",
      "metadata": {
        "id": "eE1_MZJFlEUr"
      },
      "outputs": [],
      "source": [
        "variables = [theta_1, ax_1, ay_1, az_1,theta_2, ax_2, ay_2, az_2, theta_3, ax_3, ay_3, az_3]\n",
        "foot_position_FK_lambda = sympy.lambdify(variables, foot_position_FK, modules=[\"numpy\"], cse=True, docstring_limit=0)\n",
        "foot_orientation_FK_lambda = sympy.lambdify(variables, foot_orientation_FK, modules=[\"numpy\"], cse=True, docstring_limit=0)"
      ]
    },
    {
      "cell_type": "code",
      "execution_count": null,
      "id": "e7ExJ5vsCwo1",
      "metadata": {
        "id": "e7ExJ5vsCwo1"
      },
      "outputs": [],
      "source": [
        "def clip(current_angles):\n",
        "\n",
        "    if current_angles[0] > 2 * np.pi:\n",
        "      current_angles[0] = current_angles[0] - 2*np.pi\n",
        "    if current_angles[4] > 2 * np.pi:\n",
        "      current_angles[4] = current_angles[4] - 2*np.pi\n",
        "    if current_angles[8] > 2 * np.pi:\n",
        "      current_angles[8] = current_angles[8] - 2*np.pi\n",
        "\n",
        "    if current_angles[0] < -2 * np.pi:\n",
        "      current_angles[0] = current_angles[0] + 2*np.pi\n",
        "    if current_angles[4] < -2 * np.pi:\n",
        "      current_angles[4] = current_angles[4] + 2*np.pi\n",
        "    if current_angles[8] < -2 * np.pi:\n",
        "      current_angles[8] = current_angles[8] + 2*np.pi\n",
        "\n",
        "\n",
        "    return current_angles\n",
        "\n",
        "def wrap_to_pi(angle_changes):\n",
        "  \"\"\"Wraps an angle to the range (-pi, pi].\"\"\"\n",
        "  angle_changes[0] = (angle_changes[0] + np.pi) % (2 * np.pi) - np.pi\n",
        "  angle_changes[4] = (angle_changes[4] + np.pi) % (2 * np.pi) - np.pi\n",
        "  angle_changes[8] = (angle_changes[8] + np.pi) % (2 * np.pi) - np.pi\n",
        "  return angle_changes\n",
        "\n",
        "def normalize_axis_vectors(current_angles):\n",
        "  axis_vector_1 = current_angles[1:4]\n",
        "  current_angles[1:4] = axis_vector_1 / np.linalg.norm(axis_vector_1)\n",
        "  axis_vector_2 = current_angles[5:8]\n",
        "  current_angles[5:8] = axis_vector_2 / np.linalg.norm(axis_vector_2)\n",
        "  axis_vector_3 = current_angles[9:12]\n",
        "  current_angles[9:12] = axis_vector_3 / np.linalg.norm(axis_vector_3)\n",
        "  return current_angles\n",
        "\n"
      ]
    },
    {
      "cell_type": "code",
      "execution_count": null,
      "id": "efo1Wf-YonXd",
      "metadata": {
        "id": "efo1Wf-YonXd",
        "colab": {
          "base_uri": "https://localhost:8080/"
        },
        "outputId": "ec7a343c-57fa-4086-ff86-4c7f3306c643"
      },
      "outputs": [
        {
          "output_type": "stream",
          "name": "stdout",
          "text": [
            "Foot Position: array([ 120.,    0., -110.])\n",
            "Foot Orientation: array([0.        , 0.70710678, 0.        ])\n"
          ]
        }
      ],
      "source": [
        "test_angles = np.array([0, 0, 0, 1, 0, 0, 1, 0, pi/2, 0, 1, 0], dtype=np.float64)\n",
        "print(f'Foot Position: {repr(foot_position_FK_lambda(*test_angles).flatten())}')\n",
        "print(f'Foot Orientation: {repr(foot_orientation_FK_lambda(*test_angles).flatten())}')"
      ]
    },
    {
      "cell_type": "code",
      "execution_count": null,
      "id": "kobsOjjVdsh9",
      "metadata": {
        "id": "kobsOjjVdsh9",
        "colab": {
          "base_uri": "https://localhost:8080/"
        },
        "outputId": "000c3ed7-068d-4bc9-bf19-25201d829783"
      },
      "outputs": [
        {
          "output_type": "stream",
          "name": "stdout",
          "text": [
            "154.6579223223608\n"
          ]
        }
      ],
      "source": [
        "\n",
        "angle_in_radians = 2.699289958818831\n",
        "\n",
        "angle_in_degrees = degrees(angle_in_radians)\n",
        "\n",
        "print(angle_in_degrees)"
      ]
    },
    {
      "cell_type": "code",
      "execution_count": null,
      "id": "I8GCyuu1wM0y",
      "metadata": {
        "colab": {
          "base_uri": "https://localhost:8080/"
        },
        "id": "I8GCyuu1wM0y",
        "outputId": "386b0072-c078-4c2f-e319-5c0257f01f55"
      },
      "outputs": [
        {
          "output_type": "stream",
          "name": "stdout",
          "text": [
            "Converged!\n",
            "Iteration # = 21\n",
            "Distance = 155.56509672154675\n",
            "Final joint angles:\n",
            "cond: 10.822569946986379\n",
            "Joint 1: 3.1332713538957426\n",
            "Joint 2: 0.4047601081208536\n",
            "Joint 3: 2.3067809812330866\n"
          ]
        }
      ],
      "source": [
        "\n",
        "target_ef = np.array([0.        , 0.70710678, 0.        ,  120.,    0., -110.], dtype=np.float64)\n",
        "# Set convergence criteria\n",
        "max_error = 1.5\n",
        "max_iterations = 1000\n",
        "delta_t = 0.015\n",
        "gamma = 0.001\n",
        "\n",
        "DEBUG = False\n",
        "ERROR_DEBUG = False\n",
        "\n",
        "STARTING_FOOTPOSE = None\n",
        "\n",
        "DAMP = True\n",
        "\n",
        "\n",
        "\n",
        "#Current Angles are in the zero position\n",
        "current_angles = np.array([0.00000001, 0, 0, 1, 0.00000001, 0, 1, 0, 0.00000001, 0, 1, 0], dtype=np.float64)\n",
        "\n",
        "\n",
        "\n",
        "\n",
        "analytics_df = pd.DataFrame()\n",
        "\n",
        "for i in range(max_iterations):\n",
        "\n",
        "  analytics = {'delta_t':delta_t*i}\n",
        "\n",
        "  if DEBUG or ERROR_DEBUG:\n",
        "    print(\"______________________________________________________________________________________________________________________________________________________________\")\n",
        "    print(f\"Iteration: {i} Started\")\n",
        "\n",
        "\n",
        "\n",
        "  # 1. Substitute current joint angles into the desired pose\n",
        "  current_foot_position = foot_position_FK_lambda(*current_angles).astype(np.float64)\n",
        "  current_foot_orientation = foot_orientation_FK_lambda(*current_angles).astype(np.float64)\n",
        "  current_foot_pose = np.concatenate((current_foot_orientation, current_foot_position)).flatten()\n",
        "\n",
        "  if i == 0:\n",
        "    STARTING_FOOTPOSE = current_foot_pose\n",
        "    if DEBUG: print(f\"STARTING_FOOTPOSE: {STARTING_FOOTPOSE}\")\n",
        "\n",
        "\n",
        "\n",
        "  if DEBUG or ERROR_DEBUG:\n",
        "    print(f\"current_foot_pose: {current_foot_pose}\")\n",
        "    print(f\"target_foot_pose: {target_ef}\")\n",
        "\n",
        "  # 2. Calculate error between current and desired pose\n",
        "  error = (current_foot_pose - target_ef)\n",
        "\n",
        "\n",
        "  if DEBUG or ERROR_DEBUG:\n",
        "    print(f\"error = {error}\")\n",
        "\n",
        "  error_norm = np.linalg.norm(error)\n",
        "\n",
        "\n",
        "\n",
        "\n",
        "  # 3. Check for convergence\n",
        "  if error_norm < max_error :\n",
        "        print(\"Converged!\")\n",
        "        break\n",
        "  if DEBUG or ERROR_DEBUG: print(f\"error.norm() = {error_norm}\")\n",
        "\n",
        "  analytics['error_norm'] = error_norm\n",
        "\n",
        "\n",
        "  # 4. Substitute current joint angles into the Jacobian\n",
        "  J_num = J_Lambda(*current_angles).astype(np.float64)\n",
        "  if DEBUG or ERROR_DEBUG: print(f\"J_num = {J_num}\")\n",
        "\n",
        "  cond_num = np.linalg.cond(J_num)\n",
        "  if DEBUG or ERROR_DEBUG: print(f\"Condition Number = {cond_num}\")\n",
        "\n",
        "  analytics['cond_num'] = cond_num\n",
        "\n",
        "  rank = np.linalg.matrix_rank(J_num)\n",
        "  if DEBUG or ERROR_DEBUG: print(f\"Rank = {rank}\")\n",
        "\n",
        "  analytics['rank'] = rank\n",
        "\n",
        "  # 5. Calculate joint velocities\n",
        "\n",
        "  if (rank < 6 or cond_num > 100) and DAMP:\n",
        "    if DEBUG: print(\"Using damped Jacobian\")\n",
        "    J_damped = J_num.T @ np.linalg.inv(J_num @ J_num.T + gamma**2 * np.eye(J.shape[0]))\n",
        "    if DEBUG: print(f\"J_damped = {J_damped}\")\n",
        "    q_dot = J_damped @ error\n",
        "  else:\n",
        "    if DEBUG: print(\"Using Undamped Jacobian\")\n",
        "    J_pinv = np.linalg.pinv(J_num)\n",
        "    if DEBUG: print(f\"J_pinv = {J_pinv}\")\n",
        "    q_dot = J_pinv @ error\n",
        "\n",
        "  if DEBUG or ERROR_DEBUG: print(f\"q_dot = {q_dot}\")\n",
        "\n",
        "  delta_theta = q_dot * delta_t\n",
        "  if DEBUG or ERROR_DEBUG: print(f\"delta_theta = {delta_theta}\")\n",
        "  #delta_theta = wrap_to_pi(delta_theta)\n",
        "  if DEBUG: print(f\"delta_theta_wrapped = {delta_theta}\")\n",
        "\n",
        "\n",
        "  # 6. Update joint angles (integrate velocities)\n",
        "  if DEBUG: print(f\"previous_angles = {current_angles}\")\n",
        "  current_angles = current_angles + delta_theta\n",
        "\n",
        "  current_angles = wrap_to_pi(current_angles)\n",
        "\n",
        "  current_angles = normalize_axis_vectors(current_angles)\n",
        "\n",
        "\n",
        "  if DEBUG: print(f\"new_angles = {current_angles}\")\n",
        "\n",
        "\n",
        "  analytics['Ox'] = current_foot_pose[0]\n",
        "  analytics['Oy'] = current_foot_pose[1]\n",
        "  analytics['Oz'] = current_foot_pose[2]\n",
        "  analytics['Tx'] = current_foot_pose[3]\n",
        "  analytics['Ty'] = current_foot_pose[4]\n",
        "  analytics['Tz'] = current_foot_pose[5]\n",
        "\n",
        "\n",
        "\n",
        "  analytics['delta_theta_1'] = delta_theta[0]\n",
        "  analytics['delta_ax_1'] = delta_theta[1]\n",
        "  analytics['delta_ay_1'] = delta_theta[2]\n",
        "  analytics['delta_az_1'] = delta_theta[3]\n",
        "  analytics['delta_theta_2'] = delta_theta[4]\n",
        "  analytics['delta_ax_2'] = delta_theta[5]\n",
        "  analytics['delta_ay_2'] = delta_theta[6]\n",
        "  analytics['delta_az_2'] = delta_theta[7]\n",
        "  analytics['delta_theta_3'] = delta_theta[8]\n",
        "  analytics['delta_ax_3'] = delta_theta[9]\n",
        "  analytics['delta_ay_3'] = delta_theta[10]\n",
        "  analytics['delta_az_3'] = delta_theta[11]\n",
        "\n",
        "  analytics['theta_1'] = current_angles[0]\n",
        "  analytics['ax_1'] = current_angles[1]\n",
        "  analytics['ay_1'] = current_angles[2]\n",
        "  analytics['az_1'] = current_angles[3]\n",
        "  analytics['theta_2'] = current_angles[4]\n",
        "  analytics['ax_2'] = current_angles[5]\n",
        "  analytics['ay_2'] = current_angles[6]\n",
        "  analytics['az_2'] = current_angles[7]\n",
        "  analytics['theta_3'] = current_angles[8]\n",
        "  analytics['ax_3'] = current_angles[9]\n",
        "  analytics['ay_3'] = current_angles[10]\n",
        "  analytics['az_3'] = current_angles[11]\n",
        "\n",
        "\n",
        "  analytics_df = pd.concat([analytics_df, pd.DataFrame([analytics])], ignore_index=True)\n",
        "  if DEBUG or ERROR_DEBUG:\n",
        "    print(f\"current_angles = {current_angles}\")\n",
        "    print(f\"Iteration: {i} ended\")\n",
        "    print(\"______________________________________________________________________________________________________________________________________________________________\")\n",
        "\n",
        "\n",
        "# If we didn't converge, let the user know\n",
        "if i == max_iterations - 1:\n",
        "    print(\"Failed to converge.\")\n",
        "print(f\"Iteration # = {i}\")\n",
        "print(f\"Distance = {np.linalg.norm(target_ef - STARTING_FOOTPOSE)}\")\n",
        "# Print the final joint angles (whether converged or not)\n",
        "print(\"Final joint angles:\")\n",
        "print(f\"cond: {cond_num}\")\n",
        "print(f\"Joint 1: {current_angles[0]}\")\n",
        "print(f\"Joint 2: {current_angles[4]}\")\n",
        "print(f\"Joint 3: {current_angles[8]}\")"
      ]
    },
    {
      "cell_type": "code",
      "execution_count": null,
      "id": "l_cwGnWqVoDH",
      "metadata": {
        "colab": {
          "base_uri": "https://localhost:8080/",
          "height": 958
        },
        "id": "l_cwGnWqVoDH",
        "outputId": "4634ed29-a8d4-49a0-ec6f-b06722c5d1f5"
      },
      "outputs": [
        {
          "output_type": "display_data",
          "data": {
            "text/html": [
              "\n",
              "<div id=\"altair-viz-d8300f99a3bf467e8e40f6995a3b5f18\"></div>\n",
              "<script type=\"text/javascript\">\n",
              "  var VEGA_DEBUG = (typeof VEGA_DEBUG == \"undefined\") ? {} : VEGA_DEBUG;\n",
              "  (function(spec, embedOpt){\n",
              "    let outputDiv = document.currentScript.previousElementSibling;\n",
              "    if (outputDiv.id !== \"altair-viz-d8300f99a3bf467e8e40f6995a3b5f18\") {\n",
              "      outputDiv = document.getElementById(\"altair-viz-d8300f99a3bf467e8e40f6995a3b5f18\");\n",
              "    }\n",
              "    const paths = {\n",
              "      \"vega\": \"https://cdn.jsdelivr.net/npm//vega@5?noext\",\n",
              "      \"vega-lib\": \"https://cdn.jsdelivr.net/npm//vega-lib?noext\",\n",
              "      \"vega-lite\": \"https://cdn.jsdelivr.net/npm//vega-lite@4.17.0?noext\",\n",
              "      \"vega-embed\": \"https://cdn.jsdelivr.net/npm//vega-embed@6?noext\",\n",
              "    };\n",
              "\n",
              "    function maybeLoadScript(lib, version) {\n",
              "      var key = `${lib.replace(\"-\", \"\")}_version`;\n",
              "      return (VEGA_DEBUG[key] == version) ?\n",
              "        Promise.resolve(paths[lib]) :\n",
              "        new Promise(function(resolve, reject) {\n",
              "          var s = document.createElement('script');\n",
              "          document.getElementsByTagName(\"head\")[0].appendChild(s);\n",
              "          s.async = true;\n",
              "          s.onload = () => {\n",
              "            VEGA_DEBUG[key] = version;\n",
              "            return resolve(paths[lib]);\n",
              "          };\n",
              "          s.onerror = () => reject(`Error loading script: ${paths[lib]}`);\n",
              "          s.src = paths[lib];\n",
              "        });\n",
              "    }\n",
              "\n",
              "    function showError(err) {\n",
              "      outputDiv.innerHTML = `<div class=\"error\" style=\"color:red;\">${err}</div>`;\n",
              "      throw err;\n",
              "    }\n",
              "\n",
              "    function displayChart(vegaEmbed) {\n",
              "      vegaEmbed(outputDiv, spec, embedOpt)\n",
              "        .catch(err => showError(`Javascript Error: ${err.message}<br>This usually means there's a typo in your chart specification. See the javascript console for the full traceback.`));\n",
              "    }\n",
              "\n",
              "    if(typeof define === \"function\" && define.amd) {\n",
              "      requirejs.config({paths});\n",
              "      require([\"vega-embed\"], displayChart, err => showError(`Error loading script: ${err.message}`));\n",
              "    } else {\n",
              "      maybeLoadScript(\"vega\", \"5\")\n",
              "        .then(() => maybeLoadScript(\"vega-lite\", \"4.17.0\"))\n",
              "        .then(() => maybeLoadScript(\"vega-embed\", \"6\"))\n",
              "        .catch(showError)\n",
              "        .then(() => displayChart(vegaEmbed));\n",
              "    }\n",
              "  })({\"config\": {\"view\": {\"continuousWidth\": 400, \"continuousHeight\": 300}, \"axis\": {\"labelFontSize\": 15, \"titleFontSize\": 18}, \"legend\": {\"labelFontSize\": 15, \"titleFontSize\": 18}}, \"vconcat\": [{\"hconcat\": [{\"layer\": [{\"mark\": \"line\", \"encoding\": {\"tooltip\": [{\"field\": \"error_norm\", \"type\": \"quantitative\"}], \"x\": {\"field\": \"delta_t\", \"type\": \"quantitative\"}, \"y\": {\"field\": \"error_norm\", \"type\": \"quantitative\"}}, \"selection\": {\"selector097\": {\"type\": \"interval\", \"bind\": \"scales\", \"encodings\": [\"x\", \"y\"]}}}, {\"mark\": {\"type\": \"line\", \"color\": \"red\", \"strokeDash\": [5, 5]}, \"encoding\": {\"tooltip\": [{\"field\": \"error_norm_ma\", \"type\": \"quantitative\"}], \"x\": {\"field\": \"delta_t\", \"type\": \"quantitative\"}, \"y\": {\"field\": \"error_norm_ma\", \"type\": \"quantitative\"}}}], \"height\": 375, \"title\": \"Error Over Time\", \"width\": 650}, {\"layer\": [{\"mark\": \"line\", \"encoding\": {\"tooltip\": [{\"field\": \"cond_num\", \"type\": \"quantitative\"}], \"x\": {\"field\": \"delta_t\", \"type\": \"quantitative\"}, \"y\": {\"axis\": {\"format\": \".1e\", \"tickCount\": 8}, \"field\": \"cond_num\", \"scale\": {\"domain\": [0, 1000]}, \"type\": \"quantitative\"}}, \"selection\": {\"selector098\": {\"type\": \"interval\", \"bind\": \"scales\", \"encodings\": [\"x\", \"y\"]}}}, {\"mark\": {\"type\": \"line\", \"color\": \"red\", \"strokeDash\": [5, 5]}, \"encoding\": {\"tooltip\": [{\"field\": \"cond_num_ma\", \"type\": \"quantitative\"}], \"x\": {\"field\": \"delta_t\", \"type\": \"quantitative\"}, \"y\": {\"field\": \"cond_num_ma\", \"type\": \"quantitative\"}}}], \"height\": 375, \"title\": \"Condition Number Over Time\", \"width\": 650}, {\"mark\": \"line\", \"encoding\": {\"tooltip\": [{\"field\": \"delta_t\", \"type\": \"quantitative\"}, {\"field\": \"cond_num\", \"type\": \"quantitative\"}], \"x\": {\"field\": \"delta_t\", \"type\": \"quantitative\"}, \"y\": {\"field\": \"rank\", \"type\": \"quantitative\"}}, \"height\": 375, \"selection\": {\"selector099\": {\"type\": \"interval\", \"bind\": \"scales\", \"encodings\": [\"x\", \"y\"]}}, \"title\": \"Matrix Rank Over Time\", \"width\": 650}], \"data\": {\"name\": \"data-d0f202e325cae00fedf8a26ebcc7603a\"}}, {\"hconcat\": [{\"data\": {\"name\": \"data-7f878c76f43530812a73202a1534cb7b\"}, \"mark\": \"line\", \"encoding\": {\"color\": {\"field\": \"axis\", \"scale\": {\"scheme\": \"dark2\"}, \"type\": \"nominal\"}, \"tooltip\": [{\"field\": \"delta_t\", \"type\": \"quantitative\"}, {\"field\": \"value\", \"type\": \"quantitative\"}], \"x\": {\"field\": \"delta_t\", \"type\": \"quantitative\"}, \"y\": {\"field\": \"value\", \"title\": \"Orientation\", \"type\": \"quantitative\"}}, \"height\": 375, \"selection\": {\"selector101\": {\"type\": \"interval\", \"bind\": \"scales\", \"encodings\": [\"x\", \"y\"]}}, \"title\": \"End-Effector Orientation Over Time\", \"transform\": [{\"fold\": [\"Ox\", \"Oy\", \"Oz\"], \"as\": [\"axis\", \"value\"]}], \"width\": 650}, {\"data\": {\"name\": \"data-e7fbafce3c5348a21b84b552e5cf1f39\"}, \"mark\": \"line\", \"encoding\": {\"color\": {\"field\": \"axis\", \"scale\": {\"scheme\": \"dark2\"}, \"type\": \"nominal\"}, \"tooltip\": [{\"field\": \"delta_t\", \"type\": \"quantitative\"}, {\"field\": \"value\", \"type\": \"quantitative\"}], \"x\": {\"field\": \"delta_t\", \"type\": \"quantitative\"}, \"y\": {\"field\": \"value\", \"title\": \"Position\", \"type\": \"quantitative\"}}, \"height\": 375, \"selection\": {\"selector102\": {\"type\": \"interval\", \"bind\": \"scales\", \"encodings\": [\"x\", \"y\"]}}, \"title\": \"End-Effector Position Over Time\", \"transform\": [{\"fold\": [\"Tx\", \"Ty\", \"Tz\"], \"as\": [\"axis\", \"value\"]}], \"width\": 650}, {\"data\": {\"name\": \"data-423efb86d714d0b77461d3b0d93ad03f\"}, \"mark\": \"line\", \"encoding\": {\"color\": {\"field\": \"joint\", \"scale\": {\"scheme\": \"dark2\"}, \"type\": \"nominal\"}, \"tooltip\": [{\"field\": \"delta_t\", \"type\": \"quantitative\"}, {\"field\": \"angle\", \"type\": \"quantitative\"}], \"x\": {\"field\": \"delta_t\", \"type\": \"quantitative\"}, \"y\": {\"field\": \"angle\", \"title\": \"Angle (radians)\", \"type\": \"quantitative\"}}, \"height\": 375, \"selection\": {\"selector100\": {\"type\": \"interval\", \"bind\": \"scales\", \"encodings\": [\"x\", \"y\"]}}, \"title\": \"Joint Angles Over Time\", \"transform\": [{\"fold\": [\"theta_1\", \"theta_2\", \"theta_3\"], \"as\": [\"joint\", \"angle\"]}], \"width\": 650}]}], \"resolve\": {\"scale\": {\"color\": \"independent\"}}, \"title\": {\"text\": \"Target: Tx: 120.00  Ty: 0.00  Tz: -110.00 Ox: 0.00 Oy: 0.71 Oz: 0.00\", \"anchor\": \"middle\"}, \"$schema\": \"https://vega.github.io/schema/vega-lite/v4.17.0.json\", \"datasets\": {\"data-d0f202e325cae00fedf8a26ebcc7603a\": [{\"delta_t\": 0.0, \"error_norm\": 155.56509672154675, \"cond_num\": 3403309884.8135343, \"rank\": 6, \"Ox\": -5.0000000000000005e-17, \"Oy\": 1e-08, \"Oz\": 5e-09, \"Tx\": 230.0, \"Ty\": 2.3e-06, \"Tz\": -3.1e-06, \"delta_theta_1\": 4.434070643990111e-05, \"delta_ax_1\": 6.963772612405598, \"delta_ay_1\": 3.481914694821532, \"delta_az_1\": 4.500527218670501e-13, \"delta_theta_2\": 0.00025135250613917787, \"delta_ax_2\": -4.663099865120951, \"delta_ay_2\": -2.3094900011516614e-13, \"delta_az_2\": -18.69681629954041, \"delta_theta_3\": 0.00025135250613917787, \"delta_ax_3\": -9.958028950519063, \"delta_ay_3\": 3.0794972672964764e-13, \"delta_az_3\": 12.273119031049017, \"theta_1\": 4.435070643982186e-05, \"ax_1\": 0.887138199152257, \"ay_1\": 0.4435727160968711, \"az_1\": 0.12739333239748032, \"theta_2\": 0.00025136250613932987, \"ax_2\": -0.241668025028419, \"ay_2\": 0.05182561643939719, \"az_2\": -0.9689740301780746, \"theta_3\": 0.00025136250613932987, \"ax_3\": -0.6288060705943431, \"ay_3\": 0.06314563592042582, \"az_3\": 0.7749939059424319, \"error_norm_ma\": null, \"cond_num_ma\": null}, {\"delta_t\": 0.015, \"error_norm\": 155.55882099253475, \"cond_num\": 975.8839727858274, \"rank\": 6, \"Ox\": -8.972835087256134e-05, \"Oy\": 2.4298865779058644e-05, \"Oz\": -2.1553038369258944e-05, \"Tx\": 229.99999716637717, \"Ty\": -0.025984829457958804, \"Tz\": -0.008878671369653385, \"delta_theta_1\": -2.7783937651645467e-05, \"delta_ax_1\": 1.0646152307009502, \"delta_ay_1\": -1.5655905325366393, \"delta_az_1\": -1.9624857049914546, \"delta_theta_2\": -0.0010238621274979152, \"delta_ax_2\": -1.6536504426372087, \"delta_ay_2\": 1.9383852557557406, \"delta_az_2\": 0.5161051088687965, \"delta_theta_3\": -0.00043592865726003267, \"delta_ax_3\": 0.5068157610739661, \"delta_ay_3\": -0.7887926925666244, \"delta_az_3\": 0.4754845690942414, \"theta_1\": 1.656676878836194e-05, \"ax_1\": 0.6719872853528381, \"ay_1\": -0.38630991756145466, \"az_1\": -0.6318209682479566, \"theta_2\": -0.0007724996213585023, \"ax_2\": -0.6804558978139738, \"ay_2\": 0.7145241018764722, \"az_2\": -0.16258868031877155, \"theta_3\": -0.00018456615112061314, \"ax_3\": -0.08407844400913733, \"ay_3\": -0.5001321470737928, \"az_3\": 0.8618576742805975, \"error_norm_ma\": null, \"cond_num_ma\": null}, {\"delta_t\": 0.03, \"error_norm\": 155.63701648947452, \"cond_num\": 21733.333260249834, \"rank\": 6, \"Ox\": 0.000276169202234574, \"Oy\": -0.00023301094722952598, \"Oz\": -2.1954782792692165e-05, \"Tx\": 229.9999733203994, \"Ty\": 0.005190080839750538, \"Tz\": 0.10170940845034736, \"delta_theta_1\": -0.0075488798855456694, \"delta_ax_1\": -11.54693422114543, \"delta_ay_1\": -16.351356595444145, \"delta_az_1\": -2.2834027921269318, \"delta_theta_2\": 2.3736664128957172, \"delta_ax_2\": 39.54563749182577, \"delta_ay_2\": 37.82495036151874, \"delta_az_2\": 0.7243826644643548, \"delta_theta_3\": 2.8386869219941495, \"delta_ax_3\": -41.89479611426998, \"delta_ay_3\": -11.676063754861671, \"delta_az_3\": -10.862610363447049, \"theta_1\": -0.007532313116757283, \"ax_1\": -0.5391090733402307, \"ay_1\": -0.8297445437646737, \"az_1\": -0.1445178159777922, \"theta_2\": 2.3728939132743587, \"ax_2\": 0.7100384927525526, \"ay_2\": 0.7040880612707814, \"az_2\": 0.010263565931765558, \"theta_3\": 2.838502355843029, \"ax_3\": -0.9362216408569538, \"ay_3\": -0.2715560678235832, \"az_3\": -0.22303887826858002, \"error_norm_ma\": null, \"cond_num_ma\": null}, {\"delta_t\": 0.045, \"error_norm\": 131.82619732600756, \"cond_num\": 138.62359961210652, \"rank\": 6, \"Ox\": -0.3862835093005679, \"Oy\": 0.13592663305691324, \"Oz\": 0.3480968463595096, \"Tx\": 122.22040056487367, \"Ty\": 131.22801680957278, \"Tz\": -97.67818625894645, \"delta_theta_1\": 0.1490996059923192, \"delta_ax_1\": -1.5058187053850123, \"delta_ay_1\": 1.0835409117307082, \"delta_az_1\": -0.6038122842193484, \"delta_theta_2\": 8.908442739954008, \"delta_ax_2\": 2.212322217304354, \"delta_ay_2\": -2.2061696171162093, \"delta_az_2\": -1.704694472100313, \"delta_theta_3\": -8.508380357184901, \"delta_ax_3\": -1.2025422177190555, \"delta_ay_3\": 0.43495744287187676, \"delta_az_3\": 4.51818410870191, \"theta_1\": 0.1415672928755618, \"ax_1\": -0.9327811450244297, \"ay_1\": 0.11576764185871385, \"az_1\": -0.3413461418932205, \"theta_2\": -1.2850339611308055, \"ax_2\": 0.7904759983863087, \"ay_2\": -0.40630145807409696, \"az_2\": -0.4583304715399483, \"theta_3\": 0.6133073058377141, \"ax_3\": -0.4454860640697272, \"ay_3\": 0.03403509702202995, \"az_3\": 0.8946417041980347, \"error_norm_ma\": null, \"cond_num_ma\": null}, {\"delta_t\": 0.06, \"error_norm\": 61.47568078148425, \"cond_num\": 768.9147488642777, \"rank\": 6, \"Ox\": -0.5240077334579135, \"Oy\": 0.38094260331223084, \"Oz\": 0.4718133639349826, \"Tx\": 124.47441131334126, \"Ty\": 24.406244178253992, \"Tz\": -166.24029374951888, \"delta_theta_1\": 0.0001778270481934699, \"delta_ax_1\": -0.2815640710864412, \"delta_ay_1\": -0.991230306925943, \"delta_az_1\": 0.43324134450099, \"delta_theta_2\": -0.16913383136787802, \"delta_ax_2\": 0.05600146997488355, \"delta_ay_2\": 0.3341409967334062, \"delta_az_2\": -0.19962486015430206, \"delta_theta_3\": -0.3735284207139141, \"delta_ax_3\": -0.5463543523170707, \"delta_ay_3\": 1.1447386090987977, \"delta_az_3\": -0.31560627936492425, \"theta_1\": 0.14174511992375516, \"ax_1\": -0.8096509406115471, \"ay_1\": -0.5837048319028072, \"az_1\": 0.06127008715639903, \"theta_2\": -1.4541677924986836, \"ax_2\": 0.7877579048655456, \"ay_2\": -0.06715473945210552, \"az_2\": -0.6123134199827455, \"theta_3\": 0.23977888512379986, \"ax_3\": -0.6026628544173818, \"ay_3\": 0.7162474070484851, \"az_3\": 0.35183396055783933, \"error_norm_ma\": 132.0125624622096, \"cond_num_ma\": 680666700.3138231}, {\"delta_t\": 0.075, \"error_norm\": 99.56070226390409, \"cond_num\": 2193.5719831216447, \"rank\": 6, \"Ox\": -0.6610570746670065, \"Oy\": 0.09247909437800098, \"Oz\": 0.36498585032219616, \"Tx\": 171.8077527621312, \"Ty\": 85.00290708667976, \"Tz\": -108.64058927689396, \"delta_theta_1\": 0.9215361626532594, \"delta_ax_1\": -1.6073879197764651, \"delta_ay_1\": 1.8882194431855681, \"delta_az_1\": -3.2521632943950736, \"delta_theta_2\": 3.336573495032541, \"delta_ax_2\": 2.6658781675580276, \"delta_ay_2\": -2.872617590589071, \"delta_az_2\": 3.744775814007926, \"delta_theta_3\": -2.835827400491991, \"delta_ax_3\": 1.4259315988105634, \"delta_ay_3\": 2.841698811885695, \"delta_az_3\": -3.3424954095340422, \"theta_1\": 1.0632812825770142, \"ax_1\": -0.5740936400550453, \"ay_1\": 0.3098475386432505, \"az_1\": -0.7578990666606389, \"theta_2\": 1.8824057025338572, \"ax_2\": 0.6265663628372703, \"ay_2\": -0.5333400560386662, \"az_2\": 0.5682983174227657, \"theta_3\": -2.596048515368191, \"ax_3\": 0.17441191615137794, \"ay_3\": 0.7537614197478817, \"az_3\": -0.6335804649798339, \"error_norm_ma\": 120.81168357068104, \"cond_num_ma\": 5162.065512926738}, {\"delta_t\": 0.09, \"error_norm\": 196.80096783852912, \"cond_num\": 57.15824795047823, \"rank\": 6, \"Ox\": -0.15569944456005358, \"Oy\": -0.8852411870933377, \"Oz\": 0.4249644569312909, \"Tx\": -21.646834996930533, \"Ty\": 22.067420386254113, \"Tz\": 24.82241514627843, \"delta_theta_1\": -5.301406230208748, \"delta_ax_1\": -1.4679719593972425, \"delta_ay_1\": -0.5551256764533863, \"delta_az_1\": 0.8850110399762288, \"delta_theta_2\": 0.16473473137560776, \"delta_ax_2\": -1.4563598560263533, \"delta_ay_2\": -0.17027949487224825, \"delta_az_2\": 1.4458765712374542, \"delta_theta_3\": 0.9158287902496338, \"delta_ax_3\": -3.5218872034335695, \"delta_ay_3\": 2.5987162351379176, \"delta_az_3\": 2.1221502518111186, \"theta_1\": 2.0450603595478523, \"ax_1\": -0.9909728545895786, \"ay_1\": -0.11902848589159902, \"az_1\": 0.06168485237832222, \"theta_2\": 2.0471404339094654, \"ax_2\": -0.36247835615369134, \"ay_2\": -0.30736184395901245, \"az_2\": 0.8798512023053859, \"theta_3\": -1.680219725118557, \"ax_3\": -0.6740872499448349, \"ay_3\": 0.6750945859015604, \"az_3\": 0.29975603338083173, \"error_norm_ma\": 129.0601129398799, \"cond_num_ma\": 4978.320367959668}, {\"delta_t\": 0.105, \"error_norm\": 117.93528345705622, \"cond_num\": 60.437862390763314, \"rank\": 6, \"Ox\": -0.2610142468649264, \"Oy\": 0.4729927698272404, \"Oz\": 0.5376530453245308, \"Tx\": 16.31709948567894, \"Ty\": -1.3457777505686295, \"Tz\": -166.1815280913193, \"delta_theta_1\": 2.0655288228065594, \"delta_ax_1\": 0.08174892783503343, \"delta_ay_1\": -0.5814829229129941, \"delta_az_1\": 0.19126148536116863, \"delta_theta_2\": -0.7707596077120034, \"delta_ax_2\": 1.1903816259470645, \"delta_ay_2\": 0.0409189564130839, \"delta_az_2\": 0.5047040905340752, \"delta_theta_3\": -1.3022894273763987, \"delta_ax_3\": -0.4270355564263012, \"delta_ay_3\": -0.7348349052256409, \"delta_az_3\": 0.6946443740957322, \"theta_1\": -2.1725961248251746, \"ax_1\": -0.7735943589895934, \"ay_1\": -0.5960156330173008, \"az_1\": 0.21521415598994895, \"theta_2\": 1.276380826197462, \"ax_2\": 0.506345430819201, \"ay_2\": -0.16295640276529683, \"az_2\": 0.8467936675993226, \"theta_3\": -2.9825091524949556, \"ax_3\": -0.7415561078457411, \"ay_3\": -0.0402323868174384, \"az_3\": 0.6696834281715858, \"error_norm_ma\": 121.51976633339625, \"cond_num_ma\": 643.7412883878541}, {\"delta_t\": 0.12, \"error_norm\": 159.3615241995389, \"cond_num\": 12.21666713044017, \"rank\": 6, \"Ox\": 0.32931994588997415, \"Oy\": 0.5306859078919133, \"Oz\": -0.16595295900879445, \"Tx\": 139.30031367141834, \"Ty\": 70.39684854351856, \"Tz\": 31.660544564075856, \"delta_theta_1\": -1.0143065461114937, \"delta_ax_1\": -0.37319001606382374, \"delta_ay_1\": 0.5550261189672897, \"delta_az_1\": 0.19564954816997204, \"delta_theta_2\": -0.22620652073005582, \"delta_ax_2\": 0.20469290964460168, \"delta_ay_2\": -0.38395448551869776, \"delta_az_2\": -0.1962853144338878, \"delta_theta_3\": -0.40155474644990974, \"delta_ax_3\": -0.47091632307251047, \"delta_ay_3\": 0.04075153448611183, \"delta_az_3\": -0.5190084292645407, \"theta_1\": 3.0962826362429183, \"ax_1\": -0.9408714842481786, \"ay_1\": -0.03362956957017232, \"az_1\": 0.33709034720554426, \"theta_2\": 1.0501743054674062, \"ax_2\": 0.6416832273489954, \"ay_2\": -0.49356486689235746, \"az_2\": 0.5870573719054271, \"theta_3\": 2.8991214082347208, \"ax_3\": -0.9923665859394267, \"ay_3\": 0.0004249043412638248, \"az_3\": 0.12332225495516654, \"error_norm_ma\": 127.0268317081025, \"cond_num_ma\": 618.4599018915209}, {\"delta_t\": 0.135, \"error_norm\": 123.49978322266621, \"cond_num\": 14.113564893029661, \"rank\": 6, \"Ox\": -0.25745944635114804, \"Oy\": -0.4015003665829774, \"Oz\": 0.4367890174785362, \"Tx\": 70.72399512247836, \"Ty\": -73.51401631848044, \"Tz\": -196.12940917169024, \"delta_theta_1\": -0.09869934928134416, \"delta_ax_1\": -0.0011970266571681542, \"delta_ay_1\": -0.26122559923534516, \"delta_az_1\": -0.029402066219847364, \"delta_theta_2\": -0.0054260652596895475, \"delta_ax_2\": -0.22390523212879052, \"delta_ay_2\": 0.10464103855266822, \"delta_az_2\": 0.3327159858388068, \"delta_theta_3\": -0.007862909066229253, \"delta_ax_3\": 0.029535015117062375, \"delta_ay_3\": -0.27977622975287075, \"delta_az_3\": 0.23863040991824014, \"theta_1\": 2.997583286961574, \"ax_1\": -0.9111132499140074, \"ay_1\": -0.2851665754608056, \"az_1\": 0.2975780066992382, \"theta_2\": 1.044748240207717, \"ax_2\": 0.3859418931991153, \"ay_2\": -0.3592865118244219, \"az_2\": 0.8496835043090586, \"theta_3\": 2.891258499168492, \"ax_3\": -0.9033242340029968, \"ay_3\": -0.2620861526483094, \"az_3\": 0.3395823565100312, \"error_norm_ma\": 139.43165219633892, \"cond_num_ma\": 467.4996650972712}, {\"delta_t\": 0.15, \"error_norm\": 96.56488931434717, \"cond_num\": 23.98838374957091, \"rank\": 6, \"Ox\": 0.03383993074230742, \"Oy\": -0.16247539759338814, \"Oz\": 0.4662280839906649, \"Tx\": 114.22560712033972, \"Ty\": -95.75114140032925, \"Tz\": -121.05343696624723, \"delta_theta_1\": 0.014297282637883251, \"delta_ax_1\": 0.10473782998549082, \"delta_ay_1\": -0.22303583177575523, \"delta_az_1\": 0.1069489666507557, \"delta_theta_2\": -0.20169373687244732, \"delta_ax_2\": -0.22516667795380607, \"delta_ay_2\": 0.16074046732938643, \"delta_az_2\": 0.17024354957705196, \"delta_theta_3\": -0.1866249532954005, \"delta_ax_3\": 0.06516246529760718, \"delta_ay_3\": -0.307883286793861, \"delta_az_3\": -0.06428223266414312, \"theta_1\": 3.011880569599457, \"ax_1\": -0.7787694078947864, \"ay_1\": -0.4908042556770964, \"az_1\": 0.3906781180671055, \"theta_2\": 0.8430545033352699, \"ax_2\": 0.15290994067809469, \"ay_2\": -0.1888329854777911, \"az_2\": 0.9700312642576867, \"theta_3\": 2.704633545873092, \"ax_3\": -0.7980066918684441, \"ay_3\": -0.5426630560087405, \"az_3\": 0.2621109066338848, \"error_norm_ma\": 138.83248960642752, \"cond_num_ma\": 33.58294522285645}, {\"delta_t\": 0.16499999999999998, \"error_norm\": 53.93241868550964, \"cond_num\": 37.29445499294644, \"rank\": 6, \"Ox\": 0.09730426288643178, \"Oy\": -0.12625035103281623, \"Oz\": 0.4483969621889832, \"Tx\": 116.07134515278099, \"Ty\": -53.685438396047104, \"Tz\": -106.79997679357733, \"delta_theta_1\": 0.03532773682408154, \"delta_ax_1\": 0.11451088705381435, \"delta_ay_1\": -0.14602257257666074, \"delta_az_1\": 0.04481713936140477, \"delta_theta_2\": -0.49357669006310717, \"delta_ax_2\": -0.37813201435554733, \"delta_ay_2\": -0.3135488351611369, \"delta_az_2\": -0.0014311072272875766, \"delta_theta_3\": -0.46050107427898535, \"delta_ax_3\": 0.23429301784728032, \"delta_ay_3\": -0.3163426103016987, \"delta_az_3\": 0.05837204046400967, \"theta_1\": 3.0472083064235385, \"ax_1\": -0.652475534554369, \"ay_1\": -0.6255304405540479, \"az_1\": 0.4277702008651947, \"theta_2\": 0.34947781327216276, \"ax_2\": -0.20214955771472023, \"ay_2\": -0.4509161166481266, \"az_2\": 0.8693734594883353, \"theta_3\": 2.2441324715941064, \"ax_3\": -0.5237624102747613, \"ay_3\": -0.7981266003661668, \"az_3\": 0.29776982280130054, \"error_norm_ma\": 110.25877977582363, \"cond_num_ma\": 29.610186631350096}, {\"delta_t\": 0.18, \"error_norm\": 64.71057232050758, \"cond_num\": 36.611567481890994, \"rank\": 6, \"Ox\": -0.07812361240304119, \"Oy\": -0.19429048270424915, \"Oz\": 0.42796733875218995, \"Tx\": 57.79784715267145, \"Ty\": 6.701411271848212, \"Tz\": -126.50574632677055, \"delta_theta_1\": 0.04068921570411091, \"delta_ax_1\": 0.0038570363479615687, \"delta_ay_1\": -0.08293927414736388, \"delta_az_1\": -0.11539938673579828, \"delta_theta_2\": -0.176720571384926, \"delta_ax_2\": 0.5713275605040398, \"delta_ay_2\": -0.34936989617327613, \"delta_az_2\": -0.04836000309330267, \"delta_theta_3\": -0.17319744994866831, \"delta_ax_3\": -0.057725227941228814, \"delta_ay_3\": 0.15861717507501133, \"delta_az_3\": 0.32361332412934773, \"theta_1\": 3.0878975221276495, \"ax_1\": -0.6421616532656312, \"ay_1\": -0.7014170649454882, \"az_1\": 0.3092612359776248, \"theta_2\": 0.17275724188723673, \"ax_2\": 0.30649970969199347, \"ay_2\": -0.6644150755111543, \"az_2\": 0.6816234557233422, \"theta_3\": 2.070935021645438, \"ax_3\": -0.5462405150479201, \"ay_3\": -0.6007452865563501, \"az_3\": 0.5837177403510296, \"error_norm_ma\": 99.6138375485139, \"cond_num_ma\": 24.844927649575634}, {\"delta_t\": 0.195, \"error_norm\": 92.39836838258329, \"cond_num\": 39.716735921715525, \"rank\": 6, \"Ox\": -0.470868544645787, \"Oy\": -0.1650473899176759, \"Oz\": 0.2136837025133792, \"Tx\": 77.73260228174269, \"Ty\": 82.14650107760454, \"Tz\": -108.63988978748831, \"delta_theta_1\": 0.07063581259102439, \"delta_ax_1\": -0.11830956245658251, \"delta_ay_1\": 0.06178063271293538, \"delta_az_1\": -0.10554143345218063, \"delta_theta_2\": 0.005972646669250849, \"delta_ax_2\": 0.3510487140773206, \"delta_ay_2\": -0.07158625109484448, \"delta_az_2\": -0.22763200426331195, \"delta_theta_3\": 0.016269804659955665, \"delta_ax_3\": -0.11746121990129595, \"delta_ay_3\": 0.017626287300363197, \"delta_az_3\": -0.09177923598765332, \"theta_1\": -3.124651972460912, \"ax_1\": -0.7496956880169966, \"ay_1\": -0.6305730778881776, \"az_1\": 0.20083318652890106, \"theta_2\": 0.17872988855648764, \"ax_2\": 0.6052772204575848, \"ay_2\": -0.6774935824003468, \"az_2\": 0.4179018212469104, \"theta_3\": 2.0872048263053937, \"ax_3\": -0.6563487426985575, \"ay_3\": -0.5766587637963505, \"az_3\": 0.48648843572575057, \"error_norm_ma\": 86.22120638512278, \"cond_num_ma\": 30.34494140783071}, {\"delta_t\": 0.21, \"error_norm\": 90.1843533541747, \"cond_num\": 23.790539504621318, \"rank\": 6, \"Ox\": 0.48234846360585343, \"Oy\": 0.12884225206888292, \"Oz\": -0.17879235603090773, \"Tx\": 116.63336867349273, \"Ty\": 88.28177673673649, \"Tz\": -91.8999374858579, \"delta_theta_1\": -0.003230170937298818, \"delta_ax_1\": -0.1803039169996969, \"delta_ay_1\": 0.20558361595818692, \"delta_az_1\": -0.027573010839594934, \"delta_theta_2\": 0.02664407034611361, \"delta_ax_2\": 0.19668833759713142, \"delta_ay_2\": 0.06135442614075367, \"delta_az_2\": -0.1854113487321181, \"delta_theta_3\": 0.028673839441626662, \"delta_ax_3\": 0.017371261396971538, \"delta_ay_3\": -0.038269681288070505, \"delta_az_3\": -0.021926403059419043, \"theta_1\": -3.1278821433982107, \"ax_1\": -0.896748403294015, \"ay_1\": -0.40979439060693024, \"az_1\": 0.16706543214180922, \"theta_2\": 0.20537395890260113, \"ax_2\": 0.7728274511115838, \"ay_2\": -0.5937527477079698, \"az_2\": 0.22404331143242917, \"theta_3\": 2.1158786657470205, \"ax_3\": -0.6382607669778543, \"ay_3\": -0.6142387055590715, \"az_3\": 0.4640409528586431, \"error_norm_ma\": 79.55812041142448, \"cond_num_ma\": 32.28033633014904}, {\"delta_t\": 0.22499999999999998, \"error_norm\": 35.96061773184828, \"cond_num\": 23.29879179841446, \"rank\": 6, \"Ox\": 0.4728126871315755, \"Oy\": -0.01767042268206624, \"Oz\": -0.40814676454408744, \"Tx\": 144.91103731444582, \"Ty\": 11.587104401065062, \"Tz\": -86.81746731780197, \"delta_theta_1\": -0.01981931844007745, \"delta_ax_1\": -0.002074089266849167, \"delta_ay_1\": 0.049355828038575376, \"delta_az_1\": 0.10993180935266862, \"delta_theta_2\": 0.08451189240040995, \"delta_ax_2\": 0.23893537934689452, \"delta_ay_2\": 0.28100656449447164, \"delta_az_2\": -0.07948195504974477, \"delta_theta_3\": 0.07849666473007758, \"delta_ax_3\": 0.016831835339460047, \"delta_ay_3\": 0.11782911737137361, \"delta_az_3\": 0.17911846821435717, \"theta_1\": 3.135483845341298, \"ax_1\": -0.8923649224235967, \"ay_1\": -0.35784899976009726, \"az_1\": 0.27500716099517497, \"theta_2\": 0.28988585130301114, \"ax_2\": 0.9466183310945044, \"ay_2\": -0.2926093557672827, \"az_2\": 0.1352534663264155, \"theta_3\": 2.194375330477098, \"ax_3\": -0.6075382731560939, \"ay_3\": -0.48531345843610296, \"az_3\": 0.6287830259408251, \"error_norm_ma\": 67.4372660949247, \"cond_num_ma\": 32.14241793991774}, {\"delta_t\": 0.24, \"error_norm\": 25.326346728898532, \"cond_num\": 16.684586208431607, \"rank\": 6, \"Ox\": -0.46939916107829804, \"Oy\": 0.11566587864398324, \"Oz\": 0.4395750842896874, \"Tx\": 133.03750596392018, \"Ty\": -11.908553346021115, \"Tz\": -91.8652193310435, \"delta_theta_1\": 0.006960982331742442, \"delta_ax_1\": 0.04135991346953129, \"delta_ay_1\": -0.03646365453070718, \"delta_az_1\": 0.0867601177617839, \"delta_theta_2\": 0.06524819053885986, \"delta_ax_2\": 0.06956624140022127, \"delta_ay_2\": 0.21547113280768224, \"delta_az_2\": -0.020730041555644278, \"delta_theta_3\": 0.061665008371862826, \"delta_ax_3\": 0.00014694498627967122, \"delta_ay_3\": 0.12434452358855488, \"delta_az_3\": 0.09611478521249367, \"theta_1\": -3.1407404795065457, \"ax_1\": -0.8465438132989039, \"ay_1\": -0.39224556199218286, \"az_1\": 0.35987079801338046, \"theta_2\": 0.3551340418418709, \"ax_2\": 0.9908941821727658, \"ay_2\": -0.07521843808961239, \"az_2\": 0.11167321213041402, \"theta_3\": 2.256040338848961, \"ax_3\": -0.6000263138566236, \"ay_3\": -0.356591952087883, \"az_3\": 0.7161079544215282, \"error_norm_ma\": 61.716051703602474, \"cond_num_ma\": 28.02044418301478}, {\"delta_t\": 0.255, \"error_norm\": 17.190646733666593, \"cond_num\": 12.531366220433966, \"rank\": 6, \"Ox\": 0.4901038233834319, \"Oy\": -0.13083895032895262, \"Oz\": -0.3769635783158128, \"Tx\": 127.15213359307161, \"Ty\": -1.760589539417449, \"Tz\": -94.50221989063517, \"delta_theta_1\": -0.01618887315997393, \"delta_ax_1\": 0.029321577611829196, \"delta_ay_1\": -0.004848428406930879, \"delta_az_1\": 0.06369015136746543, \"delta_theta_2\": 0.027972601990475177, \"delta_ax_2\": 0.017870050300153283, \"delta_ay_2\": 0.12129753708809943, \"delta_az_2\": -0.07686281633637168, \"delta_theta_3\": 0.02829005175559237, \"delta_ax_3\": -0.029243033288066763, \"delta_ay_3\": 0.06930652388720719, \"delta_az_3\": 0.010009048400153141, \"theta_1\": 3.1262559545130664, \"ax_1\": -0.8152112674700185, \"ay_1\": -0.3961168469012924, \"az_1\": 0.42251867768289714, \"theta_2\": 0.38310664383234627, \"ax_2\": 0.9983653427132687, \"ay_2\": 0.04560409061170609, \"az_2\": 0.03445155132206433, \"theta_3\": 2.284330390604554, \"ax_3\": -0.6274652392164656, \"ay_3\": -0.286461784206205, \"az_3\": 0.7240352337866035, \"error_norm_ma\": 52.21206658623428, \"cond_num_ma\": 23.204403930723377}, {\"delta_t\": 0.27, \"error_norm\": 10.517266383647382, \"cond_num\": 11.191148119669725, \"rank\": 6, \"Ox\": -0.5014934608057562, \"Oy\": 0.08600742457043997, \"Oz\": 0.344958469048327, \"Tx\": 123.52890043529084, \"Ty\": 8.335474106737465, \"Tz\": -104.7157432999145, \"delta_theta_1\": 0.007004201330690958, \"delta_ax_1\": -0.004554965033392879, \"delta_ay_1\": 0.03101896943156572, \"delta_az_1\": 0.020292304222443134, \"delta_theta_2\": 0.013889798748133371, \"delta_ax_2\": 0.0020392788492567386, \"delta_ay_2\": 0.01944440827067763, \"delta_az_2\": -0.08483478310079196, \"delta_theta_3\": 0.014895430118724151, \"delta_ax_3\": -0.006067877620474199, \"delta_ay_3\": -0.003564647400511645, \"delta_az_3\": -0.006668898572561253, \"theta_1\": 3.1332601558437574, \"ax_1\": -0.8191951650730759, \"ay_1\": -0.36484354215016745, \"az_1\": 0.4425025099049887, \"theta_2\": 0.3969964425804795, \"ax_2\": 0.996634911177959, \"ay_2\": 0.06480338405938901, \"az_2\": -0.05019337840545188, \"theta_3\": 2.2992258207232776, \"ax_3\": -0.6335033428611012, \"ay_3\": -0.29001280131693746, \"az_3\": 0.7173326213522654, \"error_norm_ma\": 35.8358461864471, \"cond_num_ma\": 17.499286370314216}, {\"delta_t\": 0.285, \"error_norm\": 1.8925634906813436, \"cond_num\": 10.862820814139893, \"rank\": 6, \"Ox\": -0.48099019021924216, \"Oy\": 0.08030969284456593, \"Oz\": 0.36808080301317747, \"Tx\": 120.94695086171103, \"Ty\": 1.3124108311231915, \"Tz\": -109.54950159488105, \"delta_theta_1\": -0.0011814201282545427, \"delta_ax_1\": -0.0013755715162387736, \"delta_ay_1\": 0.005988058325796432, \"delta_az_1\": 0.002390591807258947, \"delta_theta_2\": 0.0055218189245261435, \"delta_ax_2\": -0.0006485818871339019, \"delta_ay_2\": 0.0035343565407099397, \"delta_az_2\": -0.008315062672083779, \"delta_theta_3\": 0.00545413797087333, \"delta_ax_3\": 0.004338054269225928, \"delta_ay_3\": -0.0006576390739053249, \"delta_az_3\": 0.003565219334606067, \"theta_1\": 3.1320787357155027, \"ax_1\": -0.8205529045401964, \"ay_1\": -0.3588476854368237, \"az_1\": 0.44488343361748334, \"theta_2\": 0.4025182615050058, \"ax_2\": 0.9959454701703871, \"ay_2\": 0.06833493712791111, \"az_2\": -0.05850604084033328, \"theta_3\": 2.304679958694151, \"ax_3\": -0.6291552341446519, \"ay_3\": -0.29066579529891656, \"az_3\": 0.7208863202971996, \"error_norm_ma\": 18.177488213748425, \"cond_num_ma\": 14.913742632217929}, {\"delta_t\": 0.3, \"error_norm\": 1.6668039652919895, \"cond_num\": 10.822569946986379, \"rank\": 6, \"Ox\": -0.4772595309773927, \"Oy\": 0.0869423373922342, \"Oz\": 0.37600084820434976, \"Tx\": 119.96429355823497, \"Ty\": -1.2455662034412356, \"Tz\": -109.31314622521208, \"delta_theta_1\": 0.0011926181802401398, \"delta_ax_1\": 0.003381167171936499, \"delta_ay_1\": -0.004435447338242277, \"delta_az_1\": 0.002658621209708415, \"delta_theta_2\": 0.0022418466158479287, \"delta_ax_2\": -0.0002103425654478059, \"delta_ay_2\": 0.006786129197718903, \"delta_az_2\": 0.00434553395127255, \"delta_theta_3\": 0.0021010225389355513, \"delta_ax_3\": 0.0011164283759002587, \"delta_ay_3\": 0.00511713488044669, \"delta_az_3\": 0.0030376257313626948, \"theta_1\": 3.1332713538957426, \"ax_1\": -0.8171561405594757, \"ay_1\": -0.36327619903360475, \"az_1\": 0.44753351289220694, \"theta_2\": 0.4047601081208536, \"ax_2\": 0.9957027780166227, \"ay_2\": 0.07511862578145097, \"az_2\": -0.05415874731459929, \"theta_3\": 2.3067809812330866, \"ax_3\": -0.628027294557295, \"ay_3\": -0.2855434266479114, \"az_3\": 0.723910677355441, \"error_norm_ma\": 11.318725460437168, \"cond_num_ma\": 12.418498261932314}], \"data-7f878c76f43530812a73202a1534cb7b\": [{\"Ox\": -5.0000000000000005e-17, \"Oy\": 1e-08, \"Oz\": 5e-09, \"delta_t\": 0.0}, {\"Ox\": -8.972835087256134e-05, \"Oy\": 2.4298865779058644e-05, \"Oz\": -2.1553038369258944e-05, \"delta_t\": 0.015}, {\"Ox\": 0.000276169202234574, \"Oy\": -0.00023301094722952598, \"Oz\": -2.1954782792692165e-05, \"delta_t\": 0.03}, {\"Ox\": -0.3862835093005679, \"Oy\": 0.13592663305691324, \"Oz\": 0.3480968463595096, \"delta_t\": 0.045}, {\"Ox\": -0.5240077334579135, \"Oy\": 0.38094260331223084, \"Oz\": 0.4718133639349826, \"delta_t\": 0.06}, {\"Ox\": -0.6610570746670065, \"Oy\": 0.09247909437800098, \"Oz\": 0.36498585032219616, \"delta_t\": 0.075}, {\"Ox\": -0.15569944456005358, \"Oy\": -0.8852411870933377, \"Oz\": 0.4249644569312909, \"delta_t\": 0.09}, {\"Ox\": -0.2610142468649264, \"Oy\": 0.4729927698272404, \"Oz\": 0.5376530453245308, \"delta_t\": 0.105}, {\"Ox\": 0.32931994588997415, \"Oy\": 0.5306859078919133, \"Oz\": -0.16595295900879445, \"delta_t\": 0.12}, {\"Ox\": -0.25745944635114804, \"Oy\": -0.4015003665829774, \"Oz\": 0.4367890174785362, \"delta_t\": 0.135}, {\"Ox\": 0.03383993074230742, \"Oy\": -0.16247539759338814, \"Oz\": 0.4662280839906649, \"delta_t\": 0.15}, {\"Ox\": 0.09730426288643178, \"Oy\": -0.12625035103281623, \"Oz\": 0.4483969621889832, \"delta_t\": 0.16499999999999998}, {\"Ox\": -0.07812361240304119, \"Oy\": -0.19429048270424915, \"Oz\": 0.42796733875218995, \"delta_t\": 0.18}, {\"Ox\": -0.470868544645787, \"Oy\": -0.1650473899176759, \"Oz\": 0.2136837025133792, \"delta_t\": 0.195}, {\"Ox\": 0.48234846360585343, \"Oy\": 0.12884225206888292, \"Oz\": -0.17879235603090773, \"delta_t\": 0.21}, {\"Ox\": 0.4728126871315755, \"Oy\": -0.01767042268206624, \"Oz\": -0.40814676454408744, \"delta_t\": 0.22499999999999998}, {\"Ox\": -0.46939916107829804, \"Oy\": 0.11566587864398324, \"Oz\": 0.4395750842896874, \"delta_t\": 0.24}, {\"Ox\": 0.4901038233834319, \"Oy\": -0.13083895032895262, \"Oz\": -0.3769635783158128, \"delta_t\": 0.255}, {\"Ox\": -0.5014934608057562, \"Oy\": 0.08600742457043997, \"Oz\": 0.344958469048327, \"delta_t\": 0.27}, {\"Ox\": -0.48099019021924216, \"Oy\": 0.08030969284456593, \"Oz\": 0.36808080301317747, \"delta_t\": 0.285}, {\"Ox\": -0.4772595309773927, \"Oy\": 0.0869423373922342, \"Oz\": 0.37600084820434976, \"delta_t\": 0.3}], \"data-e7fbafce3c5348a21b84b552e5cf1f39\": [{\"Tx\": 230.0, \"Ty\": 2.3e-06, \"Tz\": -3.1e-06, \"delta_t\": 0.0}, {\"Tx\": 229.99999716637717, \"Ty\": -0.025984829457958804, \"Tz\": -0.008878671369653385, \"delta_t\": 0.015}, {\"Tx\": 229.9999733203994, \"Ty\": 0.005190080839750538, \"Tz\": 0.10170940845034736, \"delta_t\": 0.03}, {\"Tx\": 122.22040056487367, \"Ty\": 131.22801680957278, \"Tz\": -97.67818625894645, \"delta_t\": 0.045}, {\"Tx\": 124.47441131334126, \"Ty\": 24.406244178253992, \"Tz\": -166.24029374951888, \"delta_t\": 0.06}, {\"Tx\": 171.8077527621312, \"Ty\": 85.00290708667976, \"Tz\": -108.64058927689396, \"delta_t\": 0.075}, {\"Tx\": -21.646834996930533, \"Ty\": 22.067420386254113, \"Tz\": 24.82241514627843, \"delta_t\": 0.09}, {\"Tx\": 16.31709948567894, \"Ty\": -1.3457777505686295, \"Tz\": -166.1815280913193, \"delta_t\": 0.105}, {\"Tx\": 139.30031367141834, \"Ty\": 70.39684854351856, \"Tz\": 31.660544564075856, \"delta_t\": 0.12}, {\"Tx\": 70.72399512247836, \"Ty\": -73.51401631848044, \"Tz\": -196.12940917169024, \"delta_t\": 0.135}, {\"Tx\": 114.22560712033972, \"Ty\": -95.75114140032925, \"Tz\": -121.05343696624723, \"delta_t\": 0.15}, {\"Tx\": 116.07134515278099, \"Ty\": -53.685438396047104, \"Tz\": -106.79997679357733, \"delta_t\": 0.16499999999999998}, {\"Tx\": 57.79784715267145, \"Ty\": 6.701411271848212, \"Tz\": -126.50574632677055, \"delta_t\": 0.18}, {\"Tx\": 77.73260228174269, \"Ty\": 82.14650107760454, \"Tz\": -108.63988978748831, \"delta_t\": 0.195}, {\"Tx\": 116.63336867349273, \"Ty\": 88.28177673673649, \"Tz\": -91.8999374858579, \"delta_t\": 0.21}, {\"Tx\": 144.91103731444582, \"Ty\": 11.587104401065062, \"Tz\": -86.81746731780197, \"delta_t\": 0.22499999999999998}, {\"Tx\": 133.03750596392018, \"Ty\": -11.908553346021115, \"Tz\": -91.8652193310435, \"delta_t\": 0.24}, {\"Tx\": 127.15213359307161, \"Ty\": -1.760589539417449, \"Tz\": -94.50221989063517, \"delta_t\": 0.255}, {\"Tx\": 123.52890043529084, \"Ty\": 8.335474106737465, \"Tz\": -104.7157432999145, \"delta_t\": 0.27}, {\"Tx\": 120.94695086171103, \"Ty\": 1.3124108311231915, \"Tz\": -109.54950159488105, \"delta_t\": 0.285}, {\"Tx\": 119.96429355823497, \"Ty\": -1.2455662034412356, \"Tz\": -109.31314622521208, \"delta_t\": 0.3}], \"data-423efb86d714d0b77461d3b0d93ad03f\": [{\"theta_1\": 4.435070643982186e-05, \"theta_2\": 0.00025136250613932987, \"theta_3\": 0.00025136250613932987, \"delta_t\": 0.0}, {\"theta_1\": 1.656676878836194e-05, \"theta_2\": -0.0007724996213585023, \"theta_3\": -0.00018456615112061314, \"delta_t\": 0.015}, {\"theta_1\": -0.007532313116757283, \"theta_2\": 2.3728939132743587, \"theta_3\": 2.838502355843029, \"delta_t\": 0.03}, {\"theta_1\": 0.1415672928755618, \"theta_2\": -1.2850339611308055, \"theta_3\": 0.6133073058377141, \"delta_t\": 0.045}, {\"theta_1\": 0.14174511992375516, \"theta_2\": -1.4541677924986836, \"theta_3\": 0.23977888512379986, \"delta_t\": 0.06}, {\"theta_1\": 1.0632812825770142, \"theta_2\": 1.8824057025338572, \"theta_3\": -2.596048515368191, \"delta_t\": 0.075}, {\"theta_1\": 2.0450603595478523, \"theta_2\": 2.0471404339094654, \"theta_3\": -1.680219725118557, \"delta_t\": 0.09}, {\"theta_1\": -2.1725961248251746, \"theta_2\": 1.276380826197462, \"theta_3\": -2.9825091524949556, \"delta_t\": 0.105}, {\"theta_1\": 3.0962826362429183, \"theta_2\": 1.0501743054674062, \"theta_3\": 2.8991214082347208, \"delta_t\": 0.12}, {\"theta_1\": 2.997583286961574, \"theta_2\": 1.044748240207717, \"theta_3\": 2.891258499168492, \"delta_t\": 0.135}, {\"theta_1\": 3.011880569599457, \"theta_2\": 0.8430545033352699, \"theta_3\": 2.704633545873092, \"delta_t\": 0.15}, {\"theta_1\": 3.0472083064235385, \"theta_2\": 0.34947781327216276, \"theta_3\": 2.2441324715941064, \"delta_t\": 0.16499999999999998}, {\"theta_1\": 3.0878975221276495, \"theta_2\": 0.17275724188723673, \"theta_3\": 2.070935021645438, \"delta_t\": 0.18}, {\"theta_1\": -3.124651972460912, \"theta_2\": 0.17872988855648764, \"theta_3\": 2.0872048263053937, \"delta_t\": 0.195}, {\"theta_1\": -3.1278821433982107, \"theta_2\": 0.20537395890260113, \"theta_3\": 2.1158786657470205, \"delta_t\": 0.21}, {\"theta_1\": 3.135483845341298, \"theta_2\": 0.28988585130301114, \"theta_3\": 2.194375330477098, \"delta_t\": 0.22499999999999998}, {\"theta_1\": -3.1407404795065457, \"theta_2\": 0.3551340418418709, \"theta_3\": 2.256040338848961, \"delta_t\": 0.24}, {\"theta_1\": 3.1262559545130664, \"theta_2\": 0.38310664383234627, \"theta_3\": 2.284330390604554, \"delta_t\": 0.255}, {\"theta_1\": 3.1332601558437574, \"theta_2\": 0.3969964425804795, \"theta_3\": 2.2992258207232776, \"delta_t\": 0.27}, {\"theta_1\": 3.1320787357155027, \"theta_2\": 0.4025182615050058, \"theta_3\": 2.304679958694151, \"delta_t\": 0.285}, {\"theta_1\": 3.1332713538957426, \"theta_2\": 0.4047601081208536, \"theta_3\": 2.3067809812330866, \"delta_t\": 0.3}]}}, {\"theme\": \"dark\", \"mode\": \"vega-lite\"});\n",
              "</script>"
            ],
            "text/plain": [
              "alt.VConcatChart(...)"
            ]
          },
          "metadata": {}
        }
      ],
      "source": [
        "alt.renderers.set_embed_options(theme='dark')\n",
        "\n",
        "\n",
        "joint_angles = ['theta_1', 'theta_2', 'theta_3']\n",
        "end_effector_position = ['Tx', 'Ty', 'Tz']\n",
        "joint_angles_df = analytics_df[joint_angles + ['delta_t']]\n",
        "end_effector_position_df = analytics_df[end_effector_position + ['delta_t']]\n",
        "\n",
        "end_effector_orientation = ['Ox', 'Oy', 'Oz']\n",
        "end_effector_orientation_df = analytics_df[end_effector_orientation + ['delta_t']]\n",
        "\n",
        "graph_height = 375\n",
        "graph_width = 650\n",
        "\n",
        "analytics_df['error_norm_ma'] = analytics_df['error_norm'].rolling(window=5).mean()\n",
        "analytics_df['cond_num_ma'] = analytics_df['cond_num'].rolling(window=5).mean()\n",
        "\n",
        "error_base = alt.Chart(analytics_df).encode(\n",
        "    x='delta_t:Q',\n",
        "    tooltip=['delta_t']\n",
        ")\n",
        "\n",
        "error_line = error_base.mark_line().encode(\n",
        "    y='error_norm:Q',\n",
        "    tooltip=['error_norm']\n",
        ")\n",
        "\n",
        "ma_line = error_base.mark_line(color='red', strokeDash=[5,5]).encode(\n",
        "    y='error_norm_ma:Q',\n",
        "    tooltip=['error_norm_ma']\n",
        ")\n",
        "\n",
        "error_chart = alt.layer(error_line, ma_line).properties(\n",
        "    title='Error Over Time',\n",
        "    width=graph_width,\n",
        "    height=graph_height\n",
        ").interactive()\n",
        "\n",
        "cond_num_base = alt.Chart(analytics_df).encode(\n",
        "    x='delta_t:Q',\n",
        "    tooltip=['delta_t']\n",
        ")\n",
        "\n",
        "cond_num_line = error_base.mark_line().encode(\n",
        "    y=alt.Y(\"cond_num:Q\", axis=alt.Axis(tickCount=8, format=\".1e\"), scale=alt.Scale(domain=[0, 1000])),\n",
        "    tooltip=['cond_num']\n",
        ")\n",
        "\n",
        "cond_num_ma_line = error_base.mark_line(color='red', strokeDash=[5,5]).encode(\n",
        "    y='cond_num_ma:Q',\n",
        "    tooltip=['cond_num_ma']\n",
        ")\n",
        "\n",
        "cond_num_chart = alt.layer(cond_num_line, cond_num_ma_line).properties(\n",
        "    title='Condition Number Over Time',\n",
        "    width=graph_width,\n",
        "    height=graph_height\n",
        ").interactive()\n",
        "\n",
        "rank_chart = alt.Chart(analytics_df).mark_line().encode(\n",
        "    x='delta_t:Q',\n",
        "    y='rank:Q',\n",
        "    tooltip=['delta_t', 'cond_num']\n",
        ").properties(\n",
        "    title='Matrix Rank Over Time',\n",
        "    width=graph_width,\n",
        "    height=graph_height\n",
        ").interactive()\n",
        "\n",
        "joint_angle_chart = alt.Chart(joint_angles_df).transform_fold(\n",
        "    joint_angles,\n",
        "    as_=['joint', 'angle']\n",
        ").mark_line().encode(\n",
        "    x='delta_t:Q',\n",
        "    y=alt.Y('angle:Q', title='Angle (radians)'),\n",
        "    color=alt.Color('joint:N', scale=alt.Scale(scheme='dark2')),\n",
        "    tooltip=['delta_t:Q', 'angle:Q']\n",
        ").properties(\n",
        "    title='Joint Angles Over Time',\n",
        "    width=graph_width,\n",
        "    height=graph_height\n",
        ").interactive()\n",
        "\n",
        "orientation_chart = alt.Chart(end_effector_orientation_df).transform_fold(\n",
        "    end_effector_orientation,\n",
        "    as_=['axis', 'value']\n",
        ").mark_line().encode(\n",
        "    x='delta_t:Q',\n",
        "    y=alt.Y('value:Q', title='Orientation'),\n",
        "    color=alt.Color('axis:N', scale=alt.Scale(scheme='dark2')),\n",
        "    tooltip=['delta_t:Q', 'value:Q']\n",
        ").properties(\n",
        "    title='End-Effector Orientation Over Time',\n",
        "    width=graph_width,\n",
        "    height=graph_height\n",
        ").interactive()\n",
        "\n",
        "position_chart = alt.Chart(end_effector_position_df).transform_fold(\n",
        "    end_effector_position,\n",
        "    as_=['axis', 'value']\n",
        ").mark_line().encode(\n",
        "    x='delta_t:Q',\n",
        "    y=alt.Y('value:Q', title='Position'),\n",
        "    color= alt.Color('axis:N', scale=alt.Scale(scheme='dark2')),\n",
        "    tooltip=['delta_t:Q', 'value:Q']\n",
        ").properties(\n",
        "    title='End-Effector Position Over Time',\n",
        "    width=graph_width,\n",
        "    height=graph_height\n",
        ").interactive()\n",
        "\n",
        "row_1 = alt.hconcat(error_chart, cond_num_chart, rank_chart)\n",
        "row_2 = alt.hconcat(orientation_chart, position_chart, joint_angle_chart)\n",
        "\n",
        "dashboard = alt.vconcat(row_1, row_2).resolve_scale(\n",
        "    color='independent'\n",
        ").configure_legend(\n",
        "    titleFontSize=18,\n",
        "    labelFontSize=15\n",
        ").configure_axis(\n",
        "    titleFontSize=18,\n",
        "    labelFontSize=15\n",
        ")\n",
        "\n",
        "dashboard.title = alt.TitleParams(f'Target: Tx: {target_ef[3]:.2f}  Ty: {target_ef[4]:.2f}  Tz: {target_ef[5]:.2f} Ox: {target_ef[0]:.2f} Oy: {target_ef[1]:.2f} Oz: {target_ef[2]:.2f}', anchor='middle')\n",
        "\n",
        "dashboard.display()\n"
      ]
    }
  ],
  "metadata": {
    "colab": {
      "machine_shape": "hm",
      "provenance": [],
      "include_colab_link": true
    },
    "kernelspec": {
      "display_name": "Python 3",
      "name": "python3"
    },
    "language_info": {
      "codemirror_mode": {
        "name": "ipython",
        "version": 3
      },
      "file_extension": ".py",
      "mimetype": "text/x-python",
      "name": "python",
      "nbconvert_exporter": "python",
      "pygments_lexer": "ipython3",
      "version": "3.11.6"
    },
    "widgets": {
      "application/vnd.jupyter.widget-state+json": {
        "6dd19f16e8094e959cbc446f82b577dc": {
          "model_module": "@jupyter-widgets/controls",
          "model_name": "HBoxModel",
          "model_module_version": "1.5.0",
          "state": {
            "_dom_classes": [],
            "_model_module": "@jupyter-widgets/controls",
            "_model_module_version": "1.5.0",
            "_model_name": "HBoxModel",
            "_view_count": null,
            "_view_module": "@jupyter-widgets/controls",
            "_view_module_version": "1.5.0",
            "_view_name": "HBoxView",
            "box_style": "",
            "children": [
              "IPY_MODEL_abb98d6f7ca94b999bb5000d74b5afde",
              "IPY_MODEL_372328d6eedc499ea3bfa6548f40fa3a",
              "IPY_MODEL_9001679ba208482ea362faa76a6466cc"
            ],
            "layout": "IPY_MODEL_0e320817a73146fc81cd2588e9aebce3"
          }
        },
        "abb98d6f7ca94b999bb5000d74b5afde": {
          "model_module": "@jupyter-widgets/controls",
          "model_name": "HTMLModel",
          "model_module_version": "1.5.0",
          "state": {
            "_dom_classes": [],
            "_model_module": "@jupyter-widgets/controls",
            "_model_module_version": "1.5.0",
            "_model_name": "HTMLModel",
            "_view_count": null,
            "_view_module": "@jupyter-widgets/controls",
            "_view_module_version": "1.5.0",
            "_view_name": "HTMLView",
            "description": "",
            "description_tooltip": null,
            "layout": "IPY_MODEL_ff0b6f011de34242ae9eafcf2686ddf1",
            "placeholder": "​",
            "style": "IPY_MODEL_b8d2759683134b50aefe422b09e878da",
            "value": "100%"
          }
        },
        "372328d6eedc499ea3bfa6548f40fa3a": {
          "model_module": "@jupyter-widgets/controls",
          "model_name": "FloatProgressModel",
          "model_module_version": "1.5.0",
          "state": {
            "_dom_classes": [],
            "_model_module": "@jupyter-widgets/controls",
            "_model_module_version": "1.5.0",
            "_model_name": "FloatProgressModel",
            "_view_count": null,
            "_view_module": "@jupyter-widgets/controls",
            "_view_module_version": "1.5.0",
            "_view_name": "ProgressView",
            "bar_style": "success",
            "description": "",
            "description_tooltip": null,
            "layout": "IPY_MODEL_541de5833e9f4dec830a992a95eda164",
            "max": 8,
            "min": 0,
            "orientation": "horizontal",
            "style": "IPY_MODEL_08dc2e068f3249e388343fe6cc7f81ea",
            "value": 8
          }
        },
        "9001679ba208482ea362faa76a6466cc": {
          "model_module": "@jupyter-widgets/controls",
          "model_name": "HTMLModel",
          "model_module_version": "1.5.0",
          "state": {
            "_dom_classes": [],
            "_model_module": "@jupyter-widgets/controls",
            "_model_module_version": "1.5.0",
            "_model_name": "HTMLModel",
            "_view_count": null,
            "_view_module": "@jupyter-widgets/controls",
            "_view_module_version": "1.5.0",
            "_view_name": "HTMLView",
            "description": "",
            "description_tooltip": null,
            "layout": "IPY_MODEL_c0fa7f94ef9143298024550b15a24de2",
            "placeholder": "​",
            "style": "IPY_MODEL_365db6c8baa24f84903067dde3003d45",
            "value": " 8/8 [00:04&lt;00:00,  4.67s/engine]"
          }
        },
        "0e320817a73146fc81cd2588e9aebce3": {
          "model_module": "@jupyter-widgets/base",
          "model_name": "LayoutModel",
          "model_module_version": "1.2.0",
          "state": {
            "_model_module": "@jupyter-widgets/base",
            "_model_module_version": "1.2.0",
            "_model_name": "LayoutModel",
            "_view_count": null,
            "_view_module": "@jupyter-widgets/base",
            "_view_module_version": "1.2.0",
            "_view_name": "LayoutView",
            "align_content": null,
            "align_items": null,
            "align_self": null,
            "border": null,
            "bottom": null,
            "display": null,
            "flex": null,
            "flex_flow": null,
            "grid_area": null,
            "grid_auto_columns": null,
            "grid_auto_flow": null,
            "grid_auto_rows": null,
            "grid_column": null,
            "grid_gap": null,
            "grid_row": null,
            "grid_template_areas": null,
            "grid_template_columns": null,
            "grid_template_rows": null,
            "height": null,
            "justify_content": null,
            "justify_items": null,
            "left": null,
            "margin": null,
            "max_height": null,
            "max_width": null,
            "min_height": null,
            "min_width": null,
            "object_fit": null,
            "object_position": null,
            "order": null,
            "overflow": null,
            "overflow_x": null,
            "overflow_y": null,
            "padding": null,
            "right": null,
            "top": null,
            "visibility": null,
            "width": null
          }
        },
        "ff0b6f011de34242ae9eafcf2686ddf1": {
          "model_module": "@jupyter-widgets/base",
          "model_name": "LayoutModel",
          "model_module_version": "1.2.0",
          "state": {
            "_model_module": "@jupyter-widgets/base",
            "_model_module_version": "1.2.0",
            "_model_name": "LayoutModel",
            "_view_count": null,
            "_view_module": "@jupyter-widgets/base",
            "_view_module_version": "1.2.0",
            "_view_name": "LayoutView",
            "align_content": null,
            "align_items": null,
            "align_self": null,
            "border": null,
            "bottom": null,
            "display": null,
            "flex": null,
            "flex_flow": null,
            "grid_area": null,
            "grid_auto_columns": null,
            "grid_auto_flow": null,
            "grid_auto_rows": null,
            "grid_column": null,
            "grid_gap": null,
            "grid_row": null,
            "grid_template_areas": null,
            "grid_template_columns": null,
            "grid_template_rows": null,
            "height": null,
            "justify_content": null,
            "justify_items": null,
            "left": null,
            "margin": null,
            "max_height": null,
            "max_width": null,
            "min_height": null,
            "min_width": null,
            "object_fit": null,
            "object_position": null,
            "order": null,
            "overflow": null,
            "overflow_x": null,
            "overflow_y": null,
            "padding": null,
            "right": null,
            "top": null,
            "visibility": null,
            "width": null
          }
        },
        "b8d2759683134b50aefe422b09e878da": {
          "model_module": "@jupyter-widgets/controls",
          "model_name": "DescriptionStyleModel",
          "model_module_version": "1.5.0",
          "state": {
            "_model_module": "@jupyter-widgets/controls",
            "_model_module_version": "1.5.0",
            "_model_name": "DescriptionStyleModel",
            "_view_count": null,
            "_view_module": "@jupyter-widgets/base",
            "_view_module_version": "1.2.0",
            "_view_name": "StyleView",
            "description_width": ""
          }
        },
        "541de5833e9f4dec830a992a95eda164": {
          "model_module": "@jupyter-widgets/base",
          "model_name": "LayoutModel",
          "model_module_version": "1.2.0",
          "state": {
            "_model_module": "@jupyter-widgets/base",
            "_model_module_version": "1.2.0",
            "_model_name": "LayoutModel",
            "_view_count": null,
            "_view_module": "@jupyter-widgets/base",
            "_view_module_version": "1.2.0",
            "_view_name": "LayoutView",
            "align_content": null,
            "align_items": null,
            "align_self": null,
            "border": null,
            "bottom": null,
            "display": null,
            "flex": null,
            "flex_flow": null,
            "grid_area": null,
            "grid_auto_columns": null,
            "grid_auto_flow": null,
            "grid_auto_rows": null,
            "grid_column": null,
            "grid_gap": null,
            "grid_row": null,
            "grid_template_areas": null,
            "grid_template_columns": null,
            "grid_template_rows": null,
            "height": null,
            "justify_content": null,
            "justify_items": null,
            "left": null,
            "margin": null,
            "max_height": null,
            "max_width": null,
            "min_height": null,
            "min_width": null,
            "object_fit": null,
            "object_position": null,
            "order": null,
            "overflow": null,
            "overflow_x": null,
            "overflow_y": null,
            "padding": null,
            "right": null,
            "top": null,
            "visibility": null,
            "width": null
          }
        },
        "08dc2e068f3249e388343fe6cc7f81ea": {
          "model_module": "@jupyter-widgets/controls",
          "model_name": "ProgressStyleModel",
          "model_module_version": "1.5.0",
          "state": {
            "_model_module": "@jupyter-widgets/controls",
            "_model_module_version": "1.5.0",
            "_model_name": "ProgressStyleModel",
            "_view_count": null,
            "_view_module": "@jupyter-widgets/base",
            "_view_module_version": "1.2.0",
            "_view_name": "StyleView",
            "bar_color": null,
            "description_width": ""
          }
        },
        "c0fa7f94ef9143298024550b15a24de2": {
          "model_module": "@jupyter-widgets/base",
          "model_name": "LayoutModel",
          "model_module_version": "1.2.0",
          "state": {
            "_model_module": "@jupyter-widgets/base",
            "_model_module_version": "1.2.0",
            "_model_name": "LayoutModel",
            "_view_count": null,
            "_view_module": "@jupyter-widgets/base",
            "_view_module_version": "1.2.0",
            "_view_name": "LayoutView",
            "align_content": null,
            "align_items": null,
            "align_self": null,
            "border": null,
            "bottom": null,
            "display": null,
            "flex": null,
            "flex_flow": null,
            "grid_area": null,
            "grid_auto_columns": null,
            "grid_auto_flow": null,
            "grid_auto_rows": null,
            "grid_column": null,
            "grid_gap": null,
            "grid_row": null,
            "grid_template_areas": null,
            "grid_template_columns": null,
            "grid_template_rows": null,
            "height": null,
            "justify_content": null,
            "justify_items": null,
            "left": null,
            "margin": null,
            "max_height": null,
            "max_width": null,
            "min_height": null,
            "min_width": null,
            "object_fit": null,
            "object_position": null,
            "order": null,
            "overflow": null,
            "overflow_x": null,
            "overflow_y": null,
            "padding": null,
            "right": null,
            "top": null,
            "visibility": null,
            "width": null
          }
        },
        "365db6c8baa24f84903067dde3003d45": {
          "model_module": "@jupyter-widgets/controls",
          "model_name": "DescriptionStyleModel",
          "model_module_version": "1.5.0",
          "state": {
            "_model_module": "@jupyter-widgets/controls",
            "_model_module_version": "1.5.0",
            "_model_name": "DescriptionStyleModel",
            "_view_count": null,
            "_view_module": "@jupyter-widgets/base",
            "_view_module_version": "1.2.0",
            "_view_name": "StyleView",
            "description_width": ""
          }
        }
      }
    }
  },
  "nbformat": 4,
  "nbformat_minor": 5
}